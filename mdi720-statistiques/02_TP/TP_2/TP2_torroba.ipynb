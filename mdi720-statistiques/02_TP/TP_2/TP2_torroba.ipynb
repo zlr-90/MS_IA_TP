{
 "cells": [
  {
   "cell_type": "code",
   "execution_count": 1,
   "id": "2d50f82b",
   "metadata": {},
   "outputs": [],
   "source": [
    "import pandas as pd\n",
    "import numpy as np\n",
    "import matplotlib.pyplot as plt\n",
    "import sklearn.model_selection\n",
    "import sklearn.linear_model\n",
    "import scipy.stats\n",
    "import sklearn.model_selection\n",
    "# %matplotlib notebook"
   ]
  },
  {
   "cell_type": "code",
   "execution_count": 2,
   "id": "4537aca4",
   "metadata": {},
   "outputs": [
    {
     "data": {
      "text/html": [
       "<div>\n",
       "<style scoped>\n",
       "    .dataframe tbody tr th:only-of-type {\n",
       "        vertical-align: middle;\n",
       "    }\n",
       "\n",
       "    .dataframe tbody tr th {\n",
       "        vertical-align: top;\n",
       "    }\n",
       "\n",
       "    .dataframe thead th {\n",
       "        text-align: right;\n",
       "    }\n",
       "</style>\n",
       "<table border=\"1\" class=\"dataframe\">\n",
       "  <thead>\n",
       "    <tr style=\"text-align: right;\">\n",
       "      <th></th>\n",
       "      <th>0</th>\n",
       "      <th>1</th>\n",
       "      <th>2</th>\n",
       "      <th>3</th>\n",
       "      <th>4</th>\n",
       "      <th>5</th>\n",
       "      <th>6</th>\n",
       "      <th>7</th>\n",
       "      <th>8</th>\n",
       "      <th>9</th>\n",
       "      <th>...</th>\n",
       "      <th>151</th>\n",
       "      <th>152</th>\n",
       "      <th>153</th>\n",
       "      <th>154</th>\n",
       "      <th>155</th>\n",
       "      <th>156</th>\n",
       "      <th>157</th>\n",
       "      <th>158</th>\n",
       "      <th>159</th>\n",
       "      <th>160</th>\n",
       "    </tr>\n",
       "  </thead>\n",
       "  <tbody>\n",
       "    <tr>\n",
       "      <th>0</th>\n",
       "      <td>0.223773</td>\n",
       "      <td>2.407005</td>\n",
       "      <td>-0.536073</td>\n",
       "      <td>-1.336626</td>\n",
       "      <td>-0.097947</td>\n",
       "      <td>1.549540</td>\n",
       "      <td>1.590890</td>\n",
       "      <td>1.190101</td>\n",
       "      <td>-1.181936</td>\n",
       "      <td>2.731036</td>\n",
       "      <td>...</td>\n",
       "      <td>-1.157572</td>\n",
       "      <td>-0.316955</td>\n",
       "      <td>-1.041194</td>\n",
       "      <td>-0.929746</td>\n",
       "      <td>-1.779339</td>\n",
       "      <td>-1.429081</td>\n",
       "      <td>2.685259</td>\n",
       "      <td>0.953334</td>\n",
       "      <td>-0.564672</td>\n",
       "      <td>151.0</td>\n",
       "    </tr>\n",
       "    <tr>\n",
       "      <th>1</th>\n",
       "      <td>-0.515789</td>\n",
       "      <td>-0.799958</td>\n",
       "      <td>1.582195</td>\n",
       "      <td>-0.008126</td>\n",
       "      <td>0.414271</td>\n",
       "      <td>1.363709</td>\n",
       "      <td>-0.098582</td>\n",
       "      <td>-0.302917</td>\n",
       "      <td>-0.544602</td>\n",
       "      <td>-0.241896</td>\n",
       "      <td>...</td>\n",
       "      <td>0.241794</td>\n",
       "      <td>-0.937335</td>\n",
       "      <td>0.288955</td>\n",
       "      <td>-0.177624</td>\n",
       "      <td>0.084456</td>\n",
       "      <td>0.633965</td>\n",
       "      <td>1.052004</td>\n",
       "      <td>-0.113860</td>\n",
       "      <td>0.505908</td>\n",
       "      <td>75.0</td>\n",
       "    </tr>\n",
       "    <tr>\n",
       "      <th>2</th>\n",
       "      <td>0.023454</td>\n",
       "      <td>0.048646</td>\n",
       "      <td>0.224159</td>\n",
       "      <td>0.655717</td>\n",
       "      <td>-0.176065</td>\n",
       "      <td>1.605403</td>\n",
       "      <td>1.638630</td>\n",
       "      <td>-1.240650</td>\n",
       "      <td>2.100396</td>\n",
       "      <td>-1.031570</td>\n",
       "      <td>...</td>\n",
       "      <td>0.483655</td>\n",
       "      <td>0.869513</td>\n",
       "      <td>0.881769</td>\n",
       "      <td>-0.958674</td>\n",
       "      <td>1.880679</td>\n",
       "      <td>0.608850</td>\n",
       "      <td>-0.057137</td>\n",
       "      <td>-0.950829</td>\n",
       "      <td>-0.594289</td>\n",
       "      <td>141.0</td>\n",
       "    </tr>\n",
       "    <tr>\n",
       "      <th>3</th>\n",
       "      <td>0.892292</td>\n",
       "      <td>-0.494714</td>\n",
       "      <td>-1.062153</td>\n",
       "      <td>0.736429</td>\n",
       "      <td>-0.118200</td>\n",
       "      <td>-1.078412</td>\n",
       "      <td>-0.454316</td>\n",
       "      <td>-0.378080</td>\n",
       "      <td>2.679422</td>\n",
       "      <td>-0.051751</td>\n",
       "      <td>...</td>\n",
       "      <td>0.385350</td>\n",
       "      <td>-0.021720</td>\n",
       "      <td>0.863478</td>\n",
       "      <td>0.256292</td>\n",
       "      <td>0.293780</td>\n",
       "      <td>0.216499</td>\n",
       "      <td>-0.637889</td>\n",
       "      <td>-1.179666</td>\n",
       "      <td>-1.112571</td>\n",
       "      <td>206.0</td>\n",
       "    </tr>\n",
       "    <tr>\n",
       "      <th>4</th>\n",
       "      <td>-1.021634</td>\n",
       "      <td>-1.805761</td>\n",
       "      <td>0.082164</td>\n",
       "      <td>0.387965</td>\n",
       "      <td>-0.838219</td>\n",
       "      <td>1.596253</td>\n",
       "      <td>0.037945</td>\n",
       "      <td>-1.012175</td>\n",
       "      <td>1.632963</td>\n",
       "      <td>-0.533814</td>\n",
       "      <td>...</td>\n",
       "      <td>0.661239</td>\n",
       "      <td>0.329027</td>\n",
       "      <td>-0.757433</td>\n",
       "      <td>0.082726</td>\n",
       "      <td>0.267892</td>\n",
       "      <td>0.282614</td>\n",
       "      <td>-2.022049</td>\n",
       "      <td>-2.201643</td>\n",
       "      <td>0.786962</td>\n",
       "      <td>135.0</td>\n",
       "    </tr>\n",
       "  </tbody>\n",
       "</table>\n",
       "<p>5 rows × 161 columns</p>\n",
       "</div>"
      ],
      "text/plain": [
       "        0         1         2         3         4         5         6    \\\n",
       "0  0.223773  2.407005 -0.536073 -1.336626 -0.097947  1.549540  1.590890   \n",
       "1 -0.515789 -0.799958  1.582195 -0.008126  0.414271  1.363709 -0.098582   \n",
       "2  0.023454  0.048646  0.224159  0.655717 -0.176065  1.605403  1.638630   \n",
       "3  0.892292 -0.494714 -1.062153  0.736429 -0.118200 -1.078412 -0.454316   \n",
       "4 -1.021634 -1.805761  0.082164  0.387965 -0.838219  1.596253  0.037945   \n",
       "\n",
       "        7         8         9    ...       151       152       153       154  \\\n",
       "0  1.190101 -1.181936  2.731036  ... -1.157572 -0.316955 -1.041194 -0.929746   \n",
       "1 -0.302917 -0.544602 -0.241896  ...  0.241794 -0.937335  0.288955 -0.177624   \n",
       "2 -1.240650  2.100396 -1.031570  ...  0.483655  0.869513  0.881769 -0.958674   \n",
       "3 -0.378080  2.679422 -0.051751  ...  0.385350 -0.021720  0.863478  0.256292   \n",
       "4 -1.012175  1.632963 -0.533814  ...  0.661239  0.329027 -0.757433  0.082726   \n",
       "\n",
       "        155       156       157       158       159    160  \n",
       "0 -1.779339 -1.429081  2.685259  0.953334 -0.564672  151.0  \n",
       "1  0.084456  0.633965  1.052004 -0.113860  0.505908   75.0  \n",
       "2  1.880679  0.608850 -0.057137 -0.950829 -0.594289  141.0  \n",
       "3  0.293780  0.216499 -0.637889 -1.179666 -1.112571  206.0  \n",
       "4  0.267892  0.282614 -2.022049 -2.201643  0.786962  135.0  \n",
       "\n",
       "[5 rows x 161 columns]"
      ]
     },
     "execution_count": 2,
     "metadata": {},
     "output_type": "execute_result"
    }
   ],
   "source": [
    "df = pd.read_csv('data_contamine.csv', header=None)\n",
    "df.head()"
   ]
  },
  {
   "cell_type": "markdown",
   "id": "1d82f5ce",
   "metadata": {},
   "source": [
    "### Question 1"
   ]
  },
  {
   "cell_type": "code",
   "execution_count": 3,
   "id": "d7d3e7d6",
   "metadata": {},
   "outputs": [
    {
     "name": "stdout",
     "output_type": "stream",
     "text": [
      "Nombre de variables explicatives : 160\n",
      "Nombre d'observations :  442\n"
     ]
    }
   ],
   "source": [
    "print(f'Nombre de variables explicatives : {len(df.columns) - 1}')\n",
    "print(f'Nombre d\\'observations :  {len(df)}')"
   ]
  },
  {
   "cell_type": "markdown",
   "id": "f3b308fd",
   "metadata": {},
   "source": [
    "### Question 2"
   ]
  },
  {
   "cell_type": "code",
   "execution_count": 4,
   "id": "3aac2576",
   "metadata": {},
   "outputs": [
    {
     "name": "stdout",
     "output_type": "stream",
     "text": [
      "Les variables explicatives sont centrées : True\n",
      "Les variables explicatives sont normalisées : True\n",
      "Variable à expliquer - Moyenne : 152.13348416289594 | Ecart-type : 77.09300453299109\n",
      "La variable à expliquer n'est ni centrée ni normalisée\n"
     ]
    }
   ],
   "source": [
    "print(f'Les variables explicatives sont centrées : {np.allclose(df.iloc[:, :-1].mean(), 0)}')\n",
    "print(f'Les variables explicatives sont normalisées : {np.allclose(df.iloc[:, :-1].std(), 1, atol=1e-02)}')\n",
    "print(f'Variable à expliquer - Moyenne : {df.iloc[:, -1].mean()} | Ecart-type : {df.iloc[:, -1].std()}')\n",
    "print(f'La variable à expliquer n\\'est ni centrée ni normalisée')"
   ]
  },
  {
   "cell_type": "code",
   "execution_count": 5,
   "id": "be05e658",
   "metadata": {},
   "outputs": [
    {
     "data": {
      "image/png": "[encoded data removed]",
      "text/plain": [
       "<Figure size 648x504 with 4 Axes>"
      ]
     },
     "metadata": {
      "needs_background": "light"
     },
     "output_type": "display_data"
    }
   ],
   "source": [
    "chosen_var = np.random.choice(df.columns[:-1], 4)\n",
    "plt.figure(1, figsize=(9, 7))\n",
    "for ind, col in enumerate(chosen_var):\n",
    "    plt.subplot(2, 2, ind+1)\n",
    "    plt.title(f'Variable à expliquer par la colonne n° {col}')\n",
    "    plt.scatter(df.loc[:, col], df.iloc[:, -1])"
   ]
  },
  {
   "cell_type": "markdown",
   "id": "3a3f80d4",
   "metadata": {},
   "source": [
    "### Question 3"
   ]
  },
  {
   "cell_type": "code",
   "execution_count": 6,
   "id": "d3d7249a",
   "metadata": {},
   "outputs": [
    {
     "name": "stdout",
     "output_type": "stream",
     "text": [
      "Taille des dataset train et set : (331, 160) et (111, 160)\n",
      "Les variables explicatives sont centrées : False\n",
      "Les variables explicatives sont normalisées : False\n"
     ]
    }
   ],
   "source": [
    "X_train, X_test, y_train, y_test = sklearn.model_selection.train_test_split(df.iloc[:, :-1], df.iloc[:, -1], test_size=0.25, random_state=1)\n",
    "print(f'Taille des dataset train et set : {X_train.shape} et {X_test.shape}')\n",
    "print(f'Les variables explicatives sont centrées : {np.allclose(X_train.mean(), 0)}')\n",
    "print(f'Les variables explicatives sont normalisées : {np.allclose(X_train.std(), 1, atol=1e-02)}')"
   ]
  },
  {
   "cell_type": "markdown",
   "id": "a03828f3",
   "metadata": {},
   "source": [
    "### Question 4"
   ]
  },
  {
   "cell_type": "code",
   "execution_count": 7,
   "id": "9bc91615",
   "metadata": {},
   "outputs": [],
   "source": [
    "covX_train = X_train.cov()"
   ]
  },
  {
   "cell_type": "code",
   "execution_count": 8,
   "id": "cbda3155",
   "metadata": {},
   "outputs": [
    {
     "data": {
      "text/plain": [
       "[<matplotlib.lines.Line2D at 0x7efef024cd60>]"
      ]
     },
     "execution_count": 8,
     "metadata": {},
     "output_type": "execute_result"
    },
    {
     "data": {
      "image/png": "[encoded data removed]",
      "text/plain": [
       "<Figure size 648x504 with 1 Axes>"
      ]
     },
     "metadata": {
      "needs_background": "light"
     },
     "output_type": "display_data"
    }
   ],
   "source": [
    "eig_values, eig_vectors = np.linalg.eigh(covX_train)\n",
    "plt.figure(2, figsize=(9, 7))\n",
    "plt.title('Valeurs propres de la matrice de covariance de X_train')\n",
    "plt.plot(eig_values)"
   ]
  },
  {
   "cell_type": "markdown",
   "id": "ae85d5e3",
   "metadata": {},
   "source": [
    "### Question 5"
   ]
  },
  {
   "cell_type": "code",
   "execution_count": 9,
   "id": "7972a235",
   "metadata": {},
   "outputs": [
    {
     "data": {
      "image/png": "[encoded data removed]",
      "text/plain": [
       "<Figure size 648x504 with 1 Axes>"
      ]
     },
     "metadata": {
      "needs_background": "light"
     },
     "output_type": "display_data"
    }
   ],
   "source": [
    "chosen_eigvect = eig_vectors[-20:].T\n",
    "projectX_train = X_train @ chosen_eigvect\n",
    "reg_pca = sklearn.linear_model.LinearRegression().fit(projectX_train, y_train)\n",
    "plt.figure(3, figsize=(9, 7))\n",
    "plt.scatter([np.arange(len(reg_pca.coef_))], reg_pca.coef_)\n",
    "plt.show()"
   ]
  },
  {
   "cell_type": "code",
   "execution_count": 10,
   "id": "bdd24914",
   "metadata": {},
   "outputs": [
    {
     "data": {
      "image/png": "[encoded data removed]",
      "text/plain": [
       "<Figure size 648x504 with 1 Axes>"
      ]
     },
     "metadata": {
      "needs_background": "light"
     },
     "output_type": "display_data"
    }
   ],
   "source": [
    "reg = sklearn.linear_model.LinearRegression().fit(X_train, y_train)\n",
    "plt.figure(4, figsize=(9, 7))\n",
    "plt.scatter([np.arange(len(reg.coef_))], reg.coef_)\n",
    "plt.show()"
   ]
  },
  {
   "cell_type": "markdown",
   "id": "fda755ce",
   "metadata": {},
   "source": [
    "### Question 6"
   ]
  },
  {
   "cell_type": "code",
   "execution_count": 11,
   "id": "84c15461",
   "metadata": {},
   "outputs": [
    {
     "name": "stdout",
     "output_type": "stream",
     "text": [
      "La valeur moyenne de y_train est : 153.65558912386706\n",
      "Méthode OLS | Valeur de l'intercept : 150.56183912386706\n",
      "Méthode PCA before OLS | Valeur de l'intercept : 153.24893190477667\n",
      "Les deux intercept sont-ils égaux ? Réponse : False\n"
     ]
    }
   ],
   "source": [
    "print(f'La valeur moyenne de y_train est : {y_train.mean()}')\n",
    "print(f'Méthode OLS | Valeur de l\\'intercept : {reg.intercept_}')\n",
    "print(f'Méthode PCA before OLS | Valeur de l\\'intercept : {reg_pca.intercept_}')\n",
    "print(f'Les deux intercept sont-ils égaux ? Réponse : {np.isclose(reg.intercept_, reg_pca.intercept_)}')"
   ]
  },
  {
   "cell_type": "code",
   "execution_count": 12,
   "id": "38aaff20",
   "metadata": {},
   "outputs": [
    {
     "name": "stdout",
     "output_type": "stream",
     "text": [
      "L'intercept pour la méthode PCA before OLS centrée et normalisée est égale à la moyenne de Y_train : True\n"
     ]
    }
   ],
   "source": [
    "normprojectX_train = (projectX_train - projectX_train.mean(axis=0)) / projectX_train.std(axis=0)\n",
    "reg_pcanorm = sklearn.linear_model.LinearRegression().fit(normprojectX_train, y_train)\n",
    "print(f'L\\'intercept pour la méthode PCA before OLS centrée et normalisée est égale à la moyenne de Y_train : {np.isclose(reg_pcanorm.intercept_, y_train.mean())}')"
   ]
  },
  {
   "cell_type": "markdown",
   "id": "c504c80f",
   "metadata": {},
   "source": [
    "### Question 7"
   ]
  },
  {
   "cell_type": "code",
   "execution_count": 13,
   "id": "517aa84e",
   "metadata": {},
   "outputs": [],
   "source": [
    "projectX_test = X_test @ chosen_eigvect\n",
    "\n",
    "residual = y_test.values - reg.predict(X_test)\n",
    "residual_pca = y_test.values - reg_pca.predict(projectX_test)"
   ]
  },
  {
   "cell_type": "code",
   "execution_count": 14,
   "id": "f4514f9d",
   "metadata": {},
   "outputs": [
    {
     "data": {
      "image/png": "[encoded data removed]",
      "text/plain": [
       "<Figure size 648x504 with 1 Axes>"
      ]
     },
     "metadata": {
      "needs_background": "light"
     },
     "output_type": "display_data"
    }
   ],
   "source": [
    "plt.figure(5, figsize=(9, 7))\n",
    "plt.plot(np.sort(residual), label='Méthode OLS')\n",
    "plt.plot(np.sort(residual_pca), label='Méthode PCA before OLS')\n",
    "plt.title('Représentation des résidus')\n",
    "plt.show()"
   ]
  },
  {
   "cell_type": "code",
   "execution_count": 15,
   "id": "d7bb8e82",
   "metadata": {},
   "outputs": [
    {
     "data": {
      "image/png": "[encoded data removed]",
      "text/plain": [
       "<Figure size 648x504 with 2 Axes>"
      ]
     },
     "metadata": {
      "needs_background": "light"
     },
     "output_type": "display_data"
    }
   ],
   "source": [
    "plt.figure(6, figsize=(9, 7))\n",
    "plt.subplot(1, 2, 1)\n",
    "plt.title('Méthode OLS')\n",
    "plt.hist(residual)\n",
    "plt.subplot(1, 2, 2)\n",
    "plt.title('Méthode PCA before OLS')\n",
    "plt.hist(residual_pca)\n",
    "plt.show()"
   ]
  },
  {
   "cell_type": "code",
   "execution_count": 16,
   "id": "8cbfbbd6",
   "metadata": {},
   "outputs": [
    {
     "name": "stdout",
     "output_type": "stream",
     "text": [
      "Méthode OLS | Valeur du coefficien de détermination : 0.4164151829111381\n",
      "Méthode PCA before OLS | Valeur du coefficien de détermination : 0.051525104157796986\n",
      "Méthode OLS | Valeur du risque : 3046.989686540263\n",
      "Méthode PCA before OLS | Valeur du risque : 4952.13915946255\n"
     ]
    }
   ],
   "source": [
    "print(f'Méthode OLS | Valeur du coefficien de détermination : {reg.score(X_test, y_test)}')\n",
    "print(f'Méthode PCA before OLS | Valeur du coefficien de détermination : {reg_pca.score(projectX_test, y_test)}')\n",
    "\n",
    "print(f'Méthode OLS | Valeur du risque : {np.sum((residual) ** 2) / len(y_test)}')\n",
    "print(f'Méthode PCA before OLS | Valeur du risque : {np.sum((residual_pca) ** 2) / len(y_test)}')"
   ]
  },
  {
   "cell_type": "markdown",
   "id": "a6a6e408",
   "metadata": {},
   "source": [
    "### Question 8"
   ]
  },
  {
   "cell_type": "code",
   "execution_count": 17,
   "id": "fb5f62bb",
   "metadata": {},
   "outputs": [],
   "source": [
    "def get_residual_var(Y, X, reg):\n",
    "    return np.sum((Y - reg.predict(X)) ** 2) / (len(X) - 1)\n",
    "\n",
    "\n",
    "def get_ttest(Y, X, reg):\n",
    "    return np.sqrt(len(X)) * reg.coef_[0] / np.sqrt((get_residual_var(Y=Y, X=X, reg=reg)))\n",
    "\n",
    "    \n",
    "def get_pvalue(Y, X, reg):\n",
    "    return 2 * scipy.stats.t.sf(x=np.abs(get_ttest(Y=Y, X=X, reg=reg)), df=(len(X)-1))"
   ]
  },
  {
   "cell_type": "code",
   "execution_count": 18,
   "id": "be6ff506",
   "metadata": {},
   "outputs": [],
   "source": [
    "def forward_var_select(Y, X, K):\n",
    "    num_var = []\n",
    "    for k in range(K):\n",
    "        dict_pvalue = {}\n",
    "        for i in range(X.shape[1]):\n",
    "            if i not in num_var:\n",
    "                reg = sklearn.linear_model.LinearRegression(fit_intercept=False).fit(X[:, i].reshape(-1, 1), Y.reshape(-1, 1))\n",
    "                dict_pvalue[i] = get_pvalue(Y=Y.reshape(-1, 1), X=X[:, i].reshape(-1, 1), reg=reg)\n",
    "        num_var.append(min(dict_pvalue, key=dict_pvalue.get))\n",
    "    return num_var"
   ]
  },
  {
   "cell_type": "code",
   "execution_count": 19,
   "id": "2dfdc374",
   "metadata": {},
   "outputs": [
    {
     "name": "stdout",
     "output_type": "stream",
     "text": [
      "Le jeu initial contenait les variables [22, 82, 23, 132, 154, 79, 115, 73, 122, 13].\n",
      "Pour K = 10, la méthode forward a trouvé les suivantes : [23, 122, 132, 73, 115, 13, 154, 22, 79, 12].\n",
      "Parmi le jeu initial, la méthode forward a retrouvé : [132, 122, 73, 13, 79, 115, 22, 23, 154], soit 9 / 10\n"
     ]
    }
   ],
   "source": [
    "true_forward_var = [22, 82, 23, 132, 154, 79, 115, 73, 122, 13]\n",
    "forward_var = forward_var_select(Y=df.iloc[:, -1].values, X=df.iloc[:, :-1].values, K=10)\n",
    "forward_intersect_var = list(set(forward_var).intersection(true_forward_var))\n",
    "\n",
    "print(f'Le jeu initial contenait les variables {true_forward_var}.')\n",
    "print(f'Pour K = 10, la méthode forward a trouvé les suivantes : {forward_var}.')\n",
    "print(f'Parmi le jeu initial, la méthode forward a retrouvé : {forward_intersect_var}, soit {len(forward_intersect_var)} / {len(true_forward_var)}')"
   ]
  },
  {
   "cell_type": "markdown",
   "id": "c7c04104",
   "metadata": {},
   "source": [
    "### Question 9"
   ]
  },
  {
   "cell_type": "code",
   "execution_count": 20,
   "id": "23c6881d",
   "metadata": {},
   "outputs": [
    {
     "name": "stdout",
     "output_type": "stream",
     "text": [
      "122\n"
     ]
    }
   ],
   "source": [
    "print(forward_var[1])"
   ]
  },
  {
   "cell_type": "code",
   "execution_count": 21,
   "id": "8622ef23",
   "metadata": {},
   "outputs": [
    {
     "name": "stdout",
     "output_type": "stream",
     "text": [
      "Méthode Forward | Valeur du risque : 3009.7197356756983\n"
     ]
    }
   ],
   "source": [
    "forwardX_train = X_train.loc[:, forward_var]\n",
    "forwardX_test = X_test.loc[:, forward_var]\n",
    "reg_forward = sklearn.linear_model.LinearRegression().fit(forwardX_train, y_train)\n",
    "residual_forward = y_test.values - reg_forward.predict(forwardX_test)\n",
    "print(f'Méthode Forward | Valeur du risque : {np.sum((residual_forward) ** 2) / len(y_test)}')"
   ]
  },
  {
   "cell_type": "markdown",
   "id": "118025b9",
   "metadata": {},
   "source": [
    "### Question 10"
   ]
  },
  {
   "cell_type": "code",
   "execution_count": 22,
   "id": "91f3af8f",
   "metadata": {},
   "outputs": [],
   "source": [
    "kf = sklearn.model_selection.KFold(n_splits=5, random_state=None, shuffle=True)\n",
    "\n",
    "list_train_index = []\n",
    "list_test_index = []\n",
    "\n",
    "for train_index, test_index in kf.split(X_train):\n",
    "    list_train_index.append(train_index)\n",
    "    list_test_index.append(test_index)\n",
    "\n",
    "index_names = ['Fold1', 'Fold2', 'Fold3', 'Fold4', 'Fold5']\n",
    "col_train_names = [i for i in range(len(max(list_train_index,key=len)))]\n",
    "col_test_names = [i for i in range(len(max(list_test_index,key=len)))]"
   ]
  },
  {
   "cell_type": "code",
   "execution_count": 23,
   "id": "b35e18a8",
   "metadata": {},
   "outputs": [
    {
     "data": {
      "text/html": [
       "<div>\n",
       "<style scoped>\n",
       "    .dataframe tbody tr th:only-of-type {\n",
       "        vertical-align: middle;\n",
       "    }\n",
       "\n",
       "    .dataframe tbody tr th {\n",
       "        vertical-align: top;\n",
       "    }\n",
       "\n",
       "    .dataframe thead th {\n",
       "        text-align: right;\n",
       "    }\n",
       "</style>\n",
       "<table border=\"1\" class=\"dataframe\">\n",
       "  <thead>\n",
       "    <tr style=\"text-align: right;\">\n",
       "      <th></th>\n",
       "      <th>0</th>\n",
       "      <th>1</th>\n",
       "      <th>2</th>\n",
       "      <th>3</th>\n",
       "      <th>4</th>\n",
       "      <th>5</th>\n",
       "      <th>6</th>\n",
       "      <th>7</th>\n",
       "      <th>8</th>\n",
       "      <th>9</th>\n",
       "      <th>...</th>\n",
       "      <th>255</th>\n",
       "      <th>256</th>\n",
       "      <th>257</th>\n",
       "      <th>258</th>\n",
       "      <th>259</th>\n",
       "      <th>260</th>\n",
       "      <th>261</th>\n",
       "      <th>262</th>\n",
       "      <th>263</th>\n",
       "      <th>264</th>\n",
       "    </tr>\n",
       "  </thead>\n",
       "  <tbody>\n",
       "    <tr>\n",
       "      <th>Fold1</th>\n",
       "      <td>0</td>\n",
       "      <td>1</td>\n",
       "      <td>2</td>\n",
       "      <td>6</td>\n",
       "      <td>7</td>\n",
       "      <td>9</td>\n",
       "      <td>10</td>\n",
       "      <td>11</td>\n",
       "      <td>12</td>\n",
       "      <td>13</td>\n",
       "      <td>...</td>\n",
       "      <td>322</td>\n",
       "      <td>323</td>\n",
       "      <td>324</td>\n",
       "      <td>325</td>\n",
       "      <td>326</td>\n",
       "      <td>327</td>\n",
       "      <td>328</td>\n",
       "      <td>329</td>\n",
       "      <td>330</td>\n",
       "      <td>NaN</td>\n",
       "    </tr>\n",
       "    <tr>\n",
       "      <th>Fold2</th>\n",
       "      <td>0</td>\n",
       "      <td>1</td>\n",
       "      <td>2</td>\n",
       "      <td>3</td>\n",
       "      <td>4</td>\n",
       "      <td>5</td>\n",
       "      <td>6</td>\n",
       "      <td>7</td>\n",
       "      <td>8</td>\n",
       "      <td>9</td>\n",
       "      <td>...</td>\n",
       "      <td>317</td>\n",
       "      <td>318</td>\n",
       "      <td>319</td>\n",
       "      <td>321</td>\n",
       "      <td>323</td>\n",
       "      <td>324</td>\n",
       "      <td>325</td>\n",
       "      <td>328</td>\n",
       "      <td>329</td>\n",
       "      <td>330.0</td>\n",
       "    </tr>\n",
       "    <tr>\n",
       "      <th>Fold3</th>\n",
       "      <td>2</td>\n",
       "      <td>3</td>\n",
       "      <td>4</td>\n",
       "      <td>5</td>\n",
       "      <td>6</td>\n",
       "      <td>7</td>\n",
       "      <td>8</td>\n",
       "      <td>10</td>\n",
       "      <td>11</td>\n",
       "      <td>12</td>\n",
       "      <td>...</td>\n",
       "      <td>319</td>\n",
       "      <td>320</td>\n",
       "      <td>321</td>\n",
       "      <td>322</td>\n",
       "      <td>324</td>\n",
       "      <td>326</td>\n",
       "      <td>327</td>\n",
       "      <td>328</td>\n",
       "      <td>329</td>\n",
       "      <td>330.0</td>\n",
       "    </tr>\n",
       "    <tr>\n",
       "      <th>Fold4</th>\n",
       "      <td>0</td>\n",
       "      <td>1</td>\n",
       "      <td>2</td>\n",
       "      <td>3</td>\n",
       "      <td>4</td>\n",
       "      <td>5</td>\n",
       "      <td>6</td>\n",
       "      <td>8</td>\n",
       "      <td>9</td>\n",
       "      <td>10</td>\n",
       "      <td>...</td>\n",
       "      <td>319</td>\n",
       "      <td>320</td>\n",
       "      <td>321</td>\n",
       "      <td>322</td>\n",
       "      <td>323</td>\n",
       "      <td>325</td>\n",
       "      <td>326</td>\n",
       "      <td>327</td>\n",
       "      <td>328</td>\n",
       "      <td>329.0</td>\n",
       "    </tr>\n",
       "    <tr>\n",
       "      <th>Fold5</th>\n",
       "      <td>0</td>\n",
       "      <td>1</td>\n",
       "      <td>3</td>\n",
       "      <td>4</td>\n",
       "      <td>5</td>\n",
       "      <td>7</td>\n",
       "      <td>8</td>\n",
       "      <td>9</td>\n",
       "      <td>10</td>\n",
       "      <td>11</td>\n",
       "      <td>...</td>\n",
       "      <td>317</td>\n",
       "      <td>318</td>\n",
       "      <td>320</td>\n",
       "      <td>322</td>\n",
       "      <td>323</td>\n",
       "      <td>324</td>\n",
       "      <td>325</td>\n",
       "      <td>326</td>\n",
       "      <td>327</td>\n",
       "      <td>330.0</td>\n",
       "    </tr>\n",
       "  </tbody>\n",
       "</table>\n",
       "<p>5 rows × 265 columns</p>\n",
       "</div>"
      ],
      "text/plain": [
       "       0    1    2    3    4    5    6    7    8    9    ...  255  256  257  \\\n",
       "Fold1    0    1    2    6    7    9   10   11   12   13  ...  322  323  324   \n",
       "Fold2    0    1    2    3    4    5    6    7    8    9  ...  317  318  319   \n",
       "Fold3    2    3    4    5    6    7    8   10   11   12  ...  319  320  321   \n",
       "Fold4    0    1    2    3    4    5    6    8    9   10  ...  319  320  321   \n",
       "Fold5    0    1    3    4    5    7    8    9   10   11  ...  317  318  320   \n",
       "\n",
       "       258  259  260  261  262  263    264  \n",
       "Fold1  325  326  327  328  329  330    NaN  \n",
       "Fold2  321  323  324  325  328  329  330.0  \n",
       "Fold3  322  324  326  327  328  329  330.0  \n",
       "Fold4  322  323  325  326  327  328  329.0  \n",
       "Fold5  322  323  324  325  326  327  330.0  \n",
       "\n",
       "[5 rows x 265 columns]"
      ]
     },
     "execution_count": 23,
     "metadata": {},
     "output_type": "execute_result"
    }
   ],
   "source": [
    "df_train_ind = pd.DataFrame(list_train_index, index=index_names, columns=col_train_names)\n",
    "df_train_ind.head()"
   ]
  },
  {
   "cell_type": "code",
   "execution_count": 24,
   "id": "44890e0d",
   "metadata": {},
   "outputs": [
    {
     "data": {
      "text/html": [
       "<div>\n",
       "<style scoped>\n",
       "    .dataframe tbody tr th:only-of-type {\n",
       "        vertical-align: middle;\n",
       "    }\n",
       "\n",
       "    .dataframe tbody tr th {\n",
       "        vertical-align: top;\n",
       "    }\n",
       "\n",
       "    .dataframe thead th {\n",
       "        text-align: right;\n",
       "    }\n",
       "</style>\n",
       "<table border=\"1\" class=\"dataframe\">\n",
       "  <thead>\n",
       "    <tr style=\"text-align: right;\">\n",
       "      <th></th>\n",
       "      <th>0</th>\n",
       "      <th>1</th>\n",
       "      <th>2</th>\n",
       "      <th>3</th>\n",
       "      <th>4</th>\n",
       "      <th>5</th>\n",
       "      <th>6</th>\n",
       "      <th>7</th>\n",
       "      <th>8</th>\n",
       "      <th>9</th>\n",
       "      <th>...</th>\n",
       "      <th>57</th>\n",
       "      <th>58</th>\n",
       "      <th>59</th>\n",
       "      <th>60</th>\n",
       "      <th>61</th>\n",
       "      <th>62</th>\n",
       "      <th>63</th>\n",
       "      <th>64</th>\n",
       "      <th>65</th>\n",
       "      <th>66</th>\n",
       "    </tr>\n",
       "  </thead>\n",
       "  <tbody>\n",
       "    <tr>\n",
       "      <th>Fold1</th>\n",
       "      <td>3</td>\n",
       "      <td>4</td>\n",
       "      <td>5</td>\n",
       "      <td>8</td>\n",
       "      <td>19</td>\n",
       "      <td>28</td>\n",
       "      <td>34</td>\n",
       "      <td>37</td>\n",
       "      <td>43</td>\n",
       "      <td>45</td>\n",
       "      <td>...</td>\n",
       "      <td>287</td>\n",
       "      <td>292</td>\n",
       "      <td>295</td>\n",
       "      <td>298</td>\n",
       "      <td>299</td>\n",
       "      <td>303</td>\n",
       "      <td>306</td>\n",
       "      <td>308</td>\n",
       "      <td>310</td>\n",
       "      <td>318.0</td>\n",
       "    </tr>\n",
       "    <tr>\n",
       "      <th>Fold2</th>\n",
       "      <td>10</td>\n",
       "      <td>12</td>\n",
       "      <td>13</td>\n",
       "      <td>15</td>\n",
       "      <td>22</td>\n",
       "      <td>36</td>\n",
       "      <td>40</td>\n",
       "      <td>42</td>\n",
       "      <td>48</td>\n",
       "      <td>50</td>\n",
       "      <td>...</td>\n",
       "      <td>273</td>\n",
       "      <td>288</td>\n",
       "      <td>297</td>\n",
       "      <td>313</td>\n",
       "      <td>315</td>\n",
       "      <td>320</td>\n",
       "      <td>322</td>\n",
       "      <td>326</td>\n",
       "      <td>327</td>\n",
       "      <td>NaN</td>\n",
       "    </tr>\n",
       "    <tr>\n",
       "      <th>Fold3</th>\n",
       "      <td>0</td>\n",
       "      <td>1</td>\n",
       "      <td>9</td>\n",
       "      <td>16</td>\n",
       "      <td>18</td>\n",
       "      <td>26</td>\n",
       "      <td>29</td>\n",
       "      <td>38</td>\n",
       "      <td>49</td>\n",
       "      <td>52</td>\n",
       "      <td>...</td>\n",
       "      <td>275</td>\n",
       "      <td>278</td>\n",
       "      <td>284</td>\n",
       "      <td>294</td>\n",
       "      <td>300</td>\n",
       "      <td>304</td>\n",
       "      <td>317</td>\n",
       "      <td>323</td>\n",
       "      <td>325</td>\n",
       "      <td>NaN</td>\n",
       "    </tr>\n",
       "    <tr>\n",
       "      <th>Fold4</th>\n",
       "      <td>7</td>\n",
       "      <td>11</td>\n",
       "      <td>14</td>\n",
       "      <td>17</td>\n",
       "      <td>20</td>\n",
       "      <td>21</td>\n",
       "      <td>23</td>\n",
       "      <td>24</td>\n",
       "      <td>31</td>\n",
       "      <td>32</td>\n",
       "      <td>...</td>\n",
       "      <td>289</td>\n",
       "      <td>290</td>\n",
       "      <td>293</td>\n",
       "      <td>296</td>\n",
       "      <td>301</td>\n",
       "      <td>305</td>\n",
       "      <td>314</td>\n",
       "      <td>324</td>\n",
       "      <td>330</td>\n",
       "      <td>NaN</td>\n",
       "    </tr>\n",
       "    <tr>\n",
       "      <th>Fold5</th>\n",
       "      <td>2</td>\n",
       "      <td>6</td>\n",
       "      <td>25</td>\n",
       "      <td>27</td>\n",
       "      <td>30</td>\n",
       "      <td>33</td>\n",
       "      <td>35</td>\n",
       "      <td>39</td>\n",
       "      <td>46</td>\n",
       "      <td>55</td>\n",
       "      <td>...</td>\n",
       "      <td>307</td>\n",
       "      <td>309</td>\n",
       "      <td>311</td>\n",
       "      <td>312</td>\n",
       "      <td>316</td>\n",
       "      <td>319</td>\n",
       "      <td>321</td>\n",
       "      <td>328</td>\n",
       "      <td>329</td>\n",
       "      <td>NaN</td>\n",
       "    </tr>\n",
       "  </tbody>\n",
       "</table>\n",
       "<p>5 rows × 67 columns</p>\n",
       "</div>"
      ],
      "text/plain": [
       "       0   1   2   3   4   5   6   7   8   9   ...   57   58   59   60   61  \\\n",
       "Fold1   3   4   5   8  19  28  34  37  43  45  ...  287  292  295  298  299   \n",
       "Fold2  10  12  13  15  22  36  40  42  48  50  ...  273  288  297  313  315   \n",
       "Fold3   0   1   9  16  18  26  29  38  49  52  ...  275  278  284  294  300   \n",
       "Fold4   7  11  14  17  20  21  23  24  31  32  ...  289  290  293  296  301   \n",
       "Fold5   2   6  25  27  30  33  35  39  46  55  ...  307  309  311  312  316   \n",
       "\n",
       "        62   63   64   65     66  \n",
       "Fold1  303  306  308  310  318.0  \n",
       "Fold2  320  322  326  327    NaN  \n",
       "Fold3  304  317  323  325    NaN  \n",
       "Fold4  305  314  324  330    NaN  \n",
       "Fold5  319  321  328  329    NaN  \n",
       "\n",
       "[5 rows x 67 columns]"
      ]
     },
     "execution_count": 24,
     "metadata": {},
     "output_type": "execute_result"
    }
   ],
   "source": [
    "df_test_ind = pd.DataFrame(list_test_index, index=index_names, columns=col_test_names)\n",
    "df_test_ind.head()"
   ]
  },
  {
   "cell_type": "code",
   "execution_count": 25,
   "id": "8c42a3af",
   "metadata": {},
   "outputs": [],
   "source": [
    "X_train_fold = [df.iloc[i, :-1] for i in list_train_index]\n",
    "Y_train_fold = [df.iloc[i, -1] for i in list_train_index]\n",
    "X_test_fold = [df.iloc[i, :-1] for i in list_test_index]\n",
    "Y_test_fold = [df.iloc[i, -1] for i in list_test_index]"
   ]
  },
  {
   "cell_type": "markdown",
   "id": "d09b85f5",
   "metadata": {},
   "source": [
    "### Question 11"
   ]
  },
  {
   "cell_type": "code",
   "execution_count": 26,
   "id": "0e67c4a0",
   "metadata": {},
   "outputs": [],
   "source": [
    "def ridge_method(lambda_val, X_train_fold, Y_train_fold, X_test_fold, Y_test_fold, k_fold):\n",
    "    mean_err = []\n",
    "    for k in range(k_fold):\n",
    "        clf = sklearn.linear_model.Ridge(alpha=lambda_val).fit(X_train_fold[k], Y_train_fold[k])\n",
    "        res = Y_test_fold[k] - clf.predict(X_test_fold[k])\n",
    "        mean_err.append(np.sum((res) ** 2) / len(Y_test_fold[k]))\n",
    "    return sum(mean_err) / k_fold"
   ]
  },
  {
   "cell_type": "code",
   "execution_count": 27,
   "id": "97bf4a23",
   "metadata": {},
   "outputs": [
    {
     "data": {
      "image/png": "[encoded data removed]",
      "text/plain": [
       "<Figure size 432x288 with 1 Axes>"
      ]
     },
     "metadata": {
      "needs_background": "light"
     },
     "output_type": "display_data"
    }
   ],
   "source": [
    "list_lambda = [i for i in np.arange(1, 100, 1)]\n",
    "list_err = [ridge_method(lambda_val=lambda_val, X_train_fold=X_train_fold, Y_train_fold=Y_train_fold, X_test_fold=X_test_fold, Y_test_fold=Y_test_fold, k_fold=5) for lambda_val in list_lambda]\n",
    "\n",
    "# print(list_err)\n",
    "plt.figure()\n",
    "plt.plot(list_lambda, list_err)\n",
    "plt.show()"
   ]
  },
  {
   "cell_type": "code",
   "execution_count": 28,
   "id": "002bd8e9",
   "metadata": {},
   "outputs": [
    {
     "name": "stdout",
     "output_type": "stream",
     "text": [
      "La valeur de lambda pour le risque le plus bas est : 48\n",
      "Le risque de prédiction associé est : 3529.0620498144503\n"
     ]
    }
   ],
   "source": [
    "print(f'La valeur de lambda pour le risque le plus bas est : {list_lambda[list_err.index(min(list_err))]}')\n",
    "print(f'Le risque de prédiction associé est : {min(list_err)}')"
   ]
  },
  {
   "cell_type": "markdown",
   "id": "5b1fa37a",
   "metadata": {},
   "source": [
    "### Question 12"
   ]
  },
  {
   "cell_type": "code",
   "execution_count": 29,
   "id": "4583c1dd",
   "metadata": {},
   "outputs": [
    {
     "name": "stdout",
     "output_type": "stream",
     "text": [
      "Le paramètre de régularisation de LASSO est : 4.019584539262709\n",
      "Méthode Lasso | Valeur du risque : 3104.674170598809\n"
     ]
    }
   ],
   "source": [
    "reg_lasso = sklearn.linear_model.LassoCV(cv=5).fit(X_train, y_train)\n",
    "residual_lasso = y_test - reg_lasso.predict(X_test)\n",
    "print(f'Le paramètre de régularisation de LASSO est : {reg_lasso.alpha_}')\n",
    "print(f'Méthode Lasso | Valeur du risque : {np.sum((residual_lasso) ** 2) / len(y_test)}')"
   ]
  },
  {
   "cell_type": "markdown",
   "id": "122f2450",
   "metadata": {},
   "source": [
    "### Question 13"
   ]
  },
  {
   "cell_type": "code",
   "execution_count": 30,
   "id": "cc79fe17",
   "metadata": {},
   "outputs": [
    {
     "name": "stdout",
     "output_type": "stream",
     "text": [
      "Les variables sélectionnées par la méthode Lasso sont : [ 23  42  44  82  83  85  95  98 115 122 124 132 136]. Il y en a 13\n"
     ]
    }
   ],
   "source": [
    "lasso_var = np.nonzero(reg_lasso.coef_)[0]\n",
    "print(f'Les variables sélectionnées par la méthode Lasso sont : {lasso_var}. Il y en a {len(lasso_var)}')"
   ]
  },
  {
   "cell_type": "code",
   "execution_count": 31,
   "id": "66ad4521",
   "metadata": {},
   "outputs": [
    {
     "name": "stdout",
     "output_type": "stream",
     "text": [
      "Méthode Least-Square Lasso | Valeur du risque : 3244.149716769895\n"
     ]
    }
   ],
   "source": [
    "leastsqlassoX_train = X_train.iloc[:,lasso_var]\n",
    "leastsqlassoX_test = X_test.iloc[:, lasso_var]\n",
    "reg_leastsqlasso = sklearn.linear_model.LinearRegression().fit(leastsqlassoX_train, y_train)\n",
    "residual_leastsqlasso = y_test.values - reg_leastsqlasso.predict(leastsqlassoX_test)\n",
    "print(f'Méthode Least-Square Lasso | Valeur du risque : {np.sum((residual_leastsqlasso) ** 2) / len(y_test)}')"
   ]
  },
  {
   "cell_type": "markdown",
   "id": "f4340a9a",
   "metadata": {},
   "source": [
    "### Question 14"
   ]
  },
  {
   "cell_type": "code",
   "execution_count": 32,
   "id": "8ad661da",
   "metadata": {},
   "outputs": [
    {
     "name": "stdout",
     "output_type": "stream",
     "text": [
      "Parmi le jeu initial, la méthode lasso a retrouvé : [132, 82, 115, 23, 122], soit 5 / 10\n"
     ]
    }
   ],
   "source": [
    "true_lasso_var = [22, 82, 23, 132, 154, 79, 115, 73, 122, 13]\n",
    "lasso_intersect_var = list(set(np.nonzero(reg_lasso.coef_)[0]).intersection(true_lasso_var))\n",
    "\n",
    "print(f'Parmi le jeu initial, la méthode lasso a retrouvé : {lasso_intersect_var}, soit {len(lasso_intersect_var)} / {len(true_lasso_var)}')"
   ]
  }
 ],
 "metadata": {
  "kernelspec": {
   "display_name": "Python 3",
   "language": "python",
   "name": "python3"
  },
  "language_info": {
   "codemirror_mode": {
    "name": "ipython",
    "version": 3
   },
   "file_extension": ".py",
   "mimetype": "text/x-python",
   "name": "python",
   "nbconvert_exporter": "python",
   "pygments_lexer": "ipython3",
   "version": "3.8.8"
  }
 },
 "nbformat": 4,
 "nbformat_minor": 5
}
