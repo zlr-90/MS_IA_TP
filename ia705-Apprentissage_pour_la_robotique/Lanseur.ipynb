{
 "cells": [
  {
   "cell_type": "code",
   "execution_count": 58,
   "metadata": {
    "executionInfo": {
     "elapsed": 427,
     "status": "ok",
     "timestamp": 1651132712104,
     "user": {
      "displayName": "A MOUSSAID",
      "userId": "06367063194189819360"
     },
     "user_tz": -120
    },
    "id": "PxOQ6zUHSB9_"
   },
   "outputs": [],
   "source": [
    "%matplotlib inline"
   ]
  },
  {
   "cell_type": "markdown",
   "metadata": {
    "id": "vmQ7I83HPwDX"
   },
   "source": [
    "# Setup and load demonstration data"
   ]
  },
  {
   "cell_type": "markdown",
   "metadata": {
    "id": "ts_8vjdfK7Hu"
   },
   "source": [
    "A few machine learning and reinforcement libraries have been developped. For instance, you can look at :\n",
    "\n",
    "*    stable baselines: short documentation at https://stable-baselines.readthedocs.io/_/downloads/en/v2.4.0/pdf/ ; long documentation for the version 3 at https://stable-baselines3.readthedocs.io/en/master/guide/rl.html. There is also a page dedicated to imitation on https://stable-baselines3.readthedocs.io/en/master/guide/imitation.html\n",
    "*    rlkit library developped by berkeley,. It proposes a reinforcement learning framework and algorithms implemented in PyTorch. The repository is on https://github.com/vitchyr/rlkit/\n",
    "\n"
   ]
  },
  {
   "cell_type": "markdown",
   "metadata": {
    "id": "bgBLfa4LKGmr"
   },
   "source": [
    "The imitation library implements imitation learning algorithms on top of Stable-Baselines3, including:\n",
    "\n",
    "*        Behavioral Cloning\n",
    "\n",
    "*       DAgger with synthetic examples\n",
    "\n",
    "*        Adversarial Inverse Reinforcement Learning (AIRL)\n",
    "\n",
    "*        Generative Adversarial Imitation Learning (GAIL)\n",
    "\n",
    "\n",
    "\n",
    "\n",
    "It also provides CLI scripts for training and saving demonstrations from RL experts, and for training imitation learners on these demonstrations.\n",
    "\n",
    "\n",
    "We will follow the code proposed in https://stable-baselines3.readthedocs.io/en/master/guide/imitation.html.\n",
    "\n",
    "For more documentation on stable-baselines, see :\n",
    "* https://stable-baselines3.readthedocs.io/en/master/guide/quickstart.html\n",
    "* https://stable-baselines3.readthedocs.io/en/master/guide/algos.html shows a guide to the implemented algorithms\n",
    "* https://github.com/DLR-RM/stable-baselines3 for the code of stable-baselines"
   ]
  },
  {
   "cell_type": "code",
   "execution_count": 59,
   "metadata": {
    "colab": {
     "base_uri": "https://localhost:8080/"
    },
    "executionInfo": {
     "elapsed": 7197,
     "status": "ok",
     "timestamp": 1651132719822,
     "user": {
      "displayName": "A MOUSSAID",
      "userId": "06367063194189819360"
     },
     "user_tz": -120
    },
    "id": "RkFOlFQVKFIm",
    "outputId": "2514ccf6-2835-4e4d-e78b-de41f52636c2"
   },
   "outputs": [
    {
     "name": "stdout",
     "output_type": "stream",
     "text": [
      "Requirement already satisfied: stable_baselines in /usr/local/lib/python3.7/dist-packages (2.10.2)\n",
      "Requirement already satisfied: opencv-python in /usr/local/lib/python3.7/dist-packages (from stable_baselines) (4.1.2.30)\n",
      "Requirement already satisfied: joblib in /usr/local/lib/python3.7/dist-packages (from stable_baselines) (1.1.0)\n",
      "Requirement already satisfied: numpy in /usr/local/lib/python3.7/dist-packages (from stable_baselines) (1.21.6)\n",
      "Requirement already satisfied: gym[atari,classic_control]>=0.11 in /usr/local/lib/python3.7/dist-packages (from stable_baselines) (0.17.3)\n",
      "Requirement already satisfied: pandas in /usr/local/lib/python3.7/dist-packages (from stable_baselines) (1.3.5)\n",
      "Requirement already satisfied: scipy in /usr/local/lib/python3.7/dist-packages (from stable_baselines) (1.4.1)\n",
      "Requirement already satisfied: matplotlib in /usr/local/lib/python3.7/dist-packages (from stable_baselines) (3.2.2)\n",
      "Requirement already satisfied: cloudpickle>=0.5.5 in /usr/local/lib/python3.7/dist-packages (from stable_baselines) (1.3.0)\n",
      "Requirement already satisfied: pyglet<=1.5.0,>=1.4.0 in /usr/local/lib/python3.7/dist-packages (from gym[atari,classic_control]>=0.11->stable_baselines) (1.5.0)\n",
      "Requirement already satisfied: Pillow in /usr/local/lib/python3.7/dist-packages (from gym[atari,classic_control]>=0.11->stable_baselines) (7.1.2)\n",
      "Requirement already satisfied: atari-py~=0.2.0 in /usr/local/lib/python3.7/dist-packages (from gym[atari,classic_control]>=0.11->stable_baselines) (0.2.9)\n",
      "Requirement already satisfied: six in /usr/local/lib/python3.7/dist-packages (from atari-py~=0.2.0->gym[atari,classic_control]>=0.11->stable_baselines) (1.15.0)\n",
      "Requirement already satisfied: future in /usr/local/lib/python3.7/dist-packages (from pyglet<=1.5.0,>=1.4.0->gym[atari,classic_control]>=0.11->stable_baselines) (0.16.0)\n",
      "Requirement already satisfied: cycler>=0.10 in /usr/local/lib/python3.7/dist-packages (from matplotlib->stable_baselines) (0.11.0)\n",
      "Requirement already satisfied: python-dateutil>=2.1 in /usr/local/lib/python3.7/dist-packages (from matplotlib->stable_baselines) (2.8.2)\n",
      "Requirement already satisfied: pyparsing!=2.0.4,!=2.1.2,!=2.1.6,>=2.0.1 in /usr/local/lib/python3.7/dist-packages (from matplotlib->stable_baselines) (3.0.8)\n",
      "Requirement already satisfied: kiwisolver>=1.0.1 in /usr/local/lib/python3.7/dist-packages (from matplotlib->stable_baselines) (1.4.2)\n",
      "Requirement already satisfied: typing-extensions in /usr/local/lib/python3.7/dist-packages (from kiwisolver>=1.0.1->matplotlib->stable_baselines) (4.2.0)\n",
      "Requirement already satisfied: pytz>=2017.3 in /usr/local/lib/python3.7/dist-packages (from pandas->stable_baselines) (2022.1)\n",
      "Requirement already satisfied: imitation in /usr/local/lib/python3.7/dist-packages (0.2.0)\n",
      "Requirement already satisfied: awscli in /usr/local/lib/python3.7/dist-packages (from imitation) (1.23.2)\n",
      "Requirement already satisfied: cloudpickle>=0.5.5 in /usr/local/lib/python3.7/dist-packages (from imitation) (1.3.0)\n",
      "Requirement already satisfied: gym[classic_control] in /usr/local/lib/python3.7/dist-packages (from imitation) (0.17.3)\n",
      "Requirement already satisfied: matplotlib in /usr/local/lib/python3.7/dist-packages (from imitation) (3.2.2)\n",
      "Requirement already satisfied: torch>=1.4.0 in /usr/local/lib/python3.7/dist-packages (from imitation) (1.11.0+cu113)\n",
      "Requirement already satisfied: stable-baselines3~=0.8.0 in /usr/local/lib/python3.7/dist-packages (from imitation) (0.8.0)\n",
      "Requirement already satisfied: scikit-learn>=0.21.2 in /usr/local/lib/python3.7/dist-packages (from imitation) (1.0.2)\n",
      "Requirement already satisfied: tqdm in /usr/local/lib/python3.7/dist-packages (from imitation) (4.64.0)\n",
      "Requirement already satisfied: numpy>=1.15 in /usr/local/lib/python3.7/dist-packages (from imitation) (1.21.6)\n",
      "Requirement already satisfied: sacred~=0.8.1 in /usr/local/lib/python3.7/dist-packages (from imitation) (0.8.2)\n",
      "Requirement already satisfied: tensorboard>=1.14 in /usr/local/lib/python3.7/dist-packages (from imitation) (1.14.0)\n",
      "Requirement already satisfied: jax~=0.1.66 in /usr/local/lib/python3.7/dist-packages (from imitation) (0.1.77)\n",
      "Requirement already satisfied: jaxlib~=0.1.47 in /usr/local/lib/python3.7/dist-packages (from imitation) (0.1.76)\n",
      "Requirement already satisfied: opt-einsum in /usr/local/lib/python3.7/dist-packages (from jax~=0.1.66->imitation) (3.3.0)\n",
      "Requirement already satisfied: absl-py in /usr/local/lib/python3.7/dist-packages (from jax~=0.1.66->imitation) (1.0.0)\n",
      "Requirement already satisfied: scipy in /usr/local/lib/python3.7/dist-packages (from jaxlib~=0.1.47->imitation) (1.4.1)\n",
      "Requirement already satisfied: flatbuffers<3.0,>=1.12 in /usr/local/lib/python3.7/dist-packages (from jaxlib~=0.1.47->imitation) (2.0)\n",
      "Requirement already satisfied: munch<3.0,>=2.0.2 in /usr/local/lib/python3.7/dist-packages (from sacred~=0.8.1->imitation) (2.5.0)\n",
      "Requirement already satisfied: py-cpuinfo>=4.0 in /usr/local/lib/python3.7/dist-packages (from sacred~=0.8.1->imitation) (8.0.0)\n",
      "Requirement already satisfied: colorama>=0.4 in /usr/local/lib/python3.7/dist-packages (from sacred~=0.8.1->imitation) (0.4.4)\n",
      "Requirement already satisfied: jsonpickle<2.0,>=1.2 in /usr/local/lib/python3.7/dist-packages (from sacred~=0.8.1->imitation) (1.5.2)\n",
      "Requirement already satisfied: packaging>=18.0 in /usr/local/lib/python3.7/dist-packages (from sacred~=0.8.1->imitation) (21.3)\n",
      "Requirement already satisfied: GitPython in /usr/local/lib/python3.7/dist-packages (from sacred~=0.8.1->imitation) (3.1.27)\n",
      "Requirement already satisfied: docopt<1.0,>=0.3 in /usr/local/lib/python3.7/dist-packages (from sacred~=0.8.1->imitation) (0.6.2)\n",
      "Requirement already satisfied: wrapt<2.0,>=1.0 in /usr/local/lib/python3.7/dist-packages (from sacred~=0.8.1->imitation) (1.14.0)\n",
      "Requirement already satisfied: importlib-metadata in /usr/local/lib/python3.7/dist-packages (from jsonpickle<2.0,>=1.2->sacred~=0.8.1->imitation) (4.11.3)\n",
      "Requirement already satisfied: six in /usr/local/lib/python3.7/dist-packages (from munch<3.0,>=2.0.2->sacred~=0.8.1->imitation) (1.15.0)\n",
      "Requirement already satisfied: pyparsing!=3.0.5,>=2.0.2 in /usr/local/lib/python3.7/dist-packages (from packaging>=18.0->sacred~=0.8.1->imitation) (3.0.8)\n",
      "Requirement already satisfied: threadpoolctl>=2.0.0 in /usr/local/lib/python3.7/dist-packages (from scikit-learn>=0.21.2->imitation) (3.1.0)\n",
      "Requirement already satisfied: joblib>=0.11 in /usr/local/lib/python3.7/dist-packages (from scikit-learn>=0.21.2->imitation) (1.1.0)\n",
      "Requirement already satisfied: pandas in /usr/local/lib/python3.7/dist-packages (from stable-baselines3~=0.8.0->imitation) (1.3.5)\n",
      "Requirement already satisfied: pyglet<=1.5.0,>=1.4.0 in /usr/local/lib/python3.7/dist-packages (from gym[classic_control]->imitation) (1.5.0)\n",
      "Requirement already satisfied: future in /usr/local/lib/python3.7/dist-packages (from pyglet<=1.5.0,>=1.4.0->gym[classic_control]->imitation) (0.16.0)\n",
      "Requirement already satisfied: protobuf>=3.6.0 in /usr/local/lib/python3.7/dist-packages (from tensorboard>=1.14->imitation) (3.17.3)\n",
      "Requirement already satisfied: werkzeug>=0.11.15 in /usr/local/lib/python3.7/dist-packages (from tensorboard>=1.14->imitation) (1.0.1)\n",
      "Requirement already satisfied: wheel>=0.26 in /usr/local/lib/python3.7/dist-packages (from tensorboard>=1.14->imitation) (0.37.1)\n",
      "Requirement already satisfied: setuptools>=41.0.0 in /usr/local/lib/python3.7/dist-packages (from tensorboard>=1.14->imitation) (57.4.0)\n",
      "Requirement already satisfied: markdown>=2.6.8 in /usr/local/lib/python3.7/dist-packages (from tensorboard>=1.14->imitation) (3.3.6)\n",
      "Requirement already satisfied: grpcio>=1.6.3 in /usr/local/lib/python3.7/dist-packages (from tensorboard>=1.14->imitation) (1.44.0)\n",
      "Requirement already satisfied: zipp>=0.5 in /usr/local/lib/python3.7/dist-packages (from importlib-metadata->jsonpickle<2.0,>=1.2->sacred~=0.8.1->imitation) (3.8.0)\n",
      "Requirement already satisfied: typing-extensions>=3.6.4 in /usr/local/lib/python3.7/dist-packages (from importlib-metadata->jsonpickle<2.0,>=1.2->sacred~=0.8.1->imitation) (4.2.0)\n",
      "Requirement already satisfied: s3transfer<0.6.0,>=0.5.0 in /usr/local/lib/python3.7/dist-packages (from awscli->imitation) (0.5.2)\n",
      "Requirement already satisfied: docutils<0.16,>=0.10 in /usr/local/lib/python3.7/dist-packages (from awscli->imitation) (0.15.2)\n",
      "Requirement already satisfied: PyYAML<5.5,>=3.10 in /usr/local/lib/python3.7/dist-packages (from awscli->imitation) (3.13)\n",
      "Requirement already satisfied: botocore==1.25.2 in /usr/local/lib/python3.7/dist-packages (from awscli->imitation) (1.25.2)\n",
      "Requirement already satisfied: rsa<4.8,>=3.1.2 in /usr/local/lib/python3.7/dist-packages (from awscli->imitation) (4.7.2)\n",
      "Requirement already satisfied: jmespath<2.0.0,>=0.7.1 in /usr/local/lib/python3.7/dist-packages (from botocore==1.25.2->awscli->imitation) (1.0.0)\n",
      "Requirement already satisfied: python-dateutil<3.0.0,>=2.1 in /usr/local/lib/python3.7/dist-packages (from botocore==1.25.2->awscli->imitation) (2.8.2)\n",
      "Requirement already satisfied: urllib3<1.27,>=1.25.4 in /usr/local/lib/python3.7/dist-packages (from botocore==1.25.2->awscli->imitation) (1.25.11)\n",
      "Requirement already satisfied: pyasn1>=0.1.3 in /usr/local/lib/python3.7/dist-packages (from rsa<4.8,>=3.1.2->awscli->imitation) (0.4.8)\n",
      "Requirement already satisfied: gitdb<5,>=4.0.1 in /usr/local/lib/python3.7/dist-packages (from GitPython->sacred~=0.8.1->imitation) (4.0.9)\n",
      "Requirement already satisfied: smmap<6,>=3.0.1 in /usr/local/lib/python3.7/dist-packages (from gitdb<5,>=4.0.1->GitPython->sacred~=0.8.1->imitation) (5.0.0)\n",
      "Requirement already satisfied: cycler>=0.10 in /usr/local/lib/python3.7/dist-packages (from matplotlib->imitation) (0.11.0)\n",
      "Requirement already satisfied: kiwisolver>=1.0.1 in /usr/local/lib/python3.7/dist-packages (from matplotlib->imitation) (1.4.2)\n",
      "Requirement already satisfied: pytz>=2017.3 in /usr/local/lib/python3.7/dist-packages (from pandas->stable-baselines3~=0.8.0->imitation) (2022.1)\n"
     ]
    }
   ],
   "source": [
    "!pip install stable_baselines --upgrade\n",
    "!pip install imitation\n"
   ]
  },
  {
   "cell_type": "code",
   "execution_count": 60,
   "metadata": {
    "colab": {
     "base_uri": "https://localhost:8080/"
    },
    "executionInfo": {
     "elapsed": 2186,
     "status": "ok",
     "timestamp": 1651132721985,
     "user": {
      "displayName": "A MOUSSAID",
      "userId": "06367063194189819360"
     },
     "user_tz": -120
    },
    "id": "A_JtPoeyJvVK",
    "outputId": "e8275301-e2ae-489b-d1b8-fdb0495d6036"
   },
   "outputs": [
    {
     "name": "stdout",
     "output_type": "stream",
     "text": [
      "Drive already mounted at /content/gdrive; to attempt to forcibly remount, call drive.mount(\"/content/gdrive\", force_remount=True).\n"
     ]
    }
   ],
   "source": [
    "# Libraries\n",
    "# Colab libraries\n",
    "from google.colab import drive\n",
    "from google.colab import output\n",
    "drive.mount('/content/gdrive')\n",
    "colab_path = \"/content/gdrive/My Drive/Colab Notebooks/\""
   ]
  },
  {
   "cell_type": "markdown",
   "metadata": {
    "id": "9LgPHshHghvH"
   },
   "source": [
    "Download the file https://raw.githubusercontent.com/HumanCompatibleAI/imitation/master/tests/data/expert_models/cartpole_0/rollouts/final.pkl and put it in your google drive Colab Notebook folder."
   ]
  },
  {
   "cell_type": "code",
   "execution_count": 61,
   "metadata": {
    "colab": {
     "base_uri": "https://localhost:8080/"
    },
    "executionInfo": {
     "elapsed": 69,
     "status": "ok",
     "timestamp": 1651132721988,
     "user": {
      "displayName": "A MOUSSAID",
      "userId": "06367063194189819360"
     },
     "user_tz": -120
    },
    "id": "DosIgQFzJ3Sh",
    "outputId": "f547d7a3-591d-495e-c832-60cb49b91199"
   },
   "outputs": [
    {
     "name": "stdout",
     "output_type": "stream",
     "text": [
      "/content/gdrive/My Drive/Colab Notebooks\n"
     ]
    }
   ],
   "source": [
    "import sys\n",
    "%cd $colab_path\n",
    "sys.path.append('.'); sys.argv=['']"
   ]
  },
  {
   "cell_type": "code",
   "execution_count": 62,
   "metadata": {
    "colab": {
     "base_uri": "https://localhost:8080/"
    },
    "executionInfo": {
     "elapsed": 49,
     "status": "ok",
     "timestamp": 1651132721990,
     "user": {
      "displayName": "A MOUSSAID",
      "userId": "06367063194189819360"
     },
     "user_tz": -120
    },
    "id": "zrY6d226JURy",
    "outputId": "bbf1ce0b-cbba-493f-be6f-0dc28ebda906"
   },
   "outputs": [
    {
     "name": "stdout",
     "output_type": "stream",
     "text": [
      "All Tensorboards and logging are being written inside /tmp/quickstartjdjyruxv/.\n"
     ]
    }
   ],
   "source": [
    "\"\"\"Loads CartPole-v1 demonstrations and trains BC and GAIL models on that data.\n",
    "\"\"\"\n",
    "\n",
    "import pathlib\n",
    "import pickle\n",
    "import tempfile\n",
    "\n",
    "import stable_baselines3 as sb3\n",
    "\n",
    "from imitation.algorithms import adversarial, bc\n",
    "from imitation.data import rollout\n",
    "from imitation.util import logger, util\n",
    "\n",
    "# Load pickled test demonstrations.\n",
    "with open(\"expert_data_CartPole.pkl\", \"rb\") as f:\n",
    "    # This is a list of `imitation.data.types.Trajectory`, where\n",
    "    # every instance contains observations and actions for a single expert\n",
    "    # demonstration.\n",
    "    trajectories = pickle.load(f)\n",
    "\n",
    "# Convert List[types.Trajectory] to an instance of `imitation.data.types.Transitions`.\n",
    "# This is a more general dataclass containing unordered\n",
    "# (observation, actions, next_observation) transitions.\n",
    "transitions = rollout.flatten_trajectories(trajectories)\n",
    "\n",
    "venv = util.make_vec_env(\"CartPole-v1\", n_envs=2)\n",
    "\n",
    "tempdir = tempfile.TemporaryDirectory(prefix=\"quickstart\")\n",
    "tempdir_path = pathlib.Path(tempdir.name)\n",
    "print(f\"All Tensorboards and logging are being written inside {tempdir_path}/.\")\n"
   ]
  },
  {
   "cell_type": "code",
   "execution_count": 63,
   "metadata": {
    "colab": {
     "base_uri": "https://localhost:8080/"
    },
    "executionInfo": {
     "elapsed": 33,
     "status": "ok",
     "timestamp": 1651132721991,
     "user": {
      "displayName": "A MOUSSAID",
      "userId": "06367063194189819360"
     },
     "user_tz": -120
    },
    "id": "ZpBIUVjoRTJR",
    "outputId": "710a455f-d6bc-4c68-daad-a7ea31010bf9"
   },
   "outputs": [
    {
     "name": "stdout",
     "output_type": "stream",
     "text": [
      "type of transitions <class 'imitation.data.types.Transitions'>\n",
      "length of transitions  27976\n",
      "first transition  {'obs': array([ 0.03013294,  0.0351516 ,  0.00868224, -0.02005102]), 'acts': 0, 'infos': {}, 'next_obs': array([ 0.03083597, -0.16009378,  0.00828122,  0.27535856]), 'dones': False}\n"
     ]
    }
   ],
   "source": [
    "#information about transitions\n",
    "print(\"type of transitions\" ,type(transitions))\n",
    "print(\"length of transitions \", len(transitions))\n",
    "print(\"first transition \",transitions[0])"
   ]
  },
  {
   "cell_type": "markdown",
   "metadata": {
    "id": "aDRsOKDAPl-V"
   },
   "source": [
    "# Behavioral Cloning\n",
    "\n",
    "See the deprecated documentation for more detail about the implementation https://stable-baselines.readthedocs.io/en/master/guide/pretrain.html"
   ]
  },
  {
   "cell_type": "code",
   "execution_count": 64,
   "metadata": {
    "colab": {
     "base_uri": "https://localhost:8080/"
    },
    "executionInfo": {
     "elapsed": 24,
     "status": "ok",
     "timestamp": 1651132721991,
     "user": {
      "displayName": "A MOUSSAID",
      "userId": "06367063194189819360"
     },
     "user_tz": -120
    },
    "id": "TqX_PPYTKiMu",
    "outputId": "3458c883-0631-4bb4-e0f8-8396acd8f7cb"
   },
   "outputs": [
    {
     "name": "stdout",
     "output_type": "stream",
     "text": [
      "Logging to /tmp/quickstartjdjyruxv/BC\n"
     ]
    }
   ],
   "source": [
    "# Train Behavioral Cloning on expert data.\n",
    "# BC also accepts as `expert_data` any PyTorch-style DataLoader that iterates over\n",
    "# dictionaries containing observations and actions.\n",
    "logger.configure(tempdir_path / \"BC/\")\n",
    "bc_trainer = bc.BC(venv.observation_space, venv.action_space, expert_data=transitions)"
   ]
  },
  {
   "cell_type": "markdown",
   "metadata": {
    "id": "nVO6BdCmPWOm"
   },
   "source": [
    "Install rendering libraries and gym"
   ]
  },
  {
   "cell_type": "code",
   "execution_count": 65,
   "metadata": {
    "colab": {
     "base_uri": "https://localhost:8080/"
    },
    "executionInfo": {
     "elapsed": 6075,
     "status": "ok",
     "timestamp": 1651132728049,
     "user": {
      "displayName": "A MOUSSAID",
      "userId": "06367063194189819360"
     },
     "user_tz": -120
    },
    "id": "xR0qow3HPSFS",
    "outputId": "36bb7292-4791-430b-b47d-18e55c256fd3"
   },
   "outputs": [
    {
     "name": "stdout",
     "output_type": "stream",
     "text": [
      "Requirement already satisfied: gym in /usr/local/lib/python3.7/dist-packages (0.17.3)\n",
      "Requirement already satisfied: pyvirtualdisplay in /usr/local/lib/python3.7/dist-packages (3.0)\n",
      "Requirement already satisfied: pyglet<=1.5.0,>=1.4.0 in /usr/local/lib/python3.7/dist-packages (from gym) (1.5.0)\n",
      "Requirement already satisfied: numpy>=1.10.4 in /usr/local/lib/python3.7/dist-packages (from gym) (1.21.6)\n",
      "Requirement already satisfied: scipy in /usr/local/lib/python3.7/dist-packages (from gym) (1.4.1)\n",
      "Requirement already satisfied: cloudpickle<1.7.0,>=1.2.0 in /usr/local/lib/python3.7/dist-packages (from gym) (1.3.0)\n",
      "Requirement already satisfied: future in /usr/local/lib/python3.7/dist-packages (from pyglet<=1.5.0,>=1.4.0->gym) (0.16.0)\n"
     ]
    }
   ],
   "source": [
    "!apt-get install -y xvfb python-opengl > /dev/null 2>&1\n",
    "!pip install gym pyvirtualdisplay"
   ]
  },
  {
   "cell_type": "markdown",
   "metadata": {
    "id": "2CSco8cZPasM"
   },
   "source": [
    "Create a virtual display (only necessary in a notebook)"
   ]
  },
  {
   "cell_type": "code",
   "execution_count": 66,
   "metadata": {
    "colab": {
     "base_uri": "https://localhost:8080/"
    },
    "executionInfo": {
     "elapsed": 69,
     "status": "ok",
     "timestamp": 1651132728052,
     "user": {
      "displayName": "A MOUSSAID",
      "userId": "06367063194189819360"
     },
     "user_tz": -120
    },
    "id": "86ophwuEPM5Q",
    "outputId": "81316276-1511-4e64-bf3f-f02d8f26a8d3"
   },
   "outputs": [
    {
     "data": {
      "text/plain": [
       "<pyvirtualdisplay.display.Display at 0x7fd3e275e290>"
      ]
     },
     "execution_count": 66,
     "metadata": {},
     "output_type": "execute_result"
    }
   ],
   "source": [
    "from pyvirtualdisplay import Display\n",
    "display = Display(visible=0, size=(400, 300))\n",
    "display.start()"
   ]
  },
  {
   "cell_type": "code",
   "execution_count": 67,
   "metadata": {
    "executionInfo": {
     "elapsed": 35,
     "status": "ok",
     "timestamp": 1651132728054,
     "user": {
      "displayName": "A MOUSSAID",
      "userId": "06367063194189819360"
     },
     "user_tz": -120
    },
    "id": "zjIOnJQnTamO"
   },
   "outputs": [],
   "source": [
    "import matplotlib.pyplot as plt\n",
    "import gym\n",
    "import numpy as np\n"
   ]
  },
  {
   "cell_type": "markdown",
   "metadata": {
    "id": "d9Oseo__TcZb"
   },
   "source": [
    "Initialise the simulation environment"
   ]
  },
  {
   "cell_type": "code",
   "execution_count": 68,
   "metadata": {
    "colab": {
     "base_uri": "https://localhost:8080/",
     "height": 286
    },
    "executionInfo": {
     "elapsed": 1079,
     "status": "ok",
     "timestamp": 1651132729103,
     "user": {
      "displayName": "A MOUSSAID",
      "userId": "06367063194189819360"
     },
     "user_tz": -120
    },
    "id": "2BVDlJJsPG1r",
    "outputId": "8e339688-8bbb-426f-ee3a-59145d867e50"
   },
   "outputs": [
    {
     "data": {
      "text/plain": [
       "<matplotlib.image.AxesImage at 0x7fd3e26e6550>"
      ]
     },
     "execution_count": 68,
     "metadata": {},
     "output_type": "execute_result"
    },
    {
     "data": {
      "image/png": "[encoded data removed]",
      "text/plain": [
       "<Figure size 432x288 with 1 Axes>"
      ]
     },
     "metadata": {
      "needs_background": "light"
     },
     "output_type": "display_data"
    }
   ],
   "source": [
    "env = gym.make(\"CartPole-v0\")\n",
    "#env = gym.make(\"BipedalWalker-v3\") # try for different environements\n",
    "#env = gym.make('MountainCarContinuous-v0')\n",
    "env.reset()\n",
    "prev_screen = env.render(mode='rgb_array')\n",
    "plt.imshow(prev_screen)"
   ]
  },
  {
   "cell_type": "markdown",
   "metadata": {
    "id": "XM3RNtbiDPoP"
   },
   "source": [
    "Print out the properties of the environment\n"
   ]
  },
  {
   "cell_type": "code",
   "execution_count": 69,
   "metadata": {
    "colab": {
     "base_uri": "https://localhost:8080/"
    },
    "executionInfo": {
     "elapsed": 92,
     "status": "ok",
     "timestamp": 1651132729110,
     "user": {
      "displayName": "A MOUSSAID",
      "userId": "06367063194189819360"
     },
     "user_tz": -120
    },
    "id": "Cw-kfvwhDTAN",
    "outputId": "619157c2-cc8f-44c1-d57c-58e67c8276b7"
   },
   "outputs": [
    {
     "name": "stdout",
     "output_type": "stream",
     "text": [
      "Discrete(2)\n",
      "Box(-3.4028234663852886e+38, 3.4028234663852886e+38, (4,), float32)\n"
     ]
    }
   ],
   "source": [
    "print(venv.action_space)\n",
    "print(venv.observation_space)"
   ]
  },
  {
   "cell_type": "markdown",
   "metadata": {
    "id": "PncbGnPi-8fq"
   },
   "source": [
    "##Before training\n",
    "Test in the environment the untrained policy.  \n",
    "TODO: write the code to test the behaviour of the output policy on the environment. We will be able to select the action of the environment with\n",
    "\n",
    "    a,_ = bc_trainer.policy.predict(s)"
   ]
  },
  {
   "cell_type": "code",
   "execution_count": 70,
   "metadata": {
    "colab": {
     "base_uri": "https://localhost:8080/"
    },
    "executionInfo": {
     "elapsed": 67,
     "status": "ok",
     "timestamp": 1651132729115,
     "user": {
      "displayName": "A MOUSSAID",
      "userId": "06367063194189819360"
     },
     "user_tz": -120
    },
    "id": "LUbaWN0cN3BT",
    "outputId": "391e43cc-1ff6-44e2-b267-622eec6db844"
   },
   "outputs": [
    {
     "name": "stdout",
     "output_type": "stream",
     "text": [
      "Complete\n"
     ]
    }
   ],
   "source": [
    "num_episodes = 10\n",
    "rew_list=[]\n",
    "for i in range(num_episodes):\n",
    "    #TODO: write the code to test the behaviour of the output policy on the environment for num_episodes \n",
    "    rAll = 0\n",
    "    done = False\n",
    "    obs = env.reset()\n",
    "    while done == False :\n",
    "        a,_ = bc_trainer.policy.predict(obs)\n",
    "        obs, reward, done, _ = env.step(a)\n",
    "        rAll += reward\n",
    "    rew_list.append(rAll)\n",
    "    \n",
    "print('Complete')"
   ]
  },
  {
   "cell_type": "markdown",
   "metadata": {
    "id": "PykzDceUZ1C2"
   },
   "source": [
    "Plot the reward received by the bc_trainer"
   ]
  },
  {
   "cell_type": "code",
   "execution_count": 71,
   "metadata": {
    "colab": {
     "base_uri": "https://localhost:8080/",
     "height": 282
    },
    "executionInfo": {
     "elapsed": 568,
     "status": "ok",
     "timestamp": 1651132729635,
     "user": {
      "displayName": "A MOUSSAID",
      "userId": "06367063194189819360"
     },
     "user_tz": -120
    },
    "id": "Xgwn0PslZvGV",
    "outputId": "1adb4aca-7d49-42f3-e326-19bad1f0887a"
   },
   "outputs": [
    {
     "name": "stdout",
     "output_type": "stream",
     "text": [
      "mean reward  19.1\n"
     ]
    },
    {
     "data": {
      "image/png": "[encoded data removed]",
      "text/plain": [
       "<Figure size 432x288 with 1 Axes>"
      ]
     },
     "metadata": {
      "needs_background": "light"
     },
     "output_type": "display_data"
    }
   ],
   "source": [
    "#check the learning process by plotting  the reward per episode \n",
    "plt.plot(rew_list)\n",
    "print(\"mean reward \",np.mean(rew_list))"
   ]
  },
  {
   "cell_type": "markdown",
   "metadata": {
    "id": "lB4T7-bT-tjj"
   },
   "source": [
    "##After Training\n",
    "Train the policy by behavioural cloning after training for 1 epoch"
   ]
  },
  {
   "cell_type": "code",
   "execution_count": 72,
   "metadata": {
    "colab": {
     "base_uri": "https://localhost:8080/",
     "height": 1000,
     "referenced_widgets": [
      "be9c29e40d2242f3902d0d5c17bc8737",
      "050171eef9f24c7884fba40fbd630c6d",
      "ffc288d84fc240fc8d9f8eb9370a6c4e",
      "e027351438ee49bf86288a6950b7c12c",
      "d65a28a3f4e44f81919d44aeed3991b7",
      "e83855ebebe8481d98ddd532d1bf7738",
      "133710661e514a21a6707bba3d242270",
      "d8e5effb1c8046f3be718d300778a4a1",
      "0edacebcd2a64511bc2b44e8b2a0bb77",
      "ab68a496f4a944a992f1675f54163a4d",
      "c9bee6b45ab34c149bbbf7fbfc3a4adf"
     ]
    },
    "executionInfo": {
     "elapsed": 5616,
     "status": "ok",
     "timestamp": 1651132735192,
     "user": {
      "displayName": "A MOUSSAID",
      "userId": "06367063194189819360"
     },
     "user_tz": -120
    },
    "id": "uaABBYtP-yCW",
    "outputId": "335bf8bf-af09-4ff0-fc9d-6be99be9d391"
   },
   "outputs": [
    {
     "data": {
      "application/vnd.jupyter.widget-view+json": {
       "model_id": "be9c29e40d2242f3902d0d5c17bc8737",
       "version_major": 2,
       "version_minor": 0
      },
      "text/plain": [
       "BC epoch:   0%|          | 0/1 [00:00<?, ?it/s]"
      ]
     },
     "metadata": {},
     "output_type": "display_data"
    },
    {
     "name": "stdout",
     "output_type": "stream",
     "text": [
      "-----------------------------\n",
      "| batch_size    | 32        |\n",
      "| ent_loss      | -0.000509 |\n",
      "| entropy       | 0.509     |\n",
      "| epoch_num     | 0         |\n",
      "| l2_loss       | 0         |\n",
      "| l2_norm       | 42.3      |\n",
      "| loss          | 0.443     |\n",
      "| n_updates     | 100       |\n",
      "| neglogp       | 0.443     |\n",
      "| prob_true_act | 0.695     |\n",
      "-----------------------------\n",
      "-----------------------------\n",
      "| batch_size    | 32        |\n",
      "| ent_loss      | -0.000459 |\n",
      "| entropy       | 0.459     |\n",
      "| epoch_num     | 0         |\n",
      "| l2_loss       | 0         |\n",
      "| l2_norm       | 44.8      |\n",
      "| loss          | 0.329     |\n",
      "| n_updates     | 200       |\n",
      "| neglogp       | 0.33      |\n",
      "| prob_true_act | 0.749     |\n",
      "-----------------------------\n",
      "-----------------------------\n",
      "| batch_size    | 32        |\n",
      "| ent_loss      | -0.000475 |\n",
      "| entropy       | 0.475     |\n",
      "| epoch_num     | 0         |\n",
      "| l2_loss       | 0         |\n",
      "| l2_norm       | 46.5      |\n",
      "| loss          | 0.611     |\n",
      "| n_updates     | 300       |\n",
      "| neglogp       | 0.611     |\n",
      "| prob_true_act | 0.653     |\n",
      "-----------------------------\n",
      "-----------------------------\n",
      "| batch_size    | 32        |\n",
      "| ent_loss      | -0.000454 |\n",
      "| entropy       | 0.454     |\n",
      "| epoch_num     | 0         |\n",
      "| l2_loss       | 0         |\n",
      "| l2_norm       | 49.2      |\n",
      "| loss          | 0.409     |\n",
      "| n_updates     | 400       |\n",
      "| neglogp       | 0.41      |\n",
      "| prob_true_act | 0.718     |\n",
      "-----------------------------\n",
      "----------------------------\n",
      "| batch_size    | 32       |\n",
      "| ent_loss      | -0.00048 |\n",
      "| entropy       | 0.48     |\n",
      "| epoch_num     | 0        |\n",
      "| l2_loss       | 0        |\n",
      "| l2_norm       | 52.1     |\n",
      "| loss          | 0.382    |\n",
      "| n_updates     | 500      |\n",
      "| neglogp       | 0.383    |\n",
      "| prob_true_act | 0.729    |\n",
      "----------------------------\n",
      "-----------------------------\n",
      "| batch_size    | 32        |\n",
      "| ent_loss      | -0.000487 |\n",
      "| entropy       | 0.487     |\n",
      "| epoch_num     | 0         |\n",
      "| l2_loss       | 0         |\n",
      "| l2_norm       | 55.4      |\n",
      "| loss          | 0.479     |\n",
      "| n_updates     | 600       |\n",
      "| neglogp       | 0.48      |\n",
      "| prob_true_act | 0.683     |\n",
      "-----------------------------\n",
      "-----------------------------\n",
      "| batch_size    | 32        |\n",
      "| ent_loss      | -0.000504 |\n",
      "| entropy       | 0.504     |\n",
      "| epoch_num     | 0         |\n",
      "| l2_loss       | 0         |\n",
      "| l2_norm       | 58.1      |\n",
      "| loss          | 0.572     |\n",
      "| n_updates     | 700       |\n",
      "| neglogp       | 0.572     |\n",
      "| prob_true_act | 0.638     |\n",
      "-----------------------------\n",
      "-----------------------------\n",
      "| batch_size    | 32        |\n",
      "| ent_loss      | -0.000455 |\n",
      "| entropy       | 0.455     |\n",
      "| epoch_num     | 0         |\n",
      "| l2_loss       | 0         |\n",
      "| l2_norm       | 62        |\n",
      "| loss          | 0.306     |\n",
      "| n_updates     | 800       |\n",
      "| neglogp       | 0.307     |\n",
      "| prob_true_act | 0.768     |\n",
      "-----------------------------\n"
     ]
    }
   ],
   "source": [
    "bc_trainer.train(n_epochs=1) "
   ]
  },
  {
   "cell_type": "markdown",
   "metadata": {
    "id": "SZorG8t3U1CM"
   },
   "source": [
    "Test in the environment the output policy.\n",
    "\n",
    "TODO: write the code to test the behaviour of the output policy on the environment and plot the rewards received. We will be able to select the action of the environment with \n",
    "\n",
    "      a,_ = bc_trainer.policy.predict(s)"
   ]
  },
  {
   "cell_type": "code",
   "execution_count": 73,
   "metadata": {
    "colab": {
     "base_uri": "https://localhost:8080/"
    },
    "executionInfo": {
     "elapsed": 5135,
     "status": "ok",
     "timestamp": 1651132740297,
     "user": {
      "displayName": "A MOUSSAID",
      "userId": "06367063194189819360"
     },
     "user_tz": -120
    },
    "id": "zHN4q40BVdj8",
    "outputId": "f46e3d86-b3ba-4de4-e1b8-b30dc7e25639"
   },
   "outputs": [
    {
     "name": "stdout",
     "output_type": "stream",
     "text": [
      "Complete\n"
     ]
    }
   ],
   "source": [
    "snum_episodes = 10\n",
    "rew_list=[]\n",
    "for i in range(num_episodes):  \n",
    "    #TODO: write the code to test the behaviour of the output policy on the environment for num_episodes \n",
    "    observation = env.reset()\n",
    "    done, state = False, None\n",
    "    epis_len = 0\n",
    "    rAll = 0\n",
    "    while not done:\n",
    "        action, state = bc_trainer.policy.predict(observation, state=state,\n",
    "                                                  deterministic=True)\n",
    "        observation, reward, done, _info = env.step(action)\n",
    "        rAll += reward\n",
    "        epis_len += 1\n",
    "        env.render()\n",
    "    rew_list.append(rAll)\n",
    "    \n",
    "print('Complete')"
   ]
  },
  {
   "cell_type": "code",
   "execution_count": 74,
   "metadata": {
    "colab": {
     "base_uri": "https://localhost:8080/",
     "height": 282
    },
    "executionInfo": {
     "elapsed": 730,
     "status": "ok",
     "timestamp": 1651132741011,
     "user": {
      "displayName": "A MOUSSAID",
      "userId": "06367063194189819360"
     },
     "user_tz": -120
    },
    "id": "F-Zb9dwaEj6-",
    "outputId": "18aac6ba-ad10-4a8f-c58d-4e01016ed208"
   },
   "outputs": [
    {
     "name": "stdout",
     "output_type": "stream",
     "text": [
      "mean reward  200.0\n"
     ]
    },
    {
     "data": {
      "image/png": "[encoded data removed]",
      "text/plain": [
       "<Figure size 432x288 with 1 Axes>"
      ]
     },
     "metadata": {
      "needs_background": "light"
     },
     "output_type": "display_data"
    }
   ],
   "source": [
    "#check the learning process by plotting  the reward per episode \n",
    "plt.plot(rew_list)\n",
    "print(\"mean reward \",np.mean(rew_list))"
   ]
  },
  {
   "cell_type": "markdown",
   "metadata": {
    "id": "0AiwN2EiQgJu"
   },
   "source": [
    "#Generative Adversarial Imitation Learning\n",
    "Let us train with the algoirthm GAIL. See the  documentation and examples from : \n",
    "\n",
    "\n",
    "*  https://github.com/HumanCompatibleAI/imitation/tree/master/examples\n",
    "*  https://stable-baselines3.readthedocs.io/en/master/guide/imitation.html\n",
    "*  (deprecated) https://stable-baselines.readthedocs.io/en/v2.4.0/modules/gail.html \n",
    "\n",
    "GAIL relies on a RL algorithm in its inner loop. One option is the algorithm PPO, which is a policy gradient algorithm (see a short explanation in https://stable-baselines3.readthedocs.io/en/master/modules/ppo.html)"
   ]
  },
  {
   "cell_type": "markdown",
   "metadata": {
    "id": "rw0ykRVm4cHK"
   },
   "source": [
    "TODO: implement GAIL for the cartpole on the same expert data. Report the rewards with respect to the number of traning time steps. Comment the results and contrast with the results from Behaviour Cloning."
   ]
  },
  {
   "cell_type": "code",
   "execution_count": 75,
   "metadata": {
    "colab": {
     "base_uri": "https://localhost:8080/"
    },
    "executionInfo": {
     "elapsed": 87,
     "status": "ok",
     "timestamp": 1651132741016,
     "user": {
      "displayName": "A MOUSSAID",
      "userId": "06367063194189819360"
     },
     "user_tz": -120
    },
    "id": "nddMRTPDLmE9",
    "outputId": "4b4a4112-b5b1-4808-9e8f-001b5522cdee"
   },
   "outputs": [
    {
     "name": "stdout",
     "output_type": "stream",
     "text": [
      "Logging to /tmp/quickstartjdjyruxv/GAIL\n"
     ]
    }
   ],
   "source": [
    "# import\n",
    "from stable_baselines3 import PPO\n",
    "from stable_baselines3.ppo import MlpPolicy\n",
    "\n",
    "# Train GAIL on expert data.\n",
    "# GAIL also accepts as `expert_data` any Pytorch-style DataLoader that\n",
    "# iterates over dictionaries containing observations, actions, and next_observations.\n",
    "logger.configure(tempdir_path / \"GAIL/\")\n",
    "\n",
    "#TODO: implement GAIL for the cartpole on the loaded expert data\n",
    "gail_learner = PPO(env=venv, policy=MlpPolicy, batch_size=64, ent_coef=0.0,\n",
    "              learning_rate=0.0003, n_epochs=10)\n",
    "\n",
    "gail_trainer = adversarial.GAIL(venv=venv, expert_data=transitions,\n",
    "                                gen_algo=gail_learner, expert_batch_size=1024)"
   ]
  },
  {
   "cell_type": "markdown",
   "metadata": {
    "id": "sVCkmqCJluwP"
   },
   "source": [
    "Test in the environment the output policy.\n",
    "\n",
    "TODO: write the code to test the behaviour of the output policy on the environment. We will be able to select the action of the environment with \n",
    "\n",
    "      a,_ = gail_trainer.gen_algo.predict(s)"
   ]
  },
  {
   "cell_type": "code",
   "execution_count": 76,
   "metadata": {
    "colab": {
     "base_uri": "https://localhost:8080/"
    },
    "executionInfo": {
     "elapsed": 53,
     "status": "ok",
     "timestamp": 1651132741017,
     "user": {
      "displayName": "A MOUSSAID",
      "userId": "06367063194189819360"
     },
     "user_tz": -120
    },
    "id": "1tC56eP4adOR",
    "outputId": "c625f7a7-20e9-456d-93d8-6ace96c8b75b"
   },
   "outputs": [
    {
     "name": "stdout",
     "output_type": "stream",
     "text": [
      "Complete\n"
     ]
    }
   ],
   "source": [
    "num_episodes = 10\n",
    "rew_list=[]\n",
    "for i in range(num_episodes):\n",
    "    #TODO: write the code to test the behaviour of the output policy on the environment for num_episodes \n",
    "    observation = env.reset()\n",
    "    done, state = False, None\n",
    "    rAll = 0.0\n",
    "    epis_len = 0\n",
    "    while not done:\n",
    "        action, state = gail_trainer.gen_algo.predict(observation, state=state, deterministic=True)\n",
    "        observation, reward, done, _info = env.step(action)\n",
    "        rAll += reward\n",
    "        epis_len += 1\n",
    "        env.render()\n",
    "    rew_list.append(rAll)\n",
    "    \n",
    "print('Complete')"
   ]
  },
  {
   "cell_type": "code",
   "execution_count": 77,
   "metadata": {
    "colab": {
     "base_uri": "https://localhost:8080/",
     "height": 282
    },
    "executionInfo": {
     "elapsed": 38,
     "status": "ok",
     "timestamp": 1651132741018,
     "user": {
      "displayName": "A MOUSSAID",
      "userId": "06367063194189819360"
     },
     "user_tz": -120
    },
    "id": "NwbbvUKCaeYo",
    "outputId": "6153f508-16b3-4d45-dae2-bd49d0173dfe"
   },
   "outputs": [
    {
     "name": "stdout",
     "output_type": "stream",
     "text": [
      "mean reward  9.9\n"
     ]
    },
    {
     "data": {
      "image/png": "[encoded data removed]",
      "text/plain": [
       "<Figure size 432x288 with 1 Axes>"
      ]
     },
     "metadata": {
      "needs_background": "light"
     },
     "output_type": "display_data"
    }
   ],
   "source": [
    "#check the learning process by plotting  the reward per episode \n",
    "plt.plot(rew_list)\n",
    "print(\"mean reward \",np.mean(rew_list))"
   ]
  },
  {
   "cell_type": "markdown",
   "metadata": {
    "id": "snQfoo1V_QVX"
   },
   "source": [
    "# A Robot environment with Pybullet\n",
    "\n",
    "You can use a robot using pybullet physical simulator. Documentation about pybullet can be read on https://pybullet.org/wordpress/index.php/forum-2/.\n",
    "Below is an example of code to use a robot arm or a humanoid agent."
   ]
  },
  {
   "cell_type": "code",
   "execution_count": 78,
   "metadata": {
    "colab": {
     "base_uri": "https://localhost:8080/"
    },
    "executionInfo": {
     "elapsed": 20832,
     "status": "ok",
     "timestamp": 1651132761826,
     "user": {
      "displayName": "A MOUSSAID",
      "userId": "06367063194189819360"
     },
     "user_tz": -120
    },
    "id": "CpnHPtks_kIO",
    "outputId": "9fff48ce-fa29-4373-bc43-5784b851adb7"
   },
   "outputs": [
    {
     "name": "stdout",
     "output_type": "stream",
     "text": [
      "Requirement already satisfied: pybullet in /usr/local/lib/python3.7/dist-packages (3.2.4)\n",
      "Requirement already satisfied: stable_baselines in /usr/local/lib/python3.7/dist-packages (2.10.2)\n",
      "Requirement already satisfied: matplotlib in /usr/local/lib/python3.7/dist-packages (from stable_baselines) (3.2.2)\n",
      "Requirement already satisfied: pandas in /usr/local/lib/python3.7/dist-packages (from stable_baselines) (1.3.5)\n",
      "Requirement already satisfied: joblib in /usr/local/lib/python3.7/dist-packages (from stable_baselines) (1.1.0)\n",
      "Requirement already satisfied: cloudpickle>=0.5.5 in /usr/local/lib/python3.7/dist-packages (from stable_baselines) (1.3.0)\n",
      "Requirement already satisfied: scipy in /usr/local/lib/python3.7/dist-packages (from stable_baselines) (1.4.1)\n",
      "Requirement already satisfied: numpy in /usr/local/lib/python3.7/dist-packages (from stable_baselines) (1.21.6)\n",
      "Requirement already satisfied: gym[atari,classic_control]>=0.11 in /usr/local/lib/python3.7/dist-packages (from stable_baselines) (0.17.3)\n",
      "Requirement already satisfied: opencv-python in /usr/local/lib/python3.7/dist-packages (from stable_baselines) (4.1.2.30)\n",
      "Requirement already satisfied: pyglet<=1.5.0,>=1.4.0 in /usr/local/lib/python3.7/dist-packages (from gym[atari,classic_control]>=0.11->stable_baselines) (1.5.0)\n",
      "Requirement already satisfied: Pillow in /usr/local/lib/python3.7/dist-packages (from gym[atari,classic_control]>=0.11->stable_baselines) (7.1.2)\n",
      "Requirement already satisfied: atari-py~=0.2.0 in /usr/local/lib/python3.7/dist-packages (from gym[atari,classic_control]>=0.11->stable_baselines) (0.2.9)\n",
      "Requirement already satisfied: six in /usr/local/lib/python3.7/dist-packages (from atari-py~=0.2.0->gym[atari,classic_control]>=0.11->stable_baselines) (1.15.0)\n",
      "Requirement already satisfied: future in /usr/local/lib/python3.7/dist-packages (from pyglet<=1.5.0,>=1.4.0->gym[atari,classic_control]>=0.11->stable_baselines) (0.16.0)\n",
      "Requirement already satisfied: pyparsing!=2.0.4,!=2.1.2,!=2.1.6,>=2.0.1 in /usr/local/lib/python3.7/dist-packages (from matplotlib->stable_baselines) (3.0.8)\n",
      "Requirement already satisfied: kiwisolver>=1.0.1 in /usr/local/lib/python3.7/dist-packages (from matplotlib->stable_baselines) (1.4.2)\n",
      "Requirement already satisfied: python-dateutil>=2.1 in /usr/local/lib/python3.7/dist-packages (from matplotlib->stable_baselines) (2.8.2)\n",
      "Requirement already satisfied: cycler>=0.10 in /usr/local/lib/python3.7/dist-packages (from matplotlib->stable_baselines) (0.11.0)\n",
      "Requirement already satisfied: typing-extensions in /usr/local/lib/python3.7/dist-packages (from kiwisolver>=1.0.1->matplotlib->stable_baselines) (4.2.0)\n",
      "Requirement already satisfied: pytz>=2017.3 in /usr/local/lib/python3.7/dist-packages (from pandas->stable_baselines) (2022.1)\n",
      "Requirement already satisfied: tensorflow==1.14.0 in /usr/local/lib/python3.7/dist-packages (1.14.0)\n",
      "Requirement already satisfied: gast>=0.2.0 in /usr/local/lib/python3.7/dist-packages (from tensorflow==1.14.0) (0.5.3)\n",
      "Requirement already satisfied: keras-preprocessing>=1.0.5 in /usr/local/lib/python3.7/dist-packages (from tensorflow==1.14.0) (1.1.2)\n",
      "Requirement already satisfied: protobuf>=3.6.1 in /usr/local/lib/python3.7/dist-packages (from tensorflow==1.14.0) (3.17.3)\n",
      "Requirement already satisfied: tensorboard<1.15.0,>=1.14.0 in /usr/local/lib/python3.7/dist-packages (from tensorflow==1.14.0) (1.14.0)\n",
      "Requirement already satisfied: termcolor>=1.1.0 in /usr/local/lib/python3.7/dist-packages (from tensorflow==1.14.0) (1.1.0)\n",
      "Requirement already satisfied: wheel>=0.26 in /usr/local/lib/python3.7/dist-packages (from tensorflow==1.14.0) (0.37.1)\n",
      "Requirement already satisfied: tensorflow-estimator<1.15.0rc0,>=1.14.0rc0 in /usr/local/lib/python3.7/dist-packages (from tensorflow==1.14.0) (1.14.0)\n",
      "Requirement already satisfied: google-pasta>=0.1.6 in /usr/local/lib/python3.7/dist-packages (from tensorflow==1.14.0) (0.2.0)\n",
      "Requirement already satisfied: keras-applications>=1.0.6 in /usr/local/lib/python3.7/dist-packages (from tensorflow==1.14.0) (1.0.8)\n",
      "Requirement already satisfied: numpy<2.0,>=1.14.5 in /usr/local/lib/python3.7/dist-packages (from tensorflow==1.14.0) (1.21.6)\n",
      "Requirement already satisfied: six>=1.10.0 in /usr/local/lib/python3.7/dist-packages (from tensorflow==1.14.0) (1.15.0)\n",
      "Requirement already satisfied: absl-py>=0.7.0 in /usr/local/lib/python3.7/dist-packages (from tensorflow==1.14.0) (1.0.0)\n",
      "Requirement already satisfied: wrapt>=1.11.1 in /usr/local/lib/python3.7/dist-packages (from tensorflow==1.14.0) (1.14.0)\n",
      "Requirement already satisfied: astor>=0.6.0 in /usr/local/lib/python3.7/dist-packages (from tensorflow==1.14.0) (0.8.1)\n",
      "Requirement already satisfied: grpcio>=1.8.6 in /usr/local/lib/python3.7/dist-packages (from tensorflow==1.14.0) (1.44.0)\n",
      "Requirement already satisfied: h5py in /usr/local/lib/python3.7/dist-packages (from keras-applications>=1.0.6->tensorflow==1.14.0) (3.1.0)\n",
      "Requirement already satisfied: werkzeug>=0.11.15 in /usr/local/lib/python3.7/dist-packages (from tensorboard<1.15.0,>=1.14.0->tensorflow==1.14.0) (1.0.1)\n",
      "Requirement already satisfied: markdown>=2.6.8 in /usr/local/lib/python3.7/dist-packages (from tensorboard<1.15.0,>=1.14.0->tensorflow==1.14.0) (3.3.6)\n",
      "Requirement already satisfied: setuptools>=41.0.0 in /usr/local/lib/python3.7/dist-packages (from tensorboard<1.15.0,>=1.14.0->tensorflow==1.14.0) (57.4.0)\n",
      "Requirement already satisfied: importlib-metadata>=4.4 in /usr/local/lib/python3.7/dist-packages (from markdown>=2.6.8->tensorboard<1.15.0,>=1.14.0->tensorflow==1.14.0) (4.11.3)\n",
      "Requirement already satisfied: zipp>=0.5 in /usr/local/lib/python3.7/dist-packages (from importlib-metadata>=4.4->markdown>=2.6.8->tensorboard<1.15.0,>=1.14.0->tensorflow==1.14.0) (3.8.0)\n",
      "Requirement already satisfied: typing-extensions>=3.6.4 in /usr/local/lib/python3.7/dist-packages (from importlib-metadata>=4.4->markdown>=2.6.8->tensorboard<1.15.0,>=1.14.0->tensorflow==1.14.0) (4.2.0)\n",
      "Requirement already satisfied: cached-property in /usr/local/lib/python3.7/dist-packages (from h5py->keras-applications>=1.0.6->tensorflow==1.14.0) (1.5.2)\n"
     ]
    }
   ],
   "source": [
    "#INSTALL THE PACKAGES\n",
    "!pip3 install pybullet --upgrade\n",
    "!pip3 install stable_baselines --upgrade\n",
    "!pip3 install tensorflow==1.14.0 #tensorflow deprecates and breaks their API\n",
    "#see PyBullet Quickstart Guide at\n",
    "#https://docs.google.com/document/d/10sXEhzFRSnvFcl3XxNGhnD4N2SedqwdAvK3dsihxVUA/edit\n",
    "!pip3 install pyvirtualdisplay > /dev/null 2>&1"
   ]
  },
  {
   "cell_type": "code",
   "execution_count": 79,
   "metadata": {
    "colab": {
     "base_uri": "https://localhost:8080/"
    },
    "executionInfo": {
     "elapsed": 69,
     "status": "ok",
     "timestamp": 1651132761830,
     "user": {
      "displayName": "A MOUSSAID",
      "userId": "06367063194189819360"
     },
     "user_tz": -120
    },
    "id": "5fNgsnWe_3G1",
    "outputId": "35e8b6b9-cb66-4ed5-ca9f-bf28d11f0851"
   },
   "outputs": [
    {
     "data": {
      "text/plain": [
       "4"
      ]
     },
     "execution_count": 79,
     "metadata": {},
     "output_type": "execute_result"
    }
   ],
   "source": [
    "#connect to the physical simulator\n",
    "import pybullet\n",
    "import pybullet_data\n",
    "datapath = pybullet_data.getDataPath()\n",
    "pybullet.connect(pybullet.DIRECT)"
   ]
  },
  {
   "cell_type": "markdown",
   "metadata": {
    "id": "YA_tJ-PRAAmn"
   },
   "source": [
    "PyBullet offers several robotics environments. \n",
    "\n",
    "The implementation of the Kuka robot arm can be found in https://github.com/bulletphysics/bullet3/blob/master/examples/pybullet/gym/pybullet_envs/bullet/kukaGymEnv.py.\n",
    "\n",
    "The implementation of the humanoid, ant ... can be found in https://github.com/bulletphysics/bullet3/blob/master/examples/pybullet/gym/pybullet_envs/gym_locomotion_envs.py. \n",
    "\n",
    "The implementation fo the reacher can be found in https://github.com/bulletphysics/bullet3/blob/master/examples/pybullet/gym/pybullet_envs/gym_manipulator_envs.py\n",
    "\n",
    "Documentation on the mujoco humanoid environment is : https://github.com/openai/gym/wiki/Humanoid-V1\n",
    "\n",
    "You can also find a documentation on PyBullet on https://usermanual.wiki/Document/PyBullet20Quickstart20Guide.543993445/html or https://docs.google.com/document/d/10sXEhzFRSnvFcl3XxNGhnD4N2SedqwdAvK3dsihxVUA/edit#heading=h.2ye70wns7io3, including the API functions to control the robot from page 18. \n"
   ]
  },
  {
   "cell_type": "markdown",
   "metadata": {
    "id": "g80ZUjq2AtlY"
   },
   "source": [
    "Below is an example code to run the Humanoid environment"
   ]
  },
  {
   "cell_type": "code",
   "execution_count": 80,
   "metadata": {
    "colab": {
     "base_uri": "https://localhost:8080/"
    },
    "executionInfo": {
     "elapsed": 40,
     "status": "ok",
     "timestamp": 1651132761832,
     "user": {
      "displayName": "A MOUSSAID",
      "userId": "06367063194189819360"
     },
     "user_tz": -120
    },
    "id": "JllIY0dhAyj8",
    "outputId": "3d9dfa77-3dbc-4ff9-bfc0-0136a2f8a87e"
   },
   "outputs": [
    {
     "name": "stdout",
     "output_type": "stream",
     "text": [
      "The action space is Box(-1.0, 1.0, (17,), float32)\n",
      "The dimension of the action space is 17\n",
      "The observation space is Box(-inf, inf, (44,), float32)\n",
      "obs  [ 5.99999964e-01  1.63450079e-06  1.00000000e+00  0.00000000e+00\n",
      "  0.00000000e+00  0.00000000e+00  0.00000000e+00 -0.00000000e+00\n",
      "  2.28841160e-03  0.00000000e+00  3.74641627e-01  0.00000000e+00\n",
      "  1.42730894e-02  0.00000000e+00  6.13931894e-01  0.00000000e+00\n",
      "  2.02969238e-01  0.00000000e+00  7.48445868e-01  0.00000000e+00\n",
      "  9.90669250e-01  0.00000000e+00  7.96555042e-01  0.00000000e+00\n",
      "  2.01130629e-01  0.00000000e+00  7.09955096e-01  0.00000000e+00\n",
      "  1.06856418e+00  0.00000000e+00  1.16157249e-01  0.00000000e+00\n",
      "  2.01716155e-01  0.00000000e+00  3.06338549e-01  0.00000000e+00\n",
      " -1.86082467e-01  0.00000000e+00 -1.23348236e-01  0.00000000e+00\n",
      "  2.90334880e-01  0.00000000e+00  0.00000000e+00  0.00000000e+00]\n",
      "obs  [ 5.99999964e-01  1.05050922e-05  1.00000000e+00  0.00000000e+00\n",
      "  0.00000000e+00  0.00000000e+00  0.00000000e+00 -0.00000000e+00\n",
      " -8.35679173e-02  0.00000000e+00  5.31189024e-01  0.00000000e+00\n",
      " -1.19602926e-01  0.00000000e+00  5.21525264e-01  0.00000000e+00\n",
      "  3.02307129e-01  0.00000000e+00  6.77061319e-01  0.00000000e+00\n",
      "  1.09488535e+00  0.00000000e+00  2.90079802e-01  0.00000000e+00\n",
      "  1.91372469e-01  0.00000000e+00  7.31606424e-01  0.00000000e+00\n",
      "  1.08446550e+00  0.00000000e+00  1.33432284e-01  0.00000000e+00\n",
      "  1.20166868e-01  0.00000000e+00  3.39452803e-01  0.00000000e+00\n",
      " -2.00095251e-01  0.00000000e+00 -1.45786360e-01  0.00000000e+00\n",
      "  2.78621912e-01  0.00000000e+00  0.00000000e+00  0.00000000e+00]\n",
      "obs  [ 5.99999964e-01  1.50907863e-05  1.00000000e+00  0.00000000e+00\n",
      "  0.00000000e+00  0.00000000e+00  0.00000000e+00 -0.00000000e+00\n",
      " -3.13266143e-02  0.00000000e+00  3.57133001e-01  0.00000000e+00\n",
      " -1.04780965e-01  0.00000000e+00  7.30173945e-01  0.00000000e+00\n",
      "  1.63003221e-01  0.00000000e+00  6.33771956e-01  0.00000000e+00\n",
      "  9.88630712e-01  0.00000000e+00  8.54785323e-01  0.00000000e+00\n",
      "  3.13357055e-01  0.00000000e+00  7.44920552e-01  0.00000000e+00\n",
      "  9.96396661e-01  0.00000000e+00  2.01439545e-01  0.00000000e+00\n",
      "  1.81340754e-01  0.00000000e+00  3.01353067e-01  0.00000000e+00\n",
      " -2.42995664e-01  0.00000000e+00 -9.91586894e-02  0.00000000e+00\n",
      "  2.36272171e-01  0.00000000e+00  0.00000000e+00  0.00000000e+00]\n"
     ]
    }
   ],
   "source": [
    "import gym\n",
    "import time\n",
    "import pybullet_envs\n",
    "\n",
    "#Below are a few examples of agents in pybullet\n",
    "env = gym.make(\"HumanoidBulletEnv-v0\")\n",
    "# env = gym.make(\"AntBulletEnv-v0\")\n",
    "# env = gym.make(\"HalfCheetahBulletEnv-v0\")\n",
    "# env = gym.make('ReacherBulletEnv-v0')\n",
    "\n",
    "# env = gym.make(\"KukaBulletEnv-v0\") #KUKA robot arm grasping environments\n",
    "#https://programmersought.com/article/69341201576/\n",
    "#The environment uses the KUKA liwa robotic arm with the goal of grabbing objects placed in the tray. When the robot arm grabs the target to a certain height, the system is rewarded. In order to optimize the entire crawling process, a small amount of reward is given based on the distance between the action, the gripper and the target. The observed value (ie, state) is represented by the coordinate value (x, y) of the target.\n",
    "#The observations in KukaCamBulletEnv-v0 are represented by camera pixel values, and the others are identical to the previous version (ie camera pixels).\n",
    "#https://colab.research.google.com/github/mahyaret/kuka_rl/blob/master/kuka_rl_2.ipynb\n",
    "#https://github.com/mahyaret/kuka_rl\n",
    "\n",
    "\n",
    "# env = gym.make(\"CartPoleBulletEnv-v0\")\n",
    "\n",
    "\n",
    "# Display information about the environment\n",
    "aspace = env.action_space\n",
    "ospace = env.observation_space\n",
    "print(\"The action space is {}\".format(aspace))\n",
    "print(\"The dimension of the action space is {}\".format(aspace.shape[0]))\n",
    "print(\"The observation space is {}\".format(ospace))\n",
    "#env.render(mode=\"human\")\n",
    "obs= env.reset()\n",
    "print(\"obs \",obs)\n",
    "obs= env.reset()\n",
    "print(\"obs \",obs)\n",
    "obs= env.reset()\n",
    "print(\"obs \",obs)\n",
    "images = []"
   ]
  },
  {
   "cell_type": "markdown",
   "metadata": {
    "id": "BkOWQg0HA9hE"
   },
   "source": [
    "To display a simulated episode."
   ]
  },
  {
   "cell_type": "code",
   "execution_count": 81,
   "metadata": {
    "colab": {
     "base_uri": "https://localhost:8080/",
     "height": 312
    },
    "executionInfo": {
     "elapsed": 7301,
     "status": "ok",
     "timestamp": 1651132769110,
     "user": {
      "displayName": "A MOUSSAID",
      "userId": "06367063194189819360"
     },
     "user_tz": -120
    },
    "id": "yn7gi5XHA-N-",
    "outputId": "07cae7a1-2910-4f06-b3d2-e99d5e4c874e"
   },
   "outputs": [
    {
     "name": "stdout",
     "output_type": "stream",
     "text": [
      "Requirement already satisfied: numpngw in /usr/local/lib/python3.7/dist-packages (0.1.0)\n",
      "Requirement already satisfied: numpy>=1.6.0 in /usr/local/lib/python3.7/dist-packages (from numpngw) (1.21.6)\n"
     ]
    },
    {
     "data": {
      "image/png": "[encoded data removed]",
      "text/plain": [
       "<IPython.core.display.Image object>"
      ]
     },
     "execution_count": 81,
     "metadata": {},
     "output_type": "execute_result"
    }
   ],
   "source": [
    "#run an episode of 20 steps\n",
    "#while True:\n",
    "for i in range(20):\n",
    "    #env.render(mode=\"human\")\n",
    "    time.sleep(0.01)\n",
    "    action = env.action_space.sample()\n",
    "    # print(\"action: {}\".format(action))\n",
    "    observation, _, done, info = env.step(action)\n",
    "    img = env.render(mode='rgb_array')\n",
    "    images.append(img)\n",
    "    \n",
    "    \n",
    "#display the video\n",
    "from IPython.display import Image\n",
    "!pip3 install numpngw\n",
    "from numpngw import write_apng\n",
    "\n",
    "#imageio.mimsave('a2c.gif', [np.array(img) for i, img in enumerate(images) if i%2 == 0], fps=29)\n",
    "write_apng('anim.png', images, delay=20)\n",
    "Image(filename='anim.png')"
   ]
  },
  {
   "cell_type": "markdown",
   "metadata": {
    "id": "BvDtlvQjBp1r"
   },
   "source": [
    "TODO : Train your agent with an algorithm of your choice. You can implement yourself the algorithm or use stable_baselines library. Report the performance of your agent by plotting the reward with respect to the training steps."
   ]
  },
  {
   "cell_type": "code",
   "execution_count": 82,
   "metadata": {
    "executionInfo": {
     "elapsed": 30,
     "status": "ok",
     "timestamp": 1651132769112,
     "user": {
      "displayName": "A MOUSSAID",
      "userId": "06367063194189819360"
     },
     "user_tz": -120
    },
    "id": "eWnY4JSMB_et"
   },
   "outputs": [],
   "source": [
    "#TODO : Train your agent with an algorithm of your choice and report the performance"
   ]
  },
  {
   "cell_type": "markdown",
   "metadata": {
    "id": "JL91Svt7B5o3"
   },
   "source": [
    "# Use the trained agent as a new expert\n",
    "\n",
    "TODO : use the previously trained agent to constitute an expert dataset"
   ]
  },
  {
   "cell_type": "code",
   "execution_count": 83,
   "metadata": {
    "executionInfo": {
     "elapsed": 30,
     "status": "ok",
     "timestamp": 1651132769114,
     "user": {
      "displayName": "A MOUSSAID",
      "userId": "06367063194189819360"
     },
     "user_tz": -120
    },
    "id": "93DDiTCACgWQ"
   },
   "outputs": [],
   "source": [
    "#TODO : obtain a demonstration dataset from the previously trained agent"
   ]
  },
  {
   "cell_type": "markdown",
   "metadata": {
    "id": "sZR_FXswCvpk"
   },
   "source": [
    "# IMITATION LEARNING from the new expert\n",
    "\n",
    "TODO: implement an imitation learning of your choice for the same agent and environment. You can implement yourself the algorithm or use stable_baselines library. Using the new demonstration dataset, report the performance of your agent. Compare this performance to the performance of the new expert."
   ]
  },
  {
   "cell_type": "code",
   "execution_count": 84,
   "metadata": {
    "executionInfo": {
     "elapsed": 29,
     "status": "ok",
     "timestamp": 1651132769115,
     "user": {
      "displayName": "A MOUSSAID",
      "userId": "06367063194189819360"
     },
     "user_tz": -120
    },
    "id": "pnRgKq8CDbBl"
   },
   "outputs": [],
   "source": [
    "#TODO: implement an imitation learning of your choice for the same agent and environment. \n",
    "#TODO: Using the new demonstration dataset, report the performance of your agent."
   ]
  }
 ],
 "metadata": {
  "accelerator": "GPU",
  "colab": {
   "collapsed_sections": [],
   "name": "Imitation_Learning_Project_Abdelkarim_MOUSSAID_Sami_ALLANI.ipynb",
   "provenance": []
  },
  "kernelspec": {
   "display_name": "Python 3 (ipykernel)",
   "language": "python",
   "name": "python3"
  },
  "language_info": {
   "codemirror_mode": {
    "name": "ipython",
    "version": 3
   },
   "file_extension": ".py",
   "mimetype": "text/x-python",
   "name": "python",
   "nbconvert_exporter": "python",
   "pygments_lexer": "ipython3",
   "version": "3.11.3"
  },
  "widgets": {
   "application/vnd.jupyter.widget-state+json": {
    "050171eef9f24c7884fba40fbd630c6d": {
     "model_module": "@jupyter-widgets/controls",
     "model_module_version": "1.5.0",
     "model_name": "HTMLModel",
     "state": {
      "_dom_classes": [],
      "_model_module": "@jupyter-widgets/controls",
      "_model_module_version": "1.5.0",
      "_model_name": "HTMLModel",
      "_view_count": null,
      "_view_module": "@jupyter-widgets/controls",
      "_view_module_version": "1.5.0",
      "_view_name": "HTMLView",
      "description": "",
      "description_tooltip": null,
      "layout": "IPY_MODEL_e83855ebebe8481d98ddd532d1bf7738",
      "placeholder": "​",
      "style": "IPY_MODEL_133710661e514a21a6707bba3d242270",
      "value": "BC epoch: 100%"
     }
    },
    "0edacebcd2a64511bc2b44e8b2a0bb77": {
     "model_module": "@jupyter-widgets/controls",
     "model_module_version": "1.5.0",
     "model_name": "ProgressStyleModel",
     "state": {
      "_model_module": "@jupyter-widgets/controls",
      "_model_module_version": "1.5.0",
      "_model_name": "ProgressStyleModel",
      "_view_count": null,
      "_view_module": "@jupyter-widgets/base",
      "_view_module_version": "1.2.0",
      "_view_name": "StyleView",
      "bar_color": null,
      "description_width": ""
     }
    },
    "133710661e514a21a6707bba3d242270": {
     "model_module": "@jupyter-widgets/controls",
     "model_module_version": "1.5.0",
     "model_name": "DescriptionStyleModel",
     "state": {
      "_model_module": "@jupyter-widgets/controls",
      "_model_module_version": "1.5.0",
      "_model_name": "DescriptionStyleModel",
      "_view_count": null,
      "_view_module": "@jupyter-widgets/base",
      "_view_module_version": "1.2.0",
      "_view_name": "StyleView",
      "description_width": ""
     }
    },
    "ab68a496f4a944a992f1675f54163a4d": {
     "model_module": "@jupyter-widgets/base",
     "model_module_version": "1.2.0",
     "model_name": "LayoutModel",
     "state": {
      "_model_module": "@jupyter-widgets/base",
      "_model_module_version": "1.2.0",
      "_model_name": "LayoutModel",
      "_view_count": null,
      "_view_module": "@jupyter-widgets/base",
      "_view_module_version": "1.2.0",
      "_view_name": "LayoutView",
      "align_content": null,
      "align_items": null,
      "align_self": null,
      "border": null,
      "bottom": null,
      "display": null,
      "flex": null,
      "flex_flow": null,
      "grid_area": null,
      "grid_auto_columns": null,
      "grid_auto_flow": null,
      "grid_auto_rows": null,
      "grid_column": null,
      "grid_gap": null,
      "grid_row": null,
      "grid_template_areas": null,
      "grid_template_columns": null,
      "grid_template_rows": null,
      "height": null,
      "justify_content": null,
      "justify_items": null,
      "left": null,
      "margin": null,
      "max_height": null,
      "max_width": null,
      "min_height": null,
      "min_width": null,
      "object_fit": null,
      "object_position": null,
      "order": null,
      "overflow": null,
      "overflow_x": null,
      "overflow_y": null,
      "padding": null,
      "right": null,
      "top": null,
      "visibility": null,
      "width": null
     }
    },
    "be9c29e40d2242f3902d0d5c17bc8737": {
     "model_module": "@jupyter-widgets/controls",
     "model_module_version": "1.5.0",
     "model_name": "HBoxModel",
     "state": {
      "_dom_classes": [],
      "_model_module": "@jupyter-widgets/controls",
      "_model_module_version": "1.5.0",
      "_model_name": "HBoxModel",
      "_view_count": null,
      "_view_module": "@jupyter-widgets/controls",
      "_view_module_version": "1.5.0",
      "_view_name": "HBoxView",
      "box_style": "",
      "children": [
       "IPY_MODEL_050171eef9f24c7884fba40fbd630c6d",
       "IPY_MODEL_ffc288d84fc240fc8d9f8eb9370a6c4e",
       "IPY_MODEL_e027351438ee49bf86288a6950b7c12c"
      ],
      "layout": "IPY_MODEL_d65a28a3f4e44f81919d44aeed3991b7"
     }
    },
    "c9bee6b45ab34c149bbbf7fbfc3a4adf": {
     "model_module": "@jupyter-widgets/controls",
     "model_module_version": "1.5.0",
     "model_name": "DescriptionStyleModel",
     "state": {
      "_model_module": "@jupyter-widgets/controls",
      "_model_module_version": "1.5.0",
      "_model_name": "DescriptionStyleModel",
      "_view_count": null,
      "_view_module": "@jupyter-widgets/base",
      "_view_module_version": "1.2.0",
      "_view_name": "StyleView",
      "description_width": ""
     }
    },
    "d65a28a3f4e44f81919d44aeed3991b7": {
     "model_module": "@jupyter-widgets/base",
     "model_module_version": "1.2.0",
     "model_name": "LayoutModel",
     "state": {
      "_model_module": "@jupyter-widgets/base",
      "_model_module_version": "1.2.0",
      "_model_name": "LayoutModel",
      "_view_count": null,
      "_view_module": "@jupyter-widgets/base",
      "_view_module_version": "1.2.0",
      "_view_name": "LayoutView",
      "align_content": null,
      "align_items": null,
      "align_self": null,
      "border": null,
      "bottom": null,
      "display": null,
      "flex": null,
      "flex_flow": null,
      "grid_area": null,
      "grid_auto_columns": null,
      "grid_auto_flow": null,
      "grid_auto_rows": null,
      "grid_column": null,
      "grid_gap": null,
      "grid_row": null,
      "grid_template_areas": null,
      "grid_template_columns": null,
      "grid_template_rows": null,
      "height": null,
      "justify_content": null,
      "justify_items": null,
      "left": null,
      "margin": null,
      "max_height": null,
      "max_width": null,
      "min_height": null,
      "min_width": null,
      "object_fit": null,
      "object_position": null,
      "order": null,
      "overflow": null,
      "overflow_x": null,
      "overflow_y": null,
      "padding": null,
      "right": null,
      "top": null,
      "visibility": null,
      "width": null
     }
    },
    "d8e5effb1c8046f3be718d300778a4a1": {
     "model_module": "@jupyter-widgets/base",
     "model_module_version": "1.2.0",
     "model_name": "LayoutModel",
     "state": {
      "_model_module": "@jupyter-widgets/base",
      "_model_module_version": "1.2.0",
      "_model_name": "LayoutModel",
      "_view_count": null,
      "_view_module": "@jupyter-widgets/base",
      "_view_module_version": "1.2.0",
      "_view_name": "LayoutView",
      "align_content": null,
      "align_items": null,
      "align_self": null,
      "border": null,
      "bottom": null,
      "display": null,
      "flex": null,
      "flex_flow": null,
      "grid_area": null,
      "grid_auto_columns": null,
      "grid_auto_flow": null,
      "grid_auto_rows": null,
      "grid_column": null,
      "grid_gap": null,
      "grid_row": null,
      "grid_template_areas": null,
      "grid_template_columns": null,
      "grid_template_rows": null,
      "height": null,
      "justify_content": null,
      "justify_items": null,
      "left": null,
      "margin": null,
      "max_height": null,
      "max_width": null,
      "min_height": null,
      "min_width": null,
      "object_fit": null,
      "object_position": null,
      "order": null,
      "overflow": null,
      "overflow_x": null,
      "overflow_y": null,
      "padding": null,
      "right": null,
      "top": null,
      "visibility": null,
      "width": null
     }
    },
    "e027351438ee49bf86288a6950b7c12c": {
     "model_module": "@jupyter-widgets/controls",
     "model_module_version": "1.5.0",
     "model_name": "HTMLModel",
     "state": {
      "_dom_classes": [],
      "_model_module": "@jupyter-widgets/controls",
      "_model_module_version": "1.5.0",
      "_model_name": "HTMLModel",
      "_view_count": null,
      "_view_module": "@jupyter-widgets/controls",
      "_view_module_version": "1.5.0",
      "_view_name": "HTMLView",
      "description": "",
      "description_tooltip": null,
      "layout": "IPY_MODEL_ab68a496f4a944a992f1675f54163a4d",
      "placeholder": "​",
      "style": "IPY_MODEL_c9bee6b45ab34c149bbbf7fbfc3a4adf",
      "value": " 1/1 [00:05&lt;00:00,  5.66s/it]"
     }
    },
    "e83855ebebe8481d98ddd532d1bf7738": {
     "model_module": "@jupyter-widgets/base",
     "model_module_version": "1.2.0",
     "model_name": "LayoutModel",
     "state": {
      "_model_module": "@jupyter-widgets/base",
      "_model_module_version": "1.2.0",
      "_model_name": "LayoutModel",
      "_view_count": null,
      "_view_module": "@jupyter-widgets/base",
      "_view_module_version": "1.2.0",
      "_view_name": "LayoutView",
      "align_content": null,
      "align_items": null,
      "align_self": null,
      "border": null,
      "bottom": null,
      "display": null,
      "flex": null,
      "flex_flow": null,
      "grid_area": null,
      "grid_auto_columns": null,
      "grid_auto_flow": null,
      "grid_auto_rows": null,
      "grid_column": null,
      "grid_gap": null,
      "grid_row": null,
      "grid_template_areas": null,
      "grid_template_columns": null,
      "grid_template_rows": null,
      "height": null,
      "justify_content": null,
      "justify_items": null,
      "left": null,
      "margin": null,
      "max_height": null,
      "max_width": null,
      "min_height": null,
      "min_width": null,
      "object_fit": null,
      "object_position": null,
      "order": null,
      "overflow": null,
      "overflow_x": null,
      "overflow_y": null,
      "padding": null,
      "right": null,
      "top": null,
      "visibility": null,
      "width": null
     }
    },
    "ffc288d84fc240fc8d9f8eb9370a6c4e": {
     "model_module": "@jupyter-widgets/controls",
     "model_module_version": "1.5.0",
     "model_name": "FloatProgressModel",
     "state": {
      "_dom_classes": [],
      "_model_module": "@jupyter-widgets/controls",
      "_model_module_version": "1.5.0",
      "_model_name": "FloatProgressModel",
      "_view_count": null,
      "_view_module": "@jupyter-widgets/controls",
      "_view_module_version": "1.5.0",
      "_view_name": "ProgressView",
      "bar_style": "success",
      "description": "",
      "description_tooltip": null,
      "layout": "IPY_MODEL_d8e5effb1c8046f3be718d300778a4a1",
      "max": 1,
      "min": 0,
      "orientation": "horizontal",
      "style": "IPY_MODEL_0edacebcd2a64511bc2b44e8b2a0bb77",
      "value": 1
     }
    }
   }
  }
 },
 "nbformat": 4,
 "nbformat_minor": 1
}
