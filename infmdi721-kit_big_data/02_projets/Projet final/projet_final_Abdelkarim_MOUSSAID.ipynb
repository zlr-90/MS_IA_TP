{
 "cells": [
  {
   "cell_type": "code",
   "execution_count": null,
   "id": "e38f8310-f175-4194-9640-654daffb4486",
   "metadata": {},
   "outputs": [],
   "source": [
    "import pandas as pd\n",
    "import requests\n",
    "import re\n",
    "import os\n",
    "from datetime import datetime, timedelta, date\n",
    "import glob\n",
    "\n",
    "URL_GENERIC_PART = 'https://www.vendeeglobe.org/download-race-data/vendeeglobe_'\n",
    "START_DATE_HOUR = datetime(2020, 11, 8, 12, 0,0)\n",
    "END_DATE_HOUR = datetime(2021, 3, 5, 9, 0, 0)"
   ]
  },
  {
   "cell_type": "markdown",
   "id": "d6f627c6-c2c1-4589-bff8-9b9966182047",
   "metadata": {},
   "source": [
    "### Téléchargement des classements"
   ]
  },
  {
   "cell_type": "code",
   "execution_count": null,
   "id": "c16b58ff-2e78-4089-a4f2-a960e33dadc6",
   "metadata": {},
   "outputs": [],
   "source": [
    "def daterange(start_date, end_date):\n",
    "    delta = timedelta(hours=1)\n",
    "    while start_date < end_date:\n",
    "        yield start_date\n",
    "        start_date += delta\n",
    "\n",
    "def generate_urls(url, start_date, end_date):\n",
    "    urls = []\n",
    "    for single_date in daterange(start_date, end_date):\n",
    "        urls.append(url+re.sub(r\"(\\:|\\-|)\", '', str(single_date.strftime(\"%Y-%m-%d %H:%M:%S\")).replace(' ','_'))+'.xlsx')\n",
    "    return urls"
   ]
  },
  {
   "cell_type": "code",
   "execution_count": null,
   "id": "f2590ee6-2078-4f1e-bd70-51ffc6dbe772",
   "metadata": {},
   "outputs": [],
   "source": [
    "def download_from_url(url):\n",
    "    resp = requests.get(url)\n",
    "    if resp.status_code == 200 :\n",
    "        with open(url[-32:], 'wb') as output:\n",
    "            output.write(resp.content)\n",
    "\n",
    "def download_all_files(url, start_date, end_date,):\n",
    "    urls = generate_urls(URL_GENERIC_PART, START_DATE_HOUR, END_DATE_HOUR)\n",
    "    for url in urls:\n",
    "        if os.path.isfile(url[-32:]) is False:\n",
    "            download_from_url(url)\n",
    "\n",
    "download_all_files(URL_GENERIC_PART, START_DATE_HOUR, END_DATE_HOUR)"
   ]
  },
  {
   "cell_type": "code",
   "execution_count": null,
   "id": "a44410fc-37fa-40b8-a34c-30333bba6f26",
   "metadata": {},
   "outputs": [],
   "source": [
    "import tempfile\n",
    "from zipfile import ZipFile\n",
    "import shutil\n",
    "import os\n",
    "from fnmatch import fnmatch\n",
    "import re\n",
    "\n",
    "def change_in_zip(file_name, name_filter, change):\n",
    "    tempdir = tempfile.mkdtemp()\n",
    "    try:\n",
    "        tempname = os.path.join(tempdir, 'new.zip')\n",
    "        with ZipFile(file_name, 'r') as r, ZipFile(tempname, 'w') as w:\n",
    "            for item in r.infolist():\n",
    "                data = r.read(item.filename)           \n",
    "                data = change(data)\n",
    "                w.writestr(item, data)\n",
    "        shutil.move(tempname, file_name)\n",
    "    finally:\n",
    "        shutil.rmtree(tempdir)"
   ]
  },
  {
   "cell_type": "code",
   "execution_count": null,
   "id": "6bdf9de7-97c3-4e83-9fae-f005d3c952d4",
   "metadata": {},
   "outputs": [],
   "source": [
    "#xls = pandas.read_excel(r'vendeeglobe_20210305_080000.xlsx', engine='openpyxl')\n",
    "#xls\n",
    "\n",
    "df = pd.DataFrame()\n",
    "files = glob.glob('*.xlsx')\n",
    "files.sort()\n",
    "for filename in files:\n",
    "    change_in_zip(filename, name_filter='xl/styles.xml',change=lambda d: re.sub(b'xxid=\"\\d*\"', b\"\", d)) \n",
    "    xlsx = pd.read_excel(filename, engine='openpyxl')\n",
    "    df = df.append(xlsx)\n",
    "    \n",
    "df.head(1000)"
   ]
  },
  {
   "cell_type": "code",
   "execution_count": null,
   "id": "6f94383e-f9c3-450a-bbd4-a7661781af78",
   "metadata": {},
   "outputs": [],
   "source": [
    "pd.set_option('display.max_rows', None)\n",
    "df"
   ]
  }
 ],
 "metadata": {
  "kernelspec": {
   "display_name": "Python 3 (ipykernel)",
   "language": "python",
   "name": "python3"
  },
  "language_info": {
   "codemirror_mode": {
    "name": "ipython",
    "version": 3
   },
   "file_extension": ".py",
   "mimetype": "text/x-python",
   "name": "python",
   "nbconvert_exporter": "python",
   "pygments_lexer": "ipython3",
   "version": "3.8.11"
  }
 },
 "nbformat": 4,
 "nbformat_minor": 5
}
