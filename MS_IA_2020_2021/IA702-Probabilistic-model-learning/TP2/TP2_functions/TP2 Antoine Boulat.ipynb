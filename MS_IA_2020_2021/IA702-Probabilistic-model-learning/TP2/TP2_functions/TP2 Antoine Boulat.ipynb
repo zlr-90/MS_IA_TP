{
 "cells": [
  {
   "cell_type": "markdown",
   "metadata": {},
   "source": [
    "# TP 2 Introduction aux modèles génératifs\n"
   ]
  },
  {
   "cell_type": "markdown",
   "metadata": {},
   "source": [
    "### 1 Exercice 1 : Classification de texte avec un modèle Naive Bayes"
   ]
  },
  {
   "cell_type": "code",
   "execution_count": 1,
   "metadata": {},
   "outputs": [],
   "source": [
    "import numpy as np\n",
    "import math as m\n",
    "import warnings\n",
    "warnings.filterwarnings('ignore')\n",
    "import matplotlib.pyplot as plt"
   ]
  },
  {
   "cell_type": "markdown",
   "metadata": {},
   "source": [
    "#### 1.1 Les données"
   ]
  },
  {
   "cell_type": "code",
   "execution_count": 2,
   "metadata": {},
   "outputs": [],
   "source": [
    "from load_ag_news import load_ag_news\n",
    "path = \"C:/Users/antoi/Documents/Telecom Paris/Cours/IA702 Probabilistic model/TP2/TP2_functions/\"\n",
    "train_set, test_set = load_ag_news(path)"
   ]
  },
  {
   "cell_type": "code",
   "execution_count": 3,
   "metadata": {},
   "outputs": [],
   "source": [
    "train_set = np.array(train_set)\n",
    "test_set = np.array(test_set)"
   ]
  },
  {
   "cell_type": "markdown",
   "metadata": {},
   "source": [
    "#### 1.2 Développer un Naive Bayes !"
   ]
  },
  {
   "cell_type": "code",
   "execution_count": 4,
   "metadata": {},
   "outputs": [],
   "source": [
    "def esti_para(train_set):\n",
    "    unique, counts = np.unique(train_set[:, 0], return_counts=True)\n",
    "    classes = unique\n",
    "    B = []\n",
    "    for u in unique:\n",
    "        B.append((u, {}))\n",
    "    \n",
    "    pi = counts/len(train_set[:, 0])\n",
    "    \n",
    "    number0 = 0\n",
    "    number1 = 0\n",
    "    number2 = 0\n",
    "    number3 = 0\n",
    "    for t in train_set :\n",
    "        if t[0] == B[0][0]:\n",
    "            for i in t[1]:\n",
    "                number0 += 1\n",
    "        if t[0] == B[1][0]:\n",
    "            for i in t[1]:\n",
    "                number1 += 1\n",
    "        if t[0] == B[2][0]:\n",
    "            for i in t[1]:\n",
    "                number2 += 1\n",
    "        if t[0] == B[3][0]:\n",
    "            for i in t[1]:\n",
    "                number3 += 1\n",
    "\n",
    "    for t in train_set :\n",
    "        if t[0] == B[0][0]:\n",
    "            for i in t[1]:\n",
    "                if i in B[0][1]:\n",
    "                    B[0][1][i] += 1/number0\n",
    "                else :\n",
    "                    B[0][1][i] = 1/number0\n",
    "        if t[0] == B[1][0]:\n",
    "            for i in t[1]:\n",
    "                if i in B[1][1]:\n",
    "                    B[1][1][i] += 1/number1\n",
    "                else :\n",
    "                    B[1][1][i] = 1/number1\n",
    "        if t[0] == B[2][0]:\n",
    "            for i in t[1]:\n",
    "                if i in B[2][1]:\n",
    "                    B[2][1][i] += 1/number2\n",
    "                else :\n",
    "                    B[2][1][i] = 1/number2\n",
    "        if t[0] == B[3][0]:\n",
    "            for i in t[1]:\n",
    "                if i in B[3][1]:\n",
    "                    B[3][1][i] += 1/number3\n",
    "                else :\n",
    "                    B[3][1][i] = 1/number3\n",
    "    return classes, pi, B"
   ]
  },
  {
   "cell_type": "code",
   "execution_count": 5,
   "metadata": {},
   "outputs": [],
   "source": [
    "classes, pi, B = esti_para(train_set)"
   ]
  },
  {
   "cell_type": "code",
   "execution_count": 6,
   "metadata": {},
   "outputs": [
    {
     "name": "stdout",
     "output_type": "stream",
     "text": [
      "[0 1 2 3]\n"
     ]
    }
   ],
   "source": [
    "print(classes)"
   ]
  },
  {
   "cell_type": "code",
   "execution_count": 7,
   "metadata": {},
   "outputs": [
    {
     "name": "stdout",
     "output_type": "stream",
     "text": [
      "[0.25 0.25 0.25 0.25]\n"
     ]
    }
   ],
   "source": [
    "print(pi)"
   ]
  },
  {
   "cell_type": "code",
   "execution_count": 8,
   "metadata": {},
   "outputs": [
    {
     "name": "stdout",
     "output_type": "stream",
     "text": [
      "0.00020850882196292995\n",
      "0.00018036294574312625\n",
      "0.00014763636417864572\n",
      "0.00011897389590699329\n"
     ]
    }
   ],
   "source": [
    "print(B[0][1]['London'])\n",
    "print(B[1][1]['London'])\n",
    "print(B[2][1]['London'])\n",
    "print(B[3][1]['London'])"
   ]
  },
  {
   "cell_type": "code",
   "execution_count": 9,
   "metadata": {},
   "outputs": [],
   "source": [
    "def naive_bayes(phrase, epsi, classes, pi, B):\n",
    "    bayes_coeff = []\n",
    "    for c in classes :\n",
    "        coeff = pi[c]\n",
    "        for mot in phrase :\n",
    "            if mot in B[c][1]:\n",
    "                coeff = coeff * (B[c][1][mot] + epsi)\n",
    "            else :\n",
    "                coeff = coeff * epsi    \n",
    "        bayes_coeff.append(coeff)\n",
    "    bayes_coeff = bayes_coeff / sum(bayes_coeff)\n",
    "    return bayes_coeff"
   ]
  },
  {
   "cell_type": "code",
   "execution_count": 10,
   "metadata": {},
   "outputs": [],
   "source": [
    "phrase_test = naive_bayes([\"Arsenal\", \"is\", \"a\", \"londonian\", \"team\", \".\"], 0.00001, classes, pi, B)"
   ]
  },
  {
   "cell_type": "code",
   "execution_count": 11,
   "metadata": {},
   "outputs": [
    {
     "data": {
      "text/plain": [
       "array([2.82781708e-03, 9.92498973e-01, 7.44819529e-04, 3.92839080e-03])"
      ]
     },
     "execution_count": 11,
     "metadata": {},
     "output_type": "execute_result"
    }
   ],
   "source": [
    "phrase_test"
   ]
  },
  {
   "cell_type": "code",
   "execution_count": 12,
   "metadata": {},
   "outputs": [],
   "source": [
    "def naive_bayes_log(phrase, epsi, classes, pi, B):\n",
    "    bayes_coeff = []\n",
    "    for c in classes :\n",
    "        coeff = m.log(pi[c])\n",
    "        for mot in phrase :\n",
    "            if mot in B[c][1]:\n",
    "                coeff = coeff  + m.log( (B[c][1][mot] + epsi))\n",
    "            else :\n",
    "                coeff = coeff + m.log( epsi)    \n",
    "        bayes_coeff.append(coeff)\n",
    "    return bayes_coeff"
   ]
  },
  {
   "cell_type": "code",
   "execution_count": 13,
   "metadata": {},
   "outputs": [],
   "source": [
    "def test_my_bayes(test_set, epsi, classes, pi, B):\n",
    "    classif = []\n",
    "    for test in test_set :\n",
    "        proba = naive_bayes_log(test[1], epsi, classes, pi, B)\n",
    "        index_max = np.argmax(proba)\n",
    "        if index_max == test[0]:\n",
    "            classif.append(1)\n",
    "        else : \n",
    "            classif.append(0)\n",
    "    error = sum(classif)/len(classif)\n",
    "    return error"
   ]
  },
  {
   "cell_type": "code",
   "execution_count": 14,
   "metadata": {},
   "outputs": [
    {
     "data": {
      "text/plain": [
       "0.9010526315789473"
      ]
     },
     "execution_count": 14,
     "metadata": {},
     "output_type": "execute_result"
    }
   ],
   "source": [
    "test_my_bayes(test_set, 10**(-10), classes, pi, B)"
   ]
  },
  {
   "cell_type": "code",
   "execution_count": 15,
   "metadata": {},
   "outputs": [
    {
     "data": {
      "text/plain": [
       "0.8940789473684211"
      ]
     },
     "execution_count": 15,
     "metadata": {},
     "output_type": "execute_result"
    }
   ],
   "source": [
    "test_my_bayes(test_set, 10**(-5), classes, pi, B)"
   ]
  },
  {
   "cell_type": "code",
   "execution_count": 16,
   "metadata": {},
   "outputs": [
    {
     "data": {
      "text/plain": [
       "0.4909210526315789"
      ]
     },
     "execution_count": 16,
     "metadata": {},
     "output_type": "execute_result"
    }
   ],
   "source": [
    "test_my_bayes(test_set, 1, classes, pi, B)"
   ]
  },
  {
   "cell_type": "markdown",
   "metadata": {},
   "source": [
    "### Exercice 2 : Étiquetage morpho-syntaxique avec une chaîne de Markov cachée"
   ]
  },
  {
   "cell_type": "markdown",
   "metadata": {},
   "source": [
    "#### 2.1 Introduction"
   ]
  },
  {
   "cell_type": "code",
   "execution_count": 17,
   "metadata": {},
   "outputs": [],
   "source": [
    "from load_conll2000 import load_conll2000\n",
    "\n",
    "path = \"C:/Users/antoi/Documents/Telecom Paris/Cours/IA702 Probabilistic model/TP2/TP2_functions/\"\n",
    "train_set, test_set = load_conll2000(path)"
   ]
  },
  {
   "cell_type": "markdown",
   "metadata": {},
   "source": [
    "#### 2.2 Développer une chaîne de Markov cachée !"
   ]
  },
  {
   "cell_type": "code",
   "execution_count": 18,
   "metadata": {},
   "outputs": [],
   "source": [
    "def esti_para_markov(train_set):\n",
    "    classes = []\n",
    "    words = []\n",
    "    number = 0\n",
    "    for t in train_set: \n",
    "        for i in t :\n",
    "            number += 1\n",
    "            if not(i[0] in classes):\n",
    "                classes.append(i[0])\n",
    "            if not(i[1] in words):\n",
    "                words.append(i[1])\n",
    "    \n",
    "    b = {}\n",
    "    l=np.zeros(len(words))\n",
    "    for c in classes :\n",
    "        b[c] = np.copy(l)\n",
    "    pi = {}\n",
    "    for t in train_set: \n",
    "        for i in t :\n",
    "            if i[0] in pi :\n",
    "                pi[i[0]] += 1/number\n",
    "            else :\n",
    "                pi[i[0]] = 1/number\n",
    "            b[i[0]][words.index(i[1])] += 1\n",
    "    for clas in b.keys():\n",
    "        somme = np.sum(b[clas])\n",
    "        b[clas] = b[clas] / somme\n",
    "                \n",
    "    a = {}\n",
    "    k=np.zeros(len(classes))\n",
    "    for c in classes :\n",
    "        a[c] = np.copy(k)\n",
    "    j=0\n",
    "    for t in train_set:\n",
    "        prev = 0\n",
    "        for i in t :\n",
    "            j+=1\n",
    "            if prev != 0:\n",
    "                a[prev][classes.index(i[0])] += 1\n",
    "            prev = i[0]\n",
    "    for clas in a.keys():\n",
    "        somme = np.sum(a[clas])\n",
    "        a[clas] = a[clas] / somme\n",
    "        \n",
    "    \n",
    "    return classes, words, pi, a , b"
   ]
  },
  {
   "cell_type": "code",
   "execution_count": 19,
   "metadata": {},
   "outputs": [],
   "source": [
    "classes, words, pi, a , b = esti_para_markov(train_set)"
   ]
  },
  {
   "cell_type": "code",
   "execution_count": 20,
   "metadata": {},
   "outputs": [
    {
     "data": {
      "text/plain": [
       "0.06759648037330576"
      ]
     },
     "execution_count": 20,
     "metadata": {},
     "output_type": "execute_result"
    }
   ],
   "source": [
    "pi['ADJ']"
   ]
  },
  {
   "cell_type": "code",
   "execution_count": 21,
   "metadata": {},
   "outputs": [
    {
     "data": {
      "text/plain": [
       "0.34821321140656963"
      ]
     },
     "execution_count": 21,
     "metadata": {},
     "output_type": "execute_result"
    }
   ],
   "source": [
    "a['NUM'][classes.index('NOUN')]"
   ]
  },
  {
   "cell_type": "code",
   "execution_count": 22,
   "metadata": {},
   "outputs": [
    {
     "data": {
      "text/plain": [
       "0.1951630369389965"
      ]
     },
     "execution_count": 22,
     "metadata": {},
     "output_type": "execute_result"
    }
   ],
   "source": [
    "a['NUM'][classes.index('PUNCT')]"
   ]
  },
  {
   "cell_type": "code",
   "execution_count": 23,
   "metadata": {},
   "outputs": [
    {
     "data": {
      "text/plain": [
       "0.36019485612847296"
      ]
     },
     "execution_count": 23,
     "metadata": {},
     "output_type": "execute_result"
    }
   ],
   "source": [
    "b[\"PUNCT\"][words.index(\".\")]"
   ]
  },
  {
   "cell_type": "code",
   "execution_count": 24,
   "metadata": {},
   "outputs": [],
   "source": [
    "def forward_backward(phrase, epsi, classes, words, pi, a, b):\n",
    "    alpha = [[]]\n",
    "    i = 0\n",
    "    for mot in phrase:\n",
    "        if i == 0:\n",
    "            for c in classes:\n",
    "                try:\n",
    "                    alpha[0].append(pi[c] * (b[c][words.index(mot)] + epsi))\n",
    "                except:\n",
    "                    alpha[0].append(pi[c] * epsi)\n",
    "        else : \n",
    "            alpha.append([])\n",
    "            j = 0\n",
    "            for c in classes:\n",
    "                coeff = 0\n",
    "                k=0\n",
    "                for c_bis in classes:\n",
    "                    coeff += alpha[i-1][k]*a[c_bis][classes.index(c)]\n",
    "                    k+=1\n",
    "                try:\n",
    "                    alpha[i].append((b[c][words.index(mot)] + epsi)* coeff )\n",
    "                except:\n",
    "                    alpha[i].append(epsi* coeff)\n",
    "        prev_word = mot\n",
    "        i += 1\n",
    "\n",
    "    phrase_copy_reverse = phrase.copy()\n",
    "    phrase_copy_reverse.reverse()\n",
    "    beta = [[]]\n",
    "    for iteration in range(len(classes)):\n",
    "        beta[0].append(1)\n",
    "    i=1\n",
    "    for mot in phrase_copy_reverse:\n",
    "        beta.append([])\n",
    "        j = 0\n",
    "        for c in classes:\n",
    "            coeff = 0\n",
    "            k=0\n",
    "            for c_bis in classes:\n",
    "                try:\n",
    "                    coeff += beta[i-1][k]*a[c][classes.index(c_bis)]*(b[c_bis][words.index(prev_word)] + epsi)\n",
    "                except:\n",
    "                    coeff += beta[i-1][k]*a[c][classes.index(c_bis)]*(epsi)\n",
    "                k+=1\n",
    "                #beta[i].append((b[c][words.index(mot)] + epsi) * coeff )\n",
    "            beta[i].append(coeff)\n",
    "        prev_word = mot\n",
    "        i += 1\n",
    "        if i == len(phrase_copy_reverse):\n",
    "            break\n",
    "    beta.reverse()\n",
    "    \n",
    "    alpha = np.array(alpha)\n",
    "    beta = np.array(beta)\n",
    "    predict = []\n",
    "    for itera in range(len(phrase)):\n",
    "        index = np.argmax(alpha[itera] * beta[itera])\n",
    "        predict.append(classes[index])\n",
    "    \n",
    "    return predict"
   ]
  },
  {
   "cell_type": "code",
   "execution_count": 25,
   "metadata": {},
   "outputs": [
    {
     "data": {
      "text/plain": [
       "['PRON', 'VERB', 'DET', 'NOUN', 'ADP', 'DET', 'ADJ', 'NOUN', 'PUNCT']"
      ]
     },
     "execution_count": 25,
     "metadata": {},
     "output_type": "execute_result"
    }
   ],
   "source": [
    "predict= forward_backward([\"I\", \"am\", \"a\", \"student\", \"in\", \"a\", \"French\",\"school\", \".\"],10**(-5), classes, words, pi, a, b)\n",
    "\n",
    "predict"
   ]
  },
  {
   "cell_type": "code",
   "execution_count": 74,
   "metadata": {},
   "outputs": [],
   "source": [
    "def test_my_markov(test_set, epsi, classes, words, pi, a, b):\n",
    "    classif = []\n",
    "    i = 1\n",
    "    for test in test_set :\n",
    "        phrase = []\n",
    "        for t in test :\n",
    "            phrase.append(t[1])\n",
    "        \n",
    "        predict = forward_backward(phrase, epsi, classes, words, pi, a, b)\n",
    "\n",
    "        k=0\n",
    "        for t in test:\n",
    "            if predict[k] == t[0]:\n",
    "                classif.append(1)\n",
    "            else : \n",
    "                classif.append(0)\n",
    "            k+=1\n",
    "        i += 1\n",
    "    accuracy = sum(classif)/len(classif)\n",
    "    return accuracy"
   ]
  },
  {
   "cell_type": "code",
   "execution_count": 75,
   "metadata": {},
   "outputs": [
    {
     "data": {
      "text/plain": [
       "0.9061992105874158"
      ]
     },
     "execution_count": 75,
     "metadata": {},
     "output_type": "execute_result"
    }
   ],
   "source": [
    "accuracy = test_my_markov(test_set, 10**(-5), classes, words, pi, a, b)\n",
    "accuracy"
   ]
  },
  {
   "cell_type": "markdown",
   "metadata": {},
   "source": [
    "Je n'ai pas relancé l'accuracy sur le test set apres ma verification du code, elle prend beaucoup trop de temps à s'executer, surtout sur mon vieil oridnateur. J'ai placé quelques test sur les variable que vous avez envoyé par mail pour démontrer que mon code (a l'air) bon."
   ]
  },
  {
   "cell_type": "markdown",
   "metadata": {},
   "source": [
    "### Exercice 3 : Filtrage de Kalman"
   ]
  },
  {
   "cell_type": "code",
   "execution_count": 26,
   "metadata": {},
   "outputs": [],
   "source": [
    "import numpy as np\n",
    "path = \"C:/Users/antoi/Documents/Telecom Paris/Cours/IA702 Probabilistic model/TP2/TP2_functions/\"\n",
    "X = np.loadtxt(path + \"signal_X.txt\")\n",
    "Y = np.loadtxt(path + \"signal_Y.txt\")"
   ]
  },
  {
   "cell_type": "code",
   "execution_count": 27,
   "metadata": {},
   "outputs": [],
   "source": [
    "def esti_param_kalman(Y):\n",
    "    cov1 = 0\n",
    "    prev_y = Y[0]\n",
    "    len1 =[]\n",
    "    for y in Y[1:]:\n",
    "        cov1 += prev_y * y\n",
    "        prev_y = y\n",
    "    cov1 /= (len(Y) - 2)\n",
    "\n",
    "    cov2 = 0\n",
    "    prev_y = Y[0]\n",
    "    for k in range(len(Y[1:]) - 2):\n",
    "        cov2 += prev_y * Y[k + 2]\n",
    "        prev_y = Y[k + 1]\n",
    "    cov2 /= (len(Y) - 2)\n",
    "\n",
    "    a = cov2 / cov1\n",
    "    b = cov1 / (cov2)**(1/2)\n",
    "    return a,b"
   ]
  },
  {
   "cell_type": "code",
   "execution_count": 28,
   "metadata": {},
   "outputs": [
    {
     "data": {
      "text/plain": [
       "(0.5967340169136152, 0.8860483947957409)"
      ]
     },
     "execution_count": 28,
     "metadata": {},
     "output_type": "execute_result"
    }
   ],
   "source": [
    "a, b = esti_param_kalman(Y)\n",
    "a, b "
   ]
  },
  {
   "cell_type": "code",
   "execution_count": 29,
   "metadata": {},
   "outputs": [],
   "source": [
    "def kalman_filter(Y, a, b, T):\n",
    "    y_t1 = Y[0]\n",
    "    x_tt = b * y_t1\n",
    "    sigma_tt = 1 - b**2\n",
    "    X_tt = [x_tt]\n",
    "    for k in range(T-1):\n",
    "        #pred\n",
    "        y_t1 = Y[k+1]\n",
    "        x_t1t = a * x_tt\n",
    "        sigma_t1t = 1 - a**2 + a**2 * sigma_tt\n",
    "        #maj\n",
    "        ytilde = y_t1 - b * x_t1t\n",
    "        S = b**2 * sigma_t1t + 1 - b**2\n",
    "        K = (b/S) * sigma_t1t\n",
    "        x_t1t1 = x_t1t + K * ytilde\n",
    "        sigma_t1t1 = (1 - b*K) * sigma_t1t\n",
    "        \n",
    "        x_tt = x_t1t1\n",
    "        sigma_tt = sigma_t1t1\n",
    "        \n",
    "        X_tt.append(x_tt)\n",
    "    return X_tt"
   ]
  },
  {
   "cell_type": "code",
   "execution_count": 30,
   "metadata": {},
   "outputs": [],
   "source": [
    "def MSE(X, Y):\n",
    "    mse = 0\n",
    "    for k in range(len(X)):\n",
    "        mse += (X[k] - Y[k])**2\n",
    "    mse /= len(X)\n",
    "    return mse"
   ]
  },
  {
   "cell_type": "code",
   "execution_count": 31,
   "metadata": {},
   "outputs": [
    {
     "data": {
      "text/plain": [
       "10000"
      ]
     },
     "execution_count": 31,
     "metadata": {},
     "output_type": "execute_result"
    }
   ],
   "source": [
    "X_tt = kalman_filter(Y, a, b, len(Y))\n",
    "len(X_tt)"
   ]
  },
  {
   "cell_type": "code",
   "execution_count": 32,
   "metadata": {},
   "outputs": [
    {
     "data": {
      "text/plain": [
       "0.17449593253019177"
      ]
     },
     "execution_count": 32,
     "metadata": {},
     "output_type": "execute_result"
    }
   ],
   "source": [
    "MSE(X_tt,X)"
   ]
  },
  {
   "cell_type": "code",
   "execution_count": 33,
   "metadata": {},
   "outputs": [
    {
     "data": {
      "text/plain": [
       "0.20225719834189304"
      ]
     },
     "execution_count": 33,
     "metadata": {},
     "output_type": "execute_result"
    }
   ],
   "source": [
    "MSE(X,Y)"
   ]
  },
  {
   "cell_type": "markdown",
   "metadata": {},
   "source": [
    "Le filtre de Kalmann a donc bien corrigé le signal, l'erreur quadratique moyenne est plus faible que sans ce dernier !"
   ]
  },
  {
   "cell_type": "code",
   "execution_count": 35,
   "metadata": {},
   "outputs": [
    {
     "data": {
      "text/plain": [
       "<matplotlib.legend.Legend at 0x2436eefa4c8>"
      ]
     },
     "execution_count": 35,
     "metadata": {},
     "output_type": "execute_result"
    },
    {
     "data": {
      "image/png": "[encoded data removed]",
      "text/plain": [
       "<Figure size 432x288 with 1 Axes>"
      ]
     },
     "metadata": {
      "needs_background": "light"
     },
     "output_type": "display_data"
    }
   ],
   "source": [
    "plt.plot(X_tt[:100], color = 'b', label = 'filtre de Kalman')\n",
    "plt.plot(X[:100], color = 'r', label = 'signal original')\n",
    "plt.legend()"
   ]
  }
 ],
 "metadata": {
  "kernelspec": {
   "display_name": "Python 3",
   "language": "python",
   "name": "python3"
  },
  "language_info": {
   "codemirror_mode": {
    "name": "ipython",
    "version": 3
   },
   "file_extension": ".py",
   "mimetype": "text/x-python",
   "name": "python",
   "nbconvert_exporter": "python",
   "pygments_lexer": "ipython3",
   "version": "3.7.4"
  }
 },
 "nbformat": 4,
 "nbformat_minor": 2
}
