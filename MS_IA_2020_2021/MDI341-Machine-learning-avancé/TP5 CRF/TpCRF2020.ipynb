{
  "nbformat": 4,
  "nbformat_minor": 0,
  "metadata": {
    "colab": {
      "name": "TpCRF2020.ipynb",
      "provenance": [],
      "collapsed_sections": []
    },
    "kernelspec": {
      "display_name": "Python 3",
      "language": "python",
      "name": "python3"
    },
    "language_info": {
      "codemirror_mode": {
        "name": "ipython",
        "version": 3
      },
      "file_extension": ".py",
      "mimetype": "text/x-python",
      "name": "python",
      "nbconvert_exporter": "python",
      "pygments_lexer": "ipython3",
      "version": "3.7.9"
    }
  },
  "cells": [
    {
      "cell_type": "markdown",
      "metadata": {
        "id": "bnPDS8CN7DJE"
      },
      "source": [
        "# CRF\n",
        "In this lab session, you are going to train and test a linear-chain CRF model. Before starting, specify \"python 2\" in the environment parameters."
      ]
    },
    {
      "cell_type": "code",
      "metadata": {
        "colab": {
          "base_uri": "https://localhost:8080/"
        },
        "id": "oDQEZO8IkN_3",
        "outputId": "74eda74a-a0f5-4781-c804-f682ed5e3543"
      },
      "source": [
        "!pip install python-crfsuite"
      ],
      "execution_count": 25,
      "outputs": [
        {
          "output_type": "stream",
          "text": [
            "Requirement already satisfied: python-crfsuite in /usr/local/lib/python3.7/dist-packages (0.9.7)\n"
          ],
          "name": "stdout"
        }
      ]
    },
    {
      "cell_type": "code",
      "metadata": {
        "colab": {
          "base_uri": "https://localhost:8080/"
        },
        "id": "dtBfg6D9kJos",
        "outputId": "a8a3c529-e55d-404d-c3a5-f898545f382a"
      },
      "source": [
        "from itertools import chain\n",
        "import nltk\n",
        "from sklearn.metrics import classification_report, confusion_matrix\n",
        "from sklearn.preprocessing import LabelBinarizer\n",
        "import sklearn\n",
        "import pycrfsuite\n",
        "\n",
        "print(sklearn.__version__)"
      ],
      "execution_count": 26,
      "outputs": [
        {
          "output_type": "stream",
          "text": [
            "0.22.2.post1\n"
          ],
          "name": "stdout"
        }
      ]
    },
    {
      "cell_type": "markdown",
      "metadata": {
        "id": "QbH45JpDkJo0"
      },
      "source": [
        "# Let's use CoNLL 2002 data to build a NER system\n",
        "\n",
        "CoNLL2002 corpus is available in NLTK. We use Spanish data."
      ]
    },
    {
      "cell_type": "code",
      "metadata": {
        "colab": {
          "base_uri": "https://localhost:8080/"
        },
        "id": "VvY2XkMmkJo1",
        "outputId": "d2bd204f-b1e5-4770-b97a-215f82cd09f1"
      },
      "source": [
        "nltk.download('conll2002')\n",
        "nltk.corpus.conll2002.fileids()"
      ],
      "execution_count": 27,
      "outputs": [
        {
          "output_type": "stream",
          "text": [
            "[nltk_data] Downloading package conll2002 to /root/nltk_data...\n",
            "[nltk_data]   Package conll2002 is already up-to-date!\n"
          ],
          "name": "stdout"
        },
        {
          "output_type": "execute_result",
          "data": {
            "text/plain": [
              "['esp.testa', 'esp.testb', 'esp.train', 'ned.testa', 'ned.testb', 'ned.train']"
            ]
          },
          "metadata": {
            "tags": []
          },
          "execution_count": 27
        }
      ]
    },
    {
      "cell_type": "code",
      "metadata": {
        "colab": {
          "base_uri": "https://localhost:8080/"
        },
        "id": "IG3HyaUykJo5",
        "outputId": "574d9df6-1dc4-4fd7-da79-c8dfac8b006c"
      },
      "source": [
        "%%time\n",
        "train_sents = list(nltk.corpus.conll2002.iob_sents('esp.train'))\n",
        "test_sents = list(nltk.corpus.conll2002.iob_sents('esp.testb'))"
      ],
      "execution_count": 28,
      "outputs": [
        {
          "output_type": "stream",
          "text": [
            "CPU times: user 2.2 s, sys: 87 ms, total: 2.29 s\n",
            "Wall time: 2.29 s\n"
          ],
          "name": "stdout"
        }
      ]
    },
    {
      "cell_type": "markdown",
      "metadata": {
        "id": "lCajbtaQkJo8"
      },
      "source": [
        "Data format:"
      ]
    },
    {
      "cell_type": "code",
      "metadata": {
        "colab": {
          "base_uri": "https://localhost:8080/"
        },
        "id": "jk8sYeOSkJo9",
        "outputId": "9916c5af-1c8b-48f4-c030-6a9f543bf0dd"
      },
      "source": [
        "train_sents[0]"
      ],
      "execution_count": 29,
      "outputs": [
        {
          "output_type": "execute_result",
          "data": {
            "text/plain": [
              "[('Melbourne', 'NP', 'B-LOC'),\n",
              " ('(', 'Fpa', 'O'),\n",
              " ('Australia', 'NP', 'B-LOC'),\n",
              " (')', 'Fpt', 'O'),\n",
              " (',', 'Fc', 'O'),\n",
              " ('25', 'Z', 'O'),\n",
              " ('may', 'NC', 'O'),\n",
              " ('(', 'Fpa', 'O'),\n",
              " ('EFE', 'NC', 'B-ORG'),\n",
              " (')', 'Fpt', 'O'),\n",
              " ('.', 'Fp', 'O')]"
            ]
          },
          "metadata": {
            "tags": []
          },
          "execution_count": 29
        }
      ]
    },
    {
      "cell_type": "markdown",
      "metadata": {
        "id": "RuM9vOXEkJpB"
      },
      "source": [
        "## Features\n",
        "\n",
        "Next, define some features. In this example we use word identity, word suffix, word shape and word POS tag; also, some information from nearby words is used. \n",
        "\n",
        "This makes a simple baseline, but you certainly can add and remove some features to get (much?) better results - experiment with it."
      ]
    },
    {
      "cell_type": "code",
      "metadata": {
        "id": "C57u044VkJpC"
      },
      "source": [
        "def word2features(sent, i):\n",
        "    word = sent[i][0]\n",
        "    postag = sent[i][1]\n",
        "    features = [\n",
        "        'bias',\n",
        "        'word.lower=' + word.lower(),\n",
        "        'word[-3:]=' + word[-3:],\n",
        "        'word[-2:]=' + word[-2:],\n",
        "        'word.isupper=%s' % word.isupper(),\n",
        "        'word.istitle=%s' % word.istitle(),\n",
        "        'word.isdigit=%s' % word.isdigit(),\n",
        "        'postag=' + postag,\n",
        "        'postag[:2]=' + postag[:2],\n",
        "    ]\n",
        "    if i > 0:\n",
        "        word1 = sent[i-1][0]\n",
        "        postag1 = sent[i-1][1]\n",
        "        features.extend([\n",
        "            '-1:word.lower=' + word1.lower(),\n",
        "            '-1:word.istitle=%s' % word1.istitle(),\n",
        "            '-1:word.isupper=%s' % word1.isupper(),\n",
        "            '-1:postag=' + postag1,\n",
        "            '-1:postag[:2]=' + postag1[:2],\n",
        "        ])\n",
        "    else:\n",
        "        features.append('BOS')\n",
        "        \n",
        "    if i < len(sent)-1:\n",
        "        word1 = sent[i+1][0]\n",
        "        postag1 = sent[i+1][1]\n",
        "        features.extend([\n",
        "            '+1:word.lower=' + word1.lower(),\n",
        "            '+1:word.istitle=%s' % word1.istitle(),\n",
        "            '+1:word.isupper=%s' % word1.isupper(),\n",
        "            '+1:postag=' + postag1,\n",
        "            '+1:postag[:2]=' + postag1[:2],\n",
        "        ])\n",
        "    else:\n",
        "        features.append('EOS')\n",
        "                \n",
        "    return features\n",
        "\n",
        "\n",
        "def sent2features(sent):\n",
        "    return [word2features(sent, i) for i in range(len(sent))]\n",
        "\n",
        "def sent2labels(sent):\n",
        "    return [label for token, postag, label in sent]\n",
        "\n",
        "def sent2tokens(sent):\n",
        "    return [token for token, postag, label in sent]    "
      ],
      "execution_count": 30,
      "outputs": []
    },
    {
      "cell_type": "markdown",
      "metadata": {
        "id": "iLs1qdrwkJpF"
      },
      "source": [
        "This is what word2features extracts:"
      ]
    },
    {
      "cell_type": "code",
      "metadata": {
        "colab": {
          "base_uri": "https://localhost:8080/"
        },
        "id": "91I8-hWKkJpG",
        "outputId": "ef211004-0883-485c-9fb0-bf638aa97902"
      },
      "source": [
        "sent2features(train_sents[0])[0]"
      ],
      "execution_count": 31,
      "outputs": [
        {
          "output_type": "execute_result",
          "data": {
            "text/plain": [
              "['bias',\n",
              " 'word.lower=melbourne',\n",
              " 'word[-3:]=rne',\n",
              " 'word[-2:]=ne',\n",
              " 'word.isupper=False',\n",
              " 'word.istitle=True',\n",
              " 'word.isdigit=False',\n",
              " 'postag=NP',\n",
              " 'postag[:2]=NP',\n",
              " 'BOS',\n",
              " '+1:word.lower=(',\n",
              " '+1:word.istitle=False',\n",
              " '+1:word.isupper=False',\n",
              " '+1:postag=Fpa',\n",
              " '+1:postag[:2]=Fp']"
            ]
          },
          "metadata": {
            "tags": []
          },
          "execution_count": 31
        }
      ]
    },
    {
      "cell_type": "markdown",
      "metadata": {
        "id": "xFFfLZfhkJpK"
      },
      "source": [
        "Extract the features from the data:"
      ]
    },
    {
      "cell_type": "code",
      "metadata": {
        "colab": {
          "base_uri": "https://localhost:8080/"
        },
        "id": "9qX9xHIZkJpK",
        "outputId": "6e0a4738-9c57-40c0-bec5-6551a756f2f7"
      },
      "source": [
        "%%time\n",
        "X_train = [sent2features(s) for s in train_sents]\n",
        "y_train = [sent2labels(s) for s in train_sents]\n",
        "\n",
        "X_test = [sent2features(s) for s in test_sents]\n",
        "y_test = [sent2labels(s) for s in test_sents]"
      ],
      "execution_count": 32,
      "outputs": [
        {
          "output_type": "stream",
          "text": [
            "CPU times: user 3.07 s, sys: 218 ms, total: 3.29 s\n",
            "Wall time: 3.3 s\n"
          ],
          "name": "stdout"
        }
      ]
    },
    {
      "cell_type": "markdown",
      "metadata": {
        "id": "KOv437XRkJpO"
      },
      "source": [
        "## Train the model\n",
        "\n",
        "To train the model, we create pycrfsuite.Trainer, load the training data and call 'train' method. \n",
        "First, create pycrfsuite.Trainer and load the training data to CRFsuite:"
      ]
    },
    {
      "cell_type": "code",
      "metadata": {
        "colab": {
          "base_uri": "https://localhost:8080/"
        },
        "id": "uwDq8X7JkJpP",
        "outputId": "9b0a5b3c-3648-4485-8d26-8ca7830d15b4"
      },
      "source": [
        "%%time\n",
        "trainer = pycrfsuite.Trainer(verbose=False)\n",
        "\n",
        "for xseq, yseq in zip(X_train, y_train):\n",
        "    trainer.append(xseq, yseq)"
      ],
      "execution_count": 33,
      "outputs": [
        {
          "output_type": "stream",
          "text": [
            "CPU times: user 2.92 s, sys: 17.6 ms, total: 2.94 s\n",
            "Wall time: 2.95 s\n"
          ],
          "name": "stdout"
        }
      ]
    },
    {
      "cell_type": "markdown",
      "metadata": {
        "id": "BdmrrOL5kJpT"
      },
      "source": [
        "Set training parameters. We will use L-BFGS training algorithm (it is default) with Elastic Net (L1 + L2) regularization."
      ]
    },
    {
      "cell_type": "code",
      "metadata": {
        "id": "J7DFpR-nkJpU"
      },
      "source": [
        "trainer.set_params({\n",
        "    'c1': 1.0,   # coefficient for L1 penalty\n",
        "    'c2': 1e-3,  # coefficient for L2 penalty\n",
        "    'max_iterations': 50,  # stop earlier\n",
        "\n",
        "    # include transitions that are possible, but not observed\n",
        "    'feature.possible_transitions': True\n",
        "})"
      ],
      "execution_count": 34,
      "outputs": []
    },
    {
      "cell_type": "markdown",
      "metadata": {
        "id": "Ha1kCzPOkJpY"
      },
      "source": [
        "Possible parameters for the default training algorithm:"
      ]
    },
    {
      "cell_type": "code",
      "metadata": {
        "colab": {
          "base_uri": "https://localhost:8080/"
        },
        "id": "wxAhnb4JkJpY",
        "outputId": "c37f7ece-aac7-4907-eae2-0ce3d1bb77eb"
      },
      "source": [
        "trainer.params()"
      ],
      "execution_count": 35,
      "outputs": [
        {
          "output_type": "execute_result",
          "data": {
            "text/plain": [
              "['feature.minfreq',\n",
              " 'feature.possible_states',\n",
              " 'feature.possible_transitions',\n",
              " 'c1',\n",
              " 'c2',\n",
              " 'max_iterations',\n",
              " 'num_memories',\n",
              " 'epsilon',\n",
              " 'period',\n",
              " 'delta',\n",
              " 'linesearch',\n",
              " 'max_linesearch']"
            ]
          },
          "metadata": {
            "tags": []
          },
          "execution_count": 35
        }
      ]
    },
    {
      "cell_type": "markdown",
      "metadata": {
        "id": "ZLfHHcNhkJpb"
      },
      "source": [
        "Train the model:"
      ]
    },
    {
      "cell_type": "code",
      "metadata": {
        "colab": {
          "base_uri": "https://localhost:8080/"
        },
        "id": "RpRk1MYNkJpc",
        "outputId": "d36480c6-c5a1-4503-c654-748e10b6875a"
      },
      "source": [
        "%%time\n",
        "trainer.train('conll2002-esp.crfsuite')"
      ],
      "execution_count": 36,
      "outputs": [
        {
          "output_type": "stream",
          "text": [
            "CPU times: user 22.8 s, sys: 23.7 ms, total: 22.8 s\n",
            "Wall time: 22.8 s\n"
          ],
          "name": "stdout"
        }
      ]
    },
    {
      "cell_type": "markdown",
      "metadata": {
        "id": "rn-frGmPkJpf"
      },
      "source": [
        "trainer.train saves model to a file:"
      ]
    },
    {
      "cell_type": "code",
      "metadata": {
        "colab": {
          "base_uri": "https://localhost:8080/"
        },
        "id": "YFZMoofQkJpf",
        "outputId": "483eff8f-1915-4c28-b7a9-da2b3d3c3069"
      },
      "source": [
        "!ls -lh ./conll2002-esp.crfsuite"
      ],
      "execution_count": 37,
      "outputs": [
        {
          "output_type": "stream",
          "text": [
            "-rw-r--r-- 1 root root 601K Mar 16 10:39 ./conll2002-esp.crfsuite\n"
          ],
          "name": "stdout"
        }
      ]
    },
    {
      "cell_type": "markdown",
      "metadata": {
        "id": "TkOsyFJBkJpk"
      },
      "source": [
        "We can also get information about the final state of the model by looking at the trainer's logparser. If we had tagged our input data using the optional group argument in add, and had used the optional holdout argument during train, there would be information about the trainer's performance on the holdout set as well. "
      ]
    },
    {
      "cell_type": "code",
      "metadata": {
        "colab": {
          "base_uri": "https://localhost:8080/"
        },
        "id": "LmD4GyyXkJpl",
        "outputId": "0097bb0a-f77c-4cd0-9a89-b38b8ef01ff3"
      },
      "source": [
        "trainer.logparser.last_iteration"
      ],
      "execution_count": 38,
      "outputs": [
        {
          "output_type": "execute_result",
          "data": {
            "text/plain": [
              "{'active_features': 11346,\n",
              " 'error_norm': 1262.912078,\n",
              " 'feature_norm': 79.110017,\n",
              " 'linesearch_step': 1.0,\n",
              " 'linesearch_trials': 1,\n",
              " 'loss': 14807.577946,\n",
              " 'num': 50,\n",
              " 'scores': {},\n",
              " 'time': 0.423}"
            ]
          },
          "metadata": {
            "tags": []
          },
          "execution_count": 38
        }
      ]
    },
    {
      "cell_type": "markdown",
      "metadata": {
        "id": "ZFrun6RckJpo"
      },
      "source": [
        "We can also get this information for every step using trainer.logparser.iterations"
      ]
    },
    {
      "cell_type": "code",
      "metadata": {
        "colab": {
          "base_uri": "https://localhost:8080/"
        },
        "id": "65H7IPAokJpq",
        "outputId": "345bff7e-8edf-4413-cdf4-ebcbc873efc6"
      },
      "source": [
        "print(len(trainer.logparser.iterations), trainer.logparser.iterations[-1])"
      ],
      "execution_count": 39,
      "outputs": [
        {
          "output_type": "stream",
          "text": [
            "50 {'num': 50, 'scores': {}, 'loss': 14807.577946, 'feature_norm': 79.110017, 'error_norm': 1262.912078, 'active_features': 11346, 'linesearch_trials': 1, 'linesearch_step': 1.0, 'time': 0.423}\n"
          ],
          "name": "stdout"
        }
      ]
    },
    {
      "cell_type": "markdown",
      "metadata": {
        "id": "5OjCvmWokJpt"
      },
      "source": [
        "## Make predictions\n",
        "\n",
        "To use the trained model, create pycrfsuite.Tagger, open the model and use \"tag\" method:"
      ]
    },
    {
      "cell_type": "code",
      "metadata": {
        "colab": {
          "base_uri": "https://localhost:8080/"
        },
        "id": "fFbI7XmtkJpv",
        "outputId": "f3f03350-27e9-4351-9fb3-2a329eed43f7"
      },
      "source": [
        "tagger = pycrfsuite.Tagger()\n",
        "tagger.open('conll2002-esp.crfsuite')"
      ],
      "execution_count": 40,
      "outputs": [
        {
          "output_type": "execute_result",
          "data": {
            "text/plain": [
              "<contextlib.closing at 0x7f9dd3b2cfd0>"
            ]
          },
          "metadata": {
            "tags": []
          },
          "execution_count": 40
        }
      ]
    },
    {
      "cell_type": "markdown",
      "metadata": {
        "id": "NbXVsuT_kJpy"
      },
      "source": [
        "Let's tag a sentence to see how it works:"
      ]
    },
    {
      "cell_type": "code",
      "metadata": {
        "colab": {
          "base_uri": "https://localhost:8080/"
        },
        "id": "CEj3py5OkJpz",
        "outputId": "03cdf1cd-d9ea-454d-fe0f-c96fbcda1376"
      },
      "source": [
        "example_sent = test_sents[0]\n",
        "print(' '.join(sent2tokens(example_sent)))\n",
        "\n",
        "print(\"Predicted:\", ' '.join(tagger.tag(sent2features(example_sent))))\n",
        "print(\"Correct:  \", ' '.join(sent2labels(example_sent)))"
      ],
      "execution_count": 41,
      "outputs": [
        {
          "output_type": "stream",
          "text": [
            "La Coruña , 23 may ( EFECOM ) .\n",
            "Predicted: B-LOC I-LOC O O O O B-ORG O O\n",
            "Correct:   B-LOC I-LOC O O O O B-ORG O O\n"
          ],
          "name": "stdout"
        }
      ]
    },
    {
      "cell_type": "markdown",
      "metadata": {
        "id": "0iRBHaTnkJp2"
      },
      "source": [
        "## Evaluate the model"
      ]
    },
    {
      "cell_type": "code",
      "metadata": {
        "id": "TaRU95LrkJp3"
      },
      "source": [
        "def bio_classification_report(y_true, y_pred):\n",
        "    \"\"\"\n",
        "    Classification report for a list of BIO-encoded sequences.\n",
        "    It computes token-level metrics and discards \"O\" labels.\n",
        "    \n",
        "    Note that it requires scikit-learn 0.15+ (or a version from github master)\n",
        "    to calculate averages properly!\n",
        "    \"\"\"\n",
        "    lb = LabelBinarizer()\n",
        "    y_true_combined = lb.fit_transform(list(chain.from_iterable(y_true)))\n",
        "    y_pred_combined = lb.transform(list(chain.from_iterable(y_pred)))\n",
        "        \n",
        "    tagset = set(lb.classes_) - {'O'}\n",
        "    tagset = sorted(tagset, key=lambda tag: tag.split('-', 1)[::-1])\n",
        "    class_indices = {cls: idx for idx, cls in enumerate(lb.classes_)}\n",
        "    \n",
        "    return classification_report(\n",
        "        y_true_combined,\n",
        "        y_pred_combined,\n",
        "        labels = [class_indices[cls] for cls in tagset],\n",
        "        target_names = tagset,\n",
        "    )"
      ],
      "execution_count": 42,
      "outputs": []
    },
    {
      "cell_type": "markdown",
      "metadata": {
        "id": "p8tGRwJgkJp5"
      },
      "source": [
        "Predict entity labels for all sentences in our testing set ('testb' Spanish data):"
      ]
    },
    {
      "cell_type": "code",
      "metadata": {
        "colab": {
          "base_uri": "https://localhost:8080/"
        },
        "id": "X8WG0fFPkJp6",
        "outputId": "cf6588fc-68ba-4ebb-86b4-368bb61ca0ff"
      },
      "source": [
        "%%time\n",
        "y_pred = [tagger.tag(xseq) for xseq in X_test]"
      ],
      "execution_count": 43,
      "outputs": [
        {
          "output_type": "stream",
          "text": [
            "CPU times: user 523 ms, sys: 18 ms, total: 541 ms\n",
            "Wall time: 558 ms\n"
          ],
          "name": "stdout"
        }
      ]
    },
    {
      "cell_type": "markdown",
      "metadata": {
        "id": "a7yHpsvYkJp9"
      },
      "source": [
        "..and check the result. Note this report is not comparable to results in CONLL2002 papers because here we check per-token results (not per-entity). Per-entity numbers will be worse.  "
      ]
    },
    {
      "cell_type": "code",
      "metadata": {
        "colab": {
          "base_uri": "https://localhost:8080/"
        },
        "id": "0XoxKtpDkJp9",
        "outputId": "a25ff585-74c2-4dab-bede-080c36d45e70"
      },
      "source": [
        "print(bio_classification_report(y_test, y_pred))"
      ],
      "execution_count": 44,
      "outputs": [
        {
          "output_type": "stream",
          "text": [
            "              precision    recall  f1-score   support\n",
            "\n",
            "       B-LOC       0.78      0.75      0.76      1084\n",
            "       I-LOC       0.66      0.60      0.63       325\n",
            "      B-MISC       0.69      0.47      0.56       339\n",
            "      I-MISC       0.61      0.49      0.54       557\n",
            "       B-ORG       0.79      0.81      0.80      1400\n",
            "       I-ORG       0.80      0.79      0.80      1104\n",
            "       B-PER       0.82      0.87      0.84       735\n",
            "       I-PER       0.87      0.93      0.90       634\n",
            "\n",
            "   micro avg       0.78      0.76      0.77      6178\n",
            "   macro avg       0.75      0.71      0.73      6178\n",
            "weighted avg       0.77      0.76      0.76      6178\n",
            " samples avg       0.09      0.09      0.09      6178\n",
            "\n"
          ],
          "name": "stdout"
        },
        {
          "output_type": "stream",
          "text": [
            "/usr/local/lib/python3.7/dist-packages/sklearn/metrics/_classification.py:1272: UndefinedMetricWarning: Precision and F-score are ill-defined and being set to 0.0 in samples with no predicted labels. Use `zero_division` parameter to control this behavior.\n",
            "  _warn_prf(average, modifier, msg_start, len(result))\n",
            "/usr/local/lib/python3.7/dist-packages/sklearn/metrics/_classification.py:1272: UndefinedMetricWarning: Recall and F-score are ill-defined and being set to 0.0 in samples with no true labels. Use `zero_division` parameter to control this behavior.\n",
            "  _warn_prf(average, modifier, msg_start, len(result))\n"
          ],
          "name": "stderr"
        }
      ]
    },
    {
      "cell_type": "markdown",
      "metadata": {
        "id": "nNkRLt9QkJqA"
      },
      "source": [
        "## Let's check what classifier learned"
      ]
    },
    {
      "cell_type": "code",
      "metadata": {
        "colab": {
          "base_uri": "https://localhost:8080/"
        },
        "id": "XP_8yd-tkJqB",
        "outputId": "45282c7b-3fb3-4654-8891-f4b4287f4bd2"
      },
      "source": [
        "from collections import Counter\n",
        "info = tagger.info()\n",
        "\n",
        "def print_transitions(trans_features):\n",
        "    for (label_from, label_to), weight in trans_features:\n",
        "        print(\"%-6s -> %-7s %0.6f\" % (label_from, label_to, weight))\n",
        "\n",
        "print(\"Top likely transitions:\")\n",
        "print_transitions(Counter(info.transitions).most_common(15))\n",
        "\n",
        "print(\"\\nTop unlikely transitions:\")\n",
        "print_transitions(Counter(info.transitions).most_common()[-15:])"
      ],
      "execution_count": 45,
      "outputs": [
        {
          "output_type": "stream",
          "text": [
            "Top likely transitions:\n",
            "B-ORG  -> I-ORG   8.631963\n",
            "I-ORG  -> I-ORG   7.833706\n",
            "B-PER  -> I-PER   6.998706\n",
            "B-LOC  -> I-LOC   6.913675\n",
            "I-MISC -> I-MISC  6.129735\n",
            "B-MISC -> I-MISC  5.538291\n",
            "I-LOC  -> I-LOC   4.983567\n",
            "I-PER  -> I-PER   3.748358\n",
            "B-ORG  -> B-LOC   1.727090\n",
            "B-PER  -> B-LOC   1.388267\n",
            "B-LOC  -> B-LOC   1.240278\n",
            "O      -> O       1.197929\n",
            "O      -> B-ORG   1.097062\n",
            "I-PER  -> B-LOC   1.083332\n",
            "O      -> B-MISC  1.046113\n",
            "\n",
            "Top unlikely transitions:\n",
            "I-PER  -> B-ORG   -2.056130\n",
            "I-LOC  -> I-ORG   -2.143940\n",
            "B-ORG  -> I-MISC  -2.167501\n",
            "I-PER  -> I-ORG   -2.369380\n",
            "B-ORG  -> I-PER   -2.378110\n",
            "I-MISC -> I-PER   -2.458788\n",
            "B-LOC  -> I-PER   -2.516414\n",
            "I-ORG  -> I-MISC  -2.571973\n",
            "I-LOC  -> B-PER   -2.697791\n",
            "I-LOC  -> I-PER   -3.065950\n",
            "I-ORG  -> I-PER   -3.364434\n",
            "O      -> I-PER   -7.322841\n",
            "O      -> I-MISC  -7.648246\n",
            "O      -> I-ORG   -8.024126\n",
            "O      -> I-LOC   -8.333815\n"
          ],
          "name": "stdout"
        }
      ]
    },
    {
      "cell_type": "markdown",
      "metadata": {
        "id": "I29MFUWTkJqH"
      },
      "source": [
        "We can see that, for example, it is very likely that the beginning of an organization name (B-ORG) will be followed by a token inside organization name (I-ORG), but transitions to I-ORG from tokens with other labels are penalized. Also note I-PER -> B-LOC transition: a positive weight means that model thinks that a person name is often followed by a location.\n",
        "\n",
        "Check the state features:"
      ]
    },
    {
      "cell_type": "code",
      "metadata": {
        "colab": {
          "base_uri": "https://localhost:8080/"
        },
        "id": "tZw9bui6kJqJ",
        "outputId": "b7d14611-49ad-47f3-9a48-fc1642542730"
      },
      "source": [
        "def print_state_features(state_features):\n",
        "    for (attr, label), weight in state_features:\n",
        "        print(\"%0.6f %-6s %s\" % (weight, label, attr))    \n",
        "\n",
        "print(\"Top positive:\")\n",
        "print_state_features(Counter(info.state_features).most_common(20))\n",
        "\n",
        "print(\"\\nTop negative:\")\n",
        "print_state_features(Counter(info.state_features).most_common()[-20:])"
      ],
      "execution_count": 46,
      "outputs": [
        {
          "output_type": "stream",
          "text": [
            "Top positive:\n",
            "8.886516 B-ORG  word.lower=efe-cantabria\n",
            "8.743642 B-ORG  word.lower=psoe-progresistas\n",
            "5.769032 B-LOC  -1:word.lower=cantabria\n",
            "5.195429 I-LOC  -1:word.lower=calle\n",
            "5.116821 O      word.lower=mayo\n",
            "4.990871 O      -1:word.lower=día\n",
            "4.910915 I-ORG  -1:word.lower=l\n",
            "4.721572 B-MISC word.lower=diversia\n",
            "4.676259 B-ORG  word.lower=telefónica\n",
            "4.334354 B-ORG  word[-2:]=-e\n",
            "4.149862 B-ORG  word.lower=amena\n",
            "4.141370 B-ORG  word.lower=terra\n",
            "3.942852 O      word.istitle=False\n",
            "3.926397 B-ORG  word.lower=continente\n",
            "3.924672 B-ORG  word.lower=acesa\n",
            "3.888706 O      word.lower=euro\n",
            "3.856445 B-PER  -1:word.lower=según\n",
            "3.812373 B-MISC word.lower=exteriores\n",
            "3.807582 I-MISC -1:word.lower=1.9\n",
            "3.807098 B-MISC word.lower=sanidad\n",
            "\n",
            "Top negative:\n",
            "-1.965379 O      word.lower=fundación\n",
            "-1.981541 O      -1:word.lower=británica\n",
            "-2.118347 O      word.lower=061\n",
            "-2.190653 B-PER  word[-3:]=nes\n",
            "-2.226373 B-ORG  postag=SP\n",
            "-2.226373 B-ORG  postag[:2]=SP\n",
            "-2.260972 O      word[-3:]=uia\n",
            "-2.384920 O      -1:word.lower=sección\n",
            "-2.483009 O      word[-2:]=s.\n",
            "-2.535050 I-LOC  BOS\n",
            "-2.583123 O      -1:word.lower=sánchez\n",
            "-2.585756 O      postag=NP\n",
            "-2.585756 O      postag[:2]=NP\n",
            "-2.588899 O      word[-2:]=om\n",
            "-2.738583 O      -1:word.lower=carretera\n",
            "-2.913103 O      word.istitle=True\n",
            "-2.926560 O      word[-2:]=nd\n",
            "-2.946862 I-PER  -1:word.lower=san\n",
            "-2.954094 B-PER  -1:word.lower=del\n",
            "-3.529449 O      word.isupper=True\n"
          ],
          "name": "stdout"
        }
      ]
    },
    {
      "cell_type": "markdown",
      "metadata": {
        "id": "aJBLgtFjkJqM"
      },
      "source": [
        "Some observations:\n",
        "\n",
        "* **8.743642 B-ORG  word.lower=psoe-progresistas** - the model remembered names of some entities - maybe it is overfit, or maybe our features are not adequate, or maybe remembering is indeed helpful;\n",
        "* **5.195429 I-LOC  -1:word.lower=calle**: \"calle\" is a street in Spanish; model learns that if a previous word was \"calle\" then the token is likely a part of location;\n",
        "* **-3.529449 O      word.isupper=True**, ** -2.913103 O      word.istitle=True **: UPPERCASED or TitleCased words are likely entities of some kind;\n",
        "* **-2.585756 O      postag=NP** - proper nouns (NP is a proper noun in the Spanish tagset) are often entities."
      ]
    },
    {
      "cell_type": "markdown",
      "metadata": {
        "id": "2DLlEfqFkJqM"
      },
      "source": [
        "# Coding your own CRF inference routine\n",
        "\n",
        "To help you, we use a library, named flexcrf, that provide some inference routines you will use to test your viterbi algorithm. With the following command, you donwload and unzip it."
      ]
    },
    {
      "cell_type": "code",
      "metadata": {
        "id": "_-dnGzRqhR0K"
      },
      "source": [
        "!if [[ ! -d flexcrf_tp ]]; then wget http://stelat.eu/wp-content/uploads/2020/03/flexcrf_tp.zip && unzip flexcrf_tp.zip;fi"
      ],
      "execution_count": 47,
      "outputs": []
    },
    {
      "cell_type": "code",
      "metadata": {
        "colab": {
          "base_uri": "https://localhost:8080/"
        },
        "id": "QRNErmhVn3pm",
        "outputId": "49094807-71d1-47b9-cf1c-0ed6c7ba7e1e"
      },
      "source": [
        "pip install pickle"
      ],
      "execution_count": 50,
      "outputs": [
        {
          "output_type": "stream",
          "text": [
            "\u001b[31mERROR: Could not find a version that satisfies the requirement pickle (from versions: none)\u001b[0m\n",
            "\u001b[31mERROR: No matching distribution found for pickle\u001b[0m\n"
          ],
          "name": "stdout"
        }
      ]
    },
    {
      "cell_type": "markdown",
      "metadata": {
        "id": "pcsfe16WAnqQ"
      },
      "source": [
        "Here, we import some functions\n"
      ]
    },
    {
      "cell_type": "code",
      "metadata": {
        "colab": {
          "base_uri": "https://localhost:8080/",
          "height": 131
        },
        "id": "JzR32ulEAmbT",
        "outputId": "37480629-6674-44e3-9d0c-6de361224557"
      },
      "source": [
        "import cPickle as pickle\n",
        "\n",
        "import numpy as np\n",
        "from pycrfsuite import Tagger\n",
        "from flexcrf_tp.models.linear_chain import (_feat_fun_values,\n",
        "                                            _compute_all_potentials,\n",
        "                                            _forward_score,\n",
        "                                            _backward_score,\n",
        "                                            _partition_fun_value,\n",
        "                                            _posterior_score)\n",
        "\n",
        "from flexcrf_tp.crfsuite2flexcrf import convert_data_to_flexcrf"
      ],
      "execution_count": 51,
      "outputs": [
        {
          "output_type": "error",
          "ename": "SyntaxError",
          "evalue": "ignored",
          "traceback": [
            "\u001b[0;36m  File \u001b[0;32m\"/content/flexcrf_tp/utils.py\"\u001b[0;36m, line \u001b[0;32m36\u001b[0m\n\u001b[0;31m    print np.count_nonzero(abs(cc - cc_)>1e-10)\u001b[0m\n\u001b[0m           ^\u001b[0m\n\u001b[0;31mSyntaxError\u001b[0m\u001b[0;31m:\u001b[0m invalid syntax\n"
          ]
        }
      ]
    },
    {
      "cell_type": "markdown",
      "metadata": {
        "id": "CWsbJAlj_7hj"
      },
      "source": [
        "#Viterbi decoder\n",
        "Now you can complete the viterbi_decoder function:"
      ]
    },
    {
      "cell_type": "code",
      "metadata": {
        "id": "S1nejpKuAD6M"
      },
      "source": [
        "\n",
        "\n",
        "# -- Define vitrebi_decoder here:\n",
        "\n",
        "def viterbi_decoder(m_xy, n=None, log_version=True):\n",
        "    \"\"\"\n",
        "    Performs MAP inference, determining $y = \\argmax_y P(y|x)$, using the\n",
        "    Viterbi algorithm.\n",
        "\n",
        "    Parameters\n",
        "    ----------\n",
        "    m_xy : ndarray, shape (n_obs, n_labels, n_labels)\n",
        "        Values of log-potentials ($\\log M_i(y_{i-1}, y_i, x)$)\n",
        "        computed based on feature functions f_xy and/or user-defined potentials\n",
        "        `psi_xy`. At t=0, m_xy[0, 0, :] contains values of $\\log M_1(y_0, y_1)$\n",
        "        with $y_0$ the fixed initial state.\n",
        "\n",
        "    n : integer, default=None\n",
        "        Time position up to which to decode the optimal sequence; if not\n",
        "        specified (default) the score is computed for the whole sequence.\n",
        "\n",
        "    Returns\n",
        "    -------\n",
        "    y_pred : ndarray, shape (n_obs,)\n",
        "        Predicted optimal sequence of labels.\n",
        "\n",
        "    TODO: Cythonise this function for more efficiency.\n",
        "    \"\"\"\n",
        "\n",
        "    if n is None:\n",
        "        n = m_xy.shape[0]\n",
        "\n",
        "    # Here we provide the temporary variables required by the viterbi algorithm.\n",
        "    n_labels = m_xy.shape[2]\n",
        "    y_pred = np.empty(n, dtype=int)\n",
        "    delta = np.empty((n, n_labels))\n",
        "    delta[0, :] = m_xy[0, 0, :]\n",
        "    btrack = np.empty((n, n_labels), dtype=int)\n",
        "\n",
        "    # Viterbi scores\n",
        "    for m in xrange(1, n) : \n",
        "      score = delta[m-1, :] + m_xy[m, :, :].T\n",
        "      btrack[m, :] = np.argmax(score, axis=1)\n",
        "      delta[m,:] = score[np.r_[:n_labels], btrack[m, :]]\n",
        "    #YOUR CODE HERE\n",
        "    \n",
        "    # Backtracking\n",
        "    #YOUR CODE HERE\n",
        "    y_pred[n-1] = np.argmax(delta[n-1, :])\n",
        "    for m in range(n-2, -1,-1):\n",
        "      y_pred[m] = btrack[m+1, y_pred[m+1]]\n",
        "    \n",
        "    return y_pred"
      ],
      "execution_count": null,
      "outputs": []
    },
    {
      "cell_type": "markdown",
      "metadata": {
        "id": "M2VpfF_YASHp"
      },
      "source": [
        "# Test your Viterbi decoder\n",
        "Check if you viterbi decoder provide the same output as pycrfsuite."
      ]
    },
    {
      "cell_type": "code",
      "metadata": {
        "id": "BZ3MjyIBgxKz"
      },
      "source": [
        "\n",
        "\n",
        "# -- Load data and crfsuite model and convert them-------------------------\n",
        "\n",
        "RECREATE = True  # set to True to recreate flexcrf data with new model\n",
        "\n",
        "CRFSUITE_MODEL_FILE = './conll2002-esp.crfsuite'\n",
        "CRFSUITE_MODEL_INFO_FILE = './conll2002-esp.crfsuite-model-info.dump'\n",
        "\n",
        "CRFSUITE_TEST_DATA_FILE = './conll2002-esp_crfsuite-test-data.dump'\n",
        "FLEXCRF_TEST_DATA_FILE = './conll2002-esp_flexcrf-test-data.dump'\n",
        "\n",
        "# crfsuite model\n",
        "tagger = Tagger()\n",
        "tagger.open(CRFSUITE_MODEL_FILE)\n",
        "model = tagger.info()\n",
        "#model = pickle.load(open(CRFSUITE_MODEL_INFO_FILE))\n",
        "#print \"model loaded.\"\n",
        "data={'X': X_test, 'y': y_test}\n",
        "#data = pickle.load(open(CRFSUITE_TEST_DATA_FILE))\n",
        "#print \"test data loaded.\"\n",
        "\n",
        "if RECREATE:\n",
        "    dataset, thetas = convert_data_to_flexcrf(data, model, n_seq=3)\n",
        "    pickle.dump({'dataset': dataset, 'thetas': thetas},\n",
        "                open(FLEXCRF_TEST_DATA_FILE, 'wb'))\n",
        "else:\n",
        "    dd = pickle.load(open(FLEXCRF_TEST_DATA_FILE))\n",
        "    dataset = dd['dataset']\n",
        "    thetas = dd['thetas']\n",
        "\n",
        "# -- Start classification ------------------------------------------------\n",
        "\n",
        "for seq in range(len(dataset)):\n",
        "\n",
        "    # -- with pycrfsuite\n",
        "    s_ = tagger.tag(data['X'][seq])\n",
        "    y_ = np.array([int(model.labels[s]) for s in s_])\n",
        "    prob_ = tagger.probability(s_)\n",
        "\n",
        "    print \"\\n-- With crfsuite:\"\n",
        "    print \"labels:\\n\", s_, \"\\n\", y_\n",
        "    print \"probability:\\t %f\" % prob_\n",
        "\n",
        "    # -- with flexcrf\n",
        "    f_xy, y = dataset[seq]\n",
        "    \n",
        "    theta = thetas[seq]\n",
        "\n",
        "    m_xy, f_m_xy = _compute_all_potentials(f_xy, theta)\n",
        "\n",
        "    y_pred = viterbi_decoder(m_xy)\n",
        "\n",
        "    alpha = _forward_score(m_xy)\n",
        "    #beta = _backward_score(m_xy)\n",
        "    z_x = _partition_fun_value(alpha)\n",
        "\n",
        "    # compare flexcrf prob to crfsuill2002-esp.crfsuite-te prob\n",
        "    f_x = _feat_fun_values(f_xy, y_, with_f_x_sum=False)\n",
        "    prob0 = np.exp(_posterior_score(f_x=f_x, theta=theta, z_x=z_x))\n",
        "    print \"flexcrf prob:\\t %f\" % prob0\n",
        "\n",
        "    f_x = _feat_fun_values(f_xy, y_pred, with_f_x_sum=False)\n",
        "    prob = np.exp(_posterior_score(f_x=f_x, theta=theta, z_x=z_x))\n",
        "\n",
        "    print \"-- With flexcrf:\"\n",
        "    print \"labels:\\n\", y_pred\n",
        "    print \"equal predictions: \", all(y_pred == y_)\n",
        "    print \"probability:\\t %f\" % prob\n",
        "    print \"delta:\\t %f\" % abs(prob-prob_)\n",
        "\n",
        "tagger.close()"
      ],
      "execution_count": null,
      "outputs": []
    }
  ]
}