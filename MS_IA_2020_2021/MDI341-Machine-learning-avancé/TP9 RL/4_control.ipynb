{
 "cells": [
  {
   "cell_type": "markdown",
   "metadata": {},
   "source": [
    "# Reinforcement Learning\n",
    "\n",
    "# Online control\n",
    "\n",
    "This notebook presents SARSA and Q-learning for the maze."
   ]
  },
  {
   "cell_type": "code",
   "execution_count": 1,
   "metadata": {},
   "outputs": [],
   "source": [
    "import numpy as np\n",
    "from matplotlib import pyplot as plt\n",
    "from copy import deepcopy"
   ]
  },
  {
   "cell_type": "code",
   "execution_count": 2,
   "metadata": {},
   "outputs": [],
   "source": [
    "from model import Maze\n",
    "from agent import Agent, OnlineControl"
   ]
  },
  {
   "cell_type": "code",
   "execution_count": 3,
   "metadata": {},
   "outputs": [],
   "source": [
    "maze = Maze()\n",
    "maze_map = np.load('maze_small.npy')\n",
    "maze.set_parameters(maze_map, (1, 0), [(3, 8)])\n",
    "maze = Maze()"
   ]
  },
  {
   "cell_type": "code",
   "execution_count": 4,
   "metadata": {},
   "outputs": [
    {
     "data": {
      "image/png": "[encoded data removed]",
      "text/plain": [
       "<Figure size 432x288 with 1 Axes>"
      ]
     },
     "metadata": {
      "needs_background": "light"
     },
     "output_type": "display_data"
    }
   ],
   "source": [
    "maze.display()"
   ]
  },
  {
   "cell_type": "markdown",
   "metadata": {},
   "source": [
    "## SARSA"
   ]
  },
  {
   "cell_type": "code",
   "execution_count": 5,
   "metadata": {},
   "outputs": [],
   "source": [
    "class SARSA(OnlineControl):\n",
    "    \"\"\"Online control by SARSA.\"\"\"\n",
    "        \n",
    "    def update_action_values(self):\n",
    "        \"\"\"Update action-values online.\"\"\"\n",
    "        self.environment.init_state()\n",
    "        state = deepcopy(self.environment.state)\n",
    "        state_id = self.state_id[self.environment.encode(state)]\n",
    "        action = self.get_best_action_randomized(state)\n",
    "        action_id = self.action_id[action]\n",
    "        action_values = self.action_values\n",
    "        for t in range(self.n_steps):\n",
    "            reward, stop = self.environment.step(action)\n",
    "            if stop:\n",
    "                break\n",
    "            state_next = self.environment.state\n",
    "            action_next = self.get_best_action_randomized(state_next)            \n",
    "            state_id_next = self.state_id[self.environment.encode(state_next)]\n",
    "            action_id_next = self.action_id[action_next]\n",
    "            gain = reward + self.gamma * action_values[state_id_next, action_id_next]\n",
    "            action_values[state_id, action_id] += self.alpha * (gain - action_values[state_id, action_id])\n",
    "            state, state_id = deepcopy(state_next), state_id_next\n",
    "            action, action_id = action_next, action_id_next"
   ]
  },
  {
   "cell_type": "code",
   "execution_count": 6,
   "metadata": {},
   "outputs": [],
   "source": [
    "algo = SARSA(maze)"
   ]
  },
  {
   "cell_type": "code",
   "execution_count": 7,
   "metadata": {},
   "outputs": [],
   "source": [
    "for t in range(10000):\n",
    "    algo.update_action_values()"
   ]
  },
  {
   "cell_type": "code",
   "execution_count": 8,
   "metadata": {
    "scrolled": true
   },
   "outputs": [
    {
     "data": {
      "image/png": "[encoded data removed]",
      "text/plain": [
       "<Figure size 432x288 with 1 Axes>"
      ]
     },
     "metadata": {
      "needs_background": "light"
     },
     "output_type": "display_data"
    }
   ],
   "source": [
    "policy = algo.get_policy()\n",
    "maze.display_policy(policy)"
   ]
  },
  {
   "cell_type": "markdown",
   "metadata": {},
   "source": [
    "## Q learning"
   ]
  },
  {
   "cell_type": "markdown",
   "metadata": {},
   "source": [
    "## To do\n",
    "\n",
    "* Implement and test Q-learning."
   ]
  },
  {
   "cell_type": "code",
   "execution_count": 9,
   "metadata": {},
   "outputs": [],
   "source": [
    "class QLearning(OnlineControl):\n",
    "    \"\"\"Online control by Q-learning.\"\"\"\n",
    "        \n",
    "    def update_action_values(self):\n",
    "        \"\"\"Update action-values online.\"\"\"\n",
    "        self.environment.init_state()\n",
    "        state = deepcopy(self.environment.state)\n",
    "        state_id = self.state_id[self.environment.encode(state)]\n",
    "        action = self.get_best_action_randomized(state)\n",
    "        action_id = self.action_id[action]\n",
    "        action_values = self.action_values\n",
    "        for t in range(self.n_steps):\n",
    "            reward, stop = self.environment.step(action)\n",
    "            if stop:\n",
    "                break\n",
    "            # to be completed"
   ]
  },
  {
   "cell_type": "code",
   "execution_count": 10,
   "metadata": {},
   "outputs": [],
   "source": [
    "algo = QLearning(maze)"
   ]
  },
  {
   "cell_type": "code",
   "execution_count": 11,
   "metadata": {},
   "outputs": [],
   "source": [
    "for t in range(100):\n",
    "    algo.update_action_values()"
   ]
  },
  {
   "cell_type": "code",
   "execution_count": 12,
   "metadata": {},
   "outputs": [
    {
     "data": {
      "image/png": "[encoded data removed]",
      "text/plain": [
       "<Figure size 432x288 with 1 Axes>"
      ]
     },
     "metadata": {
      "needs_background": "light"
     },
     "output_type": "display_data"
    }
   ],
   "source": [
    "policy = algo.get_policy()\n",
    "maze.display_policy(policy)"
   ]
  },
  {
   "cell_type": "code",
   "execution_count": null,
   "metadata": {},
   "outputs": [],
   "source": []
  }
 ],
 "metadata": {
  "kernelspec": {
   "display_name": "Python 3",
   "language": "python",
   "name": "python3"
  },
  "language_info": {
   "codemirror_mode": {
    "name": "ipython",
    "version": 3
   },
   "file_extension": ".py",
   "mimetype": "text/x-python",
   "name": "python",
   "nbconvert_exporter": "python",
   "pygments_lexer": "ipython3",
   "version": "3.7.9"
  }
 },
 "nbformat": 4,
 "nbformat_minor": 4
}
