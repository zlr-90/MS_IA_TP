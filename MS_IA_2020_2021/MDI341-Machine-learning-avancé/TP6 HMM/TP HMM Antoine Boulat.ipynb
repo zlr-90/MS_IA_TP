{
 "cells": [
  {
   "cell_type": "markdown",
   "id": "dependent-values",
   "metadata": {},
   "source": [
    "# Travaux Pratiques – Chaînes de Markov-HMMs"
   ]
  },
  {
   "cell_type": "code",
   "execution_count": 2,
   "id": "alternate-alliance",
   "metadata": {},
   "outputs": [],
   "source": [
    "import numpy as np\n",
    "import matplotlib.pyplot as plt"
   ]
  },
  {
   "cell_type": "markdown",
   "id": "unique-martial",
   "metadata": {},
   "source": [
    "### I Chaîne de Marko"
   ]
  },
  {
   "cell_type": "markdown",
   "id": "elect-pacific",
   "metadata": {},
   "source": [
    "#### 1. Phrase en anglais"
   ]
  },
  {
   "cell_type": "code",
   "execution_count": 88,
   "id": "considerable-million",
   "metadata": {},
   "outputs": [],
   "source": [
    "dic={'1' : ' ', '2' : 'a', '3' : 'b', '4': 'c', '5' : 'd', '6' : 'e', '7': 'f', '8' : 'g', '9' : 'h', '10': 'i', '11': 'j',\n",
    "'12' : 'k', '13' : 'l', '14': 'm', '15' : 'n', '16' : 'o', '17': 'p', '18' : 'q', '19' : 'r' , '20': 's', '21' : 't', '22'\n",
    ": 'u', '23': 'v', '24' : 'w', '25' : 'x' , '26': 'y', '27' : 'z', '28' : ' ' }"
   ]
  },
  {
   "cell_type": "code",
   "execution_count": 89,
   "id": "suspended-guess",
   "metadata": {},
   "outputs": [],
   "source": [
    "filename_A = 'bigramenglish.txt'\n",
    "transition_anglais = np.loadtxt(filename_A)"
   ]
  },
  {
   "cell_type": "markdown",
   "id": "laden-paper",
   "metadata": {},
   "source": [
    "##### a) Matrice de transition "
   ]
  },
  {
   "cell_type": "code",
   "execution_count": 90,
   "id": "indonesian-great",
   "metadata": {},
   "outputs": [
    {
     "data": {
      "text/plain": [
       "(28, 28)"
      ]
     },
     "execution_count": 90,
     "metadata": {},
     "output_type": "execute_result"
    }
   ],
   "source": [
    "transition_anglais.shape"
   ]
  },
  {
   "cell_type": "code",
   "execution_count": 91,
   "id": "neither-honor",
   "metadata": {},
   "outputs": [
    {
     "data": {
      "text/plain": [
       "array([0.0000000e+00, 1.1268720e-01, 4.3608943e-02, 4.5454545e-02,\n",
       "       3.2904451e-02, 2.2094495e-02, 4.1763341e-02, 1.5555790e-02,\n",
       "       6.4437882e-02, 6.8920059e-02, 3.6384729e-03, 4.2185193e-03,\n",
       "       2.3465514e-02, 3.9759544e-02, 2.2832736e-02, 7.0343809e-02,\n",
       "       3.1058848e-02, 1.4237503e-03, 2.5680236e-02, 6.6916262e-02,\n",
       "       1.6452225e-01, 1.0388104e-02, 7.0660198e-03, 7.0502004e-02,\n",
       "       1.0546298e-04, 1.0599030e-02, 5.2731491e-05, 0.0000000e+00])"
      ]
     },
     "execution_count": 91,
     "metadata": {},
     "output_type": "execute_result"
    }
   ],
   "source": [
    "transition_anglais[0]"
   ]
  },
  {
   "cell_type": "markdown",
   "id": "welcome-conclusion",
   "metadata": {},
   "source": [
    "La première ligne correspond à la probabilité de transition depuis l'état \"espace initial\" vers toutes les autres lettres."
   ]
  },
  {
   "cell_type": "code",
   "execution_count": 92,
   "id": "competitive-scale",
   "metadata": {},
   "outputs": [
    {
     "data": {
      "text/plain": [
       "array([0.0000000e+00, 6.7478169e-02, 7.1084433e-03, 1.9535224e-02,\n",
       "       5.9884373e-01, 3.6047379e-01, 3.9653963e-01, 3.1566736e-01,\n",
       "       1.0300926e-01, 2.4606608e-02, 9.5877277e-04, 3.7225637e-01,\n",
       "       1.5338255e-01, 1.5795761e-01, 2.9421872e-01, 1.2308174e-01,\n",
       "       6.4222084e-02, 1.3966480e-03, 2.1088912e-01, 4.3030156e-01,\n",
       "       2.2273059e-01, 3.8466582e-02, 9.9108028e-05, 1.0216281e-01,\n",
       "       1.2345679e-01, 7.7582944e-01, 1.9193858e-03, 1.0000000e+00])"
      ]
     },
     "execution_count": 92,
     "metadata": {},
     "output_type": "execute_result"
    }
   ],
   "source": [
    "transition_anglais[:, -1]"
   ]
  },
  {
   "cell_type": "markdown",
   "id": "complimentary-cleaner",
   "metadata": {},
   "source": [
    "La derniere colonne correspond à la probabilité vers l'état \"espace final\" depuis n'importe quel lettre."
   ]
  },
  {
   "cell_type": "code",
   "execution_count": 93,
   "id": "distinct-grave",
   "metadata": {},
   "outputs": [
    {
     "name": "stdout",
     "output_type": "stream",
     "text": [
      "['t', 'n', 'e', 'o', ' ', ' ', ' ', ' ', 'e', 'n', 'o', ' ', 'e', 'e', ' ', 'n', 'e', 'u', 'e', ' ', 'h', 'r', 'e', 'a', 't', ' ', 'e', ' ']\n"
     ]
    }
   ],
   "source": [
    "transition_max = []\n",
    "for argmax in  np.argmax(transition_anglais, axis=1):\n",
    "    transition_max.append(dic[str(argmax+1)])\n",
    "print(transition_max)"
   ]
  },
  {
   "cell_type": "markdown",
   "id": "collected-revision",
   "metadata": {},
   "source": [
    "##### b) Générer un mot "
   ]
  },
  {
   "cell_type": "code",
   "execution_count": 94,
   "id": "determined-match",
   "metadata": {},
   "outputs": [],
   "source": [
    "def etat_suivant(localTransitions):\n",
    "    unif = np.random.random()\n",
    "    cs=np.cumsum(localTransitions)\n",
    "    stat=0\n",
    "    while(unif >=cs[stat]):\n",
    "        stat=stat+1\n",
    "    return stat"
   ]
  },
  {
   "cell_type": "code",
   "execution_count": 95,
   "id": "obvious-content",
   "metadata": {},
   "outputs": [
    {
     "data": {
      "text/plain": [
       "[<matplotlib.lines.Line2D at 0x229627bcb48>]"
      ]
     },
     "execution_count": 95,
     "metadata": {},
     "output_type": "execute_result"
    },
    {
     "data": {
      "image/png": "[encoded data removed]",
      "text/plain": [
       "<Figure size 432x288 with 1 Axes>"
      ]
     },
     "metadata": {
      "needs_background": "light"
     },
     "output_type": "display_data"
    }
   ],
   "source": [
    "plt.plot(np.cumsum(transition_anglais[0]))"
   ]
  },
  {
   "cell_type": "markdown",
   "id": "featured-montreal",
   "metadata": {},
   "source": [
    "La fonction de répartition nous donne pour le caractère d'indice i la probabilité que cette lettre, ou une des précédentes, soit sélectionné."
   ]
  },
  {
   "cell_type": "code",
   "execution_count": 96,
   "id": "earned-intro",
   "metadata": {},
   "outputs": [],
   "source": [
    "def genere_state_seq(transition_anglais):\n",
    "    seq = [0]\n",
    "    i=0\n",
    "    while seq[i] != (len(transition_anglais) - 1) :\n",
    "        seq.append(etat_suivant(transition_anglais[seq[i]]))\n",
    "        i+=1\n",
    "    return seq"
   ]
  },
  {
   "cell_type": "code",
   "execution_count": 97,
   "id": "appointed-sequence",
   "metadata": {},
   "outputs": [],
   "source": [
    "def display_seq(seq, dic):\n",
    "    mot = \"\"\n",
    "    for s in seq :\n",
    "        mot += dic[str(s+1)]\n",
    "    return mot"
   ]
  },
  {
   "cell_type": "markdown",
   "id": "auburn-driver",
   "metadata": {},
   "source": [
    "Generation d'une sequence aléatoire :"
   ]
  },
  {
   "cell_type": "code",
   "execution_count": 109,
   "id": "limiting-shareware",
   "metadata": {},
   "outputs": [],
   "source": [
    "random_seq = genere_state_seq(transition_anglais)"
   ]
  },
  {
   "cell_type": "markdown",
   "id": "promising-marijuana",
   "metadata": {},
   "source": [
    "Transformation de cette séquence en mot :"
   ]
  },
  {
   "cell_type": "code",
   "execution_count": 110,
   "id": "therapeutic-simpson",
   "metadata": {},
   "outputs": [
    {
     "data": {
      "text/plain": [
       "' the '"
      ]
     },
     "execution_count": 110,
     "metadata": {},
     "output_type": "execute_result"
    }
   ],
   "source": [
    "display_seq(random_seq, dic)"
   ]
  },
  {
   "cell_type": "markdown",
   "id": "invalid-truck",
   "metadata": {},
   "source": [
    "##### c) Générer une phrase"
   ]
  },
  {
   "cell_type": "code",
   "execution_count": 111,
   "id": "august-france",
   "metadata": {},
   "outputs": [],
   "source": [
    "# création de la 29ème ligne \n",
    "ligne_point = np.zeros((1,29))"
   ]
  },
  {
   "cell_type": "code",
   "execution_count": 112,
   "id": "illegal-thanksgiving",
   "metadata": {},
   "outputs": [],
   "source": [
    "def modifie_mat_dic(transition_anglais):\n",
    "    transition_anglais = np.append(transition_anglais, np.zeros((28,1)), axis=1)\n",
    "    transition_anglais = np.append(transition_anglais, ligne_point, axis=0)\n",
    "    transition_anglais[-1,-1] = 1\n",
    "    transition_anglais[-2,-1] = 0.1\n",
    "    transition_anglais[-2,-2] = 0\n",
    "    transition_anglais[-2,0] = 0.9\n",
    "    return transition_anglais"
   ]
  },
  {
   "cell_type": "code",
   "execution_count": 113,
   "id": "expressed-sailing",
   "metadata": {},
   "outputs": [
    {
     "data": {
      "text/plain": [
       "(29, 29)"
      ]
     },
     "execution_count": 113,
     "metadata": {},
     "output_type": "execute_result"
    }
   ],
   "source": [
    "transition_anglais_phrase = modifie_mat_dic(transition_anglais)\n",
    "transition_anglais_phrase.shape"
   ]
  },
  {
   "cell_type": "code",
   "execution_count": 114,
   "id": "integrated-bouquet",
   "metadata": {},
   "outputs": [],
   "source": [
    "dic_phrase={'1' : ' ', '2' : 'a', '3' : 'b', '4': 'c', '5' : 'd', '6' : 'e', '7': 'f', '8' : 'g', '9' : 'h', '10': 'i'\n",
    "            , '11': 'j', '12' : 'k', '13' : 'l', '14': 'm', '15' : 'n', '16' : 'o', '17': 'p', '18' : 'q', '19' : 'r' \n",
    "            , '20': 's', '21' : 't', '22': 'u', '23': 'v', '24' : 'w', '25' : 'x' , '26': 'y', '27' : 'z'\n",
    "            , '28' : ' ', '29' : '.' }"
   ]
  },
  {
   "cell_type": "markdown",
   "id": "opened-basketball",
   "metadata": {},
   "source": [
    "Generation de phrase "
   ]
  },
  {
   "cell_type": "code",
   "execution_count": 121,
   "id": "remarkable-statement",
   "metadata": {},
   "outputs": [],
   "source": [
    "random_seq_phrase = genere_state_seq(transition_anglais_phrase)"
   ]
  },
  {
   "cell_type": "code",
   "execution_count": 122,
   "id": "sublime-tobago",
   "metadata": {},
   "outputs": [
    {
     "data": {
      "text/plain": [
       "' mo  catiemongafod  bebed  t  thlean  we  ng  athenis  linon .'"
      ]
     },
     "execution_count": 122,
     "metadata": {},
     "output_type": "execute_result"
    }
   ],
   "source": [
    "display_seq(random_seq_phrase, dic_phrase)"
   ]
  },
  {
   "cell_type": "markdown",
   "id": "spatial-asthma",
   "metadata": {},
   "source": [
    "#### 2. Reconnaissance de la langue"
   ]
  },
  {
   "cell_type": "code",
   "execution_count": 123,
   "id": "biological-mailing",
   "metadata": {},
   "outputs": [],
   "source": [
    "filename_B = 'bigramfrancais.txt'\n",
    "transition_francais = np.loadtxt(filename_B)"
   ]
  },
  {
   "cell_type": "code",
   "execution_count": 124,
   "id": "marked-layer",
   "metadata": {},
   "outputs": [],
   "source": [
    "transition_francais = modifie_mat_dic(transition_francais)"
   ]
  },
  {
   "cell_type": "code",
   "execution_count": 125,
   "id": "mathematical-works",
   "metadata": {},
   "outputs": [],
   "source": [
    "dic_phrase_modif={'1' : '-', '2' : 'a', '3' : 'b', '4': 'c', '5' : 'd', '6' : 'e', '7': 'f', '8' : 'g', '9' : 'h'\n",
    "                   , '10': 'i', '11': 'j', '12' : 'k', '13' : 'l', '14': 'm', '15' : 'n', '16' : 'o', '17': 'p',\n",
    "                   '18' : 'q', '19' : 'r' , '20': 's', '21' : 't', '22': 'u', '23': 'v', '24' : 'w', '25' : 'x' \n",
    "                   , '26': 'y', '27' : 'z', '28' : '+', '29' : '.' }"
   ]
  },
  {
   "cell_type": "code",
   "execution_count": 126,
   "id": "friendly-toyota",
   "metadata": {},
   "outputs": [],
   "source": [
    "def calc_vraisemblance(phrase, transition_francais, dic_phrase):\n",
    "    vraisemblance = 1\n",
    "    i=0\n",
    "    transition_index = []\n",
    "    for caractere in phrase:\n",
    "        for key, value in dic_phrase.items():\n",
    "            if value == caractere:\n",
    "                transition_index.append(int(key) -1)\n",
    "    t0 = transition_index[0]\n",
    "    for t in transition_index[1:] :\n",
    "        vraisemblance *= transition_francais[t0, t]\n",
    "        t0=t\n",
    "    return vraisemblance"
   ]
  },
  {
   "cell_type": "code",
   "execution_count": 127,
   "id": "yellow-celebration",
   "metadata": {},
   "outputs": [],
   "source": [
    "phrase1 = \"-to+-be+-or+-not+-to+-be+.\"\n",
    "phrase2 = \"-etre+-ou+-ne+-pas+-etre+.\""
   ]
  },
  {
   "cell_type": "code",
   "execution_count": 128,
   "id": "otherwise-morgan",
   "metadata": {},
   "outputs": [
    {
     "name": "stdout",
     "output_type": "stream",
     "text": [
      "vraisemblance de la phrase « to be or not to be » en francais : 5.9602081018686406e-30\n",
      "vraisemblance de la phrase « to be or not to be » en anglais : 8.112892227809415e-20\n"
     ]
    }
   ],
   "source": [
    "print(\"vraisemblance de la phrase « to be or not to be » en francais : \" \n",
    "      + str(calc_vraisemblance(phrase1, transition_francais, dic_phrase_modif)))\n",
    "print(\"vraisemblance de la phrase « to be or not to be » en anglais : \" \n",
    "      + str(calc_vraisemblance(phrase1, transition_anglais_phrase, dic_phrase_modif)))"
   ]
  },
  {
   "cell_type": "code",
   "execution_count": 129,
   "id": "planned-store",
   "metadata": {},
   "outputs": [
    {
     "name": "stdout",
     "output_type": "stream",
     "text": [
      "vraisemblance de la phrase « etre ou ne pas etre » en francais : 1.145706887234789e-19\n",
      "vraisemblance de la phrase « etre ou ne pas etre » en anglais : 4.462288711775253e-24\n"
     ]
    }
   ],
   "source": [
    "print(\"vraisemblance de la phrase « etre ou ne pas etre » en francais : \" \n",
    "      + str(calc_vraisemblance(phrase2, transition_francais, dic_phrase_modif)))\n",
    "print(\"vraisemblance de la phrase « etre ou ne pas etre » en anglais : \" \n",
    "      + str(calc_vraisemblance(phrase2, transition_anglais_phrase, dic_phrase_modif)))"
   ]
  },
  {
   "cell_type": "markdown",
   "id": "blocked-device",
   "metadata": {},
   "source": [
    "### II. HMM"
   ]
  },
  {
   "cell_type": "code",
   "execution_count": 130,
   "id": "hourly-constitution",
   "metadata": {},
   "outputs": [],
   "source": [
    "filename= 'C:/Users/antoi/Documents/Telecom Paris/Cours/MDI341 Machine Learning Avancée/TP6 HMM/data_txt_compact/matrice_symboles.txt'\n",
    "v = np.loadtxt(filename) \n",
    "filename= 'C:/Users/antoi/Documents/Telecom Paris/Cours/MDI341 Machine Learning Avancée/TP6 HMM/data_txt_compact/A0.txt'\n",
    "A0 = np.loadtxt(filename) \n",
    "filename= 'C:/Users/antoi/Documents/Telecom Paris/Cours/MDI341 Machine Learning Avancée/TP6 HMM/data_txt_compact/B0.txt'\n",
    "B0 = np.loadtxt(filename) \n",
    "filename= 'C:/Users/antoi/Documents/Telecom Paris/Cours/MDI341 Machine Learning Avancée/TP6 HMM/data_txt_compact/vect_pi0.txt'\n",
    "pi0 = np.loadtxt(filename) "
   ]
  },
  {
   "cell_type": "markdown",
   "id": "therapeutic-distinction",
   "metadata": {},
   "source": [
    "#### 1. Génération de séquences d’observations"
   ]
  },
  {
   "cell_type": "markdown",
   "id": "rational-warrant",
   "metadata": {},
   "source": [
    "##### a)"
   ]
  },
  {
   "cell_type": "code",
   "execution_count": 131,
   "id": "corresponding-harbor",
   "metadata": {},
   "outputs": [
    {
     "data": {
      "text/plain": [
       "array([[0., 1., 0., 0., 0., 0., 1., 1., 1., 1., 0., 0., 0., 0., 0., 0.,\n",
       "        1., 1., 1., 1., 1., 1., 0., 0., 0., 0., 1., 1., 1., 0., 1., 1.],\n",
       "       [0., 0., 1., 0., 0., 0., 1., 0., 0., 0., 1., 1., 1., 0., 0., 0.,\n",
       "        1., 1., 1., 0., 0., 0., 1., 1., 1., 0., 1., 1., 1., 1., 0., 1.],\n",
       "       [0., 0., 0., 1., 0., 0., 0., 1., 0., 0., 1., 0., 0., 1., 1., 0.,\n",
       "        1., 0., 0., 1., 1., 0., 1., 0., 1., 1., 1., 0., 1., 1., 1., 1.],\n",
       "       [0., 0., 0., 0., 1., 0., 0., 0., 1., 0., 0., 1., 0., 1., 0., 1.,\n",
       "        0., 1., 0., 1., 0., 1., 1., 1., 0., 1., 1., 1., 0., 1., 1., 1.],\n",
       "       [0., 0., 0., 0., 0., 1., 0., 0., 0., 1., 0., 0., 1., 0., 1., 1.,\n",
       "        0., 0., 1., 0., 1., 1., 0., 1., 1., 1., 0., 1., 1., 1., 1., 1.]])"
      ]
     },
     "execution_count": 131,
     "metadata": {},
     "output_type": "execute_result"
    }
   ],
   "source": [
    "v"
   ]
  },
  {
   "cell_type": "markdown",
   "id": "immediate-manner",
   "metadata": {},
   "source": [
    "Les zeros dans la matrice A represente les transitions impossible de l'état i vers l'état j. Par exemple, depuis l'état 1, il y une probabilité de 0.84 de rester dans l'état 1 et de 0.16 de passer à l'état 2. Dans létat 5, il y a une probabilité 1 de rester dans l'état 5."
   ]
  },
  {
   "cell_type": "code",
   "execution_count": 132,
   "id": "tribal-poetry",
   "metadata": {},
   "outputs": [
    {
     "data": {
      "text/plain": [
       "array([[ 0.84178118,  0.15821882, -0.        , -0.        , -0.        ],\n",
       "       [-0.        ,  0.7886163 ,  0.2113837 , -0.        , -0.        ],\n",
       "       [-0.        , -0.        ,  0.86339743,  0.13660257, -0.        ],\n",
       "       [-0.        , -0.        , -0.        ,  0.79150194,  0.20849806],\n",
       "       [-0.        , -0.        , -0.        , -0.        ,  1.        ]])"
      ]
     },
     "execution_count": 132,
     "metadata": {},
     "output_type": "execute_result"
    }
   ],
   "source": [
    "A0"
   ]
  },
  {
   "cell_type": "markdown",
   "id": "fancy-winning",
   "metadata": {},
   "source": [
    "On a une probilité de 1 de commencer à l'état 1, les états à 0 n'ont aucune chance d'être des états initiaux."
   ]
  },
  {
   "cell_type": "code",
   "execution_count": 133,
   "id": "loose-packet",
   "metadata": {},
   "outputs": [
    {
     "data": {
      "text/plain": [
       "array([1., 0., 0., 0., 0.])"
      ]
     },
     "execution_count": 133,
     "metadata": {},
     "output_type": "execute_result"
    }
   ],
   "source": [
    "pi0"
   ]
  },
  {
   "cell_type": "markdown",
   "id": "israeli-morocco",
   "metadata": {},
   "source": [
    "La matrice B donne, pour chacun des 5 états, la probabilité d'avoir un des 32 patterns Mnist simplifiés."
   ]
  },
  {
   "cell_type": "code",
   "execution_count": 134,
   "id": "involved-hindu",
   "metadata": {},
   "outputs": [
    {
     "data": {
      "text/plain": [
       "(32, 5)"
      ]
     },
     "execution_count": 134,
     "metadata": {},
     "output_type": "execute_result"
    }
   ],
   "source": [
    "B0.shape"
   ]
  },
  {
   "cell_type": "markdown",
   "id": "looking-sport",
   "metadata": {},
   "source": [
    "##### b)"
   ]
  },
  {
   "cell_type": "code",
   "execution_count": 135,
   "id": "steady-turning",
   "metadata": {},
   "outputs": [],
   "source": [
    "def etat_suivant(current_state):\n",
    "    unif = np.random.random()\n",
    "    cs=np.cumsum(current_state)\n",
    "    stat=0\n",
    "    while(unif >=cs[stat]):\n",
    "        stat=stat+1\n",
    "    return stat"
   ]
  },
  {
   "cell_type": "code",
   "execution_count": 136,
   "id": "visible-opportunity",
   "metadata": {},
   "outputs": [
    {
     "data": {
      "image/png": "[encoded data removed]",
      "text/plain": [
       "<Figure size 432x288 with 1 Axes>"
      ]
     },
     "metadata": {
      "needs_background": "light"
     },
     "output_type": "display_data"
    }
   ],
   "source": [
    "plt.plot(np.cumsum(A0[1]))\n",
    "plt.show()"
   ]
  },
  {
   "cell_type": "markdown",
   "id": "running-password",
   "metadata": {},
   "source": [
    "On a donc environ 79% de chance de rester à l'état 2 et 21% de passer à l'état 3 quand on est à l'état 2."
   ]
  },
  {
   "cell_type": "markdown",
   "id": "yellow-tampa",
   "metadata": {},
   "source": [
    "##### c)"
   ]
  },
  {
   "cell_type": "code",
   "execution_count": 137,
   "id": "extraordinary-florist",
   "metadata": {},
   "outputs": [],
   "source": [
    "def genere_state_seq(transition):\n",
    "    seq = [0]\n",
    "    i=0\n",
    "    while i != 27 :\n",
    "        seq.append(etat_suivant(transition[seq[i]]))\n",
    "        i+=1\n",
    "    return seq"
   ]
  },
  {
   "cell_type": "code",
   "execution_count": 36,
   "id": "american-inclusion",
   "metadata": {},
   "outputs": [],
   "source": [
    "def genere_observation(mat_obs, state_seq):\n",
    "    observation =[]\n",
    "    for seq in state_seq :\n",
    "        probas = mat_obs[:, seq]\n",
    "        unif = np.random.random()\n",
    "        cs=np.cumsum(probas)\n",
    "        obs=0\n",
    "        while(unif >=cs[obs]):\n",
    "            obs=obs+1\n",
    "        observation.append(obs)\n",
    "    return observation"
   ]
  },
  {
   "cell_type": "markdown",
   "id": "meaning-hacker",
   "metadata": {},
   "source": [
    "On commence par générer la séquence d'état."
   ]
  },
  {
   "cell_type": "code",
   "execution_count": 37,
   "id": "amino-jaguar",
   "metadata": {},
   "outputs": [
    {
     "name": "stdout",
     "output_type": "stream",
     "text": [
      "[0, 0, 0, 0, 0, 0, 1, 1, 1, 2, 3, 3, 3, 3, 4, 4, 4, 4, 4, 4, 4, 4, 4, 4, 4, 4, 4, 4]\n"
     ]
    }
   ],
   "source": [
    "state_seq = genere_state_seq(A0)\n",
    "print(state_seq)"
   ]
  },
  {
   "cell_type": "markdown",
   "id": "latin-instrumentation",
   "metadata": {},
   "source": [
    "Puis on génère la séquence d'observation à partir de cette séquence d'état."
   ]
  },
  {
   "cell_type": "code",
   "execution_count": 38,
   "id": "designing-coordinate",
   "metadata": {},
   "outputs": [
    {
     "name": "stdout",
     "output_type": "stream",
     "text": [
      "[0, 0, 0, 0, 0, 0, 13, 13, 22, 17, 10, 22, 10, 22, 0, 0, 0, 0, 0, 0, 0, 0, 0, 0, 0, 0, 0, 0]\n"
     ]
    }
   ],
   "source": [
    "observation = genere_observation(B0, state_seq)\n",
    "print(observation)"
   ]
  },
  {
   "cell_type": "markdown",
   "id": "moving-perth",
   "metadata": {},
   "source": [
    "##### d)"
   ]
  },
  {
   "cell_type": "code",
   "execution_count": 41,
   "id": "collectible-omega",
   "metadata": {},
   "outputs": [
    {
     "data": {
      "text/plain": [
       "<matplotlib.image.AxesImage at 0x2295f9e0488>"
      ]
     },
     "execution_count": 41,
     "metadata": {},
     "output_type": "execute_result"
    },
    {
     "data": {
      "image/png": "[encoded data removed]",
      "text/plain": [
       "<Figure size 432x288 with 1 Axes>"
      ]
     },
     "metadata": {
      "needs_background": "light"
     },
     "output_type": "display_data"
    }
   ],
   "source": [
    "im=[]\n",
    "for o in observation :\n",
    "    im_col=v[:, o]\n",
    "    im.append(im_col)\n",
    "    \n",
    "im = np.array(im).T\n",
    "plt.imshow(im, cmap='gray', aspect='auto')"
   ]
  },
  {
   "cell_type": "markdown",
   "id": "understanding-naples",
   "metadata": {},
   "source": [
    "L'image qu'on a généré est à partir de la forme du 0. On devine une ressemblance avec la forme légèrement sphérique du pattern."
   ]
  },
  {
   "cell_type": "code",
   "execution_count": 74,
   "id": "dimensional-findings",
   "metadata": {},
   "outputs": [
    {
     "data": {
      "text/plain": [
       "<matplotlib.image.AxesImage at 0x229615f60c8>"
      ]
     },
     "execution_count": 74,
     "metadata": {},
     "output_type": "execute_result"
    },
    {
     "data": {
      "image/png": "[encoded data removed]",
      "text/plain": [
       "<Figure size 432x288 with 1 Axes>"
      ]
     },
     "metadata": {
      "needs_background": "light"
     },
     "output_type": "display_data"
    }
   ],
   "source": [
    "filename= 'C:/Users/antoi/Documents/Telecom Paris/Cours/MDI341 Machine Learning Avancée/TP6 HMM/data_txt_compact/A1.txt'\n",
    "A1 = np.loadtxt(filename) \n",
    "filename= 'C:/Users/antoi/Documents/Telecom Paris/Cours/MDI341 Machine Learning Avancée/TP6 HMM/data_txt_compact/B1.txt'\n",
    "B1 = np.loadtxt(filename) \n",
    "filename= 'C:/Users/antoi/Documents/Telecom Paris/Cours/MDI341 Machine Learning Avancée/TP6 HMM/data_txt_compact/vect_pi1.txt'\n",
    "pi1 = np.loadtxt(filename) \n",
    "\n",
    "state_seq1 = genere_state_seq(A1)\n",
    "observation1 = genere_observation(B1, state_seq1)\n",
    "\n",
    "im1=[]\n",
    "# les x contiennent les index dans le dictionnaire\n",
    "for o in observation1 :\n",
    "    im_col=v[:, o]\n",
    "    im1.append(im_col)\n",
    "    \n",
    "im1 = np.array(im1).T\n",
    "plt.imshow(im1*255, cmap='gray', aspect='auto')"
   ]
  },
  {
   "cell_type": "markdown",
   "id": "tracked-victim",
   "metadata": {},
   "source": [
    "Cette forme est généré à partir d'un 1. On peut deviner légèrement la forme allongée du 1."
   ]
  },
  {
   "cell_type": "code",
   "execution_count": 78,
   "id": "annoying-placement",
   "metadata": {},
   "outputs": [
    {
     "data": {
      "text/plain": [
       "<matplotlib.image.AxesImage at 0x229627554c8>"
      ]
     },
     "execution_count": 78,
     "metadata": {},
     "output_type": "execute_result"
    },
    {
     "data": {
      "image/png": "[encoded data removed]",
      "text/plain": [
       "<Figure size 432x288 with 1 Axes>"
      ]
     },
     "metadata": {
      "needs_background": "light"
     },
     "output_type": "display_data"
    }
   ],
   "source": [
    "filename= 'C:/Users/antoi/Documents/Telecom Paris/Cours/MDI341 Machine Learning Avancée/TP6 HMM/data_txt_compact/A7.txt'\n",
    "A7 = np.loadtxt(filename) \n",
    "filename= 'C:/Users/antoi/Documents/Telecom Paris/Cours/MDI341 Machine Learning Avancée/TP6 HMM/data_txt_compact/B7.txt'\n",
    "B7 = np.loadtxt(filename) \n",
    "filename= 'C:/Users/antoi/Documents/Telecom Paris/Cours/MDI341 Machine Learning Avancée/TP6 HMM/data_txt_compact/vect_pi7.txt'\n",
    "pi7 = np.loadtxt(filename) \n",
    "\n",
    "state_seq7 = genere_state_seq(A7)\n",
    "observation7 = genere_observation(B7, state_seq7)\n",
    "\n",
    "im7=[]\n",
    "# les x contiennent les index dans le dictionnaire\n",
    "for o in observation7 :\n",
    "    im_col=v[:, o]\n",
    "    im7.append(im_col)\n",
    "    \n",
    "im7 = np.array(im7).T\n",
    "plt.imshow(im7*255, cmap='gray', aspect='auto')"
   ]
  },
  {
   "cell_type": "markdown",
   "id": "material-detective",
   "metadata": {},
   "source": [
    "Pour le 7, c'est un peu plus difficile de rapprocher ce pattern d'une forme connue."
   ]
  },
  {
   "cell_type": "markdown",
   "id": "addressed-boulder",
   "metadata": {},
   "source": [
    "#### 2. Calcul de la vraisemblance de séquences d’observations"
   ]
  },
  {
   "cell_type": "markdown",
   "id": "diagnostic-justice",
   "metadata": {},
   "source": [
    "##### a)"
   ]
  },
  {
   "cell_type": "code",
   "execution_count": 82,
   "id": "meaning-parcel",
   "metadata": {},
   "outputs": [],
   "source": [
    "filename = \"C:/Users/antoi/Documents/Telecom Paris/Cours/MDI341 Machine Learning Avancée/TP6 HMM/data_txt_compact/SeqTest0.txt\"\n",
    "SeqTest0 = np.loadtxt(filename)\n",
    "\n",
    "filename = \"C:/Users/antoi/Documents/Telecom Paris/Cours/MDI341 Machine Learning Avancée/TP6 HMM/data_txt_compact/SeqTest1.txt\"\n",
    "SeqTest1 = np.loadtxt(filename)\n",
    "\n",
    "filename = \"C:/Users/antoi/Documents/Telecom Paris/Cours/MDI341 Machine Learning Avancée/TP6 HMM/data_txt_compact/SeqTest7.txt\"\n",
    "SeqTest7 = np.loadtxt(filename)"
   ]
  },
  {
   "cell_type": "markdown",
   "id": "prospective-complexity",
   "metadata": {},
   "source": [
    "##### b)"
   ]
  },
  {
   "cell_type": "code",
   "execution_count": 83,
   "id": "respective-seeker",
   "metadata": {},
   "outputs": [],
   "source": [
    "def vraisemblance_viterbi(A, B, Pi, sequence_obs):\n",
    "    eps = 1e-7\n",
    "    A = np.log(A + eps)\n",
    "    B = np.log(B + eps)\n",
    "    Pi = np.log(Pi + eps)\n",
    "    \n",
    "    d = np.zeros((5,28), dtype = np.int)\n",
    "    p = np.zeros((5,28), dtype = np.int)\n",
    "    obs = [int(i) for i in sequence_obs]\n",
    "    d[:,0] =  Pi + B[obs[0]-1,:]\n",
    "    \n",
    "    for j in range(1, 28):\n",
    "        k = obs[j] - 1\n",
    "        for i in range(5):\n",
    "            seq = A[:, i] + d[:, j - 1]\n",
    "            d[i, j] = B[k, i] + np.max(seq)\n",
    "            p[i, j] = np.argmax(seq)\n",
    "            \n",
    "    track = np.zeros(28, dtype = np.int)\n",
    "    track[-1] = np.argmax(d[:,-1])\n",
    "    \n",
    "    for k in range(28 - 2, -1, -1):\n",
    "        track[k] = p[track[k+1], 1 + k]\n",
    "\n",
    "    likelihood = d[track[-1], -1]\n",
    "    return likelihood"
   ]
  },
  {
   "cell_type": "code",
   "execution_count": 85,
   "id": "flexible-bedroom",
   "metadata": {},
   "outputs": [
    {
     "name": "stdout",
     "output_type": "stream",
     "text": [
      "Vraisemblance pour 0 : -17.3\n",
      "Vraisemblance pour 1 : -69.7\n",
      "Vraisemblance pour 7 : -74.3\n"
     ]
    }
   ],
   "source": [
    "liste_vraisemblance_0 = []\n",
    "liste_vraisemblance_1 = []\n",
    "liste_vraisemblance_7 = []\n",
    "\n",
    "for i,seq in enumerate(SeqTest0):\n",
    "    liste_vraisemblance_0.append(vraisemblance_viterbi(A0,B0,pi0, seq))\n",
    "    \n",
    "    liste_vraisemblance_1.append(vraisemblance_viterbi(A1,B1,pi1, seq))\n",
    "\n",
    "    liste_vraisemblance_7.append(vraisemblance_viterbi(A7,B7,pi7, seq))\n",
    "    \n",
    "print('Vraisemblance pour 0 :', np.mean(liste_vraisemblance_0))\n",
    "print('Vraisemblance pour 1 :', np.mean(liste_vraisemblance_1))\n",
    "print('Vraisemblance pour 7 :', np.mean(liste_vraisemblance_7))"
   ]
  },
  {
   "cell_type": "code",
   "execution_count": 86,
   "id": "macro-category",
   "metadata": {},
   "outputs": [
    {
     "name": "stdout",
     "output_type": "stream",
     "text": [
      "Vraisemblance pour 0 : -20.1\n",
      "Vraisemblance pour 1 : -12.2\n",
      "Vraisemblance pour 7 : -29.6\n"
     ]
    }
   ],
   "source": [
    "liste_vraisemblance_0 = []\n",
    "liste_vraisemblance_1 = []\n",
    "liste_vraisemblance_7 = []\n",
    "\n",
    "for i,seq in enumerate(SeqTest1):\n",
    "    liste_vraisemblance_0.append(vraisemblance_viterbi(A0,B0,pi0, seq))\n",
    "    \n",
    "    liste_vraisemblance_1.append(vraisemblance_viterbi(A1,B1,pi1, seq))\n",
    "\n",
    "    liste_vraisemblance_7.append(vraisemblance_viterbi(A7,B7,pi7, seq))\n",
    "    \n",
    "print('Vraisemblance pour 0 :', np.mean(liste_vraisemblance_0))\n",
    "print('Vraisemblance pour 1 :', np.mean(liste_vraisemblance_1))\n",
    "print('Vraisemblance pour 7 :', np.mean(liste_vraisemblance_7))"
   ]
  },
  {
   "cell_type": "code",
   "execution_count": 87,
   "id": "hungarian-movie",
   "metadata": {},
   "outputs": [
    {
     "name": "stdout",
     "output_type": "stream",
     "text": [
      "Vraisemblance pour 0 : -58.1\n",
      "Vraisemblance pour 1 : -53.3\n",
      "Vraisemblance pour 7 : -20.0\n"
     ]
    }
   ],
   "source": [
    "liste_vraisemblance_0 = []\n",
    "liste_vraisemblance_1 = []\n",
    "liste_vraisemblance_7 = []\n",
    "\n",
    "for i,seq in enumerate(SeqTest7):\n",
    "    liste_vraisemblance_0.append(vraisemblance_viterbi(A0,B0,pi0, seq))\n",
    "    \n",
    "    liste_vraisemblance_1.append(vraisemblance_viterbi(A1,B1,pi1, seq))\n",
    "\n",
    "    liste_vraisemblance_7.append(vraisemblance_viterbi(A7,B7,pi7, seq))\n",
    "    \n",
    "print('Vraisemblance pour 0 :', np.mean(liste_vraisemblance_0))\n",
    "print('Vraisemblance pour 1 :', np.mean(liste_vraisemblance_1))\n",
    "print('Vraisemblance pour 7 :', np.mean(liste_vraisemblance_7))"
   ]
  },
  {
   "cell_type": "markdown",
   "id": "impressive-project",
   "metadata": {},
   "source": [
    "Les vraisemblances sont bien cohérentes vis à vis des séquences et des modèles."
   ]
  }
 ],
 "metadata": {
  "kernelspec": {
   "display_name": "Python 3",
   "language": "python",
   "name": "python3"
  },
  "language_info": {
   "codemirror_mode": {
    "name": "ipython",
    "version": 3
   },
   "file_extension": ".py",
   "mimetype": "text/x-python",
   "name": "python",
   "nbconvert_exporter": "python",
   "pygments_lexer": "ipython3",
   "version": "3.7.9"
  }
 },
 "nbformat": 4,
 "nbformat_minor": 5
}
