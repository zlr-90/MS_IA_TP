{
 "cells": [
  {
   "cell_type": "markdown",
   "metadata": {},
   "source": [
    "# Installation\n",
    "\n",
    "- Python version 3.7.x\n",
    "- `pip install -u pip`\n",
    "- `pip install -r requirements.txt`"
   ]
  },
  {
   "cell_type": "markdown",
   "metadata": {},
   "source": [
    "## Problem description\n",
    "\n",
    "#### Veepee's business description\n",
    "\n",
    "Veepee is an online flash sales website which offers a large number of new sales everyday with huge discounts up to 70%. Sales are available for a very short period of time.\n",
    "\n",
    "On Veepee's website, there are **about 200 flash sales on the home page** on a given day divided into several sectors like fashion, accessories, toys, watches, home appliances, sports equipment, technology, wines, travel, etc.\n",
    "\n",
    "New sales open every day and old sales either continue or stop.\n",
    "\n",
    "#### Homepage recommendation problem\n",
    "\n",
    "Because the number of sales (also called operations) is important, users might not scroll until the end of the homepage to see all the banners and might leave Veepee if no sales at the top of the page are relevant to them.\n",
    "\n",
    "Thus, the main goal of the homepage customization will be to rank the banners so that the most relevant active sales for a customer appear on top of the page.\n",
    "\n",
    "For that, we rely on the user's previous orders and preferences but also on sales popularity and other global information.\n",
    "\n",
    "#### First connection issue\n",
    "\n",
    "Because the ranking algorithm uses members features which are processed once a day, when a user comes for the first time, its home page is not personalized until the next day.\n",
    "\n",
    "**The goal of these notebooks is to make a first ranking by presenting the user some operations and ask him if he is interested or not.**"
   ]
  },
  {
   "cell_type": "markdown",
   "metadata": {},
   "source": [
    "# 1 - Random propositions"
   ]
  },
  {
   "cell_type": "markdown",
   "metadata": {},
   "source": [
    "## Imports"
   ]
  },
  {
   "cell_type": "code",
   "execution_count": 135,
   "metadata": {},
   "outputs": [],
   "source": [
    "import pandas as pd\n",
    "import random\n",
    "import numpy as np"
   ]
  },
  {
   "cell_type": "code",
   "execution_count": 2,
   "metadata": {},
   "outputs": [],
   "source": [
    "random.seed(84)"
   ]
  },
  {
   "cell_type": "code",
   "execution_count": 3,
   "metadata": {},
   "outputs": [
    {
     "data": {
      "application/javascript": [
       "IPython.OutputArea.prototype._should_scroll = function(lines) {\n",
       "    return false;\n",
       "}\n"
      ],
      "text/plain": [
       "<IPython.core.display.Javascript object>"
      ]
     },
     "metadata": {},
     "output_type": "display_data"
    }
   ],
   "source": [
    "%%javascript\n",
    "IPython.OutputArea.prototype._should_scroll = function(lines) {\n",
    "    return false;\n",
    "}"
   ]
  },
  {
   "cell_type": "markdown",
   "metadata": {},
   "source": [
    "## Loading the data"
   ]
  },
  {
   "cell_type": "markdown",
   "metadata": {},
   "source": [
    "The dataframe contains the features of the operation and the related banner. For the train we took all the operations displayed on the homepage on `2020-08-04` (these operation can be new operations or ongoing ones). For the test set, we only took the operations which started in `2020-10-30`."
   ]
  },
  {
   "cell_type": "code",
   "execution_count": 4,
   "metadata": {},
   "outputs": [],
   "source": [
    "train_ops = pd.read_pickle(\"train_2020-08-04.pickle\")\n",
    "test_ops = pd.read_pickle(\"test_2020-10-30.pickle\")"
   ]
  },
  {
   "cell_type": "markdown",
   "metadata": {},
   "source": [
    "### Operations features"
   ]
  },
  {
   "cell_type": "code",
   "execution_count": 5,
   "metadata": {},
   "outputs": [
    {
     "data": {
      "text/html": [
       "<div>\n",
       "<style scoped>\n",
       "    .dataframe tbody tr th:only-of-type {\n",
       "        vertical-align: middle;\n",
       "    }\n",
       "\n",
       "    .dataframe tbody tr th {\n",
       "        vertical-align: top;\n",
       "    }\n",
       "\n",
       "    .dataframe thead th {\n",
       "        text-align: right;\n",
       "    }\n",
       "</style>\n",
       "<table border=\"1\" class=\"dataframe\">\n",
       "  <thead>\n",
       "    <tr style=\"text-align: right;\">\n",
       "      <th></th>\n",
       "      <th>operationcd</th>\n",
       "      <th>secteur_principal</th>\n",
       "      <th>sous_secteur_principal</th>\n",
       "      <th>business_type</th>\n",
       "      <th>brand</th>\n",
       "      <th>operation_type</th>\n",
       "      <th>front_secteur</th>\n",
       "      <th>front_sous_secteur</th>\n",
       "      <th>banner</th>\n",
       "    </tr>\n",
       "  </thead>\n",
       "  <tbody>\n",
       "    <tr>\n",
       "      <th>0</th>\n",
       "      <td>RCLOUD5</td>\n",
       "      <td>DECO / MEUBLE</td>\n",
       "      <td>LITERIE</td>\n",
       "      <td>Vente privée</td>\n",
       "      <td>ROYAL CLOUD</td>\n",
       "      <td>Classique</td>\n",
       "      <td>Maison</td>\n",
       "      <td>Ameublement</td>\n",
       "      <td>b'\\xff\\xd8\\xff\\xed\\x01\\xecPhotoshop 3.0\\x008BI...</td>\n",
       "    </tr>\n",
       "    <tr>\n",
       "      <th>1</th>\n",
       "      <td>PBOTTLE4</td>\n",
       "      <td>MATERIEL SPORT</td>\n",
       "      <td>MATÉRIEL OUTDOOR</td>\n",
       "      <td>Vente privée</td>\n",
       "      <td>POP BOTTLES</td>\n",
       "      <td>Classique</td>\n",
       "      <td>Sport</td>\n",
       "      <td>Matériel de sport</td>\n",
       "      <td>b'\\xff\\xd8\\xff\\xed\\x01\\xecPhotoshop 3.0\\x008BI...</td>\n",
       "    </tr>\n",
       "    <tr>\n",
       "      <th>2</th>\n",
       "      <td>JDA9</td>\n",
       "      <td>PARCS</td>\n",
       "      <td>PARC D'ATTRACTION</td>\n",
       "      <td>Entertainment</td>\n",
       "      <td>LE JARDIN D ACCLIMATATION_BILLETTERIE</td>\n",
       "      <td>VBI interne</td>\n",
       "      <td>INCONNU</td>\n",
       "      <td>INCONNU</td>\n",
       "      <td>b'\\xff\\xd8\\xff\\xe1\\x00\\x18Exif\\x00\\x00II*\\x00\\...</td>\n",
       "    </tr>\n",
       "    <tr>\n",
       "      <th>3</th>\n",
       "      <td>BRAX8</td>\n",
       "      <td>PAP FEMME</td>\n",
       "      <td>CLASSIQUE</td>\n",
       "      <td>Vente privée</td>\n",
       "      <td>BRAX</td>\n",
       "      <td>Classique</td>\n",
       "      <td>Mode</td>\n",
       "      <td>Vêtements Femme</td>\n",
       "      <td>b'\\xff\\xd8\\xff\\xed\\x01\\xd6Photoshop 3.0\\x008BI...</td>\n",
       "    </tr>\n",
       "    <tr>\n",
       "      <th>4</th>\n",
       "      <td>CCO37</td>\n",
       "      <td>DIVERS</td>\n",
       "      <td>DIVERS</td>\n",
       "      <td>Vente privée</td>\n",
       "      <td>CONDOMS &amp; CO</td>\n",
       "      <td>Classique</td>\n",
       "      <td>INCONNU</td>\n",
       "      <td>INCONNU</td>\n",
       "      <td>b'\\xff\\xd8\\xff\\xe1\\x00\\x18Exif\\x00\\x00II*\\x00\\...</td>\n",
       "    </tr>\n",
       "  </tbody>\n",
       "</table>\n",
       "</div>"
      ],
      "text/plain": [
       "  operationcd secteur_principal sous_secteur_principal  business_type  \\\n",
       "0     RCLOUD5     DECO / MEUBLE                LITERIE   Vente privée   \n",
       "1    PBOTTLE4    MATERIEL SPORT       MATÉRIEL OUTDOOR   Vente privée   \n",
       "2        JDA9             PARCS      PARC D'ATTRACTION  Entertainment   \n",
       "3       BRAX8         PAP FEMME              CLASSIQUE   Vente privée   \n",
       "4       CCO37            DIVERS                 DIVERS   Vente privée   \n",
       "\n",
       "                                   brand operation_type front_secteur  \\\n",
       "0                            ROYAL CLOUD      Classique        Maison   \n",
       "1                            POP BOTTLES      Classique         Sport   \n",
       "2  LE JARDIN D ACCLIMATATION_BILLETTERIE    VBI interne       INCONNU   \n",
       "3                                   BRAX      Classique          Mode   \n",
       "4                           CONDOMS & CO      Classique       INCONNU   \n",
       "\n",
       "  front_sous_secteur                                             banner  \n",
       "0        Ameublement  b'\\xff\\xd8\\xff\\xed\\x01\\xecPhotoshop 3.0\\x008BI...  \n",
       "1  Matériel de sport  b'\\xff\\xd8\\xff\\xed\\x01\\xecPhotoshop 3.0\\x008BI...  \n",
       "2            INCONNU  b'\\xff\\xd8\\xff\\xe1\\x00\\x18Exif\\x00\\x00II*\\x00\\...  \n",
       "3    Vêtements Femme  b'\\xff\\xd8\\xff\\xed\\x01\\xd6Photoshop 3.0\\x008BI...  \n",
       "4            INCONNU  b'\\xff\\xd8\\xff\\xe1\\x00\\x18Exif\\x00\\x00II*\\x00\\...  "
      ]
     },
     "execution_count": 5,
     "metadata": {},
     "output_type": "execute_result"
    }
   ],
   "source": [
    "train_ops.head()"
   ]
  },
  {
   "cell_type": "markdown",
   "metadata": {},
   "source": [
    "- `operationcd`: code of the operation\n",
    "- `secteur_principal`: first level of two of the internal taxonomy\n",
    "- `sous_secteur_principal`: second level of two of the internal taxonomy\n",
    "- `business_type`: 'Vente privée', 'Entertainment', 'MEDIA', 'Vin', 'One Day', 'Voyage'\n",
    "- `brand`: name of the brand\n",
    "- `operation_type`: 'Classique', 'VBI interne', 'Thématique', 'Vin classique', 'One Day', 'Hotel Planet', 'Séquence caviste'\n",
    "- `front_secteur`: first level of two of the homepage taxonomy\n",
    "- `front_sous_secteur`: second level of two of the homepage taxonomy"
   ]
  },
  {
   "cell_type": "markdown",
   "metadata": {},
   "source": [
    "### Operations banners"
   ]
  },
  {
   "cell_type": "code",
   "execution_count": 6,
   "metadata": {},
   "outputs": [
    {
     "data": {
      "image/jpeg": "[encoded data removed]",
      "text/plain": [
       "<IPython.core.display.Image object>"
      ]
     },
     "execution_count": 6,
     "metadata": {},
     "output_type": "execute_result"
    }
   ],
   "source": [
    "from IPython import display\n",
    "from base64 import b64decode\n",
    "\n",
    "display.Image(train_ops.loc[56].banner)"
   ]
  },
  {
   "cell_type": "markdown",
   "metadata": {},
   "source": [
    "So the homepage consists on 200 banners like this one displayed in two columns. On the banner you will have the brand name of the operation and a specific visual."
   ]
  },
  {
   "cell_type": "markdown",
   "metadata": {},
   "source": [
    "## Exercice Setup"
   ]
  },
  {
   "cell_type": "markdown",
   "metadata": {},
   "source": [
    "In the next cells we will simulate a small survey given to a new user:\n",
    "\n",
    "We will display operations randomly and ask the user for his/her interest. Each operation is selected completely randomly."
   ]
  },
  {
   "cell_type": "code",
   "execution_count": 7,
   "metadata": {},
   "outputs": [],
   "source": [
    "# Imports\n",
    "from ipywidgets import AppLayout, Button, GridspecLayout, Image, Layout "
   ]
  },
  {
   "cell_type": "code",
   "execution_count": 8,
   "metadata": {},
   "outputs": [],
   "source": [
    "# Add empty column to record actions\n",
    "train_ops['interested'] = None\n",
    "test_ops['interested'] = None"
   ]
  },
  {
   "cell_type": "code",
   "execution_count": 9,
   "metadata": {},
   "outputs": [],
   "source": [
    "def create_expanded_button(description, button_style):\n",
    "    return Button(\n",
    "        description=description,\n",
    "        button_style=button_style,\n",
    "        layout=Layout(height='auto', width='auto')\n",
    "    )\n",
    "\n",
    "\n",
    "def random_row():\n",
    "    return random.randint(0, len(train_ops) - 1)\n",
    "\n",
    "\n",
    "def get_banner(index, dataset):\n",
    "    return Image(\n",
    "        value=dataset.loc[index].banner,\n",
    "        format='jpg',\n",
    "        width=300,\n",
    "        height=400,\n",
    "    )\n",
    "\n",
    "\n",
    "def plot_grid(df):\n",
    "    n_rows = (len(df)//3) + (len(df) % 3 != 0)\n",
    "    grid = GridspecLayout(n_rows , 3)\n",
    "\n",
    "    cpt = 0\n",
    "    for i in range(n_rows):\n",
    "        for j in range(3):\n",
    "            if cpt < len(df):\n",
    "                grid[i, j] = get_banner(df.index[cpt], df)\n",
    "                cpt += 1 \n",
    "    return grid"
   ]
  },
  {
   "cell_type": "code",
   "execution_count": 10,
   "metadata": {
    "scrolled": true
   },
   "outputs": [
    {
     "data": {
      "application/vnd.jupyter.widget-view+json": {
       "model_id": "70b3265db2e74c3ab2c9aa2ab041d669",
       "version_major": 2,
       "version_minor": 0
      },
      "text/plain": [
       "AppLayout(children=(Button(button_style='danger', description='Not Interested', layout=Layout(grid_area='left-…"
      ]
     },
     "metadata": {},
     "output_type": "display_data"
    }
   ],
   "source": [
    "# Setting the left button: Not Interested\n",
    "left_button = create_expanded_button('Not Interested', 'danger')\n",
    "\n",
    "# Setting the image in the center\n",
    "current_row_number = random_row()\n",
    "img = get_banner(current_row_number, train_ops)\n",
    "\n",
    "# Setting the right button: Interested\n",
    "right_button = create_expanded_button('Interested', 'success')\n",
    "\n",
    "\n",
    "def on_button_clicked(b):\n",
    "    \"\"\"\n",
    "    Update the values related to the users choice\n",
    "    Choose a new operation to display\n",
    "    Update the banner displayed\n",
    "    \"\"\"\n",
    "    update_values(b)\n",
    "    row_number = choose_row_number()\n",
    "    update_banner(b, row_number)\n",
    "    \n",
    "\n",
    "def update_values(b):\n",
    "    \"\"\"\n",
    "    Update the dataframe column \"interested\" using user's action\n",
    "    \"\"\"\n",
    "    global current_row_number\n",
    "\n",
    "    interested = b.description == \"Interested\"\n",
    "    train_ops.loc[current_row_number, 'interested'] = interested\n",
    "    \n",
    "\n",
    "def choose_row_number():\n",
    "    \"\"\"\n",
    "    Choose randomly a new operation not already seen\n",
    "    \"\"\"\n",
    "    row_number = random_row()\n",
    "    if train_ops.loc[row_number].interested is None:\n",
    "        return row_number\n",
    "    \n",
    "    while(train_ops.loc[row_number].interested is not None):\n",
    "        row_number = random_row()\n",
    "    \n",
    "    return row_number\n",
    "\n",
    "\n",
    "def update_banner(b, row_number):\n",
    "    \"\"\"\n",
    "    Update the value of the image widget with the new banner's string\n",
    "    \"\"\"\n",
    "    global current_row_number\n",
    "\n",
    "    current_row_number = row_number\n",
    "    banner = train_ops.loc[current_row_number].banner\n",
    "    img.value = banner\n",
    "\n",
    "# Set the on_click function to the button\n",
    "left_button.on_click(on_button_clicked)\n",
    "right_button.on_click(on_button_clicked)\n",
    "\n",
    "# https://ipywidgets.readthedocs.io/en/stable/examples/Layout%20Templates.html#AppLayout\n",
    "AppLayout(\n",
    "    left_sidebar=left_button,\n",
    "    center=img,\n",
    "    right_sidebar=right_button\n",
    ")"
   ]
  },
  {
   "cell_type": "markdown",
   "metadata": {},
   "source": [
    "### Sum up operations seen"
   ]
  },
  {
   "cell_type": "markdown",
   "metadata": {},
   "source": [
    "#### Liked"
   ]
  },
  {
   "cell_type": "code",
   "execution_count": 11,
   "metadata": {},
   "outputs": [
    {
     "data": {
      "application/vnd.jupyter.widget-view+json": {
       "model_id": "392816b9a5cd4ba0b76eccdbcc879e46",
       "version_major": 2,
       "version_minor": 0
      },
      "text/plain": [
       "GridspecLayout(children=(Image(value=b'\\xff\\xd8\\xff\\xe1\\x00\\x18Exif\\x00\\x00II*\\x00\\x08\\x00\\x00\\x00\\x00\\x00\\x00…"
      ]
     },
     "metadata": {},
     "output_type": "display_data"
    }
   ],
   "source": [
    "viewed_ops = train_ops[~train_ops['interested'].isna()]\n",
    "plot_grid(viewed_ops[viewed_ops.interested])"
   ]
  },
  {
   "cell_type": "markdown",
   "metadata": {},
   "source": [
    "#### Not Liked"
   ]
  },
  {
   "cell_type": "code",
   "execution_count": 12,
   "metadata": {},
   "outputs": [
    {
     "data": {
      "application/vnd.jupyter.widget-view+json": {
       "model_id": "5ed5ba16ed4a42fab75c8c8c77739cc0",
       "version_major": 2,
       "version_minor": 0
      },
      "text/plain": [
       "GridspecLayout(children=(Image(value=b'\\xff\\xd8\\xff\\xed\\x01\\xecPhotoshop 3.0\\x008BIM\\x04\\x04\\x00\\x00\\x00\\x00\\x…"
      ]
     },
     "metadata": {},
     "output_type": "display_data"
    }
   ],
   "source": [
    "plot_grid(viewed_ops[~viewed_ops.interested.astype(bool)])"
   ]
  },
  {
   "cell_type": "markdown",
   "metadata": {},
   "source": [
    "## Learn and Predict"
   ]
  },
  {
   "cell_type": "markdown",
   "metadata": {},
   "source": [
    "### Logistic Regression\n",
    "\n",
    "Let us first implement a simple logistic regression and learn the user's preferences.\n",
    "\n",
    "We will then be able to rank the test operations based on the previous feedbacks."
   ]
  },
  {
   "cell_type": "code",
   "execution_count": 15,
   "metadata": {},
   "outputs": [],
   "source": [
    "from sklearn.linear_model import LogisticRegression"
   ]
  },
  {
   "cell_type": "code",
   "execution_count": 44,
   "metadata": {},
   "outputs": [],
   "source": [
    "train_ops['dataset'] = \"train\"\n",
    "test_ops['dataset'] = \"test\"\n",
    "test_ops = test_ops.drop(columns=['prediction'], errors=\"ignore\")\n",
    "\n",
    "data = pd.concat([train_ops, test_ops])\n",
    "\n",
    "X = pd.get_dummies(data[data.columns.difference(['operationcd', 'banner', 'interested', 'dataset'])])\n",
    "y = data.interested\n",
    "\n",
    "X_train = X[data[\"dataset\"] == \"train\"]\n",
    "y_train = y[data[\"dataset\"] == \"train\"]\n",
    "\n",
    "ytrain = y_train.loc[(y_train == False) | (y_train == True)]\n",
    "ytrain = ytrain.astype(int)\n",
    "Xtrain = X_train.loc[(y_train == False) | (y_train == True)]\n",
    "\n",
    "X_test = X[data[\"dataset\"] == \"test\"]\n",
    "\n",
    "###############################################################################\n",
    "# - Train simple Logistic Regression model on the features and feedbacks      #\n",
    "# - Make predictions on the test set                                          #\n",
    "# - Add a new column to the test set with the predicted values                #\n",
    "###############################################################################\n",
    "\n",
    "clf = LogisticRegression().fit(Xtrain, ytrain)\n",
    "y_predict = clf.predict(X_test)\n",
    "test_ops['prediction'] = y_predict\n",
    "\n",
    "###############################################################################\n",
    "\n",
    "sorted_ops = test_ops.sort_values(by=\"prediction\", ascending=False)"
   ]
  },
  {
   "cell_type": "markdown",
   "metadata": {},
   "source": [
    "#### Display ranking on test"
   ]
  },
  {
   "cell_type": "code",
   "execution_count": 45,
   "metadata": {},
   "outputs": [
    {
     "data": {
      "application/vnd.jupyter.widget-view+json": {
       "model_id": "b519059a07d54108bd392126216ff8a6",
       "version_major": 2,
       "version_minor": 0
      },
      "text/plain": [
       "GridspecLayout(children=(Image(value=b'\\xff\\xd8\\xff\\xe1\\x00\\x18Exif\\x00\\x00II*\\x00\\x08\\x00\\x00\\x00\\x00\\x00\\x00…"
      ]
     },
     "metadata": {},
     "output_type": "display_data"
    }
   ],
   "source": [
    "plot_grid(sorted_ops)"
   ]
  },
  {
   "cell_type": "markdown",
   "metadata": {},
   "source": [
    "### Conclusions\n",
    "\n",
    "###############################################################################\n",
    "\n",
    "On retrouve bien beaucoup de voyages, comme ce que j'i pu compléter précedemment.\n",
    "\n",
    "###############################################################################"
   ]
  },
  {
   "cell_type": "code",
   "execution_count": 228,
   "metadata": {},
   "outputs": [],
   "source": [
    "%reset -f"
   ]
  },
  {
   "cell_type": "markdown",
   "metadata": {},
   "source": [
    "# 2 - Online Learning"
   ]
  },
  {
   "cell_type": "markdown",
   "metadata": {},
   "source": [
    "## The Contextual Bandit\n",
    "\n",
    "The Contextual Bandit is just like the Multi-Armed bandit problem but now the reward probability distribution depends on external variables. Therefore, we add the notion of **context** or **state** to support our decision.\n",
    "\n",
    "We're going to suppose that the probabilty of reward is of the form\n",
    "\n",
    "$$\\theta(x) = \\frac{1}{1 + exp(-f(x))}$$\n",
    "\n",
    "where \n",
    "\n",
    "$$f(x) = \\beta_0 + \\sum_{i=0}^{d}{\\beta_i \\cdot x_i} + \\epsilon$$\n",
    "\n",
    "which is just assuming that the probability of reward linearly depends of an external variable $x$ with logistic link."
   ]
  },
  {
   "cell_type": "markdown",
   "metadata": {},
   "source": [
    "- $x$: the context. Features of the operation.\n",
    "- $d$: size of the context\n",
    "- $\\beta_i$: the param learned to predict the probability of interest\n",
    "- $\\theta(x)$: The logistic normalization to compute the probability of reward"
   ]
  },
  {
   "cell_type": "markdown",
   "metadata": {},
   "source": [
    "### Logistic Regression\n",
    "\n",
    "Let us implement a regular logistic regression, and use an $\\epsilon$-greedy policy to choose which bandit to activate. We try to learn the logistic function behind each bandit:\n",
    "\n",
    "$$\\theta(x) = \\frac{1}{1 + exp(-f(x))}$$\n",
    "\n",
    "where \n",
    "\n",
    "$$f(x) = \\beta_0 + \\sum_{i=0}^{d}{\\beta_i \\cdot x_i} + \\epsilon$$\n",
    "\n",
    "And select the operation which maximizes $\\theta(x)$, except when, with $\\epsilon$ probability, we select a random action (excluding the greedy action)."
   ]
  },
  {
   "cell_type": "code",
   "execution_count": 238,
   "metadata": {},
   "outputs": [],
   "source": [
    "import pandas as pd\n",
    "import random"
   ]
  },
  {
   "cell_type": "code",
   "execution_count": 239,
   "metadata": {},
   "outputs": [],
   "source": [
    "random.seed(84)"
   ]
  },
  {
   "cell_type": "code",
   "execution_count": 240,
   "metadata": {},
   "outputs": [
    {
     "data": {
      "application/javascript": [
       "IPython.OutputArea.prototype._should_scroll = function(lines) {\n",
       "    return false;\n",
       "}\n"
      ],
      "text/plain": [
       "<IPython.core.display.Javascript object>"
      ]
     },
     "metadata": {},
     "output_type": "display_data"
    }
   ],
   "source": [
    "%%javascript\n",
    "IPython.OutputArea.prototype._should_scroll = function(lines) {\n",
    "    return false;\n",
    "}"
   ]
  },
  {
   "cell_type": "code",
   "execution_count": 241,
   "metadata": {},
   "outputs": [],
   "source": [
    "train_ops = pd.read_pickle(\"train_2020-08-04.pickle\")\n",
    "test_ops = pd.read_pickle(\"test_2020-10-30.pickle\")"
   ]
  },
  {
   "cell_type": "code",
   "execution_count": 242,
   "metadata": {},
   "outputs": [],
   "source": [
    "train_ops['interested'] = None\n",
    "test_ops['interested'] = None"
   ]
  },
  {
   "cell_type": "code",
   "execution_count": 243,
   "metadata": {},
   "outputs": [],
   "source": [
    "from ipywidgets import AppLayout, Button, GridspecLayout, Image, Layout "
   ]
  },
  {
   "cell_type": "code",
   "execution_count": 244,
   "metadata": {},
   "outputs": [],
   "source": [
    "def create_expanded_button(description, button_style):\n",
    "    return Button(\n",
    "        description=description,\n",
    "        button_style=button_style,\n",
    "        layout=Layout(height='auto', width='auto')\n",
    "    )\n",
    "\n",
    "\n",
    "def random_row():\n",
    "    return random.randint(0, len(train_ops) - 1)\n",
    "\n",
    "\n",
    "def get_banner(index, dataset):\n",
    "    return Image(\n",
    "        value=dataset.loc[index].banner,\n",
    "        format='jpg',\n",
    "        width=300,\n",
    "        height=400,\n",
    "    )\n",
    "\n",
    "\n",
    "def plot_grid(df):\n",
    "    n_rows = (len(df)//3) + (len(df) % 3 != 0)\n",
    "    grid = GridspecLayout(n_rows , 3)\n",
    "\n",
    "    cpt = 0\n",
    "    for i in range(n_rows):\n",
    "        for j in range(3):\n",
    "            if cpt < len(df):\n",
    "                grid[i, j] = get_banner(df.index[cpt], df)\n",
    "                cpt += 1 \n",
    "    return grid"
   ]
  },
  {
   "cell_type": "code",
   "execution_count": 245,
   "metadata": {},
   "outputs": [],
   "source": [
    "from sklearn.linear_model import LogisticRegression\n",
    "import numpy as np"
   ]
  },
  {
   "cell_type": "code",
   "execution_count": 246,
   "metadata": {
    "scrolled": true
   },
   "outputs": [
    {
     "data": {
      "application/vnd.jupyter.widget-view+json": {
       "model_id": "f0e660bbb1a1415b9e5c5fb1e1ea404a",
       "version_major": 2,
       "version_minor": 0
      },
      "text/plain": [
       "AppLayout(children=(Button(button_style='danger', description='Not Interested', layout=Layout(grid_area='left-…"
      ]
     },
     "metadata": {},
     "output_type": "display_data"
    }
   ],
   "source": [
    "left_button = create_expanded_button('Not Interested', 'danger')\n",
    "\n",
    "current_row_number = random_row()\n",
    "img = get_banner(current_row_number, train_ops)\n",
    "\n",
    "right_button = create_expanded_button('Interested', 'success')\n",
    "\n",
    "EPSILON = 0.1\n",
    "\n",
    "def on_button_clicked(b):\n",
    "    update_values(b)\n",
    "    row_number = choose_row_number()\n",
    "    update_banner(b, row_number)\n",
    "\n",
    "    \n",
    "def update_values(b):\n",
    "    global current_row_number\n",
    "    \n",
    "    interested = b.description == \"Interested\"\n",
    "    train_ops.loc[current_row_number, 'interested'] = interested\n",
    "\n",
    "\n",
    "def update_banner(b, row_number):\n",
    "    global current_row_number\n",
    "\n",
    "    current_row_number = row_number\n",
    "    banner = train_ops.loc[current_row_number].banner\n",
    "    img.value = banner\n",
    "    \n",
    "\n",
    "def choose_row_number():\n",
    "###############################################################################\n",
    "# - Make a random prediction when                                             #\n",
    "#     - the training is not possible                                          #\n",
    "#     - a random value is below Ɛ                                             #\n",
    "# - Else display the most probable operation based on a trained model         #\n",
    "#   (using the previous algorithm)                                            #\n",
    "###############################################################################\n",
    "\n",
    "    if ((train_ops['interested'].loc[(train_ops['interested'] == False)].empty) or train_ops['interested'].loc[(train_ops['interested'] == True)].empty) or (random.random() < EPSILON) :\n",
    "        best_row = random_row()\n",
    "        while(train_ops.loc[best_row].interested is not None):\n",
    "            best_row = random_row()\n",
    "    else :\n",
    "        train_ops['dataset'] = \"train\"\n",
    "\n",
    "        X = pd.get_dummies(train_ops[train_ops.columns.difference(['operationcd', 'banner', 'interested', 'dataset'])])\n",
    "        y = train_ops.interested\n",
    "\n",
    "        clf = LogisticRegression().fit(X[~y.isna()], list(y[~y.isna()].values))\n",
    "        \n",
    "        X.loc[y.isna(), 'prediction'] = clf.predict_proba(X[y.isna()])[:,1]\n",
    "        \n",
    "        best_row =X.sort_values(by='prediction', ascending = False).index[0]\n",
    "        \n",
    "\n",
    "###############################################################################\n",
    "    return best_row\n",
    "\n",
    "\n",
    "left_button.on_click(on_button_clicked)\n",
    "right_button.on_click(on_button_clicked)\n",
    "\n",
    "AppLayout(\n",
    "    left_sidebar=left_button,\n",
    "    center=img,\n",
    "    right_sidebar=right_button\n",
    ")"
   ]
  },
  {
   "cell_type": "markdown",
   "metadata": {},
   "source": [
    "### Sum up operations seen"
   ]
  },
  {
   "cell_type": "markdown",
   "metadata": {},
   "source": [
    "#### Liked"
   ]
  },
  {
   "cell_type": "code",
   "execution_count": 247,
   "metadata": {},
   "outputs": [
    {
     "data": {
      "application/vnd.jupyter.widget-view+json": {
       "model_id": "cd79e1afdf5a4b6e9e4acbd198303659",
       "version_major": 2,
       "version_minor": 0
      },
      "text/plain": [
       "GridspecLayout(children=(Image(value=b'\\xff\\xd8\\xff\\xed\\x01\\xecPhotoshop 3.0\\x008BIM\\x04\\x04\\x00\\x00\\x00\\x00\\x…"
      ]
     },
     "metadata": {},
     "output_type": "display_data"
    }
   ],
   "source": [
    "viewed_ops = train_ops[~train_ops['interested'].isna()]\n",
    "plot_grid(viewed_ops[viewed_ops.interested])"
   ]
  },
  {
   "cell_type": "markdown",
   "metadata": {},
   "source": [
    "#### Not Liked"
   ]
  },
  {
   "cell_type": "code",
   "execution_count": 248,
   "metadata": {},
   "outputs": [
    {
     "data": {
      "application/vnd.jupyter.widget-view+json": {
       "model_id": "567622490e1649078bddf9c5b26ecc85",
       "version_major": 2,
       "version_minor": 0
      },
      "text/plain": [
       "GridspecLayout(children=(Image(value=b'\\xff\\xd8\\xff\\xe1\\x00\\x18Exif\\x00\\x00II*\\x00\\x08\\x00\\x00\\x00\\x00\\x00\\x00…"
      ]
     },
     "metadata": {},
     "output_type": "display_data"
    }
   ],
   "source": [
    "plot_grid(viewed_ops[~viewed_ops.interested.astype(bool)])"
   ]
  },
  {
   "cell_type": "markdown",
   "metadata": {},
   "source": [
    "### Redo Prediction"
   ]
  },
  {
   "cell_type": "code",
   "execution_count": 30,
   "metadata": {},
   "outputs": [],
   "source": [
    "###############################################################################\n",
    "# - Train simple Logistic Regression model on the features and feedbacks      #\n",
    "# - Make predictions on the test set                                          #\n",
    "# - Add a new column to the test set with the predicted values                #\n",
    "###############################################################################\n",
    "\n",
    "\n",
    "\n",
    "\n",
    "\n",
    "###############################################################################\n",
    "\n",
    "sorted_ops = test_ops.sort_values(by=\"prediction\", ascending=False)"
   ]
  },
  {
   "cell_type": "code",
   "execution_count": 31,
   "metadata": {},
   "outputs": [
    {
     "data": {
      "application/vnd.jupyter.widget-view+json": {
       "model_id": "9066415f96314afb92fda8ec39f84dc9",
       "version_major": 2,
       "version_minor": 0
      },
      "text/plain": [
       "GridspecLayout(children=(Image(value=b'\\xff\\xd8\\xff\\xed\\x01\\xdaPhotoshop 3.0\\x008BIM\\x04\\x04\\x00\\x00\\x00\\x00\\x…"
      ]
     },
     "metadata": {},
     "output_type": "display_data"
    }
   ],
   "source": [
    "plot_grid(sorted_ops)"
   ]
  },
  {
   "cell_type": "markdown",
   "metadata": {},
   "source": [
    "### Conclusions\n",
    "\n",
    "###############################################################################\n",
    "\n",
    "Your conclusions\n",
    " \n",
    "###############################################################################"
   ]
  },
  {
   "cell_type": "code",
   "execution_count": 32,
   "metadata": {},
   "outputs": [],
   "source": [
    "%reset -f"
   ]
  },
  {
   "cell_type": "markdown",
   "metadata": {},
   "source": [
    "### Thompson Sampling\n",
    "\n",
    "In 2011, Chapelle & Li published the paper \"[An Empirical Evaluation of Thompson Sampling](https://papers.nips.cc/paper/4321-an-empirical-evaluation-of-thompson-sampling.pdf)\" that helped revive the interest on Thompson Sampling, showing favorable empirical results in comparison to other heuristics. We're going to borrow the Online Logistic Regression algorithm (Algorithm 3) from the paper. Basically, it's a bayesian logistic regression where we define a prior distribution for our weights $\\beta_i$, instead of learning just a single value for them (the expectation of the distribution). \n",
    "\n",
    "So, our model, just like the greedy algorithm, is:\n",
    "\n",
    "$$\\theta = \\frac{1}{1 + exp(-f(x))}$$\n",
    "\n",
    "where \n",
    "\n",
    "$$f(x) = \\sum_{i=0}^{d}{w_i \\cdot x_i}$$\n",
    "\n",
    "but the weights are actually assumed to be distributed as independent gaussians:\n",
    "\n",
    "$$\\beta_i = \\mathcal{N}(m_i,q_i^{-1})$$\n",
    "\n",
    "We initialize all $q_i$'s with a hyperparamenter $\\lambda$, which is equivalent to the $\\lambda$ used in L2 regularization. Then, at each new training example (or batch of examples) we make the following calculations:\n",
    "\n",
    "1. Find $\\textbf{w}$ as the minimizer of $\\frac{1}{2}\\sum_{i=1}^{d} q_i(w_i - m_i)^2 + \\sum_{j=1}^{n} \\textrm{log}(1 + \\textrm{exp}(-y_jw^Tx_j))$\n",
    "2. Update $m_i = w_i$ and perform $q_i = q_i + \\sum_{j=1}^{n} x^2_{ij}p_j(1-p_j)$ where $p_j = (1 + \\textrm{exp}( -w^Tx_j))^{-1}$ ([Laplace approximation](https://en.wikipedia.org/wiki/Laplace%27s_method))\n",
    "\n",
    "In essence, we basically altered the logistic regression fitting process to accomodate distributions for the weights. Our Normal priors on the weights are iteratively updated and as the number of observations grow, our uncertainty over their means is reduced. \n",
    "\n",
    "We can also increase incentives for exploration or exploitation by defining a hyperparameter $\\alpha$, which multiplies the variance of the Normal priors:\n",
    "\n",
    "$$\\beta_i = \\mathcal{N}(m_i,\\alpha \\cdot{} q_i^{-1})$$\n",
    "\n",
    "With $0 < \\alpha < 1$ we reduce the variance of the Normal priors, inducing the algorithm to be greedier, whereas with $\\alpha > 1$ we prioritize exploration. Let us implement the algorithm."
   ]
  },
  {
   "cell_type": "markdown",
   "metadata": {},
   "source": [
    "- $x$: the context. Features of the operation.\n",
    "- $\\beta_i$: the param learned to predict the probability of interest\n",
    "- $\\theta(x)$: The logistic normalization to compute the probability of reward\n",
    "\n",
    "\n",
    "- $w$: weights vector\n",
    "- $m$ and $q$: parameters of the normal priors"
   ]
  },
  {
   "cell_type": "code",
   "execution_count": 33,
   "metadata": {},
   "outputs": [],
   "source": [
    "import numpy as np\n",
    "import pandas as pd\n",
    "import random"
   ]
  },
  {
   "cell_type": "code",
   "execution_count": 34,
   "metadata": {},
   "outputs": [],
   "source": [
    "random.seed(84)"
   ]
  },
  {
   "cell_type": "code",
   "execution_count": 35,
   "metadata": {},
   "outputs": [
    {
     "data": {
      "application/javascript": [
       "IPython.OutputArea.prototype._should_scroll = function(lines) {\n",
       "    return false;\n",
       "}\n"
      ],
      "text/plain": [
       "<IPython.core.display.Javascript object>"
      ]
     },
     "metadata": {},
     "output_type": "display_data"
    }
   ],
   "source": [
    "%%javascript\n",
    "IPython.OutputArea.prototype._should_scroll = function(lines) {\n",
    "    return false;\n",
    "}"
   ]
  },
  {
   "cell_type": "code",
   "execution_count": 36,
   "metadata": {},
   "outputs": [],
   "source": [
    "train_ops = pd.read_pickle(\"train_2020-08-04.pickle\")\n",
    "test_ops = pd.read_pickle(\"test_2020-10-30.pickle\")"
   ]
  },
  {
   "cell_type": "code",
   "execution_count": 37,
   "metadata": {},
   "outputs": [],
   "source": [
    "train_ops['interested'] = None\n",
    "test_ops['interested'] = None"
   ]
  },
  {
   "cell_type": "code",
   "execution_count": 38,
   "metadata": {},
   "outputs": [],
   "source": [
    "from ipywidgets import AppLayout, Button, GridspecLayout, Image, Layout "
   ]
  },
  {
   "cell_type": "code",
   "execution_count": 39,
   "metadata": {},
   "outputs": [],
   "source": [
    "def create_expanded_button(description, button_style):\n",
    "    return Button(\n",
    "        description=description,\n",
    "        button_style=button_style,\n",
    "        layout=Layout(height='auto', width='auto')\n",
    "    )\n",
    "\n",
    "\n",
    "def random_row():\n",
    "    return random.randint(0, len(train_ops) - 1)\n",
    "\n",
    "\n",
    "def get_banner(index, dataset):\n",
    "    return Image(\n",
    "        value=dataset.loc[index].banner,\n",
    "        format='jpg',\n",
    "        width=300,\n",
    "        height=400,\n",
    "    )\n",
    "\n",
    "\n",
    "def plot_grid(df):\n",
    "    n_rows = (len(df)//3) + (len(df) % 3 != 0)\n",
    "    grid = GridspecLayout(n_rows , 3)\n",
    "\n",
    "    cpt = 0\n",
    "    for i in range(n_rows):\n",
    "        for j in range(3):\n",
    "            if cpt < len(df):\n",
    "                grid[i, j] = get_banner(df.index[cpt], df)\n",
    "                cpt += 1 \n",
    "    return grid"
   ]
  },
  {
   "cell_type": "code",
   "execution_count": 40,
   "metadata": {},
   "outputs": [],
   "source": [
    "from scipy.optimize import minimize\n",
    "\n",
    "class OnlineLogisticRegression:\n",
    "\n",
    "    # initializing\n",
    "    def __init__(self, n_dim, lambda_=5, alpha=5.0):\n",
    "\n",
    "        # the only hyperparameter is the deviation on the prior (L2 regularizer)\n",
    "        self.lambda_ = lambda_; self.alpha = alpha\n",
    "\n",
    "        # initializing parameters of the model\n",
    "        self.n_dim = n_dim,\n",
    "        self.m = np.zeros(self.n_dim)\n",
    "        self.q = np.ones(self.n_dim) * self.lambda_\n",
    "\n",
    "        # initializing weights\n",
    "        self.w = np.random.normal(\n",
    "            self.m,\n",
    "            self.alpha * (self.q)**(-1.0),\n",
    "            size = self.n_dim\n",
    "        )\n",
    "\n",
    "    # the loss function\n",
    "    def loss(self, w, *args):\n",
    "        X, y = args\n",
    "\n",
    "        #######################################################################\n",
    "        # Implement the computation of w                                      #\n",
    "        #######################################################################\n",
    "\n",
    "        \n",
    "        \n",
    "        \n",
    "        #######################################################################\n",
    "        return loss\n",
    "\n",
    "    # the gradient\n",
    "    def grad(self, w, *args):\n",
    "        X, y = args\n",
    "\n",
    "        second_calculus = (-1) * np.array([\n",
    "            y[j] *  X[j] / (1. + np.exp(y[j] * w.dot(X[j])))\n",
    "            for j in range(y.shape[0])\n",
    "        ]).sum(axis=0)\n",
    "\n",
    "        w = self.q * (w - self.m) + second_calculus\n",
    "        \n",
    "        return w\n",
    "\n",
    "    # method for sampling weights\n",
    "    def get_weights(self):\n",
    "        #######################################################################\n",
    "        # Implement the computation beta_i                                    #\n",
    "        #######################################################################\n",
    "        \n",
    "\n",
    "        \n",
    "        \n",
    "        \n",
    "        #######################################################################\n",
    "        \n",
    "        return weights\n",
    "\n",
    "    # fitting method\n",
    "    def fit(self, X, y):\n",
    "\n",
    "        # step 1, find w\n",
    "        self.w = minimize(\n",
    "            self.loss,\n",
    "            self.w,\n",
    "            args=(X, y),\n",
    "            jac=self.grad,\n",
    "            method=\"L-BFGS-B\",\n",
    "            options={'maxiter': 20, 'disp':True}\n",
    "        ).x\n",
    "        self.m = self.w\n",
    "\n",
    "        # step 2, update q\n",
    "        #######################################################################\n",
    "        # Update the value of q based on the computation of the p_i\n",
    "        #######################################################################\n",
    "        \n",
    "\n",
    "        \n",
    "        \n",
    "        #######################################################################\n",
    "\n",
    "    # probability output method, using weights sample\n",
    "    def predict_proba(self, X, mode='sample'):\n",
    "\n",
    "        # adding intercept to X\n",
    "        #X = add_constant(X)\n",
    "\n",
    "        # sampling weights after update\n",
    "        self.w = self.get_weights()\n",
    "\n",
    "        # using weight depending on mode\n",
    "        if mode == 'sample':\n",
    "            w = self.w # weights are samples of posteriors\n",
    "        elif mode == 'expected':\n",
    "            w = self.m # weights are expected values of posteriors\n",
    "        else:\n",
    "            raise Exception('mode not recognized!')\n",
    "\n",
    "        # calculating probabilities\n",
    "        proba = 1 / (1 + np.exp(-1 * X.dot(w)))\n",
    "        return np.array([1-proba , proba]).T"
   ]
  },
  {
   "cell_type": "code",
   "execution_count": 41,
   "metadata": {
    "scrolled": true
   },
   "outputs": [
    {
     "data": {
      "application/vnd.jupyter.widget-view+json": {
       "model_id": "e4fa244c47ef4dbf8b6a9fe7ae28c66b",
       "version_major": 2,
       "version_minor": 0
      },
      "text/plain": [
       "AppLayout(children=(Button(button_style='danger', description='Not Interested', layout=Layout(grid_area='left-…"
      ]
     },
     "metadata": {},
     "output_type": "display_data"
    }
   ],
   "source": [
    "left_button = create_expanded_button('Not Interested', 'danger')\n",
    "\n",
    "current_row_number = random_row()\n",
    "img = get_banner(current_row_number, train_ops)\n",
    "\n",
    "right_button = create_expanded_button('Interested', 'success')\n",
    "\n",
    "\n",
    "def on_button_clicked(b):\n",
    "    update_values(b)\n",
    "    row_number = choose_row_number()\n",
    "    update_banner(b, row_number)\n",
    "\n",
    "\n",
    "def update_values(b):\n",
    "    global current_row_number\n",
    "    \n",
    "    interested = b.description == \"Interested\"\n",
    "    train_ops.loc[current_row_number, 'interested'] = interested\n",
    "\n",
    "\n",
    "def update_banner(b, row_number):\n",
    "    global current_row_number\n",
    "\n",
    "    current_row_number = row_number\n",
    "    banner = train_ops.loc[current_row_number].banner\n",
    "    img.value = banner\n",
    "    \n",
    "\n",
    "def choose_row_number():\n",
    "    # Create the datasets\n",
    "    X = pd.get_dummies(train_ops[train_ops.columns.difference(['operationcd', 'banner', 'interested'])])\n",
    "    y = train_ops.interested\n",
    "    \n",
    "    # Fit the Model\n",
    "    olr = OnlineLogisticRegression(\n",
    "        n_dim=X.shape[1]\n",
    "    )\n",
    "\n",
    "    olr.fit(\n",
    "        X[~y.isna()].values,\n",
    "        y.dropna().values\n",
    "    )\n",
    "\n",
    "    X.loc[y.isna(), 'prediction'] = X[y.isna()].apply(olr.predict_proba, axis=1).apply(pd.Series)[1].values\n",
    "\n",
    "    # Choose the row\n",
    "    best_row = X.sort_values(by=\"prediction\", ascending=False).index[0]\n",
    "    return best_row\n",
    "\n",
    "    \n",
    "left_button.on_click(on_button_clicked)\n",
    "right_button.on_click(on_button_clicked)\n",
    "\n",
    "AppLayout(\n",
    "    left_sidebar=left_button,\n",
    "    center=img,\n",
    "    right_sidebar=right_button\n",
    ")"
   ]
  },
  {
   "cell_type": "markdown",
   "metadata": {},
   "source": [
    "### Sum up operations seen"
   ]
  },
  {
   "cell_type": "markdown",
   "metadata": {},
   "source": [
    "#### Liked"
   ]
  },
  {
   "cell_type": "code",
   "execution_count": 42,
   "metadata": {},
   "outputs": [
    {
     "data": {
      "application/vnd.jupyter.widget-view+json": {
       "model_id": "d937fc77c6c14baa8e0f9e5dd79ac8bc",
       "version_major": 2,
       "version_minor": 0
      },
      "text/plain": [
       "GridspecLayout(children=(Image(value=b'\\xff\\xd8\\xff\\xed\\x01\\xeePhotoshop 3.0\\x008BIM\\x04\\x04\\x00\\x00\\x00\\x00\\x…"
      ]
     },
     "metadata": {},
     "output_type": "display_data"
    }
   ],
   "source": [
    "viewed_ops = train_ops[~train_ops['interested'].isna()]\n",
    "plot_grid(viewed_ops[viewed_ops.interested])"
   ]
  },
  {
   "cell_type": "markdown",
   "metadata": {},
   "source": [
    "#### Not Liked"
   ]
  },
  {
   "cell_type": "code",
   "execution_count": 43,
   "metadata": {},
   "outputs": [
    {
     "data": {
      "application/vnd.jupyter.widget-view+json": {
       "model_id": "e4a0fbc8bc8147479fd4542081c7cc6f",
       "version_major": 2,
       "version_minor": 0
      },
      "text/plain": [
       "GridspecLayout(children=(Image(value=b'\\xff\\xd8\\xff\\xed\\x01\\xecPhotoshop 3.0\\x008BIM\\x04\\x04\\x00\\x00\\x00\\x00\\x…"
      ]
     },
     "metadata": {},
     "output_type": "display_data"
    }
   ],
   "source": [
    "plot_grid(viewed_ops[~viewed_ops.interested.astype(bool)])"
   ]
  },
  {
   "cell_type": "markdown",
   "metadata": {},
   "source": [
    "### Redo Prediction"
   ]
  },
  {
   "cell_type": "code",
   "execution_count": 44,
   "metadata": {},
   "outputs": [],
   "source": [
    "###############################################################################\n",
    "# - Train the Online Logistic Regression model on the features and feedbacks  #\n",
    "# - Make predictions on the test set                                          #\n",
    "# - Add a new column to the test set with the predicted values                #\n",
    "###############################################################################\n",
    "\n",
    "\n",
    "\n",
    "\n",
    "\n",
    "###############################################################################\n",
    "\n",
    "sorted_ops = test_ops.sort_values(by=\"prediction\", ascending=False)"
   ]
  },
  {
   "cell_type": "code",
   "execution_count": 45,
   "metadata": {},
   "outputs": [
    {
     "data": {
      "application/vnd.jupyter.widget-view+json": {
       "model_id": "48f6b4524aa5422ba645363163d4e622",
       "version_major": 2,
       "version_minor": 0
      },
      "text/plain": [
       "GridspecLayout(children=(Image(value=b'\\xff\\xd8\\xff\\xe1\\x00\\x18Exif\\x00\\x00II*\\x00\\x08\\x00\\x00\\x00\\x00\\x00\\x00…"
      ]
     },
     "metadata": {},
     "output_type": "display_data"
    }
   ],
   "source": [
    "plot_grid(sorted_ops)"
   ]
  },
  {
   "cell_type": "markdown",
   "metadata": {},
   "source": [
    "### Conclusions\n",
    "\n",
    "In these notebooks, we implemented the Contextual Bandit problem and presented two algorithms to solve it. The first, $\\epsilon$-greedy, uses a regular logistic regression to get its greedy estimates about the expeceted rewards $\\theta(x)$. The second, Thompson Sampling, relies on the Online Logistic Regression to learn an independent normal distribution for each of the linear model weights $\\beta_i \\sim \\mathcal{N}(m_i, q_i ^ -1)$. We draw samples from these Normal posteriors in order to achieve randomization for our bandit choices.\n",
    "\n",
    "###############################################################################\n",
    "\n",
    "Your conclusions\n",
    "\n",
    "###############################################################################"
   ]
  }
 ],
 "metadata": {
  "kernelspec": {
   "display_name": "Python 3",
   "language": "python",
   "name": "python3"
  },
  "language_info": {
   "codemirror_mode": {
    "name": "ipython",
    "version": 3
   },
   "file_extension": ".py",
   "mimetype": "text/x-python",
   "name": "python",
   "nbconvert_exporter": "python",
   "pygments_lexer": "ipython3",
   "version": "3.7.9"
  }
 },
 "nbformat": 4,
 "nbformat_minor": 4
}
