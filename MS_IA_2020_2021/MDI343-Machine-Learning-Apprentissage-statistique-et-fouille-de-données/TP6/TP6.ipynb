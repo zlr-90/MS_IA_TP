{
 "cells": [
  {
   "cell_type": "markdown",
   "metadata": {
    "colab_type": "text",
    "id": "5BnGYg5FYcTb"
   },
   "source": [
    "<h1><center>MS BGD - TP Avazu<center></h1>\n"
   ]
  },
  {
   "cell_type": "markdown",
   "metadata": {
    "colab_type": "text",
    "id": "N2QU9Lk5YcTk"
   },
   "source": [
    "#Introduction\n",
    "\n",
    "In online advertising, click-through rate (CTR) is a very important metric for evaluating ad performance. As a result, click prediction systems are essential and widely used for sponsored search and real-time bidding. The goal of this TP is to build and test prediction models on 11 days of Avazu data.\n",
    "\n"
   ]
  },
  {
   "cell_type": "code",
   "execution_count": 5,
   "metadata": {
    "colab": {
     "base_uri": "https://localhost:8080/",
     "height": 52
    },
    "colab_type": "code",
    "executionInfo": {
     "elapsed": 10272,
     "status": "ok",
     "timestamp": 1581287133328,
     "user": {
      "displayName": "Pascal Bianchi",
      "photoUrl": "",
      "userId": "14431080439002320783"
     },
     "user_tz": -60
    },
    "id": "xzd8GlIeNodz",
    "outputId": "807979c3-d212-4e0c-d9aa-8815d8017675"
   },
   "outputs": [
    {
     "name": "stdout",
     "output_type": "stream",
     "text": [
      "Downloading https://bianchi.wp.imt.fr/files/2019/05/train-1000000.zip to train-1000000.zip...\n",
      "Extracting to train-1000000.zip...\n"
     ]
    }
   ],
   "source": [
    "import sys\n",
    "from zipfile import ZipFile\n",
    "import os.path as op\n",
    "try:\n",
    "    from urllib.request import urlretrieve\n",
    "except ImportError:  # Python 2 compat\n",
    "    from urllib import urlretrieve\n",
    "    \n",
    "AVAZU_URL = \"https://bianchi.wp.imt.fr/files/2019/05/train-1000000.zip\"\n",
    "AVAZU_FILENAME = AVAZU_URL.rsplit('/', 1)[1]\n",
    "\n",
    "\n",
    "if not op.exists(AVAZU_FILENAME):\n",
    "    print('Downloading %s to %s...' % (AVAZU_URL, AVAZU_FILENAME))\n",
    "    urlretrieve(AVAZU_URL, AVAZU_FILENAME)\n",
    "    print('Extracting to %s...' % AVAZU_FILENAME)\n",
    "    ZipFile(AVAZU_FILENAME).extractall() #question: what difference with .extractall('.')?"
   ]
  },
  {
   "cell_type": "markdown",
   "metadata": {
    "colab_type": "text",
    "id": "vxsbsRu7YcTo"
   },
   "source": [
    "<font color=\"red\">**Question:**\n",
    "    Import the needed packages: numpy, pandas etc..\n",
    "</font>"
   ]
  },
  {
   "cell_type": "code",
   "execution_count": 10,
   "metadata": {
    "colab": {},
    "colab_type": "code",
    "id": "T60UC4foYcTr"
   },
   "outputs": [],
   "source": [
    "import numpy as np\n",
    "import pandas as pd\n",
    "import matplotlib.pyplot as plt\n",
    "import seaborn as sns\n",
    "import datetime\n",
    "%matplotlib inline"
   ]
  },
  {
   "cell_type": "markdown",
   "metadata": {
    "colab_type": "text",
    "id": "1xrsFhCiYcT5"
   },
   "source": [
    "# The dataset"
   ]
  },
  {
   "cell_type": "markdown",
   "metadata": {
    "colab_type": "text",
    "id": "eOZWhU4lYcT9"
   },
   "source": [
    "<font color=\"red\">**Question:**\n",
    "Load the data *'train-1000000'* into a pandas DataFrame. Then, display the first lines with the \".head()\" method.\n",
    "</font>\n",
    "**Remark**: the features meaning is available at https://www.kaggle.com/c/avazu-ctr-prediction/data"
   ]
  },
  {
   "cell_type": "code",
   "execution_count": 11,
   "metadata": {
    "colab": {},
    "colab_type": "code",
    "id": "tWvQXG4uYcUB"
   },
   "outputs": [],
   "source": [
    "df = pd.read_csv('train-1000000')"
   ]
  },
  {
   "cell_type": "code",
   "execution_count": 12,
   "metadata": {
    "colab": {},
    "colab_type": "code",
    "id": "uLSo2y32YcUK"
   },
   "outputs": [
    {
     "data": {
      "text/html": [
       "<div>\n",
       "<style scoped>\n",
       "    .dataframe tbody tr th:only-of-type {\n",
       "        vertical-align: middle;\n",
       "    }\n",
       "\n",
       "    .dataframe tbody tr th {\n",
       "        vertical-align: top;\n",
       "    }\n",
       "\n",
       "    .dataframe thead th {\n",
       "        text-align: right;\n",
       "    }\n",
       "</style>\n",
       "<table border=\"1\" class=\"dataframe\">\n",
       "  <thead>\n",
       "    <tr style=\"text-align: right;\">\n",
       "      <th></th>\n",
       "      <th>id</th>\n",
       "      <th>click</th>\n",
       "      <th>hour</th>\n",
       "      <th>C1</th>\n",
       "      <th>banner_pos</th>\n",
       "      <th>site_id</th>\n",
       "      <th>site_domain</th>\n",
       "      <th>site_category</th>\n",
       "      <th>app_id</th>\n",
       "      <th>app_domain</th>\n",
       "      <th>...</th>\n",
       "      <th>device_type</th>\n",
       "      <th>device_conn_type</th>\n",
       "      <th>C14</th>\n",
       "      <th>C15</th>\n",
       "      <th>C16</th>\n",
       "      <th>C17</th>\n",
       "      <th>C18</th>\n",
       "      <th>C19</th>\n",
       "      <th>C20</th>\n",
       "      <th>C21</th>\n",
       "    </tr>\n",
       "  </thead>\n",
       "  <tbody>\n",
       "    <tr>\n",
       "      <th>0</th>\n",
       "      <td>3.983206e+18</td>\n",
       "      <td>0</td>\n",
       "      <td>14102915</td>\n",
       "      <td>1005</td>\n",
       "      <td>1</td>\n",
       "      <td>e151e245</td>\n",
       "      <td>7e091613</td>\n",
       "      <td>f028772b</td>\n",
       "      <td>ecad2386</td>\n",
       "      <td>7801e8d9</td>\n",
       "      <td>...</td>\n",
       "      <td>1</td>\n",
       "      <td>2</td>\n",
       "      <td>4687</td>\n",
       "      <td>320</td>\n",
       "      <td>50</td>\n",
       "      <td>423</td>\n",
       "      <td>2</td>\n",
       "      <td>39</td>\n",
       "      <td>100148</td>\n",
       "      <td>32</td>\n",
       "    </tr>\n",
       "    <tr>\n",
       "      <th>1</th>\n",
       "      <td>7.756884e+18</td>\n",
       "      <td>0</td>\n",
       "      <td>14103007</td>\n",
       "      <td>1002</td>\n",
       "      <td>0</td>\n",
       "      <td>cb809abf</td>\n",
       "      <td>74acf31a</td>\n",
       "      <td>50e219e0</td>\n",
       "      <td>ecad2386</td>\n",
       "      <td>7801e8d9</td>\n",
       "      <td>...</td>\n",
       "      <td>0</td>\n",
       "      <td>0</td>\n",
       "      <td>17894</td>\n",
       "      <td>320</td>\n",
       "      <td>50</td>\n",
       "      <td>2039</td>\n",
       "      <td>2</td>\n",
       "      <td>39</td>\n",
       "      <td>100077</td>\n",
       "      <td>32</td>\n",
       "    </tr>\n",
       "    <tr>\n",
       "      <th>2</th>\n",
       "      <td>6.941774e+17</td>\n",
       "      <td>0</td>\n",
       "      <td>14102711</td>\n",
       "      <td>1005</td>\n",
       "      <td>0</td>\n",
       "      <td>85f751fd</td>\n",
       "      <td>c4e18dd6</td>\n",
       "      <td>50e219e0</td>\n",
       "      <td>e9739828</td>\n",
       "      <td>df32afa9</td>\n",
       "      <td>...</td>\n",
       "      <td>1</td>\n",
       "      <td>0</td>\n",
       "      <td>22684</td>\n",
       "      <td>320</td>\n",
       "      <td>50</td>\n",
       "      <td>2619</td>\n",
       "      <td>1</td>\n",
       "      <td>163</td>\n",
       "      <td>100055</td>\n",
       "      <td>71</td>\n",
       "    </tr>\n",
       "    <tr>\n",
       "      <th>3</th>\n",
       "      <td>2.664154e+18</td>\n",
       "      <td>1</td>\n",
       "      <td>14102903</td>\n",
       "      <td>1005</td>\n",
       "      <td>0</td>\n",
       "      <td>85f751fd</td>\n",
       "      <td>c4e18dd6</td>\n",
       "      <td>50e219e0</td>\n",
       "      <td>a5184c22</td>\n",
       "      <td>b8d325c3</td>\n",
       "      <td>...</td>\n",
       "      <td>1</td>\n",
       "      <td>0</td>\n",
       "      <td>23222</td>\n",
       "      <td>320</td>\n",
       "      <td>50</td>\n",
       "      <td>2676</td>\n",
       "      <td>0</td>\n",
       "      <td>35</td>\n",
       "      <td>100176</td>\n",
       "      <td>221</td>\n",
       "    </tr>\n",
       "    <tr>\n",
       "      <th>4</th>\n",
       "      <td>1.480510e+19</td>\n",
       "      <td>0</td>\n",
       "      <td>14102902</td>\n",
       "      <td>1005</td>\n",
       "      <td>1</td>\n",
       "      <td>791b5571</td>\n",
       "      <td>fd13bc73</td>\n",
       "      <td>f028772b</td>\n",
       "      <td>ecad2386</td>\n",
       "      <td>7801e8d9</td>\n",
       "      <td>...</td>\n",
       "      <td>1</td>\n",
       "      <td>0</td>\n",
       "      <td>8330</td>\n",
       "      <td>320</td>\n",
       "      <td>50</td>\n",
       "      <td>761</td>\n",
       "      <td>3</td>\n",
       "      <td>175</td>\n",
       "      <td>100081</td>\n",
       "      <td>23</td>\n",
       "    </tr>\n",
       "  </tbody>\n",
       "</table>\n",
       "<p>5 rows × 24 columns</p>\n",
       "</div>"
      ],
      "text/plain": [
       "             id  click      hour    C1  banner_pos   site_id site_domain  \\\n",
       "0  3.983206e+18      0  14102915  1005           1  e151e245    7e091613   \n",
       "1  7.756884e+18      0  14103007  1002           0  cb809abf    74acf31a   \n",
       "2  6.941774e+17      0  14102711  1005           0  85f751fd    c4e18dd6   \n",
       "3  2.664154e+18      1  14102903  1005           0  85f751fd    c4e18dd6   \n",
       "4  1.480510e+19      0  14102902  1005           1  791b5571    fd13bc73   \n",
       "\n",
       "  site_category    app_id app_domain  ... device_type device_conn_type    C14  \\\n",
       "0      f028772b  ecad2386   7801e8d9  ...           1                2   4687   \n",
       "1      50e219e0  ecad2386   7801e8d9  ...           0                0  17894   \n",
       "2      50e219e0  e9739828   df32afa9  ...           1                0  22684   \n",
       "3      50e219e0  a5184c22   b8d325c3  ...           1                0  23222   \n",
       "4      f028772b  ecad2386   7801e8d9  ...           1                0   8330   \n",
       "\n",
       "   C15  C16   C17  C18  C19     C20  C21  \n",
       "0  320   50   423    2   39  100148   32  \n",
       "1  320   50  2039    2   39  100077   32  \n",
       "2  320   50  2619    1  163  100055   71  \n",
       "3  320   50  2676    0   35  100176  221  \n",
       "4  320   50   761    3  175  100081   23  \n",
       "\n",
       "[5 rows x 24 columns]"
      ]
     },
     "execution_count": 12,
     "metadata": {},
     "output_type": "execute_result"
    }
   ],
   "source": [
    "df.head() # Fill here"
   ]
  },
  {
   "cell_type": "markdown",
   "metadata": {
    "colab_type": "text",
    "id": "Cbg9-3qRYcUQ"
   },
   "source": [
    "<font color=\"red\">**Question:**\n",
    "    What is the 'click' frequency in the dataset?\n",
    "    <br>\n",
    "    Hint: 'click' is a binary output (0 or 1)\n",
    "</font>"
   ]
  },
  {
   "cell_type": "code",
   "execution_count": 13,
   "metadata": {
    "colab": {},
    "colab_type": "code",
    "id": "l-1q2lVuYcUS"
   },
   "outputs": [
    {
     "data": {
      "text/plain": [
       "0.169971"
      ]
     },
     "execution_count": 13,
     "metadata": {},
     "output_type": "execute_result"
    }
   ],
   "source": [
    "df['click'].mean() # Fill here"
   ]
  },
  {
   "cell_type": "markdown",
   "metadata": {
    "colab_type": "text",
    "id": "6dFgRBOeYcUY"
   },
   "source": [
    "We note that the Avazu dataset is very unbalanced. The 'click' class represents less than a fifth of the whole database. We already know that a classifier always predicting 'click'=0 will have good preformances in terms of error rate (around 0.17). The ROC curve will be better performance metrics."
   ]
  },
  {
   "cell_type": "markdown",
   "metadata": {
    "colab_type": "text",
    "id": "BFGwt6vTYcUa"
   },
   "source": [
    "<font color=\"red\">**Question:**\n",
    "    What are the categorical features? Using the 'df.nunique()' method, compute the number of distincts values for each of these features.\n",
    "</font>"
   ]
  },
  {
   "cell_type": "code",
   "execution_count": 20,
   "metadata": {},
   "outputs": [
    {
     "data": {
      "text/plain": [
       "pandas.core.series.Series"
      ]
     },
     "execution_count": 20,
     "metadata": {},
     "output_type": "execute_result"
    }
   ],
   "source": [
    "type(df.nunique())"
   ]
  },
  {
   "cell_type": "code",
   "execution_count": 14,
   "metadata": {
    "colab": {},
    "colab_type": "code",
    "id": "2eLXMTTkYcUb"
   },
   "outputs": [
    {
     "data": {
      "text/plain": [
       "id                  1000000\n",
       "click                     2\n",
       "hour                    240\n",
       "C1                        7\n",
       "banner_pos                7\n",
       "site_id                2651\n",
       "site_domain            2871\n",
       "site_category            22\n",
       "app_id                 3157\n",
       "app_domain              198\n",
       "app_category             26\n",
       "device_id            150501\n",
       "device_ip            555248\n",
       "device_model           5168\n",
       "device_type               5\n",
       "device_conn_type          4\n",
       "C14                    2243\n",
       "C15                       8\n",
       "C16                       9\n",
       "C17                     420\n",
       "C18                       4\n",
       "C19                      66\n",
       "C20                     163\n",
       "C21                      60\n",
       "dtype: int64"
      ]
     },
     "execution_count": 14,
     "metadata": {},
     "output_type": "execute_result"
    }
   ],
   "source": [
    "df.nunique() # Fill here"
   ]
  },
  {
   "cell_type": "markdown",
   "metadata": {
    "colab_type": "text",
    "id": "OGJwlJ6VYcUj"
   },
   "source": [
    "<font color=\"red\">**Question:**\n",
    "    If one does a dummy encoding of all categorical variables, what would be the dimension of the model?\n",
    "    In other words: what would be the dimension of our big feature vector encoded with dummies. \n",
    "    <br>\n",
    "    Hint: if you have just 1 feature with 3 categories A, B and C, you would have a vector of dimension 3 (or 2 if you use drop_first=True).\n",
    "</font>"
   ]
  },
  {
   "cell_type": "code",
   "execution_count": 15,
   "metadata": {
    "colab": {},
    "colab_type": "code",
    "id": "DL2wN3tXYcUk"
   },
   "outputs": [
    {
     "data": {
      "text/plain": [
       "723078"
      ]
     },
     "execution_count": 15,
     "metadata": {},
     "output_type": "execute_result"
    }
   ],
   "source": [
    "df.nunique().values[2:].sum()"
   ]
  },
  {
   "cell_type": "markdown",
   "metadata": {
    "colab_type": "text",
    "id": "4sfr6kkTfn1_"
   },
   "source": [
    "Your answer here:\n",
    "<font color=\"blue\">\n",
    "    Looking at the documentation, all variables are categorical. Of course, we dismiss 'id' which is not considered as a feature, and 'click', which is the target.\n",
    "</font>"
   ]
  },
  {
   "cell_type": "markdown",
   "metadata": {
    "colab_type": "text",
    "id": "_PYpWlX6YcUq"
   },
   "source": [
    "<font color=\"red\">**Question:**\n",
    "    Analyze the 'hour' column: which format is used? How can we transform/simply this feature?\n",
    "</font>"
   ]
  },
  {
   "cell_type": "code",
   "execution_count": 16,
   "metadata": {
    "colab": {},
    "colab_type": "code",
    "id": "zfbvfYBfYcUr"
   },
   "outputs": [
    {
     "name": "stdout",
     "output_type": "stream",
     "text": [
      "0    14102915\n",
      "1    14103007\n",
      "2    14102711\n",
      "3    14102903\n",
      "4    14102902\n",
      "Name: hour, dtype: int64\n",
      "999995    14102602\n",
      "999996    14102101\n",
      "999997    14102318\n",
      "999998    14102908\n",
      "999999    14102600\n",
      "Name: hour, dtype: int64\n"
     ]
    }
   ],
   "source": [
    "print(df['hour'].head()) # Fill here\n",
    "print(df['hour'].tail()) # Fill here"
   ]
  },
  {
   "cell_type": "markdown",
   "metadata": {
    "colab_type": "text",
    "id": "Wyc_XCRmfoWk"
   },
   "source": [
    "Your answer here:\n",
    "<font color=\"blue\">\n",
    "    Let us explain 14102602:\n",
    "    <ul>\n",
    "      <li>14 is the year: 2014</li>\n",
    "      <li>10 is the month: October</li>\n",
    "      <li>26 is the day</li> \n",
    "      <li>02 is the hour</li>  \n",
    "</ul>\n",
    "</font>"
   ]
  },
  {
   "cell_type": "markdown",
   "metadata": {
    "colab_type": "text",
    "id": "oTQo-GPRYcUw"
   },
   "source": [
    "<font color=\"red\">**Question:**\n",
    "    Run and understand the following script.\n",
    "</font>"
   ]
  },
  {
   "cell_type": "code",
   "execution_count": 17,
   "metadata": {
    "colab": {},
    "colab_type": "code",
    "id": "kOKSh2RjYcUz"
   },
   "outputs": [
    {
     "data": {
      "text/plain": [
       "(2, 15)"
      ]
     },
     "execution_count": 17,
     "metadata": {},
     "output_type": "execute_result"
    }
   ],
   "source": [
    "import datetime\n",
    "\n",
    "def datesplit(originalDate):\n",
    "    originalDate = str(originalDate)\n",
    "    \n",
    "    year = int(\"20\" + originalDate[0:2])\n",
    "    month = int(originalDate[2:4])\n",
    "    day = int(originalDate[4:6])\n",
    "    hour = int(originalDate[6:8])\n",
    "    \n",
    "    return datetime.datetime(year, month, day, hour)\n",
    "\n",
    "# Exemple :\n",
    "datesplit(14102915).weekday(), datesplit(14102915).hour"
   ]
  },
  {
   "cell_type": "markdown",
   "metadata": {
    "colab_type": "text",
    "id": "CrRiyg01YcU4"
   },
   "source": [
    "<font color=\"red\">**Question:**\n",
    "    Using the \".apply( ... )\" method, create a 'weekday' for the day of the week. Then, replace the 'hour' column by the hour.\n",
    "</font>"
   ]
  },
  {
   "cell_type": "markdown",
   "metadata": {
    "colab_type": "text",
    "id": "hFhI2HFgYcU6"
   },
   "source": [
    "To answer this question you have to understand that applies takes a function as argument\n",
    "<br>\n",
    "\"lambda x: ... \" is used to create local unamed function of x\n",
    "<br>\n",
    "Check the documentation: https://docs.python.org/3/tutorial/controlflow.html#lambda-expressions"
   ]
  },
  {
   "cell_type": "code",
   "execution_count": null,
   "metadata": {
    "colab": {},
    "colab_type": "code",
    "id": "nDWxoncVYcU7"
   },
   "outputs": [],
   "source": [
    "df['weekday'] = df['hour'].apply(lambda x: ... ) # Fill here\n",
    "df['hour'] = df['hour'].apply(lambda x: ... ) # Fill here"
   ]
  },
  {
   "cell_type": "markdown",
   "metadata": {
    "colab_type": "text",
    "id": "t7e9LOv6YcU_"
   },
   "source": [
    "<font color=\"red\">**Question:**\n",
    "    Using the \".groupby( ... )\" method, visualize the influence of the hour and of the day on the 'click' frequency (take the \".mean()\"!). To do so, plot 'click' vs 'hour' and 'click' vs 'weekday' curves.\n",
    "    <br>\n",
    "    Precise the name of the axes.\n",
    "</font>"
   ]
  },
  {
   "cell_type": "code",
   "execution_count": null,
   "metadata": {
    "colab": {},
    "colab_type": "code",
    "id": "fLJVdQ-6YcVA"
   },
   "outputs": [],
   "source": [
    "print(df.groupby( ... )[ ... ]) # Fill here for the influence of the hour\n",
    "print(df.groupby( ... )[ ... ]) # Fill here for the influence of the day"
   ]
  },
  {
   "cell_type": "markdown",
   "metadata": {
    "colab_type": "text",
    "id": "Aw0uqHqTYcVd"
   },
   "source": [
    "# Preliminary work and first model"
   ]
  },
  {
   "cell_type": "markdown",
   "metadata": {
    "colab_type": "text",
    "id": "6hlQCIDoYcVf"
   },
   "source": [
    "Start by understanding the features with few modalities:\n",
    "'hour', 'weekday', 'C1', 'banner_pos', 'site_category', 'app_category', 'device_type', 'device_conn_type', 'C15', 'C16', 'C18', 'C21'."
   ]
  },
  {
   "cell_type": "markdown",
   "metadata": {
    "colab_type": "text",
    "id": "pl8OmuiOYcVg"
   },
   "source": [
    "<font color=\"red\">**Question:**\n",
    "    For instance, inspect the columns 'C15' (dimension of the advert) and 'site_category': visualize the clicks mean.\n",
    "</font>"
   ]
  },
  {
   "cell_type": "code",
   "execution_count": null,
   "metadata": {
    "colab": {},
    "colab_type": "code",
    "id": "T0_3X-c3YcVi"
   },
   "outputs": [],
   "source": [
    "... # Fill here: inspect 'C15' using '.groupby'"
   ]
  },
  {
   "cell_type": "code",
   "execution_count": null,
   "metadata": {
    "colab": {},
    "colab_type": "code",
    "id": "BjHI9kpZYcVm"
   },
   "outputs": [],
   "source": [
    "... # Fill here: inspect 'site_category' using '.groupby'"
   ]
  },
  {
   "cell_type": "markdown",
   "metadata": {
    "colab_type": "text",
    "id": "MLfdMT-qYcVr"
   },
   "source": [
    "<font color=\"red\">**Question:**\n",
    "    Some site categories have a null click rate. Why? Display the 'count()' of each modality.\n",
    "    <br><br>\n",
    "    Hint: you can use the method \".value_counts()\"\n",
    "</font>"
   ]
  },
  {
   "cell_type": "code",
   "execution_count": null,
   "metadata": {
    "colab": {},
    "colab_type": "code",
    "id": "0FkctWqDYcVt"
   },
   "outputs": [],
   "source": [
    "df['...'].value_counts() # Fill here"
   ]
  },
  {
   "cell_type": "markdown",
   "metadata": {
    "colab_type": "text",
    "id": "ru25QWd0YcVy"
   },
   "source": [
    "It is practical to visualize both columns in parallel:"
   ]
  },
  {
   "cell_type": "code",
   "execution_count": null,
   "metadata": {
    "colab": {},
    "colab_type": "code",
    "id": "9JwsJNMGYcV0"
   },
   "outputs": [],
   "source": [
    "col = 'C1'\n",
    "a = pd.DataFrame([df.groupby(col).mean()['click'], df.groupby(col).count()['click']]).transpose()\n",
    "a.columns = ['mean', 'count']\n",
    "a.sort_values(by='count', ascending=False)"
   ]
  },
  {
   "cell_type": "markdown",
   "metadata": {
    "colab_type": "text",
    "id": "a07QsALahvnV"
   },
   "source": [
    "Your answer here\n",
    "\n",
    "..."
   ]
  },
  {
   "cell_type": "markdown",
   "metadata": {
    "colab_type": "text",
    "id": "5iAVEnE4YcV5"
   },
   "source": [
    "<font color=\"red\">**Question:**\n",
    "    Divide the dataset into a training and test set with sklearn (use the following options: test_size=0.1, random_state=100).\n",
    "    <br>\n",
    "    Warning: do not use 'id' as a feature.\n",
    "</font>"
   ]
  },
  {
   "cell_type": "code",
   "execution_count": null,
   "metadata": {
    "colab": {},
    "colab_type": "code",
    "id": "7Mc0hmCsYcV7"
   },
   "outputs": [],
   "source": [
    "from sklearn.model_selection import ...\n",
    "Xtrain, Xtest, ytrain, ytest = ...."
   ]
  },
  {
   "cell_type": "markdown",
   "metadata": {
    "colab_type": "text",
    "id": "y94Vsm-wYcV_"
   },
   "source": [
    "# First work on a reduced number of features"
   ]
  },
  {
   "cell_type": "markdown",
   "metadata": {
    "colab_type": "text",
    "id": "HffuIJthYcV_"
   },
   "source": [
    "<font color=\"red\">**Question:**\n",
    "    Put in a list the selected columns: 'hour', 'weekday', 'C1', 'banner_pos', 'site_category', 'app_category', 'device_type', 'device_conn_type', 'C15', 'C16', 'C18', 'C21'.\n",
    "</font>"
   ]
  },
  {
   "cell_type": "code",
   "execution_count": null,
   "metadata": {
    "colab": {},
    "colab_type": "code",
    "id": "b87fxoxuYcWB"
   },
   "outputs": [],
   "source": [
    "some_columns = ['hour', 'weekday', 'C1', 'banner_pos', 'site_category', 'app_category', \n",
    "                'device_type', 'device_conn_type', 'C15', 'C16', 'C18', 'C21']"
   ]
  },
  {
   "cell_type": "markdown",
   "metadata": {
    "colab_type": "text",
    "id": "bLD-KxNcYcWF"
   },
   "source": [
    "<font color=\"red\">**Question:**\n",
    "    <br>\n",
    "    - Import OneHotEncoder from sklearn.preprocessing\n",
    "    <br>\n",
    "    - Transform the training and the test data restricted to the selected columns\n",
    "</font>"
   ]
  },
  {
   "cell_type": "code",
   "execution_count": null,
   "metadata": {
    "colab": {},
    "colab_type": "code",
    "id": "GDx0mpYYYcWG"
   },
   "outputs": [],
   "source": [
    "from sklearn.preprocessing import ...\n",
    "ohe = OneHotEncoder()\n",
    "Xtrain_oh = ... # fit the transformation of Xtrain restricted to selected columns\n",
    "Xtest_oh = ... # and transform Xtest restricted to selected columns"
   ]
  },
  {
   "cell_type": "markdown",
   "metadata": {
    "colab_type": "text",
    "id": "FN5GjuyzYcWI"
   },
   "source": [
    "<font color=\"red\">**Question:**\n",
    "    What is the new number of features?\n",
    "</font>"
   ]
  },
  {
   "cell_type": "code",
   "execution_count": null,
   "metadata": {
    "colab": {},
    "colab_type": "code",
    "id": "Syvv31BuYcWL"
   },
   "outputs": [],
   "source": []
  },
  {
   "cell_type": "markdown",
   "metadata": {
    "colab_type": "text",
    "id": "X2JQVVfTi4Zs"
   },
   "source": [
    "Your answer here\n",
    "\n",
    "..."
   ]
  },
  {
   "cell_type": "markdown",
   "metadata": {
    "colab_type": "text",
    "id": "HUWRg9VaYcWQ"
   },
   "source": [
    "<font color=\"red\">**Question:**\n",
    "    Visualize the first row of the design matrix you have got. Do not forget to convert it into a \"numpy.array\" using the method \".toarray()\".\n",
    "</font>"
   ]
  },
  {
   "cell_type": "code",
   "execution_count": null,
   "metadata": {
    "colab": {},
    "colab_type": "code",
    "id": "KteEhxlwYcWR"
   },
   "outputs": [],
   "source": [
    "Xtrain_oh[ ... ]"
   ]
  },
  {
   "cell_type": "markdown",
   "metadata": {
    "colab_type": "text",
    "id": "GcIpiLHYYcWU"
   },
   "source": [
    "<font color=\"red\">**Question:**\n",
    "    Import and fit a logistic regression model on your the encoded data.\n",
    "</font>"
   ]
  },
  {
   "cell_type": "code",
   "execution_count": null,
   "metadata": {
    "colab": {},
    "colab_type": "code",
    "id": "r8a0SxavYcWV"
   },
   "outputs": [],
   "source": [
    "from sklearn.linear_model import ...\n",
    "lr = ...\n",
    "lr.fit(...)"
   ]
  },
  {
   "cell_type": "markdown",
   "metadata": {
    "colab_type": "text",
    "id": "0iuQIQj-YcWZ"
   },
   "source": [
    "<font color=\"red\">**Question:**\n",
    "    With '.predict' and 'predict_proba', display the hard and soft decision you get on test data.\n",
    "</font>"
   ]
  },
  {
   "cell_type": "code",
   "execution_count": null,
   "metadata": {
    "colab": {},
    "colab_type": "code",
    "id": "TYiTfHIWYcWa"
   },
   "outputs": [],
   "source": [
    "hard = ...\n",
    "soft = ..."
   ]
  },
  {
   "cell_type": "markdown",
   "metadata": {
    "colab_type": "text",
    "id": "npfzy9N3YcWc"
   },
   "source": [
    "<font color=\"red\">**Question:**\n",
    "    Compute the probability of error using sklearn.metrics 'accuracy_score' function. Comment.\n",
    "</font>"
   ]
  },
  {
   "cell_type": "code",
   "execution_count": null,
   "metadata": {
    "colab": {},
    "colab_type": "code",
    "id": "hIB33gPiYcWd"
   },
   "outputs": [],
   "source": [
    "from sklearn.metrics import accuracy_score\n",
    "... # Fill here"
   ]
  },
  {
   "cell_type": "markdown",
   "metadata": {
    "colab_type": "text",
    "id": "Pdi72JJUoYb_"
   },
   "source": [
    "Your answer here\n",
    "\n",
    "..."
   ]
  },
  {
   "cell_type": "markdown",
   "metadata": {
    "colab_type": "text",
    "id": "ER4oZTUjYcWf"
   },
   "source": [
    "<font color=\"red\">**Question:**\n",
    "    Plot the ROC curve. Then compute the log loss and the Area Under the Curve ROC.\n",
    "</font>"
   ]
  },
  {
   "cell_type": "code",
   "execution_count": null,
   "metadata": {
    "colab": {},
    "colab_type": "code",
    "id": "Mj-LeKtqYcWf"
   },
   "outputs": [],
   "source": [
    "from sklearn.metrics import roc_curve\n",
    "\n",
    "false_pos_rate, true_pos_rate, _ = roc_curve( ... )\n",
    "plt.plot(...)\n",
    "\n",
    "plt.grid()\n",
    "plt.plot([0, 1], [0, 1], 'r--')\n",
    "plt.xlabel('False Positive Rate', fontsize=16)\n",
    "plt.ylabel('True Positive Rate', fontsize=16)\n",
    "plt.title('ROC curve', fontsize=20)"
   ]
  },
  {
   "cell_type": "code",
   "execution_count": null,
   "metadata": {
    "colab": {},
    "colab_type": "code",
    "id": "RNxlXhDhYcWi"
   },
   "outputs": [],
   "source": [
    "from sklearn.metrics import ... , ...\n",
    "\n",
    "log_loss( ... ), roc_auc_score( ... )"
   ]
  },
  {
   "cell_type": "markdown",
   "metadata": {
    "colab_type": "text",
    "id": "cF3oNg2BYcWo"
   },
   "source": [
    "# Complete model"
   ]
  },
  {
   "cell_type": "markdown",
   "metadata": {
    "colab_type": "text",
    "id": "guGisntUYcWo"
   },
   "source": [
    "As an example, we now focus on the 'site_id' column.\n",
    "\n",
    "<font color=\"red\">**Question:**\n",
    "    <br>\n",
    "    - For each modality, compute the number of occurrences in the dataset and the average of clicks for this modality \n",
    "    <br>\n",
    "    - With 'sns.joiplot', represent the set of points (count, mean) for each modality\n",
    "</font>"
   ]
  },
  {
   "cell_type": "code",
   "execution_count": null,
   "metadata": {
    "colab": {},
    "colab_type": "code",
    "id": "EWjvCk-JYcWp"
   },
   "outputs": [],
   "source": [
    "import seaborn as sns"
   ]
  },
  {
   "cell_type": "code",
   "execution_count": null,
   "metadata": {
    "colab": {},
    "colab_type": "code",
    "id": "T__2itFfYcWr"
   },
   "outputs": [],
   "source": [
    "col = 'site_id'\n",
    "a = pd.DataFrame([df.groupby(col).mean()['click'], df.groupby(col).count()['click']]).transpose()\n",
    "a.columns = ['mean', 'n_val']\n",
    "sns.jointplot(a['n_val'], a['mean'], alpha=0.25);\n",
    "thres = 10000\n",
    "sns.jointplot(a[a['n_val']<thres]['n_val'], a[a['n_val']<thres]['mean'], alpha=0.25);"
   ]
  },
  {
   "cell_type": "markdown",
   "metadata": {
    "colab_type": "text",
    "id": "g8_LIRbIYcWt"
   },
   "source": [
    "<font color=\"red\">**Question:**\n",
    "    In the above commands, what does the alpha parameter stand for?\n",
    "</font>"
   ]
  },
  {
   "cell_type": "markdown",
   "metadata": {
    "colab_type": "text",
    "id": "4BBai06xp8eh"
   },
   "source": [
    "Your answer here\n",
    "\n",
    "..."
   ]
  },
  {
   "cell_type": "markdown",
   "metadata": {
    "colab_type": "text",
    "id": "HNp0HTLAYcWv"
   },
   "source": [
    "Several sites with a lot of occurrences in the dataset have a click frequency very different from the mean. It is relevant to keep the column 'site_id' at least for the modalities for which 'count' is very high.\n",
    "\n",
    "<font color=\"red\">**Question:**\n",
    "    Do the same work on the 'device_id' column. What do you notice? What could be the isolated point?\n",
    "</font>"
   ]
  },
  {
   "cell_type": "code",
   "execution_count": null,
   "metadata": {
    "colab": {},
    "colab_type": "code",
    "id": "bLhTwP7yYcWw"
   },
   "outputs": [],
   "source": [
    "col = ... # Fill here\n",
    "a = pd.DataFrame([df.groupby(col).mean()['click'], df.groupby(col).count()['click']]).transpose()\n",
    "a.columns = ['mean', 'n_val']\n",
    "sns.jointplot(a['n_val'], a['mean'], alpha=0.25);\n",
    "thres = 10000\n",
    "sns.jointplot(a[a['n_val']<thres]['n_val'], a[a['n_val']<thres]['mean'], alpha=0.25);"
   ]
  },
  {
   "cell_type": "markdown",
   "metadata": {
    "colab_type": "text",
    "id": "HxFRNmVyqI3v"
   },
   "source": [
    "Your answer here\n",
    "\n",
    "..."
   ]
  },
  {
   "cell_type": "markdown",
   "metadata": {
    "colab_type": "text",
    "id": "q3_evYNkYcWy"
   },
   "source": [
    "<font color=\"red\">**Question**:   \n",
    "    In the column df['device_id'], spot the value V corresponding to the largest number of 'count' (using '.value_counts' method). Create a new column df['user'] defined as follows:\n",
    "</font>\n",
    "$$\n",
    "\\text{user} = \\left\\{\\begin{array}[h]{ll} \\text{device_ip + device_model} & \\text{if device_id = V}\\\\ \\text{device_id} & \\text{else.}\\end{array}\\right.\n",
    "$$"
   ]
  },
  {
   "cell_type": "code",
   "execution_count": null,
   "metadata": {
    "colab": {},
    "colab_type": "code",
    "id": "6_KH9aypYcWz"
   },
   "outputs": [],
   "source": [
    "V = df['device_id'].value_counts().index[0]\n",
    "df['user'] = (df['device_ip'] + df['device_model']) * (df['device_id']==V) + df['device_id'] * (df['device_id']!=V)"
   ]
  },
  {
   "cell_type": "markdown",
   "metadata": {
    "colab_type": "text",
    "id": "9irHlnubYcW2"
   },
   "source": [
    "<font color=\"red\">**Question**:\n",
    "    Drop in place the following columns: 'device_id', 'device_model' and 'device_ip'\n",
    "</font>"
   ]
  },
  {
   "cell_type": "code",
   "execution_count": null,
   "metadata": {
    "colab": {},
    "colab_type": "code",
    "id": "0EfKNjkIYcW3"
   },
   "outputs": [],
   "source": [
    "df.drop(columns=..., inplace=...) #Fill here"
   ]
  },
  {
   "cell_type": "markdown",
   "metadata": {
    "colab_type": "text",
    "id": "Re0avpAtYcW7"
   },
   "source": [
    "<font color=\"red\">**Question**:\n",
    "    One could look at the similarity between 'site_id' and 'site_domain'. Merge those columns into a new 'site' column (using the '+' operator)  and delete the old 'site_id' and 'site_domain' columns.\n",
    "</font>"
   ]
  },
  {
   "cell_type": "code",
   "execution_count": null,
   "metadata": {
    "colab": {},
    "colab_type": "code",
    "id": "RPrMudxPYcW7"
   },
   "outputs": [],
   "source": [
    "df['site'] = df[...] + df[...]\n",
    "df.drop(columns=..., inplace=...) #Fill here"
   ]
  },
  {
   "cell_type": "markdown",
   "metadata": {
    "colab_type": "text",
    "id": "qBWWV6pnYcW_"
   },
   "source": [
    "<font color=\"red\">**Question**:\n",
    "    Once again, split the modified DataFrame 'df' into a train and a test set (with options: test_size=0.1 and random_state=100).\n",
    "    <br>\n",
    "    Warning: do not use 'id' as a feature.\n",
    "</font>"
   ]
  },
  {
   "cell_type": "code",
   "execution_count": null,
   "metadata": {
    "colab": {},
    "colab_type": "code",
    "id": "XmJrvxlEYcXA"
   },
   "outputs": [],
   "source": [
    "Xtrain, Xtest, ytrain, ytest = "
   ]
  },
  {
   "cell_type": "markdown",
   "metadata": {
    "colab_type": "text",
    "id": "b7zoMXC5YcXC"
   },
   "source": [
    "<font color=\"red\">**Question**:\n",
    "    Define a OneHotEncoder and then, 'fit_transform' the train set.\n",
    "</font>"
   ]
  },
  {
   "cell_type": "code",
   "execution_count": null,
   "metadata": {
    "colab": {},
    "colab_type": "code",
    "id": "U4RSRj7LYcXC"
   },
   "outputs": [],
   "source": [
    "ohe = OneHotEncoder()\n",
    "Xtrain_oh = ... # Fill here"
   ]
  },
  {
   "cell_type": "markdown",
   "metadata": {
    "colab_type": "text",
    "id": "9p2yNLblYcXF"
   },
   "source": [
    "<font color=\"red\">**Question**:\n",
    "    Transform the test set. If an error occurs, analyze it and try to solve it by modifying the parameter \"handle_unkown\" of the OneHotEncoder. \n",
    "    <br>\n",
    "    Explain your the problem you encouter and how you solved it. \n",
    "</font>"
   ]
  },
  {
   "cell_type": "code",
   "execution_count": null,
   "metadata": {
    "colab": {},
    "colab_type": "code",
    "id": "7MeYRj1IYcXG"
   },
   "outputs": [],
   "source": [
    "\n",
    "Xtest_oh = ... # Fill here"
   ]
  },
  {
   "cell_type": "markdown",
   "metadata": {
    "colab_type": "text",
    "id": "zKXtU2rBwAd-"
   },
   "source": [
    "Your answer here\n",
    "\n",
    "..."
   ]
  },
  {
   "cell_type": "markdown",
   "metadata": {
    "colab_type": "text",
    "id": "lrihsX2dYcXH"
   },
   "source": [
    "<font color=\"red\">**Question**:\n",
    "    What is the new number of features?\n",
    "</font>"
   ]
  },
  {
   "cell_type": "code",
   "execution_count": null,
   "metadata": {
    "colab": {},
    "colab_type": "code",
    "id": "8HF2CHhxYcXI"
   },
   "outputs": [],
   "source": []
  },
  {
   "cell_type": "markdown",
   "metadata": {
    "colab_type": "text",
    "id": "lZ9kHweWwDEt"
   },
   "source": [
    "Your answer here\n",
    "\n",
    "..."
   ]
  },
  {
   "cell_type": "markdown",
   "metadata": {
    "colab_type": "text",
    "id": "KTjjUA6JYcXJ"
   },
   "source": [
    "<font color=\"red\">**Question**:\n",
    "    How many modalities have been seen more than a 100 times?\n",
    "</font>"
   ]
  },
  {
   "cell_type": "code",
   "execution_count": null,
   "metadata": {
    "colab": {},
    "colab_type": "code",
    "id": "Egt0JgByYcXK"
   },
   "outputs": [],
   "source": [
    "# The following 'n_ones' vector below gives the number of '1' in each column of the Xtrain_oh design matrix.\n",
    "n_ones = np.array(Xtrain_oh.sum(axis=0))\n",
    "... # Fill here using 'n_ones'"
   ]
  },
  {
   "cell_type": "markdown",
   "metadata": {
    "colab_type": "text",
    "id": "3bNDd-2dwD3_"
   },
   "source": [
    "Your answer here\n",
    "\n",
    "..."
   ]
  },
  {
   "cell_type": "markdown",
   "metadata": {
    "colab_type": "text",
    "id": "U0h74pNxYcXN"
   },
   "source": [
    "The list 'cols_to_keep' below is used to store the indices of the modalities seen more than a 100 times. \n",
    "\n",
    "<font color=\"red\">**Remark**:\n",
    "    Note how the `enumerate` function works\n",
    "</font>"
   ]
  },
  {
   "cell_type": "code",
   "execution_count": null,
   "metadata": {
    "colab": {},
    "colab_type": "code",
    "id": "_YknbprTYcXO"
   },
   "outputs": [],
   "source": [
    "useful = np.array(n_ones>100)[0]\n",
    "cols_to_keep = [i for i,b in enumerate(useful) if b]"
   ]
  },
  {
   "cell_type": "markdown",
   "metadata": {
    "colab_type": "text",
    "id": "xMCS7vM9yjt0"
   },
   "source": [
    "Your answer here\n",
    "\n",
    "..."
   ]
  },
  {
   "cell_type": "markdown",
   "metadata": {
    "colab_type": "text",
    "id": "X0fiY2NBYcXP"
   },
   "source": [
    "<font color=\"red\">**Question**:\n",
    "    Using only our restriction on the 'cols_to_keep' columns, retrain a logistic regression model and compare its performance in terms of 'log_loss' and 'roc_auc_curve'.\n",
    "</font>"
   ]
  },
  {
   "cell_type": "code",
   "execution_count": null,
   "metadata": {
    "colab": {},
    "colab_type": "code",
    "id": "ajFA_JMJYcXR"
   },
   "outputs": [],
   "source": [
    "lr = ...\n",
    "lr.fit( ... )\n",
    "soft = ...\n",
    "..."
   ]
  },
  {
   "cell_type": "markdown",
   "metadata": {
    "colab_type": "text",
    "id": "lahZdWm6YcXT"
   },
   "source": [
    "# Gradient Boosting Decision Trees"
   ]
  },
  {
   "cell_type": "markdown",
   "metadata": {
    "colab_type": "text",
    "id": "RkeyRzzmYcXU"
   },
   "source": [
    "<font color=\"red\">**Question**:\n",
    "    <br>\n",
    "    - Import GradientBoostingClassifier from scikit learn. \n",
    "    <br>\n",
    "    - Initialize it using 50 estimators and a learning rate of 0.8. Set 'verbose=True' to monitor the progress of the training step.\n",
    "    <br>\n",
    "    - Fit it on the same columns 'cols_to_keep' of Xtrain_oh than for the previous logistic regression.\n",
    "    <br>\n",
    "    - Evaluate its performance as in the previous step.\n",
    "</font>"
   ]
  },
  {
   "cell_type": "code",
   "execution_count": null,
   "metadata": {
    "colab": {},
    "colab_type": "code",
    "id": "H8XZdPUXYcXV"
   },
   "outputs": [],
   "source": [
    "from sklearn.ensemble import ...\n",
    "gb = ... # Fill here"
   ]
  },
  {
   "cell_type": "code",
   "execution_count": null,
   "metadata": {
    "colab": {},
    "colab_type": "code",
    "id": "et4JbJETYcXb"
   },
   "outputs": [],
   "source": [
    "gb.fit( ... )"
   ]
  },
  {
   "cell_type": "code",
   "execution_count": null,
   "metadata": {
    "colab": {},
    "colab_type": "code",
    "id": "2mD8vNR-YcXd"
   },
   "outputs": [],
   "source": [
    "soft = ...\n",
    "log_loss(ytest, soft), roc_auc_score(ytest, soft)"
   ]
  },
  {
   "cell_type": "markdown",
   "metadata": {
    "colab_type": "text",
    "id": "LwRasRUrYcXe"
   },
   "source": [
    "<font color=\"red\">**Question**:\n",
    "    What does the 'gb.estimators_' output?\n",
    "</font>"
   ]
  },
  {
   "cell_type": "code",
   "execution_count": null,
   "metadata": {
    "colab": {},
    "colab_type": "code",
    "id": "93aySiwVYcXf"
   },
   "outputs": [],
   "source": []
  },
  {
   "cell_type": "markdown",
   "metadata": {
    "colab_type": "text",
    "id": "XR6NDWxJ3_et"
   },
   "source": [
    "Your answer here\n",
    "\n",
    "..."
   ]
  },
  {
   "cell_type": "markdown",
   "metadata": {
    "colab_type": "text",
    "id": "ti_dNmw8YcXi"
   },
   "source": [
    "We now try to use the 'gb' classifier to generate features that will be relevant inputs for the logistic regression.\n",
    "\n",
    "<font color=\"red\">**Question**:\n",
    "    With the 'gb.apply()' method, generate a transformation 'leafs_train' of the training set 'Xtrain_oh[:, cols_to_keep]' for which the n-th column corresponds to the number of the leaf returned by the estimator n.\n",
    "</font>"
   ]
  },
  {
   "cell_type": "code",
   "execution_count": null,
   "metadata": {
    "colab": {},
    "colab_type": "code",
    "id": "cmJhb7tcYcXi"
   },
   "outputs": [],
   "source": [
    "# Test here the gb.apply method on Xtrain[:, cols_to_keep]\n"
   ]
  },
  {
   "cell_type": "markdown",
   "metadata": {
    "colab_type": "text",
    "id": "f88rLF6fYcXk"
   },
   "source": [
    "After your applied gb.apply on Xtrain_oh[:, cols_to_keep], remember that we have only one class to predict (click = 0 or 1). So, do not forget to slice your output with [:, :, 0] in order to keep, firstly, all the samples, and secondly all your 50 estimators.\n",
    "\n",
    "Hint: you can have a look at the dimensions of your output with .shape !"
   ]
  },
  {
   "cell_type": "code",
   "execution_count": null,
   "metadata": {
    "colab": {},
    "colab_type": "code",
    "id": "jiZ-Q28JYcXk"
   },
   "outputs": [],
   "source": [
    "leafs_train = pd.DataFrame( ... ) # Fill here\n",
    "leafs_test = pd.DataFrame( ... )"
   ]
  },
  {
   "cell_type": "markdown",
   "metadata": {
    "colab_type": "text",
    "id": "qzp8_EGTYcXm"
   },
   "source": [
    "<font color=\"red\">**Question**:\n",
    "    Encode these new features into dummies.\n",
    "</font>"
   ]
  },
  {
   "cell_type": "code",
   "execution_count": null,
   "metadata": {
    "colab": {},
    "colab_type": "code",
    "id": "9NJku301YcXn"
   },
   "outputs": [],
   "source": [
    "ohe = OneHotEncoder( ... ) # Fill here an argument if needed\n",
    "leafs_train_oh = ...\n",
    "leafs_test_oh = ..."
   ]
  },
  {
   "cell_type": "markdown",
   "metadata": {
    "colab_type": "text",
    "id": "2HLSbinZYcXp"
   },
   "source": [
    "<font color=\"red\">**Question**:\n",
    "    With the \"hstack\" function, create a new matrix of features by concatenating horizontally our new features \"leafs_train_oh\" and \"leafs_test_oh\", and previous features used for logistic regression (e.g. in \"Xtrain_oh[:, cols_to_keep]\").\n",
    "</font>\n",
    "<br><br>\n",
    "**Remark**: we use \"hstack\" from scipy.sparse (and not from numpy) because the output of our OneHotEncoder is a sparse array. You can verify it with the command \"type(Xtrain_oh)\"."
   ]
  },
  {
   "cell_type": "code",
   "execution_count": null,
   "metadata": {
    "colab": {},
    "colab_type": "code",
    "id": "wjhhFyZvYcXp"
   },
   "outputs": [],
   "source": [
    "from scipy.sparse import csr_matrix, hstack\n",
    "\n",
    "Xtrain_concat = hstack([ ... , ... ]) # Fill here\n",
    "Xtest_concat = ..."
   ]
  },
  {
   "cell_type": "markdown",
   "metadata": {
    "colab_type": "text",
    "id": "xU9nmnoAYcXr"
   },
   "source": [
    "<font color=\"red\">**Question**:\n",
    "    Run a logistic regression on the new features and evaluate its performance as before. \n",
    "    <br>\n",
    "    Warning: be patient, fitting should take about 5 minutes on Google Colab.\n",
    "</font>"
   ]
  },
  {
   "cell_type": "code",
   "execution_count": null,
   "metadata": {
    "colab": {},
    "colab_type": "code",
    "id": "GENT6fHnYcXs"
   },
   "outputs": [],
   "source": []
  },
  {
   "cell_type": "markdown",
   "metadata": {
    "colab_type": "text",
    "id": "xAB3kz6_UBYt"
   },
   "source": [
    "# XGBoost"
   ]
  },
  {
   "cell_type": "markdown",
   "metadata": {
    "colab_type": "text",
    "id": "0ZtUqINfYcX2"
   },
   "source": [
    "<font color=\"red\">**Question**:\n",
    "    <br>\n",
    "    - Import XGBClassifier from xgboost package.\n",
    "    <br>\n",
    "    - Initialize it using the same number of estimators and learning rate as before. Set the 'n_jobs' to -1.\n",
    "    <br>\n",
    "    - Fit it on the same columns 'cols_to_keep' of Xtrain_oh than for the previous logistic regression.\n",
    "    <br>\n",
    "    - Evaluate its performance and compare it to the GradientBoosting classifier of scikit learn. How is the error? Does it take more time to run?\n",
    "</font>"
   ]
  },
  {
   "cell_type": "code",
   "execution_count": null,
   "metadata": {
    "colab": {},
    "colab_type": "code",
    "id": "n2SeSnz_YcX3"
   },
   "outputs": [],
   "source": [
    "from xgboost import ...\n",
    "\n",
    "xgb = XGBClassifier( ... , ... , ... , verbosity=2)\n",
    "%time xgb.fit( ... )\n",
    "..."
   ]
  },
  {
   "cell_type": "markdown",
   "metadata": {
    "colab_type": "text",
    "id": "55dxXIaDYcX6"
   },
   "source": [
    "<font color=\"red\">**Question**:\n",
    "    Increase the number of estimators and visualize the impact on performance. You might have to adapt the learning rate. On Google Colab, here are the approximate training times<br> \n",
    "    - nb_estimators=256  and lr=0.8 ~  4 min<br>\n",
    "    - nb_estimators=512  and lr=0.6 ~  8 min<br>\n",
    "    - nb_estimators=1024 and lr=0.5 ~ 16 min\n",
    "</font>"
   ]
  },
  {
   "cell_type": "code",
   "execution_count": null,
   "metadata": {
    "colab": {},
    "colab_type": "code",
    "id": "Ggzx0320YcX7"
   },
   "outputs": [],
   "source": [
    "xgb = XGBClassifier( ... , ... , ... )\n"
   ]
  },
  {
   "cell_type": "markdown",
   "metadata": {
    "colab_type": "text",
    "id": "CdGiGxdHYcX-"
   },
   "source": [
    "# Features hashing and random forest"
   ]
  },
  {
   "cell_type": "markdown",
   "metadata": {
    "colab_type": "text",
    "id": "Xl78yaijYcX_"
   },
   "source": [
    "We restart with raw features before dummy encoding: Xtrain, Xtest.\n",
    "\n",
    "<font color=\"red\">**Question**:\n",
    "    Display again the number of modalities per feature in Xtrain. Use '.nunique()'\n",
    "</font>"
   ]
  },
  {
   "cell_type": "code",
   "execution_count": null,
   "metadata": {
    "colab": {},
    "colab_type": "code",
    "id": "Pq6zsDXsYcYA"
   },
   "outputs": [],
   "source": [
    "# Fill here"
   ]
  },
  {
   "cell_type": "markdown",
   "metadata": {
    "colab_type": "text",
    "id": "qIcJGDaxYcYC"
   },
   "source": [
    "We want to define a transformation which regroups the least frequent modalities into a label 'isRare'. In order to do so, we decide to define our own Transformer.\n",
    "\n",
    "<font color=\"red\">**Question**:\n",
    "    Understand the different steps of 'fit' and 'transform'.\n",
    "</font>"
   ]
  },
  {
   "cell_type": "code",
   "execution_count": null,
   "metadata": {
    "colab": {},
    "colab_type": "code",
    "id": "a7rJE9cSYcYC"
   },
   "outputs": [],
   "source": [
    "from sklearn.base import BaseEstimator, TransformerMixin\n",
    "\n",
    "class MergeRareTransformer(BaseEstimator, TransformerMixin):\n",
    "    \n",
    "    def __init__(self, col_names, threshold):\n",
    "        self.col_names = col_names\n",
    "        self.threshold = threshold\n",
    "\n",
    "    def fit(self, X, y=None):\n",
    "\n",
    "        X = pd.DataFrame(X)\n",
    "        counts_dict_list = []\n",
    "        ################## READ THIS #########################\n",
    "        for i in range(len(self.col_names)):\n",
    "            \n",
    "            serie = X[self.col_names[i]].value_counts()  # Série des counts de chaque modalité\n",
    "            rare_indexes = serie[serie<self.threshold[i]].index  # A quoi correspondent ces indices ?\n",
    "            frequent_indexes = serie[serie>=self.threshold[i]].index  # A quoi correspondent ces indices ?\n",
    "            dico = {x:'isRare' for x in rare_indexes}\n",
    "            dico.update({x: str(x) for x in frequent_indexes})\n",
    "            counts_dict_list.append(dico)   # Quel est le dictionnaire obtenu ?\n",
    "            \n",
    "        ######################################################\n",
    "            \n",
    "        self.counts_dict_list_ = counts_dict_list\n",
    "        return self\n",
    "\n",
    "    def transform(self, X):\n",
    "\n",
    "        Xt = pd.DataFrame()\n",
    "        ################## READ THIS #########################\n",
    "        for col, count_dict in zip(self.col_names, self.counts_dict_list_):\n",
    "            Xt[col] = X[col].apply(lambda x:count_dict[x] if x in count_dict else 'isRare')\n",
    "            # A quoi sert le \"else 'isRare'\" dans la transformation de la colonne ?\n",
    "        ######################################################\n",
    "\n",
    "        return Xt\n"
   ]
  },
  {
   "cell_type": "markdown",
   "metadata": {
    "colab_type": "text",
    "id": "IJqAjGMkYcYE"
   },
   "source": [
    "<font color=\"red\">**Question:**\n",
    "    <br>\n",
    "    - Fit and transform the training set. To do so, merge all mmodalities occuring at least 20 times in each column.\n",
    "    <br>\n",
    "    - Transform the test set.\n",
    "</font>"
   ]
  },
  {
   "cell_type": "code",
   "execution_count": null,
   "metadata": {
    "colab": {},
    "colab_type": "code",
    "id": "cO4wJxgOYcYF"
   },
   "outputs": [],
   "source": [
    "mg = MergeRareTransformer(col_names=Xtrain.columns, threshold=[20]*len(Xtrain.columns))\n",
    "Xtrain_mg = ... # Fill here with fit_transform\n",
    "Xtest_mg = "
   ]
  },
  {
   "cell_type": "markdown",
   "metadata": {
    "colab_type": "text",
    "id": "M0X1rEVJYcYI"
   },
   "source": [
    "<font color=\"red\">**Question:**\n",
    "   How many elements of the column Xtrain_mg['app_domain'] are now labeled as 'rare'? Use the '.value_counts()' method.\n",
    "</font>"
   ]
  },
  {
   "cell_type": "code",
   "execution_count": null,
   "metadata": {
    "colab": {},
    "colab_type": "code",
    "id": "5A3oL0BgYcYI"
   },
   "outputs": [],
   "source": [
    "# Fill here"
   ]
  },
  {
   "cell_type": "markdown",
   "metadata": {
    "colab_type": "text",
    "id": "4YqrBBiSYcYK"
   },
   "source": [
    "<font color=\"red\">**Question:**\n",
    "   In the new train set, display the number of modalities for each feature.\n",
    "</font>"
   ]
  },
  {
   "cell_type": "code",
   "execution_count": null,
   "metadata": {
    "colab": {},
    "colab_type": "code",
    "id": "g_jA_EBDYcYL"
   },
   "outputs": [],
   "source": [
    "# Fill here"
   ]
  },
  {
   "cell_type": "markdown",
   "metadata": {
    "colab_type": "text",
    "id": "0W2O7eoxYcYO"
   },
   "source": [
    "Modalities are arbitrary object, such as '234', 'isRare', etc. We will now transorm them into integers with the hashing trick.\n",
    "\n",
    "<font color=\"red\">**Question:**\n",
    "   To better understand how the 'hash' function is working, apply it to a string of your choice.\n",
    "</font>"
   ]
  },
  {
   "cell_type": "code",
   "execution_count": null,
   "metadata": {
    "colab": {},
    "colab_type": "code",
    "id": "4Xn6l5okYcYP"
   },
   "outputs": [],
   "source": [
    "import hashlib\n",
    "hash( ... ) # Fill here"
   ]
  },
  {
   "cell_type": "markdown",
   "metadata": {
    "colab_type": "text",
    "id": "m0xFTKrSYcYT"
   },
   "source": [
    "<font color=\"red\">**Question:**\n",
    "   Create two new datasets 'Xtrain_ha' and 'Xtest_ha' containing the output of the hashing process. Use the '.apply' method to transform iteratively the columns by mapping to each value its remainder in the euclidean division of the hash by 1000000. \n",
    "   Example:\n",
    "</font>\n",
    "</font>\n",
    "<p>\n",
    "<center>\n",
    "2060777048690<font color=\"red\">918393</font>  -->  918393\n",
    "</center>\n",
    "Remark: do not forget that the function 'hash' has to take a string as input."
   ]
  },
  {
   "cell_type": "code",
   "execution_count": null,
   "metadata": {
    "colab": {},
    "colab_type": "code",
    "id": "Su-b4TJKYcYT"
   },
   "outputs": [],
   "source": [
    "Xtrain_ha = pd.DataFrame()\n",
    "Xtest_ha = pd.DataFrame()\n",
    "for col in Xtrain_mg.columns:\n",
    "    Xtrain_ha[col] = Xtrain_mg[col].apply(lambda ... ) # Fill here defining a lambda function\n",
    "    Xtest_ha[col] = Xtest_mg[col].apply(lambda ... )"
   ]
  },
  {
   "cell_type": "markdown",
   "metadata": {
    "colab_type": "text",
    "id": "uvVesMxDYcYV"
   },
   "source": [
    "<font color=\"red\">**Question:**\n",
    "   Visualize the content of the DataFrames you have obtained.\n",
    "</font>"
   ]
  },
  {
   "cell_type": "code",
   "execution_count": null,
   "metadata": {
    "colab": {},
    "colab_type": "code",
    "id": "lJAHncnZYcYW"
   },
   "outputs": [],
   "source": [
    "# Fill here"
   ]
  },
  {
   "cell_type": "markdown",
   "metadata": {
    "colab_type": "text",
    "id": "4Xt7l9rvYcYX"
   },
   "source": [
    "<font color=\"red\">**Question:**\n",
    "    <br>\n",
    "    - Train a RandomForestClassifier on Xtrain_ha and evaluate its performance on Xtest_ha. Chose 256 estimators, min_samples_leaf=20 and verbose=1 in order to monitor the fitting step. (If you have enough time, try later with 1024 estimators and min_samples_leaf=20).\n",
    "    <br>\n",
    "    - How do you fix 'n_jobs'? \n",
    "</font>"
   ]
  },
  {
   "cell_type": "code",
   "execution_count": null,
   "metadata": {
    "colab": {},
    "colab_type": "code",
    "id": "1CtFMlwKYcYX"
   },
   "outputs": [],
   "source": [
    "from sklearn.ensemble import ... # Fill here\n",
    "rf = RandomForestClassifier( ... )\n",
    "rf.fit( ... )"
   ]
  },
  {
   "cell_type": "code",
   "execution_count": null,
   "metadata": {
    "colab": {},
    "colab_type": "code",
    "id": "h170ZelZYcYa"
   },
   "outputs": [],
   "source": [
    "soft = ...\n",
    "log_loss(ytest, soft), roc_auc_score(ytest, soft)"
   ]
  },
  {
   "cell_type": "markdown",
   "metadata": {
    "colab_type": "text",
    "id": "3V1PmiFGYcYb"
   },
   "source": [
    "<font color=\"red\">**Question:**\n",
    "   Compare with xgboost performance on the same hashed dataset, with n_estimators=256, n_jobs=-1, learning_rate=1.0. (If you have enough time try n_estimators=1024, n_jobs=-1, learning_rate=0.5, it will perform better than a Random Forest of 1024 trees).\n",
    "</font>"
   ]
  },
  {
   "cell_type": "code",
   "execution_count": null,
   "metadata": {
    "colab": {},
    "colab_type": "code",
    "id": "efxpo945YcYc"
   },
   "outputs": [],
   "source": [
    "... # Fill here\n",
    "%time xgb.fit( ..., ... ) # the '%time' command will return the execution time of the fitting step\n",
    "..."
   ]
  },
  {
   "cell_type": "markdown",
   "metadata": {
    "colab_type": "text",
    "id": "sQEvD6v9YcYf"
   },
   "source": [
    "<font color=\"red\">**Question:**\n",
    "    Plot the ROC curve for the obtained classifier (xgboost on hashed data). \n",
    "</font>"
   ]
  },
  {
   "cell_type": "code",
   "execution_count": null,
   "metadata": {
    "colab": {},
    "colab_type": "code",
    "id": "BTaxpNu8YcYg"
   },
   "outputs": [],
   "source": [
    "# Plot the ROC curve here"
   ]
  },
  {
   "cell_type": "markdown",
   "metadata": {
    "colab_type": "text",
    "id": "drSyzM_M8YJk"
   },
   "source": [
    "Your answer here\n",
    "\n",
    "..."
   ]
  },
  {
   "cell_type": "markdown",
   "metadata": {
    "colab_type": "text",
    "id": "7CxxdsyAYcYu"
   },
   "source": [
    "Good job! :-) "
   ]
  },
  {
   "cell_type": "markdown",
   "metadata": {
    "colab_type": "text",
    "id": "3NTILkwg8fFQ"
   },
   "source": [
    "<font color=\"red\">**Bonus Question:**\n",
    "    If you have enough time (about 2 hours ...), try to fit both random forest and xgboost models with more estimators (and a different learning rate of 0.5 for xgboost) on these enlarged datasets.<br>\n",
    "</font>"
   ]
  },
  {
   "cell_type": "code",
   "execution_count": null,
   "metadata": {
    "colab": {},
    "colab_type": "code",
    "id": "MO88fPXO8-9E"
   },
   "outputs": [],
   "source": [
    "# Fill here"
   ]
  },
  {
   "cell_type": "markdown",
   "metadata": {
    "colab_type": "text",
    "id": "gmT_UJvZIIWT"
   },
   "source": [
    "# BONUS : Field-aware Factorization Machines\n",
    "<br>\n",
    "<font color=\"red\">\n",
    "Display the names of the columns of the matrix Xtrain_ha\n",
    "</font>"
   ]
  },
  {
   "cell_type": "code",
   "execution_count": null,
   "metadata": {
    "colab": {},
    "colab_type": "code",
    "id": "gLVRw6AtIIWU"
   },
   "outputs": [],
   "source": []
  },
  {
   "cell_type": "markdown",
   "metadata": {
    "colab_type": "text",
    "id": "jePx6DkuIIWU"
   },
   "source": [
    "<font color=\"red\">\n",
    "Create a list of lists of the columns. The n-th sub-list is composed of the names of the columns of the n-th field.</font>"
   ]
  },
  {
   "cell_type": "code",
   "execution_count": null,
   "metadata": {
    "colab": {},
    "colab_type": "code",
    "id": "Xw5rYhwJIIWV"
   },
   "outputs": [],
   "source": [
    "fields = []\n",
    "fields.append( liste_colonnes_du_premier_champ )\n",
    "fields.append( liste_colonnes_du_deuxième_champ )\n",
    "fields.append( etc. )\n"
   ]
  },
  {
   "cell_type": "markdown",
   "metadata": {
    "colab_type": "text",
    "id": "ZUu2FXaSIIWW"
   },
   "source": [
    "<font color=\"red\">\n",
    "With the enumerate function, let generate a dictionary which associates each column name with its field.\n"
   ]
  },
  {
   "cell_type": "code",
   "execution_count": null,
   "metadata": {
    "colab": {},
    "colab_type": "code",
    "id": "tWzYMksxIIWX"
   },
   "outputs": [],
   "source": [
    "dicFields = { ... : ...  for i,f in enumerate(fields) for name_col in f}"
   ]
  },
  {
   "cell_type": "markdown",
   "metadata": {
    "colab_type": "text",
    "id": "o2Scxx_CIIWZ"
   },
   "source": [
    "We need to make sure that two different columns have different modalities. For this, we add in front of each modality a characteristic string of the column.\n",
    "\n",
    "<font color=\"red\">Perform this transformation with the apply method</font>\n"
   ]
  },
  {
   "cell_type": "code",
   "execution_count": null,
   "metadata": {
    "colab": {},
    "colab_type": "code",
    "id": "Y253v6YBIIWa"
   },
   "outputs": [],
   "source": [
    "Xtrain_ffm = pd.DataFrame()\n",
    "Xtest_ffm = pd.DataFrame()\n",
    "for col in Xtrain_ha.columns:\n",
    "    Xtrain_ffm[col] = Xtrain_ha[col].apply( ... )\n",
    "    Xtest_ffm[col] = Xtest_ha[col].apply( ... )"
   ]
  },
  {
   "cell_type": "markdown",
   "metadata": {
    "colab_type": "text",
    "id": "yrhsnGjIIIWb"
   },
   "source": [
    "With np.unique, we create the list of all the modalities appearing in all the columns."
   ]
  },
  {
   "cell_type": "code",
   "execution_count": null,
   "metadata": {
    "colab": {},
    "colab_type": "code",
    "id": "7fcTcK4rIIWb"
   },
   "outputs": [],
   "source": [
    "allvals = []\n",
    "allcols_ffm = [col for f in fields for col in f]  # Toutes les colonnes appartenant à l'un des champ\n",
    "for col in allcols_ffm:\n",
    "    allvals.append(np.unique(Xtrain_ffm[col]))\n",
    "allvals= [val for sublist in allvals for val in sublist]"
   ]
  },
  {
   "cell_type": "markdown",
   "metadata": {
    "colab_type": "text",
    "id": "OBLCa95zIIWc"
   },
   "source": [
    "<font color=\"red\">\n",
    "Using enumerate method, create a dictionary that at each value associates its rank in the allvals list.</font>"
   ]
  },
  {
   "cell_type": "code",
   "execution_count": null,
   "metadata": {
    "colab": {},
    "colab_type": "code",
    "id": "TlcO1vu0IIWc"
   },
   "outputs": [],
   "source": [
    "dicFeat = {val:i for i,val in ... }"
   ]
  },
  {
   "cell_type": "markdown",
   "metadata": {
    "colab_type": "text",
    "id": "qS4cP1SgIIWd"
   },
   "source": [
    "We build dataframe from dicFeat as follows:\n",
    "in each \"col\" column, the value \"x\" is replaced by the string \"f: v: 1\", where f is the field associated with the column and v is the index of the modality x.\n",
    "<font color=\"red\">\n",
    "Study the following code</font>"
   ]
  },
  {
   "cell_type": "code",
   "execution_count": null,
   "metadata": {
    "colab": {},
    "colab_type": "code",
    "id": "FLXawWuYIIWd"
   },
   "outputs": [],
   "source": [
    "for col in allcols_ffm:\n",
    "    f = dicFields[col]\n",
    "    Xtrain_ffm[col] = Xtrain_ffm[col].apply(lambda x:\"{}:{}:1\".format(f,dicFeat[x]) if x in dicFeat else \"\")\n",
    "    Xtest_ffm[col] = Xtest_ffm[col].apply(lambda x:\"{}:{}:1\".format(f,dicFeat[x]) if x in dicFeat else \"\")"
   ]
  },
  {
   "cell_type": "markdown",
   "metadata": {
    "colab_type": "text",
    "id": "O8jnU8x8IIWe"
   },
   "source": [
    "<font color=\"red\">For the two resulting dataframes, concatenate on the left the corresponding ytrain (or ytest) click column</font>"
   ]
  },
  {
   "cell_type": "code",
   "execution_count": null,
   "metadata": {
    "colab": {},
    "colab_type": "code",
    "id": "6vVXBrtVIIWe"
   },
   "outputs": [],
   "source": [
    "yXtrain_ffm = pd.concat( ... ,axis=1)\n",
    "yXtest_ffm = pd.concat( ... ,axis=1)"
   ]
  },
  {
   "cell_type": "markdown",
   "metadata": {
    "colab_type": "text",
    "id": "2yKP8AdSIIWf"
   },
   "source": [
    "<font color=\"red\">What does the following cell produce?</font>"
   ]
  },
  {
   "cell_type": "code",
   "execution_count": null,
   "metadata": {
    "colab": {},
    "colab_type": "code",
    "id": "vlCgqefuIIWg"
   },
   "outputs": [],
   "source": [
    "train_w = yXtrain_ffm.apply(lambda row:' '.join(row.values),axis=1).values\n",
    "test_w = yXtest_ffm.apply(lambda row:' '.join(row.values),axis=1).values"
   ]
  },
  {
   "cell_type": "markdown",
   "metadata": {
    "colab_type": "text",
    "id": "7VI0cKgcIIWm"
   },
   "source": [
    "<font color=\"red\">Write the above dataframe in a text file</font>"
   ]
  },
  {
   "cell_type": "code",
   "execution_count": null,
   "metadata": {
    "colab": {},
    "colab_type": "code",
    "id": "fdJFgYQuIIWo"
   },
   "outputs": [],
   "source": [
    "thefile = open('train.txt','w')\n",
    "for item in train_w:\n",
    "    thefile.write(\"%s\\n\" % item)\n",
    "\n",
    "# Faire de même pour le test set\n"
   ]
  },
  {
   "cell_type": "markdown",
   "metadata": {
    "colab_type": "text",
    "id": "Z3-j2EGuIIWo"
   },
   "source": [
    "To learn the FFM model, we use the LibFFM library https://www.csie.ntu.edu.tw/~cjlin/libffm/\n",
    "In the notebooks / directory there are two executables: ffm-train and ffm-predict.\n",
    "In jupyter notebook, the exclamation point! allows to launch a bash command.\n",
    "The use is as follows:\n",
    "\n",
    "-   `ffm-train'\n",
    "\n",
    "    usage: ffm-train [options] training_set_file [model_file]\n",
    "\n",
    "    options:  \n",
    "    -l <lambda>: set regularization parameter (default 0.00002)  \n",
    "    -k <factor>: set number of latent factors (default 4)  \n",
    "    -t <iteration>: set number of iterations (default 15)  \n",
    "    -r <eta>: set learning rate (default 0.2)  \n",
    "    -s <nr_threads>: set number of threads (default 1)  \n",
    "    -p <path>: set path to the validation set  \n",
    "    --quiet: quiet model (no output)  \n",
    "    --no-norm: disable instance-wise normalization  \n",
    "    --auto-stop: stop at the iteration that achieves the best validation loss (must be used with -p)  \n",
    "<br>\n",
    "<font color=\"red\">Learn the model. We can :\n",
    "- use an regularizer of 0.00001\n",
    "- use a learning rate of 0.05\n",
    "- use of the order of 15 latent factors\n",
    "- carry out the order of 30 iterations\n",
    "- with the -p option, change the test file to validation parameters\n",
    "- activate the --autostop mode\n",
    "</font> "
   ]
  },
  {
   "cell_type": "code",
   "execution_count": null,
   "metadata": {
    "colab": {},
    "colab_type": "code",
    "id": "zgFB_Wz7IIWp"
   },
   "outputs": [],
   "source": []
  },
  {
   "cell_type": "markdown",
   "metadata": {
    "colab_type": "text",
    "id": "ksgNKsj8IIWs"
   },
   "source": [
    "The use of ffm-predict is: ffm-predict filename-test file-name-model file-in-which-write-the-prediction \n",
    "<font color=\"red\">Perform the prediction</font>"
   ]
  },
  {
   "cell_type": "code",
   "execution_count": null,
   "metadata": {
    "colab": {},
    "colab_type": "code",
    "id": "8J6KBW8OIIWs"
   },
   "outputs": [],
   "source": []
  },
  {
   "cell_type": "markdown",
   "metadata": {
    "colab_type": "text",
    "id": "pp02SsNnIIWt"
   },
   "source": [
    "\n",
    "\n",
    "```\n",
    "# Ce texte est au format code\n",
    "```\n",
    "\n",
    "<font color=\"red\">Compute the log_loss and area under the roc curve (ROC AUC).</font>"
   ]
  },
  {
   "cell_type": "code",
   "execution_count": null,
   "metadata": {
    "colab": {},
    "colab_type": "code",
    "id": "nFFrqJyZIIWu"
   },
   "outputs": [],
   "source": []
  },
  {
   "cell_type": "markdown",
   "metadata": {
    "colab_type": "text",
    "id": "vqR8fOOBOqxx"
   },
   "source": [
    "# Bonus 2 : blending"
   ]
  },
  {
   "cell_type": "markdown",
   "metadata": {
    "colab_type": "text",
    "id": "7-3iP_FwOqxw"
   },
   "source": [
    "<font color=\"red\">\n",
    "Split Xtrain in two: Xtrain_meth and Xtrain_blend.</font>"
   ]
  },
  {
   "cell_type": "code",
   "execution_count": null,
   "metadata": {
    "colab": {},
    "colab_type": "code",
    "id": "VOz5fHUgOqxr"
   },
   "outputs": [],
   "source": [
    "Xtrain_meth, Xtrain_blend, ytrain_meth, ytrain_blend = train_test_split(Xtrain,ytrain,test_size=0.2)"
   ]
  },
  {
   "cell_type": "markdown",
   "metadata": {
    "colab_type": "text",
    "id": "taRGY6UDOqxq"
   },
   "source": [
    "<font color=\"red\">\n",
    "Train a logistic regression on XTrain_meth. Then compute its score on Xtrain_blend and save the score in a vector.</font>"
   ]
  },
  {
   "cell_type": "code",
   "execution_count": null,
   "metadata": {
    "colab": {},
    "colab_type": "code",
    "id": "iLZ9eMbEOqxo"
   },
   "outputs": [],
   "source": []
  },
  {
   "cell_type": "markdown",
   "metadata": {
    "colab_type": "text",
    "id": "dENR18QvOqxn"
   },
   "source": [
    "<font color=\"red\">\n",
    "Do the same thing with XGBoost (save the score).</font>"
   ]
  },
  {
   "cell_type": "code",
   "execution_count": null,
   "metadata": {
    "colab": {},
    "colab_type": "code",
    "id": "8H4Z6I86Oqxl"
   },
   "outputs": [],
   "source": []
  },
  {
   "cell_type": "markdown",
   "metadata": {
    "colab_type": "text",
    "id": "b8voXiEwOqxk"
   },
   "source": [
    "<font color=\"red\">\n",
    "Do the same with a RandomForest (save the score).</font>"
   ]
  },
  {
   "cell_type": "code",
   "execution_count": null,
   "metadata": {
    "colab": {},
    "colab_type": "code",
    "id": "At6NVRKZOqxi"
   },
   "outputs": [],
   "source": []
  },
  {
   "cell_type": "markdown",
   "metadata": {
    "colab_type": "text",
    "id": "iJcPtHjLOqxh"
   },
   "source": [
    "<font color=\"red\">\n",
    "Now with an extraTrees.</font>"
   ]
  },
  {
   "cell_type": "code",
   "execution_count": null,
   "metadata": {
    "colab": {},
    "colab_type": "code",
    "id": "3GVkx2YjOqxf"
   },
   "outputs": [],
   "source": []
  },
  {
   "cell_type": "markdown",
   "metadata": {
    "colab_type": "text",
    "id": "wUy2BfQSOqxe"
   },
   "source": [
    "<font color=\"red\">\n",
    "And again with FFM.</font>"
   ]
  },
  {
   "cell_type": "code",
   "execution_count": null,
   "metadata": {
    "colab": {},
    "colab_type": "code",
    "id": "PmSahlQCOqxb"
   },
   "outputs": [],
   "source": []
  },
  {
   "cell_type": "markdown",
   "metadata": {
    "colab_type": "text",
    "id": "Jk56lAPTOqxZ"
   },
   "source": [
    "<font color=\"red\">\n",
    "Concatenate all scores on Xtrain_blend to form a Zblend design matrix.</font>"
   ]
  },
  {
   "cell_type": "code",
   "execution_count": null,
   "metadata": {
    "colab": {},
    "colab_type": "code",
    "id": "y4Fz0wSLOqxT"
   },
   "outputs": [],
   "source": []
  },
  {
   "cell_type": "markdown",
   "metadata": {
    "colab_type": "text",
    "id": "px1CkkL7OqxR"
   },
   "source": [
    "<font color=\"red\">\n",
    "Train a logistic regression on (Zblend,ytrain_blend).</font>"
   ]
  },
  {
   "cell_type": "code",
   "execution_count": null,
   "metadata": {
    "colab": {},
    "colab_type": "code",
    "id": "awqpZTPhOqxN"
   },
   "outputs": [],
   "source": []
  },
  {
   "cell_type": "markdown",
   "metadata": {
    "colab_type": "text",
    "id": "nzWT4vH-OqxJ"
   },
   "source": [
    "<font color=\"red\">\n",
    "Evaluate the performance of this model on the test dataset.</font>"
   ]
  },
  {
   "cell_type": "code",
   "execution_count": null,
   "metadata": {
    "colab": {},
    "colab_type": "code",
    "id": "zq_IriMnOqw6"
   },
   "outputs": [],
   "source": []
  }
 ],
 "metadata": {
  "colab": {
   "collapsed_sections": [
    "1xrsFhCiYcT5",
    "Aw0uqHqTYcVd",
    "cF3oNg2BYcWo",
    "lahZdWm6YcXT"
   ],
   "name": "TP1-avazu-blank.ipynb",
   "provenance": []
  },
  "kernelspec": {
   "display_name": "Python 3",
   "language": "python",
   "name": "python3"
  },
  "language_info": {
   "codemirror_mode": {
    "name": "ipython",
    "version": 3
   },
   "file_extension": ".py",
   "mimetype": "text/x-python",
   "name": "python",
   "nbconvert_exporter": "python",
   "pygments_lexer": "ipython3",
   "version": "3.7.4"
  }
 },
 "nbformat": 4,
 "nbformat_minor": 4
}
