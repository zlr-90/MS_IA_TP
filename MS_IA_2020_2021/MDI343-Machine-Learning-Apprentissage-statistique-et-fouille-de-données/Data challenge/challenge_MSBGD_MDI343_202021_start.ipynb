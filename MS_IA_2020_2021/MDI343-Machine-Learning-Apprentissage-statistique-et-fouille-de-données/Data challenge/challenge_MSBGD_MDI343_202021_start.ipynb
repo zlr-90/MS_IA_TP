
<!DOCTYPE html>
<html lang="en">
<head>
<meta charset="utf-8">
<title>Jupyter Notebook Viewer</title>
<meta name="viewport" content="width=device-width, initial-scale=1.0">
<meta name="description" content="">
<meta name="author" content="">
<meta name="robots" content="noindex,nofollow">



<link href="/static/build/styles.css" rel="stylesheet">

<!--[if lt IE 9]>
    <script src="http://html5shim.googlecode.com/svn/trunk/html5.js"></script>
  <![endif]-->

<link rel="shortcut icon" href="/static/ico/ipynb_icon_16x16.png">
<link rel="apple-touch-icon-precomposed" sizes="144x144" href="/static/ico/apple-touch-icon-144-precomposed.png">
<link rel="apple-touch-icon-precomposed" sizes="114x114" href="/static/ico/apple-touch-icon-114-precomposed.png">
<link rel="apple-touch-icon-precomposed" sizes="72x72" href="/static/ico/apple-touch-icon-72-precomposed.png">
<link rel="apple-touch-icon-precomposed" href="/static/ico/apple-touch-icon-57-precomposed.png">
<meta name="twitter:card" content="summary">
<meta name="twitter:title" content="Notebook on nbviewer">
<meta name="twitter:description" content="Check out this Jupyter notebook!">
<meta name="twitter:domain" content="nbviewer.jupyter.org">
<meta name="twitter:image:src" content="http://ipython.org/ipython-doc/dev/_images/ipynb_icon_128x128.png">
<link href="/static/build/notebook.css" rel="stylesheet">
<script src="https://cdnjs.cloudflare.com/ajax/libs/mathjax/2.7.1/MathJax.js?config=TeX-AMS_HTML" type="text/javascript">
    </script>
<script type="text/javascript">
      init_mathjax = function() {
        if (window.MathJax) {
          // MathJax loaded
          MathJax.Hub.Config({
            TeX: {
              equationNumbers: {
                autoNumber: "AMS",
                useLabelIds: true
              }
            },
            tex2jax: {
              inlineMath: [ ['$','$'], ["\\(","\\)"] ],
              displayMath: [ ['$$','$$'], ["\\[","\\]"] ],
              processEscapes: true,
              processEnvironments: true
            },
            displayAlign: 'center',
            "HTML-CSS": {
              styles: {'.MathJax_Display': {"margin": 0}},
              linebreaks: { automatic: true }
            }
          });
          MathJax.Hub.Queue(["Typeset", MathJax.Hub]);
        }
      }
      init_mathjax();
    </script>
<script>
      (function() {
        function addWidgetsRenderer() {
          var mimeElement = document.querySelector('script[type="application/vnd.jupyter.widget-view+json"]');
          var scriptElement = document.createElement('script');
          var widgetRendererSrc = 'https://unpkg.com/@jupyter-widgets/html-manager@*/dist/embed-amd.js';
          var widgetState;

          try {
            widgetState = mimeElement && JSON.parse(mimeElement.innerHTML);

            if (widgetState && (widgetState.version_major < 2 || !widgetState.version_major)) {
              widgetRendererSrc = 'https://unpkg.com/jupyter-js-widgets@*/dist/embed.js';
            }
          } catch(e) {}

          scriptElement.src = widgetRendererSrc;
          document.body.appendChild(scriptElement);
        }

        document.addEventListener('DOMContentLoaded', addWidgetsRenderer);
      }());
    </script>
</head>
<body class="nbviewer">

<script src="/static/components/jquery/dist/jquery.min.js"></script>
<script src="/static/components/requirejs/require.js"></script>
<script src="/static/components/moment/min/moment.min.js"></script>

<nav id="menubar" class="navbar navbar-default navbar-fixed-top" data-spy="affix">
 <div class="container">
<div class="navbar-header">
<button type="button" class="navbar-toggle collapsed" data-toggle="collapse" data-target=".navbar-collapse">
<span class="sr-only">Toggle navigation</span>
<i class="fa fa-bars"></i>
</button>
<a class="navbar-brand" href="/">
<img src="/static/img/nav_logo.svg" width="159" />
</a>
</div>
<div class="collapse navbar-collapse">
<ul class="nav navbar-nav navbar-right">
<li>
<a class="active" href="https://jupyter.org">JUPYTER</a>
</li>
<li>
<a href="/faq" title="FAQ">
<span>FAQ</span>
</a>
</li>
<li>
<a href="script/urls/perso.telecom-paristech.fr/mozharovskyi/resources/challenge_MSBGD-MSIA_MDI343_202021_start.ipynb" title="View as Code">
<span class="fa fa-code fa-2x menu-icon"></span>
<span class="menu-text">View as Code</span>
</a>
</li>
<li>
<a href="#" title="Python 3 Kernel">
<span class="fa fa-server fa-2x menu-icon"></span>
<span class="menu-text">Python 3 Kernel</span>
</a>
</li>
<li>
<a href="https://perso.telecom-paristech.fr/mozharovskyi/resources/challenge_MSBGD-MSIA_MDI343_202021_start.ipynb" title="Download Notebook" download>
<span class="fa fa-download fa-2x menu-icon"></span>
<span class="menu-text">Download Notebook</span>
</a>
</li>
</ul>
</div>
</div>
</nav>
<div class="container container-main">
<div id="notebook">
<div id="notebook-container">
<div class="cell border-box-sizing text_cell rendered"><div class="prompt input_prompt">
</div><div class="inner_cell">
<div class="text_cell_render border-box-sizing rendered_html">
<h1 id="Introduction">Introduction<a class="anchor-link" href="#Introduction">&#182;</a></h1>
</div>
</div>
</div>
<div class="cell border-box-sizing text_cell rendered"><div class="prompt input_prompt">
</div><div class="inner_cell">
<div class="text_cell_render border-box-sizing rendered_html">
<h2 id="Data-Challenge-for-the-course-Machine-Learning-and-Data-Mining">Data Challenge for the course Machine Learning and Data Mining<a class="anchor-link" href="#Data-Challenge-for-the-course-Machine-Learning-and-Data-Mining">&#182;</a></h2><h3 id="Authors:">Authors:<a class="anchor-link" href="#Authors:">&#182;</a></h3><h4 id="Pavlo-Mozharovskyi-(pavlo.mozharovskyi@telecom-paris.fr),-Awais-Hussain-Sani,-Stephan-Cl&#233;men&#231;on">Pavlo Mozharovskyi (<a href="/cdn-cgi/l/email-protection" class="__cf_email__" data-cfemail="c5b5a4b3a9aaeba8aabfada4b7aab3b6aebcac85b1a0a9a0a6aaa8e8b5a4b7acb6eba3b7">[email&#160;protected]</a>), Awais Hussain Sani, Stephan Cl&#233;men&#231;on<a class="anchor-link" href="#Pavlo-Mozharovskyi-(pavlo.mozharovskyi@telecom-paris.fr),-Awais-Hussain-Sani,-Stephan-Cl&#233;men&#231;on">&#182;</a></h4>
</div>
</div>
</div>
<div class="cell border-box-sizing text_cell rendered"><div class="prompt input_prompt">
</div><div class="inner_cell">
<div class="text_cell_render border-box-sizing rendered_html">
<h1 id="Supervised-anomaly-detection">Supervised anomaly detection<a class="anchor-link" href="#Supervised-anomaly-detection">&#182;</a></h1><p><strong>Anomaly detection</strong> (or <strong>outlier detection</strong>) comprises the <strong>machine learning</strong> methods aimed at identification of observations that exhibit suspicious behaviour and are very likely to cause a problem.</p>
<p>This data set is provided by Valeo, the French one of the largest Original Equipment Manufacturer. It regards the task of the supervised anomaly detection on a production line. For each of the produced items, a set of properties are measured, and finally a special testing procedure verifies that the item is intact. Thus, all the observations are labeled as normal or defect (anomalies), with anomalies being rare.</p>
<p>Statistically, this is formalized as the supervised anomaly detection, because the correct labels are given during training. This can also be seen as a task of supervised classification with two very dis-equilibrated classes.</p>
<p>You are suggested to construct an anomaly detection rule which, for each new observation, provides an anomaly score, that is the score is higher for more abnormal observation. This would allow to detect anomaly just based on measured parameters of the item without running a mechanical testing procedure.</p>
</div>
</div>
</div>
<div class="cell border-box-sizing text_cell rendered"><div class="prompt input_prompt">
</div><div class="inner_cell">
<div class="text_cell_render border-box-sizing rendered_html">
<h1 id="The-properties-of-the-dataset:">The properties of the dataset:<a class="anchor-link" href="#The-properties-of-the-dataset:">&#182;</a></h1>
</div>
</div>
</div>
<div class="cell border-box-sizing text_cell rendered"><div class="prompt input_prompt">
</div><div class="inner_cell">
<div class="text_cell_render border-box-sizing rendered_html">
<p>The data set is provided by Valeo and consistst of the measures of 27 properties of produced items and their labels identifying whether an item is intact or defect (= anomaly).</p>
</div>
</div>
</div>
<div class="cell border-box-sizing text_cell rendered"><div class="prompt input_prompt">
</div><div class="inner_cell">
<div class="text_cell_render border-box-sizing rendered_html">
<h3 id="Training-data:">Training data:<a class="anchor-link" href="#Training-data:">&#182;</a></h3>
</div>
</div>
</div>
<div class="cell border-box-sizing text_cell rendered"><div class="prompt input_prompt">
</div><div class="inner_cell">
<div class="text_cell_render border-box-sizing rendered_html">
<p>The training set consists of files, <strong>valeo_xtrain.csv</strong> and <strong>valeo_ytrain.csv</strong>.</p>
<p>File <strong>valeo_xtrain.csv</strong> contains one observation per row, each observation having 27 entries.</p>
<p>File <strong>valeo_ytrain.csv</strong> contains one observation per row, each observation having 1 entry identifying whether it is an anomay (<strong>1</strong>) or not (<strong>0</strong>).</p>
<p>There are in total <strong>27586</strong> training observations.</p>
</div>
</div>
</div>
<div class="cell border-box-sizing text_cell rendered"><div class="prompt input_prompt">
</div><div class="inner_cell">
<div class="text_cell_render border-box-sizing rendered_html">
<h3 id="Test-data:">Test data:<a class="anchor-link" href="#Test-data:">&#182;</a></h3>
</div>
</div>
</div>
<div class="cell border-box-sizing text_cell rendered"><div class="prompt input_prompt">
</div><div class="inner_cell">
<div class="text_cell_render border-box-sizing rendered_html">
<p>The testing set consists of one file, <strong>valeo_xtest.csv</strong>, which has the same structure as file <strong>valeo_xtrain.csv</strong>.</p>
<p>There are in total <strong>27587</strong> test observations.</p>
</div>
</div>
</div>
<div class="cell border-box-sizing text_cell rendered"><div class="prompt input_prompt">
</div><div class="inner_cell">
<div class="text_cell_render border-box-sizing rendered_html">
<h3 id="Remark:">Remark:<a class="anchor-link" href="#Remark:">&#182;</a></h3>
</div>
</div>
</div>
<div class="cell border-box-sizing text_cell rendered"><div class="prompt input_prompt">
</div><div class="inner_cell">
<div class="text_cell_render border-box-sizing rendered_html">
<p>The task of the <strong>supervised anomaly detection</strong> can be difficult, in the sense that the classes are heavily disequilibrated.</p>
</div>
</div>
</div>
<div class="cell border-box-sizing text_cell rendered"><div class="prompt input_prompt">
</div><div class="inner_cell">
<div class="text_cell_render border-box-sizing rendered_html">
<h2 id="The-performance-criterion:">The performance criterion:<a class="anchor-link" href="#The-performance-criterion:">&#182;</a></h2>
</div>
</div>
</div>
<div class="cell border-box-sizing text_cell rendered"><div class="prompt input_prompt">
</div><div class="inner_cell">
<div class="text_cell_render border-box-sizing rendered_html">
<p>You should submit a file that contains in each row anomaly score (a real vaule) for the observation in the corresponding row of the file <strong>valeo_xtest.csv</strong>. For a sample submission please see the code below. Please note, that your score should provide ordering which allows to identify anomalies, i.e., the higher the value of the score, the <strong>more abnormal</strong> the observation should be considered.</p>
<p>The performance criterion is the <strong>Area Under the Receiver Operating Characteristic</strong> (AUC), see also:
<a href="https://en.wikipedia.org/wiki/Receiver_operating_characteristic#Area_under_the_curve">https://en.wikipedia.org/wiki/Receiver_operating_characteristic#Area_under_the_curve</a></p>
</div>
</div>
</div>
<div class="cell border-box-sizing text_cell rendered"><div class="prompt input_prompt">
</div><div class="inner_cell">
<div class="text_cell_render border-box-sizing rendered_html">
<h1 id="Training-Data">Training Data<a class="anchor-link" href="#Training-Data">&#182;</a></h1>
</div>
</div>
</div>
<div class="cell border-box-sizing text_cell rendered"><div class="prompt input_prompt">
</div><div class="inner_cell">
<div class="text_cell_render border-box-sizing rendered_html">
<p>Training data, input (file <strong>valeo_xtrain.csv</strong>): <a href="https://partage.imt.fr/index.php/s/W3WDoTmB6jJrPZp">https://partage.imt.fr/index.php/s/W3WDoTmB6jJrPZp</a></p>
</div>
</div>
</div>
<div class="cell border-box-sizing text_cell rendered"><div class="prompt input_prompt">
</div><div class="inner_cell">
<div class="text_cell_render border-box-sizing rendered_html">
<p>Training data, input (file <strong>valeo_ytrain.csv</strong>): <a href="https://partage.imt.fr/index.php/s/YAXDEXx6XJtf3X8">https://partage.imt.fr/index.php/s/YAXDEXx6XJtf3X8</a></p>
</div>
</div>
</div>
<div class="cell border-box-sizing text_cell rendered"><div class="prompt input_prompt">
</div><div class="inner_cell">
<div class="text_cell_render border-box-sizing rendered_html">
<h1 id="Test-Data">Test Data<a class="anchor-link" href="#Test-Data">&#182;</a></h1>
</div>
</div>
</div>
<div class="cell border-box-sizing text_cell rendered"><div class="prompt input_prompt">
</div><div class="inner_cell">
<div class="text_cell_render border-box-sizing rendered_html">
<p>Training data, output (file <strong>valeo_xtest.csv</strong>): <a href="https://partage.imt.fr/index.php/s/TCoKd6DMegpmmqL">https://partage.imt.fr/index.php/s/TCoKd6DMegpmmqL</a></p>
</div>
</div>
</div>
<div class="cell border-box-sizing text_cell rendered"><div class="prompt input_prompt">
</div><div class="inner_cell">
<div class="text_cell_render border-box-sizing rendered_html">
<h1 id="Example-submission">Example submission<a class="anchor-link" href="#Example-submission">&#182;</a></h1>
</div>
</div>
</div>
<div class="cell border-box-sizing code_cell rendered">
<div class="input">
<div class="prompt input_prompt">In&nbsp;[1]:</div>
<div class="inner_cell">
<div class="input_area">
<div class=" highlight hl-ipython3"><pre><span></span><span class="kn">import</span> <span class="nn">pandas</span> <span class="k">as</span> <span class="nn">pd</span>
<span class="kn">import</span> <span class="nn">numpy</span> <span class="k">as</span> <span class="nn">np</span>

<span class="kn">import</span> <span class="nn">matplotlib.pyplot</span> <span class="k">as</span> <span class="nn">plt</span>
</pre></div>
</div>
</div>
</div>
</div>
<div class="cell border-box-sizing text_cell rendered"><div class="prompt input_prompt">
</div><div class="inner_cell">
<div class="text_cell_render border-box-sizing rendered_html">
<h3 id="Load-and-investigate-the-data">Load and investigate the data<a class="anchor-link" href="#Load-and-investigate-the-data">&#182;</a></h3>
</div>
</div>
</div>
<div class="cell border-box-sizing code_cell rendered">
<div class="input">
<div class="prompt input_prompt">In&nbsp;[2]:</div>
<div class="inner_cell">
<div class="input_area">
<div class=" highlight hl-ipython3"><pre><span></span><span class="n">xtrain</span> <span class="o">=</span> <span class="n">pd</span><span class="o">.</span><span class="n">read_csv</span><span class="p">(</span><span class="s2">&quot;valeo_xtrain.csv&quot;</span><span class="p">)</span>
<span class="nb">print</span><span class="p">(</span><span class="n">xtrain</span><span class="o">.</span><span class="n">shape</span><span class="p">)</span>
<span class="n">xtrain</span><span class="o">.</span><span class="n">head</span><span class="p">()</span>
</pre></div>
</div>
</div>
</div>
<div class="output_wrapper">
<div class="output">
<div class="output_area">
<div class="prompt"></div>
<div class="output_subarea output_stream output_stdout output_text">
<pre>(27586, 27)
</pre>
</div>
</div>
<div class="output_area">
<div class="prompt output_prompt">Out[2]:</div>
<div class="output_html rendered_html output_subarea output_execute_result">
<div>
<style scoped>
    .dataframe tbody tr th:only-of-type {
        vertical-align: middle;
    }

    .dataframe tbody tr th {
        vertical-align: top;
    }

    .dataframe thead th {
        text-align: right;
    }
</style>
<table border="1" class="dataframe">
<thead>
<tr style="text-align: right;">
<th></th>
<th>START2_OP020_V_1angle</th>
<th>START2_OP020_V_1torque</th>
<th>START2_OP020_V_2angle</th>
<th>START2_OP020_V_2torque</th>
<th>START2_OP040_Vision_cosseprog</th>
<th>START2_OP050_Vision_paliermodel</th>
<th>START2_OP050_Vision_palierpresencedouille</th>
<th>START2_OP060_Vision_tirantcouleur</th>
<th>START2_OP070_V_1angle</th>
<th>START2_OP070_V_1prog</th>
<th>...</th>
<th>START2_OP090_SnapRingFinalStroke</th>
<th>START2_OP090_SnapRingMidPointForce</th>
<th>START2_OP090_SnapRingPeakForce</th>
<th>START2_OP090_StartLinePeakForce</th>
<th>START2_OP100_Capuchon_insertionmesure</th>
<th>START2_OP110_Vissage_M8angle</th>
<th>START2_OP110_Vissage_M8prog</th>
<th>START2_OP110_Vissage_M8torque</th>
<th>START2_OP120_RodageI_mesure</th>
<th>START2_OP120_RodageU_mesure</th>
</tr>
</thead>
<tbody>
<tr>
<th>0</th>
<td>35.7</td>
<td>3.76</td>
<td>49.1</td>
<td>3.78</td>
<td>300.0</td>
<td>1.0</td>
<td>1.0</td>
<td>2.0</td>
<td>111.7</td>
<td>8.0</td>
<td>...</td>
<td>11.60</td>
<td>71.52</td>
<td>122.23</td>
<td>20.57</td>
<td>0.55</td>
<td>34.7</td>
<td>2.0</td>
<td>9.54</td>
<td>126.96</td>
<td>11.97</td>
</tr>
<tr>
<th>1</th>
<td>47.2</td>
<td>3.77</td>
<td>50.3</td>
<td>3.76</td>
<td>30.0</td>
<td>1.0</td>
<td>1.0</td>
<td>2.0</td>
<td>106.0</td>
<td>8.0</td>
<td>...</td>
<td>11.82</td>
<td>67.38</td>
<td>163.78</td>
<td>18.73</td>
<td>0.55</td>
<td>38.7</td>
<td>2.0</td>
<td>9.54</td>
<td>133.88</td>
<td>11.97</td>
</tr>
<tr>
<th>2</th>
<td>52.7</td>
<td>3.78</td>
<td>40.4</td>
<td>3.78</td>
<td>300.0</td>
<td>1.0</td>
<td>1.0</td>
<td>2.0</td>
<td>103.4</td>
<td>8.0</td>
<td>...</td>
<td>11.86</td>
<td>89.09</td>
<td>207.73</td>
<td>26.39</td>
<td>0.55</td>
<td>30.2</td>
<td>2.0</td>
<td>9.66</td>
<td>135.28</td>
<td>11.97</td>
</tr>
<tr>
<th>3</th>
<td>34.9</td>
<td>3.77</td>
<td>34.9</td>
<td>3.78</td>
<td>1000.0</td>
<td>2.0</td>
<td>1.0</td>
<td>1.0</td>
<td>146.0</td>
<td>7.0</td>
<td>...</td>
<td>11.47</td>
<td>93.45</td>
<td>177.31</td>
<td>25.73</td>
<td>0.59</td>
<td>17.6</td>
<td>1.0</td>
<td>12.06</td>
<td>116.51</td>
<td>11.97</td>
</tr>
<tr>
<th>4</th>
<td>50.0</td>
<td>3.77</td>
<td>41.9</td>
<td>3.75</td>
<td>400.0</td>
<td>1.0</td>
<td>1.0</td>
 <td>2.0</td>
<td>115.8</td>
<td>8.0</td>
<td>...</td>
<td>11.88</td>
<td>85.17</td>
<td>174.73</td>
<td>21.50</td>
<td>0.42</td>
<td>52.0</td>
<td>1.0</td>
<td>12.12</td>
<td>140.92</td>
<td>11.98</td>
</tr>
</tbody>
</table>
<p>5 rows × 27 columns</p>
</div>
</div>
</div>
</div>
</div>
</div>
<div class="cell border-box-sizing code_cell rendered">
<div class="input">
<div class="prompt input_prompt">In&nbsp;[3]:</div>
<div class="inner_cell">
<div class="input_area">
<div class=" highlight hl-ipython3"><pre><span></span><span class="n">ytrain</span> <span class="o">=</span> <span class="n">pd</span><span class="o">.</span><span class="n">read_csv</span><span class="p">(</span><span class="s2">&quot;valeo_ytrain.csv&quot;</span><span class="p">)</span>
<span class="nb">print</span><span class="p">(</span><span class="n">ytrain</span><span class="o">.</span><span class="n">shape</span><span class="p">)</span>
<span class="n">ytrain</span><span class="o">.</span><span class="n">head</span><span class="p">()</span>
</pre></div>
</div>
</div>
</div>
<div class="output_wrapper">
<div class="output">
<div class="output_area">
<div class="prompt"></div>
<div class="output_subarea output_stream output_stdout output_text">
<pre>(27586, 1)
</pre>
</div>
</div>
<div class="output_area">
<div class="prompt output_prompt">Out[3]:</div>
<div class="output_html rendered_html output_subarea output_execute_result">
<div>
<style scoped>
    .dataframe tbody tr th:only-of-type {
        vertical-align: middle;
    }

    .dataframe tbody tr th {
        vertical-align: top;
    }

    .dataframe thead th {
        text-align: right;
    }
</style>
<table border="1" class="dataframe">
<thead>
<tr style="text-align: right;">
<th></th>
<th>Anomaly</th>
</tr>
</thead>
<tbody>
<tr>
<th>0</th>
<td>0</td>
</tr>
<tr>
<th>1</th>
<td>0</td>
</tr>
<tr>
<th>2</th>
<td>0</td>
</tr>
<tr>
<th>3</th>
<td>0</td>
</tr>
<tr>
<th>4</th>
<td>0</td>
</tr>
</tbody>
</table>
</div>
</div>
</div>
</div>
</div>
</div>
<div class="cell border-box-sizing code_cell rendered">
<div class="input">
<div class="prompt input_prompt">In&nbsp;[4]:</div>
<div class="inner_cell">
<div class="input_area">
<div class=" highlight hl-ipython3"><pre><span></span><span class="n">ytrain</span><span class="p">[</span><span class="s2">&quot;Anomaly&quot;</span><span class="p">]</span><span class="o">.</span><span class="n">value_counts</span><span class="p">()</span> <span class="o">/</span> <span class="nb">len</span><span class="p">(</span><span class="n">ytrain</span><span class="p">)</span>
</pre></div>
</div>
</div>
</div>
<div class="output_wrapper">
<div class="output">
<div class="output_area">
<div class="prompt output_prompt">Out[4]:</div>
<div class="output_text output_subarea output_execute_result">
<pre>0    0.974879
1    0.025121
Name: Anomaly, dtype: float64</pre>
</div>
</div>
</div>
</div>
</div>
<div class="cell border-box-sizing text_cell rendered"><div class="prompt input_prompt">
</div><div class="inner_cell">
<div class="text_cell_render border-box-sizing rendered_html">
<p>Read in the test data</p>
</div>
</div>
</div>
<div class="cell border-box-sizing code_cell rendered">
<div class="input">
<div class="prompt input_prompt">In&nbsp;[5]:</div>
<div class="inner_cell">
<div class="input_area">
<div class=" highlight hl-ipython3"><pre><span></span><span class="n">xtest</span> <span class="o">=</span> <span class="n">pd</span><span class="o">.</span><span class="n">read_csv</span><span class="p">(</span><span class="s2">&quot;valeo_xtest.csv&quot;</span><span class="p">)</span>
<span class="nb">print</span><span class="p">(</span><span class="n">xtest</span><span class="o">.</span><span class="n">shape</span><span class="p">)</span>
<span class="n">xtest</span><span class="o">.</span><span class="n">head</span><span class="p">()</span>
</pre></div>
</div>
</div>
</div>
<div class="output_wrapper">
<div class="output">
<div class="output_area">
<div class="prompt"></div>
<div class="output_subarea output_stream output_stdout output_text">
<pre>(27587, 27)
</pre>
</div>
</div>
<div class="output_area">
<div class="prompt output_prompt">Out[5]:</div>
<div class="output_html rendered_html output_subarea output_execute_result">
<div>
<style scoped>
    .dataframe tbody tr th:only-of-type {
        vertical-align: middle;
    }

    .dataframe tbody tr th {
        vertical-align: top;
    }

    .dataframe thead th {
        text-align: right;
    }
</style>
<table border="1" class="dataframe">
<thead>
<tr style="text-align: right;">
<th></th>
<th>START2_OP020_V_1angle</th>
<th>START2_OP020_V_1torque</th>
<th>START2_OP020_V_2angle</th>
<th>START2_OP020_V_2torque</th>
<th>START2_OP040_Vision_cosseprog</th>
<th>START2_OP050_Vision_paliermodel</th>
<th>START2_OP050_Vision_palierpresencedouille</th>
<th>START2_OP060_Vision_tirantcouleur</th>
<th>START2_OP070_V_1angle</th>
<th>START2_OP070_V_1prog</th>
<th>...</th>
<th>START2_OP090_SnapRingFinalStroke</th>
<th>START2_OP090_SnapRingMidPointForce</th>
<th>START2_OP090_SnapRingPeakForce</th>
<th>START2_OP090_StartLinePeakForce</th>
<th>START2_OP100_Capuchon_insertionmesure</th>
<th>START2_OP110_Vissage_M8angle</th>
<th>START2_OP110_Vissage_M8prog</th>
<th>START2_OP110_Vissage_M8torque</th>
<th>START2_OP120_RodageI_mesure</th>
<th>START2_OP120_RodageU_mesure</th>
</tr>
</thead>
<tbody>
<tr>
<th>0</th>
<td>35.1</td>
<td>3.78</td>
<td>37.4</td>
<td>3.77</td>
<td>700.0</td>
<td>2.0</td>
<td>1.0</td>
<td>1.0</td>
<td>144.1</td>
<td>7.0</td>
<td>...</td>
<td>11.58</td>
<td>78.73</td>
<td>137.70</td>
<td>27.91</td>
<td>0.41</td>
<td>15.0</td>
<td>1.0</td>
<td>12.14</td>
<td>114.68</td>
<td>11.97</td>
</tr>
<tr>
<th>1</th>
<td>35.2</td>
<td>3.75</td>
<td>33.2</td>
<td>3.75</td>
<td>1300.0</td>
<td>2.0</td>
<td>1.0</td>
<td>1.0</td>
<td>153.5</td>
<td>7.0</td>
<td>...</td>
<td>12.12</td>
<td>71.78</td>
<td>135.23</td>
<td>16.29</td>
<td>0.23</td>
<td>23.8</td>
<td>1.0</td>
<td>12.25</td>
<td>120.63</td>
<td>11.97</td>
</tr>
<tr>
<th>2</th>
<td>46.1</td>
<td>3.79</td>
<td>36.1</td>
<td>3.77</td>
<td>1100.0</td>
<td>2.0</td>
<td>1.0</td>
<td>1.0</td>
<td>131.1</td>
<td>7.0</td>
<td>...</td>
<td>11.92</td>
<td>67.03</td>
<td>161.63</td>
<td>20.99</td>
<td>0.12</td>
<td>16.8</td>
<td>1.0</td>
<td>12.17</td>
<td>142.24</td>
<td>11.97</td>
</tr>
<tr>
<th>3</th>
<td>35.0</td>
<td>3.76</td>
<td>43.7</td>
<td>3.79</td>
<td>1300.0</td>
<td>2.0</td>
<td>1.0</td>
<td>1.0</td>
<td>147.1</td>
<td>7.0</td>
<td>...</td>
<td>11.93</td>
<td>76.06</td>
<td>123.96</td>
<td>23.47</td>
<td>0.23</td>
<td>18.5</td>
<td>1.0</td>
<td>12.19</td>
<td>116.94</td>
<td>11.97</td>
</tr>
<tr>
<th>4</th>
<td>44.9</td>
<td>3.76</td>
<td>31.9</td>
<td>3.79</td>
<td>700.0</td>
<td>2.0</td>
<td>1.0</td>
<td>1.0</td>
<td>163.1</td>
<td>7.0</td>
<td>...</td>
<td>11.59</td>
<td>62.30</td>
<td>126.82</td>
<td>35.31</td>
<td>0.41</td>
<td>13.5</td>
<td>1.0</td>
<td>12.18</td>
<td>120.41</td>
<td>11.97</td>
</tr>
</tbody>
</table>
<p>5 rows × 27 columns</p>
</div>
</div>
</div>
</div>
</div>
</div>
<div class="cell border-box-sizing text_cell rendered"><div class="prompt input_prompt">
</div><div class="inner_cell">
<div class="text_cell_render border-box-sizing rendered_html">
<h3 id="Fit-the-prediction-model">Fit the prediction model<a class="anchor-link" href="#Fit-the-prediction-model">&#182;</a></h3>
</div>
</div>
</div>
<div class="cell border-box-sizing code_cell rendered">
<div class="input">
<div class="prompt input_prompt">In&nbsp;[6]:</div>
<div class="inner_cell">
<div class="input_area">
<div class=" highlight hl-ipython3"><pre><span></span><span class="kn">from</span> <span class="nn">sklearn.linear_model</span> <span class="kn">import</span> <span class="n">SGDClassifier</span>

<span class="n">sgd_clf</span> <span class="o">=</span> <span class="n">SGDClassifier</span><span class="p">(</span><span class="n">loss</span><span class="o">=</span><span class="s1">&#39;log&#39;</span><span class="p">,</span> <span class="n">max_iter</span><span class="o">=</span><span class="mi">1000</span><span class="p">,</span> <span class="n">tol</span><span class="o">=</span><span class="mf">1e-3</span><span class="p">,</span> <span class="n">random_state</span><span class="o">=</span><span class="mi">42</span><span class="p">)</span>
<span class="n">sgd_clf</span><span class="o">.</span><span class="n">fit</span><span class="p">(</span><span class="n">xtrain</span><span class="p">,</span> <span class="n">ytrain</span><span class="o">.</span><span class="n">values</span><span class="o">.</span><span class="n">ravel</span><span class="p">())</span>
</pre></div>
</div>
</div>
</div>
<div class="output_wrapper">
<div class="output">
<div class="output_area">
<div class="prompt output_prompt">Out[6]:</div>
<div class="output_text output_subarea output_execute_result">
<pre>SGDClassifier(loss=&#39;log&#39;, random_state=42)</pre>
</div>
</div>
</div>
</div>
</div>
<div class="cell border-box-sizing code_cell rendered">
<div class="input">
<div class="prompt input_prompt">In&nbsp;[7]:</div>
<div class="inner_cell">
<div class="input_area">
<div class=" highlight hl-ipython3"><pre><span></span><span class="kn">from</span> <span class="nn">sklearn.linear_model</span> <span class="kn">import</span> <span class="n">LogisticRegression</span>
<span class="c1"># Train the anomaly detector</span>
<span class="n">clf</span> <span class="o">=</span> <span class="n">LogisticRegression</span><span class="p">(</span><span class="n">solver</span><span class="o">=</span><span class="s1">&#39;liblinear&#39;</span><span class="p">,</span> <span class="n">max_iter</span><span class="o">=</span><span class="mi">1000</span><span class="p">)</span>
<span class="n">clf</span><span class="o">.</span><span class="n">fit</span><span class="p">(</span><span class="n">xtrain</span><span class="p">,</span> <span class="n">ytrain</span><span class="o">.</span><span class="n">values</span><span class="o">.</span><span class="n">ravel</span><span class="p">(),</span> <span class="p">)</span>
</pre></div>
</div>
</div>
</div>
<div class="output_wrapper">
<div class="output">
<div class="output_area">
<div class="prompt output_prompt">Out[7]:</div>
<div class="output_text output_subarea output_execute_result">
<pre>LogisticRegression(max_iter=1000, solver=&#39;liblinear&#39;)</pre>
</div>
</div>
</div>
</div>
</div>
<div class="cell border-box-sizing code_cell rendered">
<div class="input">
<div class="prompt input_prompt">In&nbsp;[8]:</div>
<div class="inner_cell">
<div class="input_area">
<div class=" highlight hl-ipython3"><pre><span></span><span class="n">sscore</span> <span class="o">=</span> <span class="n">sgd_clf</span><span class="o">.</span><span class="n">decision_function</span><span class="p">(</span><span class="n">xtest</span><span class="p">)</span>
</pre></div>
</div>
</div>
</div>
</div>
<div class="cell border-box-sizing code_cell rendered">
<div class="input">
<div class="prompt input_prompt">In&nbsp;[9]:</div>
<div class="inner_cell">
<div class="input_area">
<div class=" highlight hl-ipython3"><pre><span></span><span class="n">sscore</span><span class="p">[:</span><span class="mi">25</span><span class="p">]</span>
</pre></div>
</div>
</div>
</div>
<div class="output_wrapper">
<div class="output">
<div class="output_area">
<div class="prompt output_prompt">Out[9]:</div>
<div class="output_text output_subarea output_execute_result">
<pre>array([ -912.4139287 ,  -331.34268546,  -475.3622375 ,  -609.56123036,
       -1406.98332814,  -390.84703435,  -238.53503941,  -502.40931293,
         191.15829818,   419.89855687,  -421.19820258,  -309.76577504,
         145.72661621,   -84.35325758,  -199.92239749,  -436.35773698,
        -517.06599948,  -504.04019375,  -948.85166833,   512.34586851,
        -785.56448134,  -303.59371121,  -297.4278979 ,   475.20559141,
        -600.16062477])</pre>
</div>
</div>
</div>
</div>
</div>
<div class="cell border-box-sizing text_cell rendered"><div class="prompt input_prompt">
</div><div class="inner_cell">
<div class="text_cell_render border-box-sizing rendered_html">
<h2 id="Prepare-a-file-for-submission">Prepare a file for submission<a class="anchor-link" href="#Prepare-a-file-for-submission">&#182;</a></h2>
</div>
</div>
</div>
<div class="cell border-box-sizing code_cell rendered">
<div class="input">
<div class="prompt input_prompt">In&nbsp;[10]:</div>
<div class="inner_cell">
<div class="input_area">
<div class=" highlight hl-ipython3"><pre><span></span><span class="c1"># Save the anomaly scores to file</span>
<span class="nb">print</span><span class="p">(</span><span class="n">sscore</span><span class="o">.</span><span class="n">shape</span><span class="p">)</span>
<span class="n">np</span><span class="o">.</span><span class="n">savetxt</span><span class="p">(</span><span class="s1">&#39;ytest_challenge_student.csv&#39;</span><span class="p">,</span> <span class="n">sscore</span><span class="p">,</span> <span class="n">fmt</span> <span class="o">=</span> <span class="s1">&#39;</span><span class="si">%1.6f</span><span class="s1">&#39;</span><span class="p">,</span> <span class="n">delimiter</span><span class="o">=</span><span class="s1">&#39;,&#39;</span><span class="p">)</span>
</pre></div>
</div>
</div>
</div>
<div class="output_wrapper">
<div class="output">
<div class="output_area">
<div class="prompt"></div>
<div class="output_subarea output_stream output_stdout output_text">
<pre>(27587,)
</pre>
</div>
</div>
</div>
</div>
</div>
<div class="cell border-box-sizing text_cell rendered"><div class="prompt input_prompt">
</div><div class="inner_cell">
<div class="text_cell_render border-box-sizing rendered_html">
<h4 id="Now-it's-your-turn.-Good-luck-!--:)">Now it's your turn. Good luck ! :)<a class="anchor-link" href="#Now-it's-your-turn.-Good-luck-!--:)">&#182;</a></h4>
</div>
</div>
</div>
</div>
</div>
</div>
<footer class="footer hidden-print">
<div class="container">
<div class="col-md-4">
<p>
This website does not host notebooks, it only renders notebooks
available on other websites.
</p>
</div>
<div class="col-md-4">
<p>
Delivered by <a href="https://www.fastly.com/">Fastly</a>,
Rendered by <a href="https://ovhcloud.com">OVHcloud</a>
</p>
<p>
nbviewer GitHub <a href="https://github.com/jupyter/nbviewer">repository</a>.
</p>
</div>
<div class="col-md-4">
<p>
nbviewer version:
<a href="https://github.com/jupyter/nbviewer/commit/90c61ccda0e4ae08ce46511c45505b49663fb019">
90c61cc
</a>
</p>
<p>
nbconvert version: <a href="https://github.com/jupyter/nbconvert/releases/tag/5.6.1">
5.6.1
</a>
</p>
<p>
Rendered
<span class='date' data-date='Mon, 22 Feb 2021 18:59:56 UTC' title='Mon, 22 Feb 2021 18:59:56 UTC'>(Mon, 22 Feb 2021 18:59:56 UTC)</span>
</p>
</div>
</div>
</footer>
<script data-cfasync="false" src="/cdn-cgi/scripts/5c5dd728/cloudflare-static/email-decode.min.js"></script><script src="/static/components/bootstrap/js/bootstrap.min.js"></script>
<script src="/static/components/headroom.js/dist/headroom.min.js"></script>
<script src="/static/components/headroom.js/dist/jQuery.headroom.min.js"></script>
<script>
    $(function(){ $("#menubar").headroom({
      tolerance: 5,
      offset: 205,
      classes: {
        initial: "animated",
        pinned: "slideInDown",
        unpinned: "slideOutUp"
      }
    })});
  </script>
<script>
    (function(i,s,o,g,r,a,m){i['GoogleAnalyticsObject']=r;i[r]=i[r]||function(){
      (i[r].q=i[r].q||[]).push(arguments)},i[r].l=1*new Date();a=s.createElement(o),
      m=s.getElementsByTagName(o)[0];a.async=1;a.src=g;m.parentNode.insertBefore(a,m)
    })(window,document,'script','https://www.google-analytics.com/analytics.js','ga');
    ga('create', 'UA-52617120-5', 'auto',
       {'storage': 'none'});
    ga('set', 'anonymizeIp', true);
    ga('send', 'pageview');
  </script>
<script>
    require({
        paths: {
          moment: "/static/components/moment/min/moment.min.js"
        }
      }, ["moment"], function(moment){
      var date = $("footer .date"),
        m = moment(new Date(date.data('date'))),
        update = function(){ date.text(m.fromNow()); };
      setInterval(update, 61*1000);
      update();
      var w = $(window).scroll(function(event){
        $("body").toggleClass("scrolled", w.scrollTop() > 0);
      });
    });
  </script>


</body>
</html>