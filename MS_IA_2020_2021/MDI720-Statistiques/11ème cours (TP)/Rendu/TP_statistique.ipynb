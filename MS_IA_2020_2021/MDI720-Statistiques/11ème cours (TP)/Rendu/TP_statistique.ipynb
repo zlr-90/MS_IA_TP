{
 "cells": [
  {
   "cell_type": "markdown",
   "metadata": {},
   "source": [
    "# TP2"
   ]
  },
  {
   "cell_type": "code",
   "execution_count": 1,
   "metadata": {},
   "outputs": [],
   "source": [
    "import pandas as pd\n",
    "import numpy as np\n",
    "import random as rd\n",
    "import matplotlib.pyplot as plt\n",
    "from sklearn.decomposition import PCA\n",
    "from sklearn.linear_model import LinearRegression\n",
    "from sklearn.linear_model import Ridge\n",
    "from sklearn.linear_model import RidgeCV\n",
    "from sklearn.preprocessing import StandardScaler\n",
    "from sklearn.metrics import r2_score\n",
    "from sklearn import preprocessing\n",
    "from sklearn.model_selection import KFold\n",
    "from sklearn.linear_model import LassoCV\n",
    "import seaborn as sb\n",
    "import warnings\n",
    "warnings.filterwarnings('ignore')"
   ]
  },
  {
   "cell_type": "markdown",
   "metadata": {},
   "source": [
    "#### Question 1"
   ]
  },
  {
   "cell_type": "code",
   "execution_count": 2,
   "metadata": {
    "scrolled": true
   },
   "outputs": [
    {
     "data": {
      "text/html": [
       "<div>\n",
       "<style scoped>\n",
       "    .dataframe tbody tr th:only-of-type {\n",
       "        vertical-align: middle;\n",
       "    }\n",
       "\n",
       "    .dataframe tbody tr th {\n",
       "        vertical-align: top;\n",
       "    }\n",
       "\n",
       "    .dataframe thead th {\n",
       "        text-align: right;\n",
       "    }\n",
       "</style>\n",
       "<table border=\"1\" class=\"dataframe\">\n",
       "  <thead>\n",
       "    <tr style=\"text-align: right;\">\n",
       "      <th></th>\n",
       "      <th>X1</th>\n",
       "      <th>X2</th>\n",
       "      <th>X3</th>\n",
       "      <th>X4</th>\n",
       "      <th>X5</th>\n",
       "      <th>X6</th>\n",
       "      <th>X7</th>\n",
       "      <th>X8</th>\n",
       "      <th>X9</th>\n",
       "      <th>X10</th>\n",
       "      <th>...</th>\n",
       "      <th>X202</th>\n",
       "      <th>X203</th>\n",
       "      <th>X204</th>\n",
       "      <th>X205</th>\n",
       "      <th>X206</th>\n",
       "      <th>X207</th>\n",
       "      <th>X208</th>\n",
       "      <th>X209</th>\n",
       "      <th>X210</th>\n",
       "      <th>Y</th>\n",
       "    </tr>\n",
       "  </thead>\n",
       "  <tbody>\n",
       "    <tr>\n",
       "      <td>0</td>\n",
       "      <td>0.567079</td>\n",
       "      <td>-0.091771</td>\n",
       "      <td>0.942371</td>\n",
       "      <td>-0.030515</td>\n",
       "      <td>-0.019217</td>\n",
       "      <td>0.391255</td>\n",
       "      <td>-0.864165</td>\n",
       "      <td>-0.399603</td>\n",
       "      <td>-0.494114</td>\n",
       "      <td>0.102664</td>\n",
       "      <td>...</td>\n",
       "      <td>-0.894318</td>\n",
       "      <td>-0.708800</td>\n",
       "      <td>0.281710</td>\n",
       "      <td>0.675912</td>\n",
       "      <td>1.015439</td>\n",
       "      <td>-1.106764</td>\n",
       "      <td>-0.028615</td>\n",
       "      <td>1.197579</td>\n",
       "      <td>-1.443292</td>\n",
       "      <td>151.0</td>\n",
       "    </tr>\n",
       "    <tr>\n",
       "      <td>1</td>\n",
       "      <td>-0.331488</td>\n",
       "      <td>-1.366750</td>\n",
       "      <td>0.114985</td>\n",
       "      <td>-0.205337</td>\n",
       "      <td>0.210889</td>\n",
       "      <td>0.477003</td>\n",
       "      <td>1.297167</td>\n",
       "      <td>1.112617</td>\n",
       "      <td>0.724504</td>\n",
       "      <td>0.150256</td>\n",
       "      <td>...</td>\n",
       "      <td>-0.695968</td>\n",
       "      <td>1.035641</td>\n",
       "      <td>-1.468597</td>\n",
       "      <td>-0.100480</td>\n",
       "      <td>-0.529577</td>\n",
       "      <td>0.464928</td>\n",
       "      <td>-0.408192</td>\n",
       "      <td>-1.011776</td>\n",
       "      <td>0.828507</td>\n",
       "      <td>75.0</td>\n",
       "    </tr>\n",
       "    <tr>\n",
       "      <td>2</td>\n",
       "      <td>-1.551211</td>\n",
       "      <td>0.694657</td>\n",
       "      <td>-0.958020</td>\n",
       "      <td>-0.499934</td>\n",
       "      <td>0.421997</td>\n",
       "      <td>0.398816</td>\n",
       "      <td>-0.164748</td>\n",
       "      <td>-1.122560</td>\n",
       "      <td>0.804680</td>\n",
       "      <td>0.172628</td>\n",
       "      <td>...</td>\n",
       "      <td>0.127114</td>\n",
       "      <td>-1.868818</td>\n",
       "      <td>0.256579</td>\n",
       "      <td>0.276417</td>\n",
       "      <td>1.415106</td>\n",
       "      <td>0.222125</td>\n",
       "      <td>-0.949045</td>\n",
       "      <td>0.902216</td>\n",
       "      <td>-0.126379</td>\n",
       "      <td>141.0</td>\n",
       "    </tr>\n",
       "    <tr>\n",
       "      <td>3</td>\n",
       "      <td>0.072708</td>\n",
       "      <td>1.309862</td>\n",
       "      <td>-1.718245</td>\n",
       "      <td>0.815730</td>\n",
       "      <td>0.337922</td>\n",
       "      <td>-1.518135</td>\n",
       "      <td>0.733924</td>\n",
       "      <td>-0.626778</td>\n",
       "      <td>0.625016</td>\n",
       "      <td>-0.021714</td>\n",
       "      <td>...</td>\n",
       "      <td>1.414900</td>\n",
       "      <td>-0.169861</td>\n",
       "      <td>-0.487848</td>\n",
       "      <td>0.601895</td>\n",
       "      <td>-0.794737</td>\n",
       "      <td>1.187445</td>\n",
       "      <td>0.340078</td>\n",
       "      <td>-0.620887</td>\n",
       "      <td>1.136428</td>\n",
       "      <td>206.0</td>\n",
       "    </tr>\n",
       "    <tr>\n",
       "      <td>4</td>\n",
       "      <td>0.516270</td>\n",
       "      <td>0.670153</td>\n",
       "      <td>0.023550</td>\n",
       "      <td>1.328635</td>\n",
       "      <td>-0.875556</td>\n",
       "      <td>-0.080188</td>\n",
       "      <td>-1.716643</td>\n",
       "      <td>1.063847</td>\n",
       "      <td>-0.548071</td>\n",
       "      <td>0.944563</td>\n",
       "      <td>...</td>\n",
       "      <td>0.867714</td>\n",
       "      <td>-0.645727</td>\n",
       "      <td>1.263969</td>\n",
       "      <td>-0.651965</td>\n",
       "      <td>0.299442</td>\n",
       "      <td>0.312629</td>\n",
       "      <td>0.812089</td>\n",
       "      <td>0.302794</td>\n",
       "      <td>-0.119473</td>\n",
       "      <td>135.0</td>\n",
       "    </tr>\n",
       "    <tr>\n",
       "      <td>...</td>\n",
       "      <td>...</td>\n",
       "      <td>...</td>\n",
       "      <td>...</td>\n",
       "      <td>...</td>\n",
       "      <td>...</td>\n",
       "      <td>...</td>\n",
       "      <td>...</td>\n",
       "      <td>...</td>\n",
       "      <td>...</td>\n",
       "      <td>...</td>\n",
       "      <td>...</td>\n",
       "      <td>...</td>\n",
       "      <td>...</td>\n",
       "      <td>...</td>\n",
       "      <td>...</td>\n",
       "      <td>...</td>\n",
       "      <td>...</td>\n",
       "      <td>...</td>\n",
       "      <td>...</td>\n",
       "      <td>...</td>\n",
       "      <td>...</td>\n",
       "    </tr>\n",
       "    <tr>\n",
       "      <td>437</td>\n",
       "      <td>-1.684065</td>\n",
       "      <td>0.017365</td>\n",
       "      <td>0.083803</td>\n",
       "      <td>-0.665017</td>\n",
       "      <td>0.306270</td>\n",
       "      <td>1.046941</td>\n",
       "      <td>-0.996450</td>\n",
       "      <td>0.617942</td>\n",
       "      <td>0.720627</td>\n",
       "      <td>0.311295</td>\n",
       "      <td>...</td>\n",
       "      <td>0.972751</td>\n",
       "      <td>-0.491750</td>\n",
       "      <td>0.489360</td>\n",
       "      <td>0.733823</td>\n",
       "      <td>0.254728</td>\n",
       "      <td>-0.681618</td>\n",
       "      <td>1.625224</td>\n",
       "      <td>-0.614416</td>\n",
       "      <td>-0.326057</td>\n",
       "      <td>178.0</td>\n",
       "    </tr>\n",
       "    <tr>\n",
       "      <td>438</td>\n",
       "      <td>-0.985487</td>\n",
       "      <td>0.378380</td>\n",
       "      <td>-2.483441</td>\n",
       "      <td>0.537348</td>\n",
       "      <td>1.850172</td>\n",
       "      <td>-0.022862</td>\n",
       "      <td>2.249594</td>\n",
       "      <td>-1.411524</td>\n",
       "      <td>1.755130</td>\n",
       "      <td>-0.089083</td>\n",
       "      <td>...</td>\n",
       "      <td>-1.234965</td>\n",
       "      <td>-1.084280</td>\n",
       "      <td>-2.801451</td>\n",
       "      <td>1.678528</td>\n",
       "      <td>0.598202</td>\n",
       "      <td>0.716723</td>\n",
       "      <td>-2.829058</td>\n",
       "      <td>0.936472</td>\n",
       "      <td>0.637250</td>\n",
       "      <td>104.0</td>\n",
       "    </tr>\n",
       "    <tr>\n",
       "      <td>439</td>\n",
       "      <td>1.656549</td>\n",
       "      <td>0.804088</td>\n",
       "      <td>-0.217134</td>\n",
       "      <td>2.344321</td>\n",
       "      <td>-0.488692</td>\n",
       "      <td>-0.430310</td>\n",
       "      <td>-1.013313</td>\n",
       "      <td>-0.195536</td>\n",
       "      <td>-0.984663</td>\n",
       "      <td>1.000962</td>\n",
       "      <td>...</td>\n",
       "      <td>-0.490450</td>\n",
       "      <td>-1.116473</td>\n",
       "      <td>0.222386</td>\n",
       "      <td>0.254800</td>\n",
       "      <td>0.798915</td>\n",
       "      <td>-0.277827</td>\n",
       "      <td>-0.406886</td>\n",
       "      <td>1.250858</td>\n",
       "      <td>-1.388868</td>\n",
       "      <td>132.0</td>\n",
       "    </tr>\n",
       "    <tr>\n",
       "      <td>440</td>\n",
       "      <td>-0.636382</td>\n",
       "      <td>-1.591981</td>\n",
       "      <td>2.663763</td>\n",
       "      <td>0.437529</td>\n",
       "      <td>-1.167818</td>\n",
       "      <td>1.223134</td>\n",
       "      <td>-1.610570</td>\n",
       "      <td>1.369835</td>\n",
       "      <td>0.546270</td>\n",
       "      <td>2.562763</td>\n",
       "      <td>...</td>\n",
       "      <td>0.250938</td>\n",
       "      <td>-1.404683</td>\n",
       "      <td>1.507997</td>\n",
       "      <td>-0.042924</td>\n",
       "      <td>0.702338</td>\n",
       "      <td>0.035967</td>\n",
       "      <td>1.259139</td>\n",
       "      <td>0.625545</td>\n",
       "      <td>-2.473085</td>\n",
       "      <td>220.0</td>\n",
       "    </tr>\n",
       "    <tr>\n",
       "      <td>441</td>\n",
       "      <td>-0.617876</td>\n",
       "      <td>-0.846108</td>\n",
       "      <td>0.913579</td>\n",
       "      <td>-1.014126</td>\n",
       "      <td>-0.331628</td>\n",
       "      <td>-0.070663</td>\n",
       "      <td>0.118380</td>\n",
       "      <td>0.163100</td>\n",
       "      <td>0.710844</td>\n",
       "      <td>-0.028673</td>\n",
       "      <td>...</td>\n",
       "      <td>0.417933</td>\n",
       "      <td>0.088741</td>\n",
       "      <td>-0.572384</td>\n",
       "      <td>1.301197</td>\n",
       "      <td>0.083528</td>\n",
       "      <td>-0.608470</td>\n",
       "      <td>1.524394</td>\n",
       "      <td>-0.734373</td>\n",
       "      <td>-0.538094</td>\n",
       "      <td>57.0</td>\n",
       "    </tr>\n",
       "  </tbody>\n",
       "</table>\n",
       "<p>442 rows × 211 columns</p>\n",
       "</div>"
      ],
      "text/plain": [
       "           X1        X2        X3        X4        X5        X6        X7  \\\n",
       "0    0.567079 -0.091771  0.942371 -0.030515 -0.019217  0.391255 -0.864165   \n",
       "1   -0.331488 -1.366750  0.114985 -0.205337  0.210889  0.477003  1.297167   \n",
       "2   -1.551211  0.694657 -0.958020 -0.499934  0.421997  0.398816 -0.164748   \n",
       "3    0.072708  1.309862 -1.718245  0.815730  0.337922 -1.518135  0.733924   \n",
       "4    0.516270  0.670153  0.023550  1.328635 -0.875556 -0.080188 -1.716643   \n",
       "..        ...       ...       ...       ...       ...       ...       ...   \n",
       "437 -1.684065  0.017365  0.083803 -0.665017  0.306270  1.046941 -0.996450   \n",
       "438 -0.985487  0.378380 -2.483441  0.537348  1.850172 -0.022862  2.249594   \n",
       "439  1.656549  0.804088 -0.217134  2.344321 -0.488692 -0.430310 -1.013313   \n",
       "440 -0.636382 -1.591981  2.663763  0.437529 -1.167818  1.223134 -1.610570   \n",
       "441 -0.617876 -0.846108  0.913579 -1.014126 -0.331628 -0.070663  0.118380   \n",
       "\n",
       "           X8        X9       X10  ...      X202      X203      X204  \\\n",
       "0   -0.399603 -0.494114  0.102664  ... -0.894318 -0.708800  0.281710   \n",
       "1    1.112617  0.724504  0.150256  ... -0.695968  1.035641 -1.468597   \n",
       "2   -1.122560  0.804680  0.172628  ...  0.127114 -1.868818  0.256579   \n",
       "3   -0.626778  0.625016 -0.021714  ...  1.414900 -0.169861 -0.487848   \n",
       "4    1.063847 -0.548071  0.944563  ...  0.867714 -0.645727  1.263969   \n",
       "..        ...       ...       ...  ...       ...       ...       ...   \n",
       "437  0.617942  0.720627  0.311295  ...  0.972751 -0.491750  0.489360   \n",
       "438 -1.411524  1.755130 -0.089083  ... -1.234965 -1.084280 -2.801451   \n",
       "439 -0.195536 -0.984663  1.000962  ... -0.490450 -1.116473  0.222386   \n",
       "440  1.369835  0.546270  2.562763  ...  0.250938 -1.404683  1.507997   \n",
       "441  0.163100  0.710844 -0.028673  ...  0.417933  0.088741 -0.572384   \n",
       "\n",
       "         X205      X206      X207      X208      X209      X210      Y  \n",
       "0    0.675912  1.015439 -1.106764 -0.028615  1.197579 -1.443292  151.0  \n",
       "1   -0.100480 -0.529577  0.464928 -0.408192 -1.011776  0.828507   75.0  \n",
       "2    0.276417  1.415106  0.222125 -0.949045  0.902216 -0.126379  141.0  \n",
       "3    0.601895 -0.794737  1.187445  0.340078 -0.620887  1.136428  206.0  \n",
       "4   -0.651965  0.299442  0.312629  0.812089  0.302794 -0.119473  135.0  \n",
       "..        ...       ...       ...       ...       ...       ...    ...  \n",
       "437  0.733823  0.254728 -0.681618  1.625224 -0.614416 -0.326057  178.0  \n",
       "438  1.678528  0.598202  0.716723 -2.829058  0.936472  0.637250  104.0  \n",
       "439  0.254800  0.798915 -0.277827 -0.406886  1.250858 -1.388868  132.0  \n",
       "440 -0.042924  0.702338  0.035967  1.259139  0.625545 -2.473085  220.0  \n",
       "441  1.301197  0.083528 -0.608470  1.524394 -0.734373 -0.538094   57.0  \n",
       "\n",
       "[442 rows x 211 columns]"
      ]
     },
     "execution_count": 2,
     "metadata": {},
     "output_type": "execute_result"
    }
   ],
   "source": [
    "df = pd.read_csv(\"data_dm3.csv\", names = [\"X\" + str(x) if x != 211 else \"Y\" for x in range(1, 212)])\n",
    "dfX = df.drop(['Y'], axis='columns')\n",
    "dfY = df.loc[:,[\"Y\"]]\n",
    "\n",
    "X_numpy = dfX.to_numpy()\n",
    "Y_numpy = dfY.to_numpy()\n",
    "Ytest2 = []\n",
    "for element in Y_numpy:\n",
    "    Ytest2.append(element[0])\n",
    "Y_numpy = np.array(Ytest2)\n",
    "\n",
    "df"
   ]
  },
  {
   "cell_type": "markdown",
   "metadata": {},
   "source": [
    "Notre problème contient :\n",
    "- card(X) = 210 variables explicative \n",
    "- n = 442 observations (nombre de patients)"
   ]
  },
  {
   "cell_type": "markdown",
   "metadata": {},
   "source": [
    "#### Question 2"
   ]
  },
  {
   "cell_type": "code",
   "execution_count": 3,
   "metadata": {},
   "outputs": [
    {
     "name": "stdout",
     "output_type": "stream",
     "text": [
      "Les variables explicatives sont-elles centré ? True\n",
      "La moyenne de Y vaut : 152.13348416289594, donc Y n'est pas centré\n",
      "Les variables explicatives sont-elles normalisé ? True\n",
      "L'écart type de Y vaut : 77.09300453299109, donc Y n'est pas normalisé\n"
     ]
    }
   ],
   "source": [
    "moyennes = df.mean()\n",
    "moyenne_Y = moyennes[-1]\n",
    "moyennes = moyennes.drop(labels = [\"Y\"])\n",
    "\n",
    "previous_value = moyennes[0]\n",
    "moyenne_nul = np.allclose(0.0, previous_value, 0.01)\n",
    "for moyenne in moyennes:\n",
    "    moyenne_nul = moyenne_nul & np.allclose(previous_value, moyenne, 0.01)\n",
    "    previous_value = moyenne\n",
    "print(\"Les variables explicatives sont-elles centré ? \" + str(moyenne_nul))\n",
    "print(\"La moyenne de Y vaut : \" + str(moyenne_Y) + \", donc Y n'est pas centré\")\n",
    "\n",
    "ets = df.std()\n",
    "ets_Y = ets[-1]\n",
    "ets = ets.drop(labels = [\"Y\"])\n",
    "\n",
    "previous_value = ets[0]\n",
    "ecart_type_1 = np.allclose(1.0, previous_value, 0.01)\n",
    "for et in ets:\n",
    "    ecart_type_1 = ecart_type_1 & np.allclose(previous_value, et, 0.01)\n",
    "    previous_value = et\n",
    "print(\"Les variables explicatives sont-elles normalisé ? \" + str(ecart_type_1))\n",
    "print(\"L'écart type de Y vaut : \" + str(ets_Y) + \", donc Y n'est pas normalisé\")"
   ]
  },
  {
   "cell_type": "code",
   "execution_count": 4,
   "metadata": {},
   "outputs": [
    {
     "name": "stdout",
     "output_type": "stream",
     "text": [
      "['X94', 'X150', 'X97', 'X203']\n"
     ]
    },
    {
     "data": {
      "text/plain": [
       "<seaborn.axisgrid.PairGrid at 0x2690480c408>"
      ]
     },
     "execution_count": 4,
     "metadata": {},
     "output_type": "execute_result"
    },
    {
     "data": {
      "image/png": "[encoded data removed]",
      "text/plain": [
       "<Figure size 720x720 with 20 Axes>"
      ]
     },
     "metadata": {
      "needs_background": "light"
     },
     "output_type": "display_data"
    }
   ],
   "source": [
    "x = []\n",
    "for i in range(4):\n",
    "    x.append(\"X\" + str(rd.randrange(1, 210)))\n",
    "print(x)\n",
    "\n",
    "sb.pairplot(df[x])"
   ]
  },
  {
   "cell_type": "markdown",
   "metadata": {},
   "source": [
    "La distribution des variables explicatives semble homogène"
   ]
  },
  {
   "cell_type": "markdown",
   "metadata": {},
   "source": [
    "#### Question 3"
   ]
  },
  {
   "cell_type": "markdown",
   "metadata": {},
   "source": [
    "Dans cette question, je tire un train set de 75% et un test set de 25% aléatoirement."
   ]
  },
  {
   "cell_type": "code",
   "execution_count": 5,
   "metadata": {},
   "outputs": [
    {
     "name": "stdout",
     "output_type": "stream",
     "text": [
      "Taille de l'échantillon d'apprentissage : 332\n",
      "Taille de l'échantillon de test : 110\n"
     ]
    }
   ],
   "source": [
    "xtrain = []\n",
    "while(len(xtrain) < 332):\n",
    "    rand = rd.randrange(442)\n",
    "    if not(rand in xtrain):\n",
    "        xtrain.append(rand)\n",
    "xother = [i for i in range(442) if not(i in xtrain)]\n",
    "\n",
    "Xtrain = pd.DataFrame(dfX.loc[xtrain])\n",
    "Xtest = pd.DataFrame(dfX.loc[xother])\n",
    "\n",
    "Ytrain = pd.DataFrame(dfY.loc[xtrain])\n",
    "Ytest = pd.DataFrame(dfY.loc[xother])\n",
    "\n",
    "print(\"Taille de l'échantillon d'apprentissage : \" + str(len(Xtrain)))\n",
    "print(\"Taille de l'échantillon de test : \" + str(len(Xtest)))"
   ]
  },
  {
   "cell_type": "markdown",
   "metadata": {},
   "source": [
    "#### Question 4"
   ]
  },
  {
   "cell_type": "markdown",
   "metadata": {},
   "source": [
    "Matrice de covariance :"
   ]
  },
  {
   "cell_type": "code",
   "execution_count": 6,
   "metadata": {},
   "outputs": [
    {
     "data": {
      "text/html": [
       "<div>\n",
       "<style scoped>\n",
       "    .dataframe tbody tr th:only-of-type {\n",
       "        vertical-align: middle;\n",
       "    }\n",
       "\n",
       "    .dataframe tbody tr th {\n",
       "        vertical-align: top;\n",
       "    }\n",
       "\n",
       "    .dataframe thead th {\n",
       "        text-align: right;\n",
       "    }\n",
       "</style>\n",
       "<table border=\"1\" class=\"dataframe\">\n",
       "  <thead>\n",
       "    <tr style=\"text-align: right;\">\n",
       "      <th></th>\n",
       "      <th>X1</th>\n",
       "      <th>X2</th>\n",
       "      <th>X3</th>\n",
       "      <th>X4</th>\n",
       "      <th>X5</th>\n",
       "      <th>X6</th>\n",
       "      <th>X7</th>\n",
       "      <th>X8</th>\n",
       "      <th>X9</th>\n",
       "      <th>X10</th>\n",
       "      <th>...</th>\n",
       "      <th>X201</th>\n",
       "      <th>X202</th>\n",
       "      <th>X203</th>\n",
       "      <th>X204</th>\n",
       "      <th>X205</th>\n",
       "      <th>X206</th>\n",
       "      <th>X207</th>\n",
       "      <th>X208</th>\n",
       "      <th>X209</th>\n",
       "      <th>X210</th>\n",
       "    </tr>\n",
       "  </thead>\n",
       "  <tbody>\n",
       "    <tr>\n",
       "      <td>X1</td>\n",
       "      <td>0.947179</td>\n",
       "      <td>0.230241</td>\n",
       "      <td>0.009869</td>\n",
       "      <td>0.342635</td>\n",
       "      <td>-0.068911</td>\n",
       "      <td>-0.346657</td>\n",
       "      <td>-0.173621</td>\n",
       "      <td>0.066396</td>\n",
       "      <td>-0.504636</td>\n",
       "      <td>-0.245428</td>\n",
       "      <td>...</td>\n",
       "      <td>-0.545754</td>\n",
       "      <td>-0.388367</td>\n",
       "      <td>0.210287</td>\n",
       "      <td>-0.124366</td>\n",
       "      <td>-0.009837</td>\n",
       "      <td>0.109518</td>\n",
       "      <td>-0.129105</td>\n",
       "      <td>-0.172535</td>\n",
       "      <td>0.323498</td>\n",
       "      <td>0.158103</td>\n",
       "    </tr>\n",
       "    <tr>\n",
       "      <td>X2</td>\n",
       "      <td>0.230241</td>\n",
       "      <td>0.974910</td>\n",
       "      <td>-0.699607</td>\n",
       "      <td>0.182365</td>\n",
       "      <td>0.526379</td>\n",
       "      <td>-0.321567</td>\n",
       "      <td>-0.262911</td>\n",
       "      <td>-0.492067</td>\n",
       "      <td>-0.106528</td>\n",
       "      <td>-0.304128</td>\n",
       "      <td>...</td>\n",
       "      <td>-0.502740</td>\n",
       "      <td>0.190947</td>\n",
       "      <td>-0.321760</td>\n",
       "      <td>0.194813</td>\n",
       "      <td>0.266072</td>\n",
       "      <td>0.116542</td>\n",
       "      <td>0.031895</td>\n",
       "      <td>-0.115564</td>\n",
       "      <td>0.428136</td>\n",
       "      <td>0.336974</td>\n",
       "    </tr>\n",
       "    <tr>\n",
       "      <td>X3</td>\n",
       "      <td>0.009869</td>\n",
       "      <td>-0.699607</td>\n",
       "      <td>0.985599</td>\n",
       "      <td>-0.362999</td>\n",
       "      <td>-0.711040</td>\n",
       "      <td>0.091811</td>\n",
       "      <td>-0.237064</td>\n",
       "      <td>0.339311</td>\n",
       "      <td>-0.123037</td>\n",
       "      <td>0.156797</td>\n",
       "      <td>...</td>\n",
       "      <td>0.473747</td>\n",
       "      <td>0.056069</td>\n",
       "      <td>0.195524</td>\n",
       "      <td>0.350495</td>\n",
       "      <td>-0.258006</td>\n",
       "      <td>-0.044458</td>\n",
       "      <td>-0.151978</td>\n",
       "      <td>0.410210</td>\n",
       "      <td>-0.071760</td>\n",
       "      <td>-0.468512</td>\n",
       "    </tr>\n",
       "    <tr>\n",
       "      <td>X4</td>\n",
       "      <td>0.342635</td>\n",
       "      <td>0.182365</td>\n",
       "      <td>-0.362999</td>\n",
       "      <td>0.968430</td>\n",
       "      <td>0.338649</td>\n",
       "      <td>0.136240</td>\n",
       "      <td>0.054423</td>\n",
       "      <td>0.159029</td>\n",
       "      <td>-0.020223</td>\n",
       "      <td>0.579563</td>\n",
       "      <td>...</td>\n",
       "      <td>-0.541939</td>\n",
       "      <td>-0.338275</td>\n",
       "      <td>-0.277448</td>\n",
       "      <td>-0.228861</td>\n",
       "      <td>0.014891</td>\n",
       "      <td>0.079365</td>\n",
       "      <td>0.234540</td>\n",
       "      <td>-0.401998</td>\n",
       "      <td>0.159885</td>\n",
       "      <td>-0.146108</td>\n",
       "    </tr>\n",
       "    <tr>\n",
       "      <td>X5</td>\n",
       "      <td>-0.068911</td>\n",
       "      <td>0.526379</td>\n",
       "      <td>-0.711040</td>\n",
       "      <td>0.338649</td>\n",
       "      <td>0.985335</td>\n",
       "      <td>0.217212</td>\n",
       "      <td>0.271932</td>\n",
       "      <td>-0.252179</td>\n",
       "      <td>0.167001</td>\n",
       "      <td>0.067766</td>\n",
       "      <td>...</td>\n",
       "      <td>0.057236</td>\n",
       "      <td>-0.220798</td>\n",
       "      <td>-0.146373</td>\n",
       "      <td>-0.203375</td>\n",
       "      <td>0.177630</td>\n",
       "      <td>-0.072350</td>\n",
       "      <td>0.155173</td>\n",
       "      <td>-0.392945</td>\n",
       "      <td>0.033092</td>\n",
       "      <td>0.275061</td>\n",
       "    </tr>\n",
       "    <tr>\n",
       "      <td>...</td>\n",
       "      <td>...</td>\n",
       "      <td>...</td>\n",
       "      <td>...</td>\n",
       "      <td>...</td>\n",
       "      <td>...</td>\n",
       "      <td>...</td>\n",
       "      <td>...</td>\n",
       "      <td>...</td>\n",
       "      <td>...</td>\n",
       "      <td>...</td>\n",
       "      <td>...</td>\n",
       "      <td>...</td>\n",
       "      <td>...</td>\n",
       "      <td>...</td>\n",
       "      <td>...</td>\n",
       "      <td>...</td>\n",
       "      <td>...</td>\n",
       "      <td>...</td>\n",
       "      <td>...</td>\n",
       "      <td>...</td>\n",
       "      <td>...</td>\n",
       "    </tr>\n",
       "    <tr>\n",
       "      <td>X206</td>\n",
       "      <td>0.109518</td>\n",
       "      <td>0.116542</td>\n",
       "      <td>-0.044458</td>\n",
       "      <td>0.079365</td>\n",
       "      <td>-0.072350</td>\n",
       "      <td>0.220669</td>\n",
       "      <td>-0.584637</td>\n",
       "      <td>0.290881</td>\n",
       "      <td>-0.051763</td>\n",
       "      <td>0.086863</td>\n",
       "      <td>...</td>\n",
       "      <td>-0.248225</td>\n",
       "      <td>-0.390800</td>\n",
       "      <td>-0.570267</td>\n",
       "      <td>-0.146514</td>\n",
       "      <td>0.264303</td>\n",
       "      <td>0.979847</td>\n",
       "      <td>-0.296184</td>\n",
       "      <td>-0.025455</td>\n",
       "      <td>0.398360</td>\n",
       "      <td>0.016631</td>\n",
       "    </tr>\n",
       "    <tr>\n",
       "      <td>X207</td>\n",
       "      <td>-0.129105</td>\n",
       "      <td>0.031895</td>\n",
       "      <td>-0.151978</td>\n",
       "      <td>0.234540</td>\n",
       "      <td>0.155173</td>\n",
       "      <td>-0.488429</td>\n",
       "      <td>0.440696</td>\n",
       "      <td>0.005159</td>\n",
       "      <td>0.778655</td>\n",
       "      <td>0.572706</td>\n",
       "      <td>...</td>\n",
       "      <td>-0.100079</td>\n",
       "      <td>0.436003</td>\n",
       "      <td>-0.341502</td>\n",
       "      <td>-0.136201</td>\n",
       "      <td>0.201100</td>\n",
       "      <td>-0.296184</td>\n",
       "      <td>1.049865</td>\n",
       "      <td>-0.139524</td>\n",
       "      <td>0.095592</td>\n",
       "      <td>0.365995</td>\n",
       "    </tr>\n",
       "    <tr>\n",
       "      <td>X208</td>\n",
       "      <td>-0.172535</td>\n",
       "      <td>-0.115564</td>\n",
       "      <td>0.410210</td>\n",
       "      <td>-0.401998</td>\n",
       "      <td>-0.392945</td>\n",
       "      <td>-0.094556</td>\n",
       "      <td>-0.418064</td>\n",
       "      <td>0.342800</td>\n",
       "      <td>0.049039</td>\n",
       "      <td>-0.036093</td>\n",
       "      <td>...</td>\n",
       "      <td>0.153628</td>\n",
       "      <td>0.545288</td>\n",
       "      <td>0.099946</td>\n",
       "      <td>0.310110</td>\n",
       "      <td>0.108297</td>\n",
       "      <td>-0.025455</td>\n",
       "      <td>-0.139524</td>\n",
       "      <td>0.940677</td>\n",
       "      <td>-0.377647</td>\n",
       "      <td>0.039424</td>\n",
       "    </tr>\n",
       "    <tr>\n",
       "      <td>X209</td>\n",
       "      <td>0.323498</td>\n",
       "      <td>0.428136</td>\n",
       "      <td>-0.071760</td>\n",
       "      <td>0.159885</td>\n",
       "      <td>0.033092</td>\n",
       "      <td>-0.360555</td>\n",
       "      <td>-0.357197</td>\n",
       "      <td>-0.360083</td>\n",
       "      <td>0.095274</td>\n",
       "      <td>0.010956</td>\n",
       "      <td>...</td>\n",
       "      <td>-0.277962</td>\n",
       "      <td>-0.055239</td>\n",
       "      <td>-0.618427</td>\n",
       "      <td>0.096725</td>\n",
       "      <td>0.443533</td>\n",
       "      <td>0.398360</td>\n",
       "      <td>0.095592</td>\n",
       "      <td>-0.377647</td>\n",
       "      <td>1.034033</td>\n",
       "      <td>-0.147257</td>\n",
       "    </tr>\n",
       "    <tr>\n",
       "      <td>X210</td>\n",
       "      <td>0.158103</td>\n",
       "      <td>0.336974</td>\n",
       "      <td>-0.468512</td>\n",
       "      <td>-0.146108</td>\n",
       "      <td>0.275061</td>\n",
       "      <td>-0.340330</td>\n",
       "      <td>0.109695</td>\n",
       "      <td>0.231471</td>\n",
       "      <td>0.209230</td>\n",
       "      <td>-0.307242</td>\n",
       "      <td>...</td>\n",
       "      <td>-0.237925</td>\n",
       "      <td>0.114411</td>\n",
       "      <td>0.156008</td>\n",
       "      <td>-0.317950</td>\n",
       "      <td>0.119935</td>\n",
       "      <td>0.016631</td>\n",
       "      <td>0.365995</td>\n",
       "      <td>0.039424</td>\n",
       "      <td>-0.147257</td>\n",
       "      <td>1.001367</td>\n",
       "    </tr>\n",
       "  </tbody>\n",
       "</table>\n",
       "<p>210 rows × 210 columns</p>\n",
       "</div>"
      ],
      "text/plain": [
       "            X1        X2        X3        X4        X5        X6        X7  \\\n",
       "X1    0.947179  0.230241  0.009869  0.342635 -0.068911 -0.346657 -0.173621   \n",
       "X2    0.230241  0.974910 -0.699607  0.182365  0.526379 -0.321567 -0.262911   \n",
       "X3    0.009869 -0.699607  0.985599 -0.362999 -0.711040  0.091811 -0.237064   \n",
       "X4    0.342635  0.182365 -0.362999  0.968430  0.338649  0.136240  0.054423   \n",
       "X5   -0.068911  0.526379 -0.711040  0.338649  0.985335  0.217212  0.271932   \n",
       "...        ...       ...       ...       ...       ...       ...       ...   \n",
       "X206  0.109518  0.116542 -0.044458  0.079365 -0.072350  0.220669 -0.584637   \n",
       "X207 -0.129105  0.031895 -0.151978  0.234540  0.155173 -0.488429  0.440696   \n",
       "X208 -0.172535 -0.115564  0.410210 -0.401998 -0.392945 -0.094556 -0.418064   \n",
       "X209  0.323498  0.428136 -0.071760  0.159885  0.033092 -0.360555 -0.357197   \n",
       "X210  0.158103  0.336974 -0.468512 -0.146108  0.275061 -0.340330  0.109695   \n",
       "\n",
       "            X8        X9       X10  ...      X201      X202      X203  \\\n",
       "X1    0.066396 -0.504636 -0.245428  ... -0.545754 -0.388367  0.210287   \n",
       "X2   -0.492067 -0.106528 -0.304128  ... -0.502740  0.190947 -0.321760   \n",
       "X3    0.339311 -0.123037  0.156797  ...  0.473747  0.056069  0.195524   \n",
       "X4    0.159029 -0.020223  0.579563  ... -0.541939 -0.338275 -0.277448   \n",
       "X5   -0.252179  0.167001  0.067766  ...  0.057236 -0.220798 -0.146373   \n",
       "...        ...       ...       ...  ...       ...       ...       ...   \n",
       "X206  0.290881 -0.051763  0.086863  ... -0.248225 -0.390800 -0.570267   \n",
       "X207  0.005159  0.778655  0.572706  ... -0.100079  0.436003 -0.341502   \n",
       "X208  0.342800  0.049039 -0.036093  ...  0.153628  0.545288  0.099946   \n",
       "X209 -0.360083  0.095274  0.010956  ... -0.277962 -0.055239 -0.618427   \n",
       "X210  0.231471  0.209230 -0.307242  ... -0.237925  0.114411  0.156008   \n",
       "\n",
       "          X204      X205      X206      X207      X208      X209      X210  \n",
       "X1   -0.124366 -0.009837  0.109518 -0.129105 -0.172535  0.323498  0.158103  \n",
       "X2    0.194813  0.266072  0.116542  0.031895 -0.115564  0.428136  0.336974  \n",
       "X3    0.350495 -0.258006 -0.044458 -0.151978  0.410210 -0.071760 -0.468512  \n",
       "X4   -0.228861  0.014891  0.079365  0.234540 -0.401998  0.159885 -0.146108  \n",
       "X5   -0.203375  0.177630 -0.072350  0.155173 -0.392945  0.033092  0.275061  \n",
       "...        ...       ...       ...       ...       ...       ...       ...  \n",
       "X206 -0.146514  0.264303  0.979847 -0.296184 -0.025455  0.398360  0.016631  \n",
       "X207 -0.136201  0.201100 -0.296184  1.049865 -0.139524  0.095592  0.365995  \n",
       "X208  0.310110  0.108297 -0.025455 -0.139524  0.940677 -0.377647  0.039424  \n",
       "X209  0.096725  0.443533  0.398360  0.095592 -0.377647  1.034033 -0.147257  \n",
       "X210 -0.317950  0.119935  0.016631  0.365995  0.039424 -0.147257  1.001367  \n",
       "\n",
       "[210 rows x 210 columns]"
      ]
     },
     "execution_count": 6,
     "metadata": {},
     "output_type": "execute_result"
    }
   ],
   "source": [
    "Xtrain.cov()"
   ]
  },
  {
   "cell_type": "code",
   "execution_count": 7,
   "metadata": {},
   "outputs": [],
   "source": [
    "Xtrain_numpy = Xtrain.to_numpy()\n",
    "Xtest_numpy = Xtest.to_numpy()\n",
    "\n",
    "Ytrain_numpy = Ytrain.to_numpy()\n",
    "Ytest_numpy = Ytest.to_numpy()\n",
    "\n",
    "#obliger de faire ce traitement sinon le format des tableaux numpy n'était pas satisfaisant\n",
    "Ytest2 = []\n",
    "for element in Ytrain_numpy:\n",
    "    Ytest2.append(element[0])\n",
    "Ytrain_numpy = np.array(Ytest2)\n",
    "\n",
    "Ytest2 = []\n",
    "for element in Ytest_numpy:\n",
    "    Ytest2.append(element[0])\n",
    "Ytest_numpy = np.array(Ytest2)\n",
    "\n",
    "\n",
    "covariance = np.cov(Xtrain_numpy.transpose())\n",
    "valp, vectp = np.linalg.eigh(covariance)\n",
    "valp = np.flip(np.sort(valp, axis=None))"
   ]
  },
  {
   "cell_type": "code",
   "execution_count": 8,
   "metadata": {},
   "outputs": [
    {
     "data": {
      "image/png": "[encoded data removed]",
      "text/plain": [
       "<Figure size 432x288 with 1 Axes>"
      ]
     },
     "metadata": {
      "needs_background": "light"
     },
     "output_type": "display_data"
    }
   ],
   "source": [
    "plt.plot(valp)\n",
    "plt.title('Valeur propre matrice covariance')\n",
    "plt.show()"
   ]
  },
  {
   "cell_type": "markdown",
   "metadata": {},
   "source": [
    "Les première valeurs de l'ACP sont celles qui vont peser le plus dans les variables explicatives, les autres sont presques nuls. On prend pour la suite k = 10 variables (on peut trouver cette valeur à l'aide de la méthode du coude)."
   ]
  },
  {
   "cell_type": "markdown",
   "metadata": {},
   "source": [
    "#### Question 5"
   ]
  },
  {
   "cell_type": "code",
   "execution_count": 9,
   "metadata": {},
   "outputs": [],
   "source": [
    "pca = PCA(n_components = 10)\n",
    "fit = pca.fit(Xtrain)\n",
    "vectp = fit.components_\n",
    "valp = fit.explained_variance_"
   ]
  },
  {
   "cell_type": "markdown",
   "metadata": {},
   "source": [
    "Coefficient de la regression après l'ACP :"
   ]
  },
  {
   "cell_type": "code",
   "execution_count": 10,
   "metadata": {},
   "outputs": [
    {
     "data": {
      "text/plain": [
       "array([ 2.24532598,  1.52125715, -0.33032613, -2.38342643, -0.18744573,\n",
       "       -0.03577381, -1.20146761,  0.91428881,  0.37504244, -0.22157597])"
      ]
     },
     "execution_count": 10,
     "metadata": {},
     "output_type": "execute_result"
    }
   ],
   "source": [
    "model1 = LinearRegression(fit_intercept=True)\n",
    "Xacp = np.dot(Xtrain_numpy, np.transpose(vectp))\n",
    "result1 = model1.fit(Xacp, Ytrain_numpy)\n",
    "\n",
    "result1.coef_"
   ]
  },
  {
   "cell_type": "code",
   "execution_count": 11,
   "metadata": {},
   "outputs": [
    {
     "data": {
      "image/png": "[encoded data removed]",
      "text/plain": [
       "<Figure size 432x288 with 1 Axes>"
      ]
     },
     "metadata": {
      "needs_background": "light"
     },
     "output_type": "display_data"
    }
   ],
   "source": [
    "plt.plot(result1.coef_)\n",
    "plt.title(\"Valeur des coefficients de regression après ACP\")\n",
    "plt.show()"
   ]
  },
  {
   "cell_type": "markdown",
   "metadata": {},
   "source": [
    "Coefficient de la regression :"
   ]
  },
  {
   "cell_type": "code",
   "execution_count": 12,
   "metadata": {},
   "outputs": [
    {
     "data": {
      "text/plain": [
       "array([ 4.04872090e+13,  8.58190526e+14, -1.48812355e+15, -1.11257699e+15,\n",
       "        1.13990722e+15, -1.90527799e+14, -1.32239159e+15,  1.59171358e+15,\n",
       "        6.25242358e+14, -2.79195633e+15,  1.22308732e+15,  1.16571045e+01,\n",
       "       -4.41406511e+14, -5.47482298e+14,  4.88014034e+14,  1.59584054e+15,\n",
       "        3.01335766e+14, -1.23761190e+14,  1.19325018e+14,  1.93771616e+14,\n",
       "        4.29778754e+13,  9.68289540e+13,  2.95069690e+14,  2.12918231e+14,\n",
       "       -3.20227392e+14, -1.41926616e+14, -1.50879843e+14,  2.33953989e+13,\n",
       "        1.58125000e+01,  8.65056823e+13, -7.92829147e+13, -8.31564505e+13,\n",
       "        1.47287439e+14, -1.12148108e+14,  2.57544106e+14, -5.79268260e+14,\n",
       "       -3.10756679e+13,  5.83323280e+13, -1.75022670e+14, -8.84986820e+13,\n",
       "       -3.18025335e+13, -1.82237472e+13, -4.27656204e+13,  1.09536672e+14,\n",
       "       -3.68494187e+14,  1.00087250e+14, -1.68774521e+14, -4.13567998e+14,\n",
       "        1.64420545e+14,  1.98673095e+14,  2.82862510e+14,  1.85719908e+13,\n",
       "       -1.46496407e+13,  1.98079014e+14, -5.17328299e+13,  2.71205887e+14,\n",
       "        5.87439057e+14,  1.46208448e+14,  1.62762541e+14, -2.41519863e+14,\n",
       "       -2.66208934e+14,  5.78640562e+13, -1.82155484e+14,  1.10397071e+13,\n",
       "       -6.30448890e+13, -1.24133379e+14,  2.38422887e+14, -1.03715400e+14,\n",
       "       -1.09225762e+14,  1.44228313e+14, -6.32200523e+13,  1.84845088e+14,\n",
       "       -9.74573138e+13,  9.70844462e+13,  1.65624650e+14,  1.78161765e+14,\n",
       "       -1.81775055e+14,  6.56107178e+13, -4.40475652e+13,  2.69135171e+14,\n",
       "       -3.32213430e+14,  1.17430094e+14, -1.25728481e+14,  2.71041003e+12,\n",
       "        6.40559566e+13,  2.29375000e+01, -2.05627800e+14, -2.72552631e+14,\n",
       "        1.74062500e+01,  5.10043825e+13, -1.29626272e+14, -7.39639259e+13,\n",
       "        9.61841959e+13, -1.48428023e+14, -1.90819559e+13,  1.00950491e+14,\n",
       "        3.26209954e+14, -2.34984065e+13, -1.28359330e+14,  4.28932847e+11,\n",
       "        3.36654155e+14,  9.81549843e+13,  6.45826188e+12,  8.46763852e+13,\n",
       "        1.84166800e+14,  2.24710903e+14,  1.12360411e+12, -2.63957949e+14,\n",
       "       -1.31178538e+14, -3.52547156e+14,  1.81425452e+14,  1.82227526e+14,\n",
       "        1.75941911e+14, -7.88809193e+13,  5.41874982e+13,  4.69801765e+13,\n",
       "       -6.88892708e+13, -2.09576038e+14, -1.18082183e+14,  5.62500000e-01,\n",
       "        1.39339747e+14, -1.23437500e+01, -1.15240907e+14,  7.62947507e+13,\n",
       "       -8.89440746e+12,  6.25346530e+14, -1.55632121e+14, -5.37222054e+13,\n",
       "       -2.43059820e+14,  5.05142360e+13, -1.92137248e+14,  1.15917717e+14,\n",
       "        2.74655365e+14, -7.88861162e+13,  2.46955015e+14,  9.32680589e+12,\n",
       "        7.58206196e+13, -4.24717443e+13,  2.49169843e+14,  1.01588959e+14,\n",
       "       -6.99669625e+12, -2.51798084e+14, -3.18216430e+14,  2.82663105e+14,\n",
       "       -8.59469490e+13,  1.71838611e+14,  6.07605144e+13,  1.43447303e+14,\n",
       "        9.92787988e+12,  1.94375000e+01,  3.74046598e+14, -2.98994474e+14,\n",
       "        2.31662561e+13,  1.11671903e+13, -1.26467272e+14,  4.75000000e+00,\n",
       "        8.52931053e+13,  2.49203446e+14,  9.40255425e+13, -3.43699148e+14,\n",
       "        1.16951956e+14, -7.34682236e+13,  1.52010376e+14, -1.38533822e+14,\n",
       "       -7.72750462e+13, -4.01611905e+14, -5.21500860e+13,  1.51898082e+14,\n",
       "       -9.08567889e+13,  1.56707919e+14,  3.48398630e+14,  1.00129717e+14,\n",
       "        6.15463971e+13, -1.60658446e+14,  1.03964739e+14,  5.85038439e+13,\n",
       "        1.57303787e+14, -6.43770930e+13, -1.61514311e+14,  3.43125000e+01,\n",
       "        1.12220111e+14, -9.66166987e+13,  2.91863735e+14,  2.76598354e+14,\n",
       "       -4.45304431e+13, -4.21875000e+01,  9.93316639e+13,  1.51671598e+14,\n",
       "       -1.21769708e+14, -2.14493957e+14,  5.16844010e+13, -8.76774393e+13,\n",
       "        1.02512554e+14, -2.06993530e+14, -1.09327450e+14,  2.99284480e+14,\n",
       "        2.53527941e+14, -1.28057787e+14,  3.81849463e+13,  4.42750576e+13,\n",
       "        6.24979990e+12,  1.49165709e+13, -1.11980079e+14,  2.68591384e+14,\n",
       "       -1.98723803e+13, -1.41387654e+14,  1.36666389e+14, -1.91654947e+14,\n",
       "       -7.20413975e+13, -2.04856140e+14])"
      ]
     },
     "execution_count": 12,
     "metadata": {},
     "output_type": "execute_result"
    }
   ],
   "source": [
    "model2 = LinearRegression(fit_intercept=True)\n",
    "result2 = model2.fit(Xtrain_numpy, Ytrain_numpy)\n",
    "\n",
    "result2.coef_"
   ]
  },
  {
   "cell_type": "code",
   "execution_count": 13,
   "metadata": {},
   "outputs": [
    {
     "data": {
      "image/png": "[encoded data removed]",
      "text/plain": [
       "<Figure size 432x288 with 1 Axes>"
      ]
     },
     "metadata": {
      "needs_background": "light"
     },
     "output_type": "display_data"
    }
   ],
   "source": [
    "plt.plot(result2.coef_)\n",
    "plt.title(\"Valeur des coefficients de regression de l'OLS\")\n",
    "plt.show()"
   ]
  },
  {
   "cell_type": "markdown",
   "metadata": {},
   "source": [
    "#### Question 6"
   ]
  },
  {
   "cell_type": "markdown",
   "metadata": {},
   "source": [
    "Moyenne de la valeur Y:"
   ]
  },
  {
   "cell_type": "code",
   "execution_count": 14,
   "metadata": {},
   "outputs": [
    {
     "data": {
      "text/plain": [
       "152.83734939759037"
      ]
     },
     "execution_count": 14,
     "metadata": {},
     "output_type": "execute_result"
    }
   ],
   "source": [
    "np.mean(Ytrain_numpy)"
   ]
  },
  {
   "cell_type": "markdown",
   "metadata": {},
   "source": [
    "Valeur de l'intercepte:"
   ]
  },
  {
   "cell_type": "code",
   "execution_count": 15,
   "metadata": {},
   "outputs": [
    {
     "data": {
      "text/plain": [
       "152.83734939759037"
      ]
     },
     "execution_count": 15,
     "metadata": {},
     "output_type": "execute_result"
    }
   ],
   "source": [
    "Xacp_standard = StandardScaler().fit_transform(Xacp)\n",
    "\n",
    "model3 = LinearRegression(fit_intercept=True)\n",
    "result3 = model3.fit(Xacp_standard, Ytrain_numpy)\n",
    "\n",
    "result3.intercept_ "
   ]
  },
  {
   "cell_type": "markdown",
   "metadata": {},
   "source": [
    "On a bien égalité entre l'intercept et la moyenne de Y !(l'intercept repésentant l'ordonnée à l'origine, c'est cohérent)"
   ]
  },
  {
   "cell_type": "markdown",
   "metadata": {},
   "source": [
    "#### Question 7"
   ]
  },
  {
   "cell_type": "markdown",
   "metadata": {},
   "source": [
    "Calcul du vecteur des résidus pour l'OLS :"
   ]
  },
  {
   "cell_type": "code",
   "execution_count": 16,
   "metadata": {},
   "outputs": [
    {
     "data": {
      "text/plain": [
       "array([ -10.42914627,   -5.6967244 ,   30.8032756 ,  -36.6967244 ,\n",
       "        -43.8842244 ,  -53.1967244 ,  -20.9467244 ,    5.8032756 ,\n",
       "        -97.1967244 ,  -52.6967244 ,   67.8032756 ,    1.8032756 ,\n",
       "          4.8032756 ,  -70.9467244 ,  -12.6967244 ,   65.8032756 ,\n",
       "        -33.9467244 ,  -13.1967244 ,   47.5532756 ,   38.8032756 ,\n",
       "         93.5532756 ,   23.8032756 ,  -47.1967244 ,   -4.1967244 ,\n",
       "         -3.1967244 ,  -53.1967244 ,   50.8032756 ,  -55.1342244 ,\n",
       "        -33.1967244 ,  -77.5717244 ,   41.8032756 ,  -14.0717244 ,\n",
       "        -95.5717244 ,   47.3032756 ,    9.2407756 ,  -29.2435994 ,\n",
       "        -31.0717244 ,  -85.6967244 ,  -59.1967244 ,   11.0220256 ,\n",
       "         -6.6967244 ,   17.1782756 ,   43.6782756 ,   -7.1967244 ,\n",
       "         -1.4467244 ,   61.8032756 ,   39.8032756 ,   16.8032756 ,\n",
       "        -82.6654744 ,   30.8032756 , -147.6967244 ,  -75.0717244 ,\n",
       "        -63.1967244 ,  -41.1967244 ,    0.8032756 ,   22.8032756 ,\n",
       "          1.8032756 ,   -3.1967244 ,   96.8032756 ,   -8.1967244 ,\n",
       "        107.4282756 ,    3.8032756 ,    0.3032756 ,   37.8032756 ,\n",
       "         44.6782756 ,    3.3032756 ,  -50.36566971,  -38.1967244 ,\n",
       "         34.5532756 ,  -32.6967244 ,   31.8032756 ,  -75.1967244 ,\n",
       "        -32.6967244 ,   33.8032756 ,  -44.9467244 ,   42.3032756 ,\n",
       "        118.0532756 ,  -70.1967244 ,  111.5532756 ,  101.0532756 ,\n",
       "        -14.1967244 ,  -16.8217244 ,   27.8032756 ,  -36.6967244 ,\n",
       "        -62.9467244 ,   13.5532756 ,  -62.6967244 ,  -20.9467244 ,\n",
       "         54.8032756 ,   50.3032756 ,   14.4282756 ,   -1.6967244 ,\n",
       "          0.3032756 ,  -44.6967244 ,   19.8032756 ,   38.8032756 ,\n",
       "         90.3032756 ,  -11.4467244 ,   19.8032756 ,   18.3032756 ,\n",
       "         23.8032756 ,   94.8032756 ,   -5.1967244 ,   77.8032756 ,\n",
       "         30.3032756 ,   13.3032756 ,  -38.1967244 ,    2.8032756 ,\n",
       "          5.5532756 ,    0.1782756 ])"
      ]
     },
     "execution_count": 16,
     "metadata": {},
     "output_type": "execute_result"
    }
   ],
   "source": [
    "Ypredit_OLS = result2.predict(Xtest_numpy)\n",
    "\n",
    "Yresidu_OLS = Ytest_numpy - Ypredit_OLS\n",
    "\n",
    "Yresidu_OLS"
   ]
  },
  {
   "cell_type": "markdown",
   "metadata": {},
   "source": [
    "Calcul du vecteur des résidus pour l'ACP avant l'OLS :"
   ]
  },
  {
   "cell_type": "code",
   "execution_count": 17,
   "metadata": {
    "scrolled": false
   },
   "outputs": [
    {
     "data": {
      "text/plain": [
       "array([-1.78562690e+01, -5.51909388e+01,  2.30200455e+01, -1.10792354e+01,\n",
       "       -2.71756723e+01, -8.49778775e+01, -1.08050182e+02,  3.33540975e+01,\n",
       "       -8.42185491e+01, -7.10182962e+01,  1.41056301e+02,  7.78809431e+01,\n",
       "       -6.26776568e+01, -1.11970640e+02, -7.79378311e+00,  8.48953435e+01,\n",
       "       -3.49546993e+01, -1.54641608e+01, -1.45392144e+01,  9.80698607e+01,\n",
       "        6.79295712e+01, -4.85265073e+01, -2.10148184e+01, -1.04651036e+02,\n",
       "       -3.63394534e+01, -9.14479363e+01, -4.38840062e+01,  2.70603941e+00,\n",
       "       -5.00114132e+01, -9.88715236e+01,  1.42888542e+02,  1.30381083e+01,\n",
       "       -6.10246415e+01,  1.13607385e+02, -4.54534334e+01, -5.95556966e+01,\n",
       "       -2.58842126e+01, -2.83196056e+00, -6.15436886e+01,  4.61755861e+01,\n",
       "        3.51130974e+01, -9.19845203e+01,  1.22872060e+02,  3.54331139e+00,\n",
       "       -4.59907989e+01,  9.46924871e+00,  1.65697823e+01,  7.05995701e+00,\n",
       "       -4.05525996e+01,  7.58586282e+01, -6.90917471e+01, -1.00189741e+00,\n",
       "       -1.09256927e+02, -7.54352720e+01,  1.02959225e+02, -1.22379440e+01,\n",
       "       -4.18033664e+01, -6.08795348e+01,  7.31212384e+01,  1.09157890e+01,\n",
       "        1.04775375e+02,  1.01502532e+02, -7.10623626e+01,  1.27858382e+02,\n",
       "        1.60573231e+01, -8.89620172e+01, -9.88535166e+01, -1.04204017e+02,\n",
       "        1.01532866e+02,  6.57800303e+01,  1.63306002e+02, -3.63506787e+01,\n",
       "       -7.41708596e+01,  7.75943427e+01, -6.96554021e+01,  1.89420478e+01,\n",
       "        1.15319595e+02, -1.05235174e+02,  1.14589375e+02,  9.16414127e+01,\n",
       "       -1.94048415e+01, -5.60422207e+01,  4.59277806e+01, -5.30224094e+01,\n",
       "       -8.07019712e+01, -8.70359713e-02,  7.75096659e+01,  1.20395784e+02,\n",
       "        1.57402505e+02,  4.19474956e+01, -2.53656559e+01, -1.59042913e+01,\n",
       "       -5.03219112e+01, -2.90834226e+01,  5.09767395e+01, -3.82851337e+01,\n",
       "        1.82189843e+02, -9.02163066e+01, -8.19694647e+01, -2.33004011e+01,\n",
       "        1.13326157e+02,  1.07423520e+02, -1.09178975e+02,  8.84404414e+01,\n",
       "       -8.63850828e+01,  4.01033794e+00, -1.34161436e+01, -1.32110439e+02,\n",
       "       -3.11563630e+01, -9.57061646e+01])"
      ]
     },
     "execution_count": 17,
     "metadata": {},
     "output_type": "execute_result"
    }
   ],
   "source": [
    "Ypredit_ACP = result1.predict(np.dot(Xtest_numpy, np.transpose(vectp)))\n",
    "\n",
    "Yresidu_ACP = Ytest_numpy - Ypredit_ACP\n",
    "\n",
    "Yresidu_ACP"
   ]
  },
  {
   "cell_type": "code",
   "execution_count": 18,
   "metadata": {},
   "outputs": [
    {
     "data": {
      "text/plain": [
       "<matplotlib.legend.Legend at 0x2690570ec08>"
      ]
     },
     "execution_count": 18,
     "metadata": {},
     "output_type": "execute_result"
    },
    {
     "data": {
      "image/png": "[encoded data removed]",
      "text/plain": [
       "<Figure size 432x288 with 1 Axes>"
      ]
     },
     "metadata": {
      "needs_background": "light"
     },
     "output_type": "display_data"
    }
   ],
   "source": [
    "plt.plot(np.sort(Yresidu_OLS), label = 'residu OLS')\n",
    "plt.plot(np.sort(Yresidu_ACP), label = 'residu ACP')\n",
    "plt.legend()"
   ]
  },
  {
   "cell_type": "code",
   "execution_count": 19,
   "metadata": {
    "scrolled": true
   },
   "outputs": [
    {
     "data": {
      "text/plain": [
       "<matplotlib.legend.Legend at 0x269057acdc8>"
      ]
     },
     "execution_count": 19,
     "metadata": {},
     "output_type": "execute_result"
    },
    {
     "data": {
      "image/png": "[encoded data removed]",
      "text/plain": [
       "<Figure size 432x288 with 1 Axes>"
      ]
     },
     "metadata": {
      "needs_background": "light"
     },
     "output_type": "display_data"
    }
   ],
   "source": [
    "plt.hist(Yresidu_OLS, label = 'residu OLS')\n",
    "plt.hist(Yresidu_ACP, label = 'residu ACP')\n",
    "plt.title(\"Histogramme des résidus\")\n",
    "plt.legend()"
   ]
  },
  {
   "cell_type": "markdown",
   "metadata": {},
   "source": [
    "R2 de l'ACP avant OLS et R2 de l'OLS"
   ]
  },
  {
   "cell_type": "code",
   "execution_count": 20,
   "metadata": {},
   "outputs": [
    {
     "data": {
      "text/plain": [
       "-0.001664758887401696"
      ]
     },
     "execution_count": 20,
     "metadata": {},
     "output_type": "execute_result"
    }
   ],
   "source": [
    "r2ACP = r2_score(Ytest_numpy, Ypredit_ACP)\n",
    "r2ACP"
   ]
  },
  {
   "cell_type": "code",
   "execution_count": 21,
   "metadata": {},
   "outputs": [
    {
     "data": {
      "text/plain": [
       "0.5721713237260837"
      ]
     },
     "execution_count": 21,
     "metadata": {},
     "output_type": "execute_result"
    }
   ],
   "source": [
    "r2OLS = r2_score(Ytest_numpy, Ypredit_OLS)\n",
    "r2OLS"
   ]
  },
  {
   "cell_type": "markdown",
   "metadata": {},
   "source": [
    "Risque de prédiction sur le test set de l'ACP avant OLS puis risque de prédiction de OLS"
   ]
  },
  {
   "cell_type": "code",
   "execution_count": 22,
   "metadata": {},
   "outputs": [
    {
     "data": {
      "text/plain": [
       "5849.14842839467"
      ]
     },
     "execution_count": 22,
     "metadata": {},
     "output_type": "execute_result"
    }
   ],
   "source": [
    "risque_ACP = 0\n",
    "Yresidu_test_ACP = Ytest_numpy - result1.predict(np.dot(Xtest_numpy, np.transpose(vectp)))\n",
    "for y in Yresidu_test_ACP:\n",
    "    risque_ACP += y**2\n",
    "risque_ACP = risque_ACP / len(Ytest)\n",
    "risque_ACP"
   ]
  },
  {
   "cell_type": "code",
   "execution_count": 23,
   "metadata": {},
   "outputs": [
    {
     "data": {
      "text/plain": [
       "2498.274404930973"
      ]
     },
     "execution_count": 23,
     "metadata": {},
     "output_type": "execute_result"
    }
   ],
   "source": [
    "risque_OLS = 0\n",
    "Yresidu_test_OLS = Ytest_numpy - result2.predict(Xtest_numpy)\n",
    "for y in Yresidu_test_OLS:\n",
    "    risque_OLS += y**2\n",
    "risque_OLS = risque_OLS / len(Ytest)\n",
    "risque_OLS"
   ]
  },
  {
   "cell_type": "markdown",
   "metadata": {},
   "source": [
    "#### Question 8"
   ]
  },
  {
   "cell_type": "markdown",
   "metadata": {},
   "source": [
    "Implémentation de la méthode forward des slide du cours. 1ere fonction : tstat, seconde : selection des variables"
   ]
  },
  {
   "cell_type": "code",
   "execution_count": 24,
   "metadata": {},
   "outputs": [],
   "source": [
    "def tstatistique(coeff, residus, Xk):\n",
    "    sigma_chapeau = ((np.linalg.norm(residus))**2)/(len(Xk) - 1)\n",
    "    tstat = coeff / (sigma_chapeau**(1/2) * np.dot(Xk.T, Xk)**(-1/2))\n",
    "    return tstat"
   ]
  },
  {
   "cell_type": "code",
   "execution_count": 25,
   "metadata": {},
   "outputs": [],
   "source": [
    "def forwardVS(X, Y, k):\n",
    "    X_forward = []\n",
    "    index_select = []\n",
    "    predict = Y\n",
    "    X_scaled = preprocessing.scale(X)\n",
    "    while(len(X_forward) < k):\n",
    "        max_tstat = 0\n",
    "        i = 0\n",
    "        for column in X_scaled.T:\n",
    "            if i in index_select:\n",
    "                i += 1\n",
    "                continue\n",
    "            predict_scaled = preprocessing.scale(predict)\n",
    "            model4 = LinearRegression(fit_intercept=False)\n",
    "            result4 = model4.fit(column.reshape(-1, 1) , predict)\n",
    "            residus = predict - result4.predict(column.reshape(-1, 1))\n",
    "            tstat = tstatistique(abs(result4.coef_[0]), residus, column)\n",
    "            if(tstat>max_tstat):\n",
    "                max_tstat = tstat\n",
    "                var_select = column\n",
    "                predict = residus\n",
    "                index = i\n",
    "            i += 1\n",
    "        X_forward.append(var_select)\n",
    "        index_select.append(index)\n",
    "    X_forward = np.array(X_forward).T\n",
    "    return X_forward, index_select"
   ]
  },
  {
   "cell_type": "code",
   "execution_count": 26,
   "metadata": {},
   "outputs": [],
   "source": [
    "X_forward , index_select = forwardVS(X_numpy, Y_numpy, 210)"
   ]
  },
  {
   "cell_type": "markdown",
   "metadata": {},
   "source": [
    "Ordre de sélection des variables :"
   ]
  },
  {
   "cell_type": "code",
   "execution_count": 27,
   "metadata": {},
   "outputs": [
    {
     "data": {
      "text/plain": [
       "[85,\n",
       " 28,\n",
       " 179,\n",
       " 149,\n",
       " 88,\n",
       " 155,\n",
       " 185,\n",
       " 97,\n",
       " 121,\n",
       " 11,\n",
       " 17,\n",
       " 144,\n",
       " 119,\n",
       " 29,\n",
       " 47,\n",
       " 66,\n",
       " 34,\n",
       " 39,\n",
       " 86,\n",
       " 5,\n",
       " 52,\n",
       " 45,\n",
       " 25,\n",
       " 22,\n",
       " 49,\n",
       " 19,\n",
       " 114,\n",
       " 12,\n",
       " 124,\n",
       " 79,\n",
       " 81,\n",
       " 70,\n",
       " 141,\n",
       " 16,\n",
       " 77,\n",
       " 174,\n",
       " 99,\n",
       " 113,\n",
       " 43,\n",
       " 162,\n",
       " 51,\n",
       " 7,\n",
       " 71,\n",
       " 186,\n",
       " 21,\n",
       " 74,\n",
       " 13,\n",
       " 102,\n",
       " 57,\n",
       " 147,\n",
       " 168,\n",
       " 40,\n",
       " 136,\n",
       " 80,\n",
       " 129,\n",
       " 10,\n",
       " 146,\n",
       " 23,\n",
       " 33,\n",
       " 208,\n",
       " 60,\n",
       " 137,\n",
       " 192,\n",
       " 122,\n",
       " 118,\n",
       " 62,\n",
       " 61,\n",
       " 93,\n",
       " 172,\n",
       " 165,\n",
       " 111,\n",
       " 177,\n",
       " 191,\n",
       " 116,\n",
       " 175,\n",
       " 127,\n",
       " 27,\n",
       " 148,\n",
       " 48,\n",
       " 72,\n",
       " 195,\n",
       " 190,\n",
       " 38,\n",
       " 101,\n",
       " 59,\n",
       " 142,\n",
       " 4,\n",
       " 65,\n",
       " 131,\n",
       " 78,\n",
       " 0,\n",
       " 198,\n",
       " 156,\n",
       " 96,\n",
       " 31,\n",
       " 139,\n",
       " 67,\n",
       " 171,\n",
       " 130,\n",
       " 143,\n",
       " 54,\n",
       " 207,\n",
       " 196,\n",
       " 41,\n",
       " 184,\n",
       " 205,\n",
       " 58,\n",
       " 169,\n",
       " 35,\n",
       " 100,\n",
       " 200,\n",
       " 36,\n",
       " 92,\n",
       " 64,\n",
       " 132,\n",
       " 26,\n",
       " 128,\n",
       " 206,\n",
       " 9,\n",
       " 209,\n",
       " 193,\n",
       " 6,\n",
       " 89,\n",
       " 63,\n",
       " 167,\n",
       " 106,\n",
       " 42,\n",
       " 176,\n",
       " 157,\n",
       " 84,\n",
       " 180,\n",
       " 204,\n",
       " 37,\n",
       " 110,\n",
       " 103,\n",
       " 154,\n",
       " 109,\n",
       " 163,\n",
       " 158,\n",
       " 105,\n",
       " 152,\n",
       " 199,\n",
       " 75,\n",
       " 15,\n",
       " 53,\n",
       " 150,\n",
       " 125,\n",
       " 164,\n",
       " 24,\n",
       " 32,\n",
       " 151,\n",
       " 20,\n",
       " 112,\n",
       " 126,\n",
       " 83,\n",
       " 68,\n",
       " 201,\n",
       " 189,\n",
       " 56,\n",
       " 44,\n",
       " 94,\n",
       " 120,\n",
       " 30,\n",
       " 178,\n",
       " 108,\n",
       " 145,\n",
       " 87,\n",
       " 90,\n",
       " 140,\n",
       " 134,\n",
       " 188,\n",
       " 95,\n",
       " 91,\n",
       " 159,\n",
       " 153,\n",
       " 202,\n",
       " 173,\n",
       " 133,\n",
       " 161,\n",
       " 166,\n",
       " 160,\n",
       " 194,\n",
       " 2,\n",
       " 135,\n",
       " 138,\n",
       " 181,\n",
       " 182,\n",
       " 1,\n",
       " 14,\n",
       " 183,\n",
       " 69,\n",
       " 8,\n",
       " 46,\n",
       " 73,\n",
       " 123,\n",
       " 76,\n",
       " 203,\n",
       " 104,\n",
       " 170,\n",
       " 115,\n",
       " 117,\n",
       " 107,\n",
       " 82,\n",
       " 50,\n",
       " 3,\n",
       " 98,\n",
       " 55,\n",
       " 18,\n",
       " 187,\n",
       " 197]"
      ]
     },
     "execution_count": 27,
     "metadata": {},
     "output_type": "execute_result"
    }
   ],
   "source": [
    "index_select"
   ]
  },
  {
   "cell_type": "markdown",
   "metadata": {},
   "source": [
    "On garde les dix premières variables afin de pouvoir comparer à l'ACP"
   ]
  },
  {
   "cell_type": "code",
   "execution_count": 28,
   "metadata": {},
   "outputs": [
    {
     "data": {
      "text/plain": [
       "(332, 10)"
      ]
     },
     "execution_count": 28,
     "metadata": {},
     "output_type": "execute_result"
    }
   ],
   "source": [
    "X_forward_k_train = X_forward[xtrain,:10]\n",
    "X_forward_k_test = X_forward[xother,:10]\n",
    "X_forward_k_train.shape"
   ]
  },
  {
   "cell_type": "markdown",
   "metadata": {},
   "source": [
    "#### Question 9"
   ]
  },
  {
   "cell_type": "code",
   "execution_count": 29,
   "metadata": {},
   "outputs": [
    {
     "data": {
      "text/plain": [
       "2398.636624472233"
      ]
     },
     "execution_count": 29,
     "metadata": {},
     "output_type": "execute_result"
    }
   ],
   "source": [
    "model5 = LinearRegression(fit_intercept=True)\n",
    "result5 = model5.fit(X_forward_k_train , Ytrain_numpy)\n",
    "\n",
    "Y_forward = result5.predict(X_forward_k_test)\n",
    "\n",
    "Yresidu_forward = Ytest_numpy - Y_forward\n",
    "\n",
    "risque_forward = 0\n",
    "for y in Yresidu_forward:\n",
    "    risque_forward += y**2\n",
    "risque_forward = risque_forward / len(Ytest_numpy)\n",
    "risque_forward"
   ]
  },
  {
   "cell_type": "markdown",
   "metadata": {},
   "source": [
    "Il s'agit du risque le plus faible en comparaison des autres modes (ACP et OLS). Cette méthode minimise donc le risque."
   ]
  },
  {
   "cell_type": "markdown",
   "metadata": {},
   "source": [
    "#### Question 10"
   ]
  },
  {
   "cell_type": "markdown",
   "metadata": {},
   "source": [
    "Utilisation de la fonction KFold de sklearn"
   ]
  },
  {
   "cell_type": "code",
   "execution_count": 30,
   "metadata": {},
   "outputs": [],
   "source": [
    "kf = KFold(n_splits = 5, shuffle = True)\n",
    "\n",
    "X_train_fold = []\n",
    "X_test_fold = []\n",
    "Y_train_fold = []\n",
    "Y_test_fold = []\n",
    "\n",
    "for train_index, test_index in kf.split(X_numpy):\n",
    "    X_train_fold.append(X_numpy[train_index])\n",
    "    X_test_fold.append(X_numpy[test_index])\n",
    "    Y_train_fold.append(Y_numpy[train_index])\n",
    "    Y_test_fold.append(Y_numpy[test_index])"
   ]
  },
  {
   "cell_type": "markdown",
   "metadata": {},
   "source": [
    "#### Question 11"
   ]
  },
  {
   "cell_type": "markdown",
   "metadata": {},
   "source": [
    "Création d'un algo permettant d'afficher l'évolution du risque en fonction du paramètre lambda. "
   ]
  },
  {
   "cell_type": "code",
   "execution_count": 31,
   "metadata": {},
   "outputs": [],
   "source": [
    "def compute_risk(Yvalidation, Ypredict):\n",
    "    risque = 0\n",
    "    Yresidu_test = Yvalidation - Ypredict\n",
    "    for y in Yresidu_test:\n",
    "        risque += y**2\n",
    "    risque = risque / len(Yvalidation)\n",
    "    return risque"
   ]
  },
  {
   "cell_type": "code",
   "execution_count": 32,
   "metadata": {},
   "outputs": [],
   "source": [
    "def risque_ridge(lamb):\n",
    "    i = 0\n",
    "    risque = 0\n",
    "    for X in X_train_fold :\n",
    "        model = Ridge(lamb)\n",
    "        result = model.fit(X, Y_train_fold[i])\n",
    "        Ypredict = result.predict(X_test_fold[i])\n",
    "        risque += compute_risk(Y_test_fold[i], Ypredict)\n",
    "        i += 1\n",
    "    risque = risque / len(X_train_fold)\n",
    "    return risque"
   ]
  },
  {
   "cell_type": "code",
   "execution_count": 33,
   "metadata": {
    "scrolled": false
   },
   "outputs": [
    {
     "data": {
      "image/png": "[encoded data removed]",
      "text/plain": [
       "<Figure size 432x288 with 1 Axes>"
      ]
     },
     "metadata": {
      "needs_background": "light"
     },
     "output_type": "display_data"
    }
   ],
   "source": [
    "lambda_param = [x/10 for x in range(1, 501)]\n",
    "risque_associate = []\n",
    "\n",
    "for lamb in lambda_param:\n",
    "    risque_associate.append(risque_ridge(lamb))\n",
    "\n",
    "plt.plot(lambda_param, risque_associate)\n",
    "plt.title(\"Risque L2 en fonction de lambda\")\n",
    "plt.show()"
   ]
  },
  {
   "cell_type": "code",
   "execution_count": 34,
   "metadata": {},
   "outputs": [],
   "source": [
    "def minimum(liste):\n",
    "    mini = liste[0]\n",
    "    i = 0\n",
    "    index = i\n",
    "    for compare in liste:\n",
    "        if compare < mini:\n",
    "            mini = compare\n",
    "            index = i\n",
    "        i += 1\n",
    "    return mini, index"
   ]
  },
  {
   "cell_type": "markdown",
   "metadata": {},
   "source": [
    "Risque de prédiction minimale sur le test set avec le lambda associé"
   ]
  },
  {
   "cell_type": "code",
   "execution_count": 35,
   "metadata": {},
   "outputs": [
    {
     "name": "stdout",
     "output_type": "stream",
     "text": [
      "3090.53971282094 22.5\n"
     ]
    }
   ],
   "source": [
    "mini, index = minimum(risque_associate)\n",
    "lamb = lambda_param[index]\n",
    "print(mini, lamb)"
   ]
  },
  {
   "cell_type": "markdown",
   "metadata": {},
   "source": [
    "Lambda optimal d'après la fonction de sklearn RidgeCV"
   ]
  },
  {
   "cell_type": "code",
   "execution_count": 36,
   "metadata": {},
   "outputs": [
    {
     "name": "stdout",
     "output_type": "stream",
     "text": [
      "22.5\n"
     ]
    }
   ],
   "source": [
    "model = RidgeCV(alphas = lambda_param, cv = 5)\n",
    "result = model.fit(X_numpy, Y_numpy)\n",
    "\n",
    "alpha_opti = result.alpha_\n",
    "print(alpha_opti)"
   ]
  },
  {
   "cell_type": "markdown",
   "metadata": {},
   "source": [
    "Les deux résultats sont différents. C'est très dépendant de la manière de construire les folds"
   ]
  },
  {
   "cell_type": "markdown",
   "metadata": {},
   "source": [
    "#### Question 12"
   ]
  },
  {
   "cell_type": "markdown",
   "metadata": {},
   "source": [
    "Coefficient optimal lambda pour le lasso calculer à l'aide de LassoCV"
   ]
  },
  {
   "cell_type": "code",
   "execution_count": 37,
   "metadata": {},
   "outputs": [
    {
     "name": "stdout",
     "output_type": "stream",
     "text": [
      "1.5\n"
     ]
    }
   ],
   "source": [
    "model_lasso = LassoCV(alphas = lambda_param, cv = 5)\n",
    "result_lasso = model_lasso.fit(X_numpy, Y_numpy)\n",
    "\n",
    "alpha_opti = result_lasso.alpha_\n",
    "print(alpha_opti)"
   ]
  },
  {
   "cell_type": "markdown",
   "metadata": {},
   "source": [
    "Risque de prédiction sur le test set du Lasso :"
   ]
  },
  {
   "cell_type": "code",
   "execution_count": 38,
   "metadata": {},
   "outputs": [
    {
     "data": {
      "text/plain": [
       "2195.619351152026"
      ]
     },
     "execution_count": 38,
     "metadata": {},
     "output_type": "execute_result"
    }
   ],
   "source": [
    "risque_lasso = 0\n",
    "Yresidu_test_lasso = Ytest_numpy - result_lasso.predict(Xtest_numpy)\n",
    "for y in Yresidu_test_lasso:\n",
    "    risque_lasso += y**2\n",
    "risque_lasso = risque_lasso / len(Ytest)\n",
    "risque_lasso"
   ]
  },
  {
   "cell_type": "markdown",
   "metadata": {},
   "source": [
    "Le risque de prédiction de LassoCV est le plus faible de toutes les méthodes ! ça semble être la meilleur solution à notre problème (en terme de risque de prédiction)."
   ]
  },
  {
   "cell_type": "markdown",
   "metadata": {},
   "source": [
    "#### Question 13"
   ]
  },
  {
   "cell_type": "markdown",
   "metadata": {},
   "source": [
    "On retrouve en output les différentes variables non nulles du lasso ainsi que leur nombre (15)."
   ]
  },
  {
   "cell_type": "code",
   "execution_count": 39,
   "metadata": {
    "scrolled": true
   },
   "outputs": [
    {
     "name": "stdout",
     "output_type": "stream",
     "text": [
      "[(85, 24.50385106325176), (179, 23.43876660231001), (28, 13.530846365844097), (11, 10.135607245651016), (121, 8.361196982303952), (185, 3.680911906920161), (155, 2.0166558670818073), (53, 1.7944520377468531), (70, 1.667811557395699), (75, 1.511625146485696), (105, 1.0898163844471458), (110, 1.030499183791252), (5, 0.4094454853707639), (62, 0.21856415767378037), (87, 0.03839899239303592)]\n",
      "15\n"
     ]
    }
   ],
   "source": [
    "importance = np.abs(result_lasso.coef_)\n",
    "\n",
    "lasso_selection = {} \n",
    "k = 0\n",
    "for element in importance : \n",
    "    if(element > 0):\n",
    "        lasso_selection[k] = element \n",
    "    k += 1\n",
    "lasso_selection = sorted(lasso_selection.items(), key=lambda t: -t[1])\n",
    "\n",
    "print(lasso_selection)\n",
    "print(len(lasso_selection))"
   ]
  },
  {
   "cell_type": "markdown",
   "metadata": {},
   "source": [
    "Risque de prédiction sur le test set pour le Lasso before OLS"
   ]
  },
  {
   "cell_type": "code",
   "execution_count": 40,
   "metadata": {},
   "outputs": [
    {
     "data": {
      "text/plain": [
       "2313.547609397981"
      ]
     },
     "execution_count": 40,
     "metadata": {},
     "output_type": "execute_result"
    }
   ],
   "source": [
    "Xtrain_lasso_selec = []\n",
    "Xtest_lasso_selec = []\n",
    "\n",
    "for index, coeff in lasso_selection:\n",
    "    Xtrain_lasso_selec.append((Xtrain_numpy.T)[index])\n",
    "    Xtest_lasso_selec.append((Xtest_numpy.T)[index])\n",
    "\n",
    "Xtrain_lasso_selec = np.array(Xtrain_lasso_selec).T\n",
    "Xtest_lasso_selec = np.array(Xtest_lasso_selec).T\n",
    "\n",
    "model_lasso_beforeOLS = LinearRegression(fit_intercept=True)\n",
    "result_lasso_beforeOLS = model_lasso_beforeOLS.fit(Xtrain_lasso_selec , Ytrain_numpy)\n",
    "\n",
    "Ypredict = result_lasso_beforeOLS.predict(Xtest_lasso_selec)\n",
    "\n",
    "Yresidu = Ytest_numpy - Ypredict\n",
    "\n",
    "risque = 0\n",
    "for y in Yresidu:\n",
    "    risque += y**2\n",
    "risque = risque / len(Yresidu)\n",
    "risque"
   ]
  },
  {
   "cell_type": "markdown",
   "metadata": {},
   "source": [
    "#### Question 14"
   ]
  },
  {
   "cell_type": "code",
   "execution_count": 41,
   "metadata": {},
   "outputs": [
    {
     "name": "stdout",
     "output_type": "stream",
     "text": [
      "La méthode forward a réussi à déterminer  9  variables\n"
     ]
    }
   ],
   "source": [
    "vrai_index = [119, 121, 85, 28, 185, 149, 11, 88, 179, 155]\n",
    "i = 0\n",
    "for index in vrai_index:\n",
    "    if index in index_select[:10]:\n",
    "        i += 1\n",
    "print(\"La méthode forward a réussi à déterminer  \" + str(i) + \"  variables\")"
   ]
  },
  {
   "cell_type": "code",
   "execution_count": 42,
   "metadata": {},
   "outputs": [
    {
     "name": "stdout",
     "output_type": "stream",
     "text": [
      "La méthode Lasso a réussi à déterminer  7  variables\n"
     ]
    }
   ],
   "source": [
    "index_lasso = []\n",
    "for index, coeff in lasso_selection:\n",
    "    index_lasso.append(index)\n",
    "i = 0\n",
    "for index in vrai_index:\n",
    "    if index in index_lasso[:10]:\n",
    "        i += 1\n",
    "print(\"La méthode Lasso a réussi à déterminer  \" + str(i) + \"  variables\")"
   ]
  },
  {
   "cell_type": "markdown",
   "metadata": {},
   "source": [
    "Malgré un risque de prédiction plus élevé, la méthode forward semble la plus interessante pour sélectionner les variables explicatives importantes."
   ]
  }
 ],
 "metadata": {
  "kernelspec": {
   "display_name": "Python 3",
   "language": "python",
   "name": "python3"
  },
  "language_info": {
   "codemirror_mode": {
    "name": "ipython",
    "version": 3
   },
   "file_extension": ".py",
   "mimetype": "text/x-python",
   "name": "python",
   "nbconvert_exporter": "python",
   "pygments_lexer": "ipython3",
   "version": "3.7.9"
  }
 },
 "nbformat": 4,
 "nbformat_minor": 2
}
