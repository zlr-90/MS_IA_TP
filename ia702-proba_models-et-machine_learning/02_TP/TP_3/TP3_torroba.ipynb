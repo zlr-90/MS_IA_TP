{
 "cells": [
  {
   "cell_type": "code",
   "execution_count": 1,
   "id": "65830df2",
   "metadata": {},
   "outputs": [],
   "source": [
    "from load_ag_news import load_ag_news\n",
    "from load_conll2000 import load_conll2000\n",
    "import numpy as np\n",
    "import collections\n",
    "import pandas as pd\n",
    "import matplotlib.pyplot as plt"
   ]
  },
  {
   "cell_type": "markdown",
   "id": "dcbece70",
   "metadata": {},
   "source": [
    "### Question 1"
   ]
  },
  {
   "cell_type": "code",
   "execution_count": 2,
   "id": "cdbfec96",
   "metadata": {},
   "outputs": [],
   "source": [
    "train_set, test_set = load_ag_news('')"
   ]
  },
  {
   "cell_type": "code",
   "execution_count": 3,
   "id": "4cfc381b",
   "metadata": {},
   "outputs": [],
   "source": [
    "id_occ = {}\n",
    "\n",
    "for data in train_set:\n",
    "    if data[0] not in id_occ.keys():\n",
    "        id_occ[data[0]] = 0\n",
    "    id_occ[data[0]] += 1\n",
    "    \n",
    "for key in id_occ.keys():\n",
    "    id_occ[key] = id_occ[key] / len(train_set)"
   ]
  },
  {
   "cell_type": "code",
   "execution_count": 4,
   "id": "20278fb7",
   "metadata": {},
   "outputs": [
    {
     "name": "stdout",
     "output_type": "stream",
     "text": [
      "{2: 0.25, 3: 0.25, 1: 0.25, 0: 0.25}\n"
     ]
    }
   ],
   "source": [
    "print(id_occ)"
   ]
  },
  {
   "cell_type": "code",
   "execution_count": 5,
   "id": "ca286a5d",
   "metadata": {},
   "outputs": [],
   "source": [
    "word_occ = dict.fromkeys(id_occ.keys())\n",
    "for key in word_occ.keys():\n",
    "    word_occ[key] = {}\n",
    "id_word = dict.fromkeys(id_occ.keys(), 0)\n",
    "\n",
    "for data in train_set:\n",
    "    id_word[data[0]] += len(data[1])\n",
    "    for word in data[1]:\n",
    "        if word not in word_occ[data[0]].keys():\n",
    "            word_occ[data[0]][word] = 0\n",
    "        word_occ[data[0]][word] += 1"
   ]
  },
  {
   "cell_type": "code",
   "execution_count": 6,
   "id": "097e9671",
   "metadata": {},
   "outputs": [],
   "source": [
    "for key_nb in word_occ.keys():\n",
    "    for key_word, value_word in word_occ[key_nb].items():\n",
    "        word_occ[key_nb][key_word] = value_word / id_word[key_nb]"
   ]
  },
  {
   "cell_type": "code",
   "execution_count": 7,
   "id": "64c640ad",
   "metadata": {},
   "outputs": [
    {
     "name": "stdout",
     "output_type": "stream",
     "text": [
      "0.00018036294574312617\n"
     ]
    }
   ],
   "source": [
    "print(word_occ[1]['London'])"
   ]
  },
  {
   "cell_type": "code",
   "execution_count": 8,
   "id": "d9ba0b1d",
   "metadata": {},
   "outputs": [],
   "source": [
    "def naive_bayes(id_occ, word_occ, input_words, epsilon):\n",
    "    naive_bayes_proba = id_occ.copy()\n",
    "    for word in input_words:\n",
    "        for id_key in id_occ.keys():\n",
    "            naive_bayes_proba[id_key] *= word_occ[id_key].get(word, 0) + epsilon\n",
    "    sum_proba = sum(naive_bayes_proba.values())\n",
    "    for key, value in naive_bayes_proba.items():\n",
    "        naive_bayes_proba[key] = value / sum_proba\n",
    "    return naive_bayes_proba"
   ]
  },
  {
   "cell_type": "code",
   "execution_count": 9,
   "id": "3ea9b912",
   "metadata": {},
   "outputs": [
    {
     "name": "stdout",
     "output_type": "stream",
     "text": [
      "0.9924989725858532\n"
     ]
    }
   ],
   "source": [
    "print(naive_bayes(id_occ=id_occ, word_occ=word_occ, input_words=[\"Arsenal\", \"is\", \"a\", \"londonian\", \"team\", \".\"], epsilon=10 ** (-5))[1])"
   ]
  },
  {
   "cell_type": "code",
   "execution_count": 10,
   "id": "32849e4a",
   "metadata": {},
   "outputs": [],
   "source": [
    "def highest_naive_bayes(id_occ, word_occ, input_words, epsilon):\n",
    "    naive_bayes_proba = id_occ.copy()\n",
    "    for key, item in naive_bayes_proba.items():\n",
    "        naive_bayes_proba[key] = np.log(item)\n",
    "    for word in input_words:\n",
    "        for id_key in id_occ.keys():\n",
    "            naive_bayes_proba[id_key] += np.log(word_occ[id_key].get(word, 0) + epsilon)\n",
    "    return max(naive_bayes_proba, key=naive_bayes_proba.get)"
   ]
  },
  {
   "cell_type": "code",
   "execution_count": 11,
   "id": "179f2af1",
   "metadata": {},
   "outputs": [
    {
     "name": "stdout",
     "output_type": "stream",
     "text": [
      "Pour espsilon = 10**(-10), le taux de prédiction est de : 0.9010526315789473\n",
      "Pour espsilon = 10**(-5), le taux de prédiction est de : 0.8940789473684211\n",
      "Pour espsilon = 1, le taux de prédiction est de : 0.4909210526315789\n"
     ]
    }
   ],
   "source": [
    "pred_corpus_esmall = []\n",
    "pred_corpus_emedium = []\n",
    "pred_corpus_ehigh = []\n",
    "\n",
    "for data_test in test_set:\n",
    "    pred_corpus_esmall.append(data_test[0] == highest_naive_bayes(id_occ=id_occ, word_occ=word_occ, input_words=data_test[1], epsilon=10**(-10)))\n",
    "    pred_corpus_emedium.append(data_test[0] == highest_naive_bayes(id_occ=id_occ, word_occ=word_occ, input_words=data_test[1], epsilon=10**(-5)))\n",
    "    pred_corpus_ehigh.append(data_test[0] == highest_naive_bayes(id_occ=id_occ, word_occ=word_occ, input_words=data_test[1], epsilon=1))\n",
    "\n",
    "print(f'Pour espsilon = 10**(-10), le taux de prédiction est de : {sum(pred_corpus_esmall) / len(pred_corpus_esmall)}')\n",
    "print(f'Pour espsilon = 10**(-5), le taux de prédiction est de : {sum(pred_corpus_emedium) / len(pred_corpus_emedium)}')\n",
    "print(f'Pour espsilon = 1, le taux de prédiction est de : {sum(pred_corpus_ehigh) / len(pred_corpus_ehigh)}')"
   ]
  },
  {
   "cell_type": "markdown",
   "id": "931bd271",
   "metadata": {},
   "source": [
    "### Question 2"
   ]
  },
  {
   "cell_type": "code",
   "execution_count": 12,
   "id": "eed20c84",
   "metadata": {},
   "outputs": [],
   "source": [
    "train_set, test_set = load_conll2000('')"
   ]
  },
  {
   "cell_type": "code",
   "execution_count": 13,
   "id": "480fc001",
   "metadata": {},
   "outputs": [],
   "source": [
    "nb_words = 0\n",
    "word_prob = {}\n",
    "\n",
    "for sentence in train_set:\n",
    "    for word in sentence:\n",
    "        if word[0] not in word_prob.keys():\n",
    "            word_prob[word[0]] = 0\n",
    "        word_prob[word[0]] += 1\n",
    "        nb_words +=1\n",
    "\n",
    "for key, value in word_prob.items():\n",
    "    word_prob[key] = value / nb_words"
   ]
  },
  {
   "cell_type": "code",
   "execution_count": 14,
   "id": "9eec839a",
   "metadata": {},
   "outputs": [
    {
     "data": {
      "text/plain": [
       "0.34821321140656963"
      ]
     },
     "execution_count": 14,
     "metadata": {},
     "output_type": "execute_result"
    }
   ],
   "source": [
    "word_a = dict.fromkeys(word_prob.keys())\n",
    "for key in word_a.keys():\n",
    "    word_a[key] = {}\n",
    "\n",
    "for sentence in train_set:\n",
    "    if len(sentence) <= 1:\n",
    "        continue\n",
    "    for i in range(len(sentence) - 1):\n",
    "        if sentence[i+1][0] not in word_a[sentence[i][0]].keys():\n",
    "            word_a[sentence[i][0]][sentence[i+1][0]] = 0\n",
    "        word_a[sentence[i][0]][sentence[i+1][0]] += 1\n",
    "\n",
    "\n",
    "for key, value in word_a.items():\n",
    "    sum_values = sum(value.values())\n",
    "    for key_next, value_next in value.items():\n",
    "        word_a[key][key_next] = value_next / sum_values\n",
    "\n",
    "word_a['NUM']['NOUN']"
   ]
  },
  {
   "cell_type": "code",
   "execution_count": 15,
   "id": "98a15770",
   "metadata": {},
   "outputs": [
    {
     "data": {
      "text/plain": [
       "0.36019485612847296"
      ]
     },
     "execution_count": 15,
     "metadata": {},
     "output_type": "execute_result"
    }
   ],
   "source": [
    "word_b = dict.fromkeys(word_prob.keys())\n",
    "for key in word_b.keys():\n",
    "    word_b[key] = {}\n",
    "    \n",
    "for sentence in train_set:\n",
    "    for word in sentence:\n",
    "        if word[1] not in word_b[word[0]].keys():\n",
    "            word_b[word[0]][word[1]] = 0\n",
    "        word_b[word[0]][word[1]] += 1\n",
    "\n",
    "for key, value in word_b.items():\n",
    "    sum_values = sum(value.values())\n",
    "    for key_next, value_next in value.items():\n",
    "        word_b[key][key_next] = value_next / sum_values\n",
    "\n",
    "word_b['PUNCT']['.']"
   ]
  },
  {
   "cell_type": "code",
   "execution_count": 16,
   "id": "87f3bf0e",
   "metadata": {},
   "outputs": [],
   "source": [
    "def get_alpha(word_prob, word_a, word_b, sentence, epsilon, labels):\n",
    "    arr_alpha = [np.array([word_prob[key] * (word_b[key].get(sentence[0], 0) + epsilon) for key in labels])]\n",
    "    arr_alpha[-1] = arr_alpha[-1] / np.sum(arr_alpha[-1])\n",
    "    for word in np.array(sentence)[1:]:\n",
    "        new_alpha = []\n",
    "        for key in labels:\n",
    "            list_a = np.array([word_a[key_a].get(key, 0) for key_a in labels])\n",
    "            elem_alpha = (word_b[key].get(word, 0) + epsilon) * np.sum(arr_alpha[-1] * list_a)\n",
    "            new_alpha.append(elem_alpha)\n",
    "        arr_new_alpha = np.array(new_alpha)\n",
    "        arr_new_alpha = arr_new_alpha / np.sum(arr_new_alpha)\n",
    "        arr_alpha.append(arr_new_alpha)\n",
    "    return np.array(arr_alpha)"
   ]
  },
  {
   "cell_type": "code",
   "execution_count": 17,
   "id": "bf54abe8",
   "metadata": {},
   "outputs": [],
   "source": [
    "def get_beta(word_prob, word_a, word_b, sentence, epsilon, labels):\n",
    "    arr_beta = [np.ones(len(word_prob))]\n",
    "    arr_beta[-1] = arr_beta[-1] / np.sum(arr_beta[-1])\n",
    "    for word in np.flip(sentence)[1:]:\n",
    "        new_beta = []\n",
    "        list_b = np.array([(word_b[key_b].get(word, 0) + epsilon) for key_b in labels])\n",
    "        for key in labels:\n",
    "            list_a = np.array([word_a[key].get(key_a, 0) for key_a in labels])\n",
    "            elem_beta = np.sum(arr_beta[-1] * list_a * list_b)\n",
    "            new_beta.append(elem_beta)\n",
    "        arr_new_beta = np.array(new_beta)\n",
    "        arr_new_beta = arr_new_beta / np.sum(arr_new_beta)\n",
    "        arr_beta.append(arr_new_beta)\n",
    "    return np.flip(arr_beta, axis=0)"
   ]
  },
  {
   "cell_type": "code",
   "execution_count": 18,
   "id": "164a728c",
   "metadata": {},
   "outputs": [],
   "source": [
    "def get_forward_backward(word_prob, word_a, word_b, sentence, epsilon, labels):\n",
    "    alpha = get_alpha(word_prob=word_prob, word_a=word_a, word_b=word_b, sentence=sentence, epsilon=epsilon, labels=labels)\n",
    "    beta = get_beta(word_prob=word_prob, word_a=word_a, word_b=word_b, sentence=sentence, epsilon=epsilon, labels=labels)\n",
    "    forward_backward = alpha * beta\n",
    "    forward_backward = forward_backward / (forward_backward.sum(axis=1)).reshape(-1, 1)\n",
    "    return forward_backward"
   ]
  },
  {
   "cell_type": "code",
   "execution_count": 19,
   "id": "a8b23b6c",
   "metadata": {},
   "outputs": [],
   "source": [
    "def get_predict_labels(word_prob, word_a, word_b, sentence, epsilon):\n",
    "    labels = list(word_prob.keys())\n",
    "    forward_backward = get_forward_backward(word_prob=word_prob, word_a=word_a, word_b=word_b, sentence=sentence, epsilon=epsilon, labels=labels)\n",
    "    return [labels[ind] for ind in np.argmax(forward_backward, axis=1)]"
   ]
  },
  {
   "cell_type": "code",
   "execution_count": 20,
   "id": "f0d43f7c",
   "metadata": {},
   "outputs": [
    {
     "data": {
      "text/plain": [
       "['PRON', 'VERB', 'DET', 'NOUN', 'ADP', 'DET', 'ADJ', 'NOUN', 'PUNCT']"
      ]
     },
     "execution_count": 20,
     "metadata": {},
     "output_type": "execute_result"
    }
   ],
   "source": [
    "simple_sentence = [\"I\", \"am\", \"a\", \"student\", \"in\", \"a\", \"French\", \"school\", \".\"] \n",
    "get_predict_labels(word_prob=word_prob, word_a=word_a, word_b=word_b, sentence=simple_sentence, epsilon=1e-5)"
   ]
  },
  {
   "cell_type": "code",
   "execution_count": 21,
   "id": "f2029200",
   "metadata": {},
   "outputs": [],
   "source": [
    "def get_score_predict(word_prob, word_a, word_b, text, epsilon):\n",
    "    total_predict = 0\n",
    "    total_correct_predict = 0\n",
    "    for label_sentence in text:\n",
    "        sentence = [x[1] for x in label_sentence]\n",
    "        total_predict += len(sentence)\n",
    "        predict_labels = get_predict_labels(word_prob=word_prob, word_a=word_a, word_b=word_b, sentence=sentence, epsilon=epsilon)\n",
    "        for ind, label in enumerate(predict_labels):\n",
    "            if label == label_sentence[ind][0]:\n",
    "                total_correct_predict += 1\n",
    "    \n",
    "    return total_correct_predict / total_predict"
   ]
  },
  {
   "cell_type": "code",
   "execution_count": 22,
   "id": "ea195866",
   "metadata": {
    "scrolled": true
   },
   "outputs": [
    {
     "name": "stdout",
     "output_type": "stream",
     "text": [
      "Le score prédit en pourcentage est de 92.69265677438419 %\n"
     ]
    }
   ],
   "source": [
    "score_predict = get_score_predict(word_prob=word_prob, word_a=word_a, word_b=word_b, text=test_set, epsilon=1e-5)\n",
    "print(f'Le score prédit en pourcentage est de {score_predict * 100} %')"
   ]
  },
  {
   "cell_type": "markdown",
   "id": "340b9a2f",
   "metadata": {},
   "source": [
    "### Question 3"
   ]
  },
  {
   "cell_type": "code",
   "execution_count": 23,
   "id": "c364225d",
   "metadata": {},
   "outputs": [],
   "source": [
    "X = np.loadtxt(\"signal_X.txt\")\n",
    "Y = np.loadtxt(\"signal_Y.txt\")"
   ]
  },
  {
   "cell_type": "code",
   "execution_count": 24,
   "id": "851856dd",
   "metadata": {},
   "outputs": [],
   "source": [
    "def get_param_kalman(Y):\n",
    "    cov1 = np.sum(Y[:-1] * Y[1:]) / (len(Y) - 1)\n",
    "    cov2 = np.sum(Y[:-2] * Y[2:]) / (len(Y) - 2)\n",
    "    \n",
    "    a = cov2 / cov1\n",
    "    b = np.sqrt(cov1 / a)\n",
    "    \n",
    "    return a, b, "
   ]
  },
  {
   "cell_type": "code",
   "execution_count": 25,
   "id": "194ab3d6",
   "metadata": {},
   "outputs": [
    {
     "name": "stdout",
     "output_type": "stream",
     "text": [
      "Les paramètres de Kalman sont a : 0.5966338342965285 et b : 0.8860784695470194\n"
     ]
    }
   ],
   "source": [
    "a, b = get_param_kalman(Y)\n",
    "print(f'Les paramètres de Kalman sont a : {a} et b : {b}')"
   ]
  },
  {
   "cell_type": "code",
   "execution_count": 26,
   "id": "58a8b32a",
   "metadata": {},
   "outputs": [],
   "source": [
    "def get_kalman(Y, a, b):\n",
    "    X_pred = [b * Y[0]]\n",
    "    sig = [1 - b**2]\n",
    "    \n",
    "    for ind in np.arange(1, np.size(Y), 1):\n",
    "        x_cond = a * X_pred[-1]\n",
    "        sig_cond = 1 - a**2 + (a**2) * sig[-1]\n",
    "        \n",
    "        y_tild = Y[ind] - b * x_cond\n",
    "        s_next = (b**2) * sig_cond + 1 - (b**2)\n",
    "        k_next = sig_cond * b / s_next\n",
    "        \n",
    "        x_next = x_cond + k_next * y_tild\n",
    "        sig_next = (1 - b * k_next) * sig_cond\n",
    "        \n",
    "        X_pred.append(x_next)\n",
    "        sig.append(sig_next)\n",
    "    \n",
    "    return np.array(X_pred)"
   ]
  },
  {
   "cell_type": "code",
   "execution_count": 27,
   "id": "9797de00",
   "metadata": {},
   "outputs": [],
   "source": [
    "def get_mse(arr1, arr2):\n",
    "    return np.sum((arr1 - arr2) ** 2) / np.size(arr1)"
   ]
  },
  {
   "cell_type": "code",
   "execution_count": 28,
   "id": "b305a668",
   "metadata": {},
   "outputs": [
    {
     "name": "stdout",
     "output_type": "stream",
     "text": [
      "L'erreur quadratique moyenne entre X et X_pred est de 0.1744952107401793\n",
      "L'erreur quadratique moyenne entre X et Y est de 0.20225719834189368\n",
      "Le filtre de Kalman permet donc d'obtenir de meilleurs performances avec une erreur quadratique moyenne moindre\n"
     ]
    }
   ],
   "source": [
    "X_pred = get_kalman(Y=Y, a=a, b=b)\n",
    "print(f'L\\'erreur quadratique moyenne entre X et X_pred est de {get_mse(arr1=X, arr2=X_pred)}')\n",
    "print(f'L\\'erreur quadratique moyenne entre X et Y est de {get_mse(arr1=X, arr2=Y)}')\n",
    "print(f'Le filtre de Kalman permet donc d\\'obtenir de meilleurs performances avec une erreur quadratique moyenne moindre')"
   ]
  },
  {
   "cell_type": "code",
   "execution_count": 29,
   "id": "9100c20c",
   "metadata": {},
   "outputs": [
    {
     "data": {
      "image/png": "[encoded data removed]",
      "text/plain": [
       "<Figure size 432x288 with 1 Axes>"
      ]
     },
     "metadata": {
      "needs_background": "light"
     },
     "output_type": "display_data"
    }
   ],
   "source": [
    "plt.figure(1)\n",
    "plt.plot(X[:100], label='Signal originel')\n",
    "plt.plot(X_pred[:100], label='Signal prédit')\n",
    "plt.legend(loc='upper right')\n",
    "plt.show()"
   ]
  }
 ],
 "metadata": {
  "kernelspec": {
   "display_name": "Python 3",
   "language": "python",
   "name": "python3"
  },
  "language_info": {
   "codemirror_mode": {
    "name": "ipython",
    "version": 3
   },
   "file_extension": ".py",
   "mimetype": "text/x-python",
   "name": "python",
   "nbconvert_exporter": "python",
   "pygments_lexer": "ipython3",
   "version": "3.8.8"
  }
 },
 "nbformat": 4,
 "nbformat_minor": 5
}
