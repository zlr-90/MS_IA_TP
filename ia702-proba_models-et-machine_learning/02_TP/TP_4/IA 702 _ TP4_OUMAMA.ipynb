{
 "cells": [
  {
   "cell_type": "markdown",
   "id": "d20ff461-25f6-485a-8e12-06f8e2ceef66",
   "metadata": {},
   "source": [
    "# <span style='color:blue'>   TP4 : Modèles probabilistes discriminants pour le Machine Learning</span>"
   ]
  },
  {
   "cell_type": "code",
   "execution_count": 1,
   "id": "420d8c3b-bc8f-4e71-86a7-8c84be3b00a9",
   "metadata": {},
   "outputs": [],
   "source": [
    "import torch\n",
    "from torch import optim\n",
    "import torchvision\n",
    "import numpy as np\n",
    "import matplotlib.pyplot as plt\n",
    "import pandas as pd"
   ]
  },
  {
   "cell_type": "markdown",
   "id": "3387a22c-2c1f-414e-8037-6266bb6f08b3",
   "metadata": {},
   "source": [
    "## <span style='color:green'>   Ex1. La fonction softmax </span>"
   ]
  },
  {
   "cell_type": "code",
   "execution_count": 2,
   "id": "7a7767c0-5e5e-4032-86ae-5de609c87f6a",
   "metadata": {},
   "outputs": [],
   "source": [
    "def softmax(x):\n",
    "    \n",
    "    return torch.exp(x - torch.max(x)) / torch.sum(torch.exp(x - torch.max(x)))"
   ]
  },
  {
   "cell_type": "code",
   "execution_count": 38,
   "id": "76189420-efa4-4b56-8b42-0a98fd6cabbe",
   "metadata": {},
   "outputs": [
    {
     "data": {
      "text/plain": [
       "tensor([0.9341, 0.0171, 0.0465, 0.0023])"
      ]
     },
     "execution_count": 38,
     "metadata": {},
     "output_type": "execute_result"
    }
   ],
   "source": [
    "# Testing the Softmax function\n",
    "x = torch.tensor([5., 1., 2., -1.])\n",
    "softmax(x)"
   ]
  },
  {
   "cell_type": "code",
   "execution_count": 39,
   "id": "0250ab49-df09-4b9d-921e-2775b0698a92",
   "metadata": {},
   "outputs": [
    {
     "data": {
      "text/plain": [
       "tensor([0.8705, 0.1178, 0.0059, 0.0059])"
      ]
     },
     "execution_count": 39,
     "metadata": {},
     "output_type": "execute_result"
    }
   ],
   "source": [
    "# Testing the Softmax function\n",
    "x = torch.tensor([200005., 200003., 200000., 200000.])\n",
    "softmax(x)"
   ]
  },
  {
   "cell_type": "markdown",
   "id": "80f6026d-919b-48da-8235-7a02203242dd",
   "metadata": {},
   "source": [
    "## <span style='color:green'>   Ex2. Classification de chiffre avec la régression logistique</span>"
   ]
  },
  {
   "cell_type": "code",
   "execution_count": 40,
   "id": "bae6b3aa-cc39-4196-89fb-48b13a5180c1",
   "metadata": {},
   "outputs": [],
   "source": [
    "dataset = torchvision.datasets.MNIST(\"./\", download = True)\n",
    "train_set_y, train_set_x = dataset.data[:50000], dataset.targets[:50000]\n",
    "test_set_y, test_set_x = dataset.data[50000:], dataset.targets[50000:]\n",
    "\n",
    "train_set_y = (train_set_y.view(50000, -1) + 0.0)\n",
    "mean_train, std_train = torch.mean(train_set_y), torch.std(train_set_y)\n",
    "train_set_y = (train_set_y - mean_train)/std_train\n",
    "\n",
    "train_set = []\n",
    "for i in range(50000):\n",
    "    train_set.append([train_set_x[i], train_set_y[i]])\n",
    "\n",
    "test_set_y = (test_set_y.view(10000, -1) + 0.0)\n",
    "mean_test, std_test = torch.mean(test_set_y), torch.std(test_set_y)\n",
    "test_set_y = (test_set_y - mean_test)/std_test\n",
    "\n",
    "test_set = []\n",
    "for i in range(10000):\n",
    "    test_set.append([test_set_x[i], test_set_y[i]])"
   ]
  },
  {
   "cell_type": "code",
   "execution_count": 41,
   "id": "a7ec83ad-4f71-460d-a3fe-4291de80fced",
   "metadata": {},
   "outputs": [
    {
     "data": {
      "image/png": "[encoded data removed]",
      "text/plain": [
       "<Figure size 432x288 with 1 Axes>"
      ]
     },
     "metadata": {
      "needs_background": "light"
     },
     "output_type": "display_data"
    },
    {
     "name": "stdout",
     "output_type": "stream",
     "text": [
      "tensor(5)\n"
     ]
    }
   ],
   "source": [
    "exemple = 0\n",
    "plt.imshow(train_set[exemple][1].view(28, 28))\n",
    "plt.show()\n",
    "print(train_set[exemple][0])"
   ]
  },
  {
   "cell_type": "code",
   "execution_count": 42,
   "id": "d62ed623-ad5c-48ce-96cc-c4da7bc5236f",
   "metadata": {},
   "outputs": [],
   "source": [
    "# Import parameters of the Logistic Regression\n",
    "W_lr = torch.load(\"TP4_functions/W_lr.pt\").requires_grad_(True)\n",
    "b_lr = torch.load(\"TP4_functions/b_lr.pt\").requires_grad_(True)"
   ]
  },
  {
   "cell_type": "code",
   "execution_count": 50,
   "id": "0e852f93-20a5-4dfa-96d3-679335f0cdb0",
   "metadata": {},
   "outputs": [],
   "source": [
    "batch_index = list(np.random.randint(0,len(train_set),256))\n",
    "batch = [train_set[i] for i in batch_index]"
   ]
  },
  {
   "cell_type": "code",
   "execution_count": 43,
   "id": "9741bad3-fd80-4b48-ac6d-6088731e820d",
   "metadata": {},
   "outputs": [],
   "source": [
    "# Définition de la fonction de Loss\n",
    "def L(softmax, train_set, W, b):\n",
    "    \n",
    "    N = len(train_set)\n",
    "    \n",
    "    s=0\n",
    "    pred = []\n",
    "    for elt in train_set:\n",
    "        x = elt[0]\n",
    "        y = elt[1]\n",
    "        z = softmax((W @ y + b))\n",
    "        s+=torch.log(z[x])\n",
    "        pred.append((torch.argmax(z) == x).numpy())\n",
    "    score = np.mean(pred)\n",
    "    s /= (-N)\n",
    "    return s, score"
   ]
  },
  {
   "cell_type": "code",
   "execution_count": 44,
   "id": "4d03fdc7-ae11-41f5-a8f5-9c6ae199119d",
   "metadata": {},
   "outputs": [
    {
     "name": "stdout",
     "output_type": "stream",
     "text": [
      "CPU times: user 17.7 ms, sys: 5.67 ms, total: 23.3 ms\n",
      "Wall time: 23.5 ms\n"
     ]
    },
    {
     "data": {
      "text/plain": [
       "(tensor(2.4652, grad_fn=<DivBackward0>), 0.05)"
      ]
     },
     "execution_count": 44,
     "metadata": {},
     "output_type": "execute_result"
    }
   ],
   "source": [
    "%%time\n",
    "L(softmax, train_set[:100], W_lr, b_lr)"
   ]
  },
  {
   "cell_type": "code",
   "execution_count": 45,
   "id": "4d2368c0-4e08-4e89-9bcf-f584274342cf",
   "metadata": {},
   "outputs": [
    {
     "name": "stdout",
     "output_type": "stream",
     "text": [
      "I̲t̲e̲r̲a̲t̲i̲o̲n̲: 0\n",
      "Loss: tensor(2.4416)\n",
      "Score: 7.81 %\n",
      "---------------------\n",
      "I̲t̲e̲r̲a̲t̲i̲o̲n̲: 100\n",
      "Loss: tensor(1.7758)\n",
      "Score: 47.27 %\n",
      "---------------------\n",
      "I̲t̲e̲r̲a̲t̲i̲o̲n̲: 200\n",
      "Loss: tensor(1.3619)\n",
      "Score: 70.31 %\n",
      "---------------------\n",
      "I̲t̲e̲r̲a̲t̲i̲o̲n̲: 300\n",
      "Loss: tensor(1.1752)\n",
      "Score: 76.17 %\n",
      "---------------------\n",
      "I̲t̲e̲r̲a̲t̲i̲o̲n̲: 400\n",
      "Loss: tensor(0.9763)\n",
      "Score: 77.73 %\n",
      "---------------------\n",
      "I̲t̲e̲r̲a̲t̲i̲o̲n̲: 500\n",
      "Loss: tensor(0.8737)\n",
      "Score: 79.69 %\n",
      "---------------------\n",
      "I̲t̲e̲r̲a̲t̲i̲o̲n̲: 600\n",
      "Loss: tensor(0.7781)\n",
      "Score: 82.03 %\n",
      "---------------------\n",
      "I̲t̲e̲r̲a̲t̲i̲o̲n̲: 700\n",
      "Loss: tensor(0.7300)\n",
      "Score: 81.64 %\n",
      "---------------------\n",
      "I̲t̲e̲r̲a̲t̲i̲o̲n̲: 800\n",
      "Loss: tensor(0.6361)\n",
      "Score: 84.38 %\n",
      "---------------------\n",
      "I̲t̲e̲r̲a̲t̲i̲o̲n̲: 900\n",
      "Loss: tensor(0.5450)\n",
      "Score: 89.84 %\n",
      "---------------------\n"
     ]
    },
    {
     "data": {
      "image/png": "[encoded data removed]",
      "text/plain": [
       "<Figure size 432x288 with 1 Axes>"
      ]
     },
     "metadata": {
      "needs_background": "light"
     },
     "output_type": "display_data"
    },
    {
     "name": "stdout",
     "output_type": "stream",
     "text": [
      "---------------------\n",
      "Final score: 90.62 %\n",
      "---------------------\n",
      "CPU times: user 46.3 s, sys: 548 ms, total: 46.8 s\n",
      "Wall time: 47.2 s\n"
     ]
    }
   ],
   "source": [
    "%%time\n",
    "alpha = 5 * 10**(-5)\n",
    "\n",
    "K = 1000\n",
    "list_L = torch.zeros(K)\n",
    "optimizer = optim.Adam([W_lr, b_lr], lr=alpha)\n",
    "\n",
    "#batch_index = list(np.random.randint(0,len(train_set),256))\n",
    "#batch = [train_set[i] for i in batch_index]\n",
    "\n",
    "for k in range(K):\n",
    "    \n",
    "    batch_index = list(np.random.randint(0,len(train_set),256))\n",
    "    batch = [train_set[i] for i in batch_index]\n",
    "    \n",
    "    optimizer.zero_grad()\n",
    "    loss, score = L(softmax, batch, W_lr, b_lr)\n",
    "    loss.backward()\n",
    "    optimizer.step()\n",
    "    loss\n",
    "\n",
    "    list_L[k] = loss.item()\n",
    "\n",
    "    if k % 100 == 0:\n",
    "        \n",
    "        print('{:s}'.format('\\u0332'.join('Iteration:')), k)\n",
    "        print(\"Loss:\", list_L[k])\n",
    "        print(\"Score: {} %\".format(np.round(score*100,2)))\n",
    "        print('---------------------')\n",
    "\n",
    "plt.plot(list_L)\n",
    "plt.show()\n",
    "\n",
    "print('---------------------')\n",
    "print(\"Final score: {} %\".format(np.round(score*100,2)))\n",
    "print('---------------------')\n"
   ]
  },
  {
   "cell_type": "markdown",
   "id": "5f984e2b-570e-4b37-a53a-d59b5991dd3c",
   "metadata": {},
   "source": [
    "## <span style='color:green'>   Ex3. Maximum Entropy Markov Model pour le POS tagging</span>"
   ]
  },
  {
   "cell_type": "markdown",
   "id": "3a32a0b2-517e-40d4-8794-1b60df776862",
   "metadata": {},
   "source": [
    "### <span style='color:black'>   3.1 Les données </span>"
   ]
  },
  {
   "cell_type": "code",
   "execution_count": 3,
   "id": "221a6897-7d90-4919-9d49-6f29d6ace917",
   "metadata": {},
   "outputs": [],
   "source": [
    "# Import the data\n",
    "from TP4_functions.load_conll2000 import load_conll2000_glove\n",
    "path = \"TP4_functions/\"\n",
    "Omega_X, train_set, test_set = load_conll2000_glove(path)"
   ]
  },
  {
   "cell_type": "code",
   "execution_count": 4,
   "id": "6df3cec2-a0b2-4a8d-b653-42eb49556362",
   "metadata": {},
   "outputs": [],
   "source": [
    "# Encode Omega_X, vector of possible tags\n",
    "from sklearn import preprocessing\n",
    "encoder = preprocessing.LabelEncoder()\n",
    "Omega_encoded = encoder.fit_transform(Omega_X)"
   ]
  },
  {
   "cell_type": "markdown",
   "id": "f08e519e-84e3-47fa-998c-489e09fe2b0f",
   "metadata": {},
   "source": [
    "### <span style='color:black'>   3.2 Votre objectif </span>"
   ]
  },
  {
   "cell_type": "code",
   "execution_count": 5,
   "id": "0160df0f-753c-4c60-8987-529e00caf923",
   "metadata": {},
   "outputs": [],
   "source": [
    "# Import the parameters of the LogReg\n",
    "W_lr1 = torch.load(\"TP4_functions/W_lr1.pt\").requires_grad_(True)\n",
    "b_lr1 = torch.load(\"TP4_functions/b_lr1.pt\").requires_grad_(True)\n",
    "W_lr2 = torch.load(\"TP4_functions/W_lr2.pt\").requires_grad_(True)\n",
    "b_lr2 = torch.load(\"TP4_functions/b_lr2.pt\").requires_grad_(True)"
   ]
  },
  {
   "cell_type": "code",
   "execution_count": 6,
   "id": "7bad05e8-98ce-4302-8068-6e6c085bb73b",
   "metadata": {},
   "outputs": [],
   "source": [
    "# Define the function that calcuates alpha(i+1) from alpha(i) & word(i+1)\n",
    "def Alpha_next(softmax, alpha, word, W_lr2, b_lr2):\n",
    "    \n",
    "    alpha_next = torch.zeros(len(Omega_X))\n",
    "\n",
    "    for j in range(len(Omega_X)):\n",
    "        labs = torch.zeros(len(Omega_X))\n",
    "        labs[j] = 1\n",
    "        new_word = torch.cat((labs, word),0)\n",
    "        alpha_next = alpha_next.add(alpha[j].item() * softmax(W_lr2 @ new_word + b_lr2))\n",
    "        #alpha_next[j] = torch.sum(alpha[j].item() * softmax(W_lr2 @ new_word + b_lr2))\n",
    "            \n",
    "    return alpha_next"
   ]
  },
  {
   "cell_type": "code",
   "execution_count": 7,
   "id": "96644774-2564-4e3a-b401-60e65cf4e4c3",
   "metadata": {
    "tags": []
   },
   "outputs": [],
   "source": [
    "# Define the Loss function\n",
    "def Loss(softmax, Set, W_lr1, b_lr1, W_lr2, b_lr2):\n",
    "\n",
    "    Accuracy = []\n",
    "    N = len(Set)\n",
    "    Loss = 0\n",
    "    \n",
    "    for labels, sentence in Set:\n",
    "        \n",
    "        loss = 0\n",
    "        encoded_labels = encoder.transform(labels)\n",
    "        \n",
    "        word_0 = sentence[0]\n",
    "        label_0 = encoded_labels[0]\n",
    "        \n",
    "        alpha_0 = softmax(W_lr1 @ word_0 + b_lr1)\n",
    "        \n",
    "        loss -= torch.log(alpha_0[label_0])\n",
    "        \n",
    "        for word, label in zip(sentence[2:],encoded_labels[2:]):\n",
    "            alpha_next = Alpha_next(softmax, alpha_0, word, W_lr2, b_lr2)\n",
    "            loss -= torch.log(alpha_next[label])\n",
    "            alpha_0 = alpha_next\n",
    "        \n",
    "        Loss += loss/len(sentence)\n",
    "    \n",
    "    return Loss / len(Set)"
   ]
  },
  {
   "cell_type": "code",
   "execution_count": 8,
   "id": "c78b57b7-582e-47c5-8eba-fe27beddecb5",
   "metadata": {},
   "outputs": [
    {
     "name": "stdout",
     "output_type": "stream",
     "text": [
      "CPU times: user 275 ms, sys: 20.5 ms, total: 295 ms\n",
      "Wall time: 303 ms\n"
     ]
    },
    {
     "data": {
      "text/plain": [
       "tensor(2.7487, grad_fn=<DivBackward0>)"
      ]
     },
     "execution_count": 8,
     "metadata": {},
     "output_type": "execute_result"
    }
   ],
   "source": [
    "%%time\n",
    "# Calculate the loss on the 10 first elements of the train set (Expected value = 2.7)\n",
    "Loss(softmax, train_set[:10], W_lr1, b_lr1, W_lr2, b_lr2)"
   ]
  },
  {
   "cell_type": "code",
   "execution_count": 9,
   "id": "c925bab1-454a-4f5a-a6fc-22469fd34879",
   "metadata": {},
   "outputs": [],
   "source": [
    "# Define the accuracy function\n",
    "def accuracy(softmax, Set, W_lr1, b_lr1, W_lr2, b_lr2):\n",
    "    \n",
    "    score = 0\n",
    "    count = 0\n",
    "    \n",
    "    for labels, sentence in Set : \n",
    "        encoded_labels = encoder.transform(labels)\n",
    "        \n",
    "        score += (encoded_labels[0] == torch.argmax(softmax(W_lr1 @ sentence[0] + b_lr1))).item()\n",
    "        count += 1\n",
    "        \n",
    "        for lab, word in zip(encoded_labels[1:], sentence[1:]):\n",
    "            \n",
    "            add = torch.zeros(len(Omega_X))\n",
    "            add[lab] = 1\n",
    "            new_word = torch.cat((add, word))\n",
    "            score += (lab == torch.argmax(softmax(W_lr2 @ new_word + b_lr2))).item()\n",
    "            count += 1\n",
    "        \n",
    "    return score / count"
   ]
  },
  {
   "cell_type": "code",
   "execution_count": 29,
   "id": "868f7812-8372-482f-8de7-0c223b69ac83",
   "metadata": {},
   "outputs": [
    {
     "name": "stdout",
     "output_type": "stream",
     "text": [
      "I̲t̲e̲r̲a̲t̲i̲o̲n̲: 0\n",
      "Loss: tensor(2.7095)\n",
      "Score: 3.57 %\n",
      "---------------------\n",
      "I̲t̲e̲r̲a̲t̲i̲o̲n̲: 50\n",
      "Loss: tensor(2.1623)\n",
      "Score: 27.11 %\n",
      "---------------------\n",
      "I̲t̲e̲r̲a̲t̲i̲o̲n̲: 100\n",
      "Loss: tensor(1.9437)\n",
      "Score: 37.73 %\n",
      "---------------------\n",
      "I̲t̲e̲r̲a̲t̲i̲o̲n̲: 150\n",
      "Loss: tensor(1.7741)\n",
      "Score: 51.86 %\n",
      "---------------------\n",
      "I̲t̲e̲r̲a̲t̲i̲o̲n̲: 200\n",
      "Loss: tensor(1.5909)\n",
      "Score: 55.46 %\n",
      "---------------------\n",
      "I̲t̲e̲r̲a̲t̲i̲o̲n̲: 250\n",
      "Loss: tensor(1.4132)\n",
      "Score: 63.92 %\n",
      "---------------------\n",
      "I̲t̲e̲r̲a̲t̲i̲o̲n̲: 300\n",
      "Loss: tensor(1.2996)\n",
      "Score: 63.88 %\n",
      "---------------------\n",
      "I̲t̲e̲r̲a̲t̲i̲o̲n̲: 350\n",
      "Loss: tensor(1.3029)\n",
      "Score: 64.26 %\n",
      "---------------------\n",
      "I̲t̲e̲r̲a̲t̲i̲o̲n̲: 400\n",
      "Loss: tensor(1.1933)\n",
      "Score: 68.78 %\n",
      "---------------------\n",
      "I̲t̲e̲r̲a̲t̲i̲o̲n̲: 450\n",
      "Loss: tensor(1.2113)\n",
      "Score: 65.59 %\n",
      "---------------------\n",
      "I̲t̲e̲r̲a̲t̲i̲o̲n̲: 500\n",
      "Loss: tensor(1.1128)\n",
      "Score: 68.83 %\n",
      "---------------------\n",
      "I̲t̲e̲r̲a̲t̲i̲o̲n̲: 550\n",
      "Loss: tensor(1.0126)\n",
      "Score: 70.54 %\n",
      "---------------------\n",
      "I̲t̲e̲r̲a̲t̲i̲o̲n̲: 600\n",
      "Loss: tensor(0.9913)\n",
      "Score: 73.62 %\n",
      "---------------------\n",
      "I̲t̲e̲r̲a̲t̲i̲o̲n̲: 650\n",
      "Loss: tensor(0.9371)\n",
      "Score: 76.67 %\n",
      "---------------------\n",
      "I̲t̲e̲r̲a̲t̲i̲o̲n̲: 700\n",
      "Loss: tensor(0.9057)\n",
      "Score: 75.31 %\n",
      "---------------------\n",
      "I̲t̲e̲r̲a̲t̲i̲o̲n̲: 750\n",
      "Loss: tensor(0.8874)\n",
      "Score: 74.83 %\n",
      "---------------------\n",
      "I̲t̲e̲r̲a̲t̲i̲o̲n̲: 800\n",
      "Loss: tensor(0.8163)\n",
      "Score: 78.37 %\n",
      "---------------------\n",
      "I̲t̲e̲r̲a̲t̲i̲o̲n̲: 850\n",
      "Loss: tensor(0.7577)\n",
      "Score: 80.44 %\n",
      "---------------------\n",
      "I̲t̲e̲r̲a̲t̲i̲o̲n̲: 900\n",
      "Loss: tensor(0.8353)\n",
      "Score: 76.48 %\n",
      "---------------------\n",
      "I̲t̲e̲r̲a̲t̲i̲o̲n̲: 950\n",
      "Loss: tensor(0.8942)\n",
      "Score: 74.26 %\n",
      "---------------------\n"
     ]
    },
    {
     "data": {
      "image/png": "[encoded data removed]",
      "text/plain": [
       "<Figure size 432x288 with 1 Axes>"
      ]
     },
     "metadata": {
      "needs_background": "light"
     },
     "output_type": "display_data"
    },
    {
     "name": "stdout",
     "output_type": "stream",
     "text": [
      "---------------------\n",
      "Final score: 78.31 %\n",
      "---------------------\n",
      "CPU times: user 31min 55s, sys: 20.2 s, total: 32min 16s\n",
      "Wall time: 32min 31s\n"
     ]
    }
   ],
   "source": [
    "%%time\n",
    "alpha = 5 * 10**(-4)\n",
    "\n",
    "K = 1000\n",
    "list_L = torch.zeros(K)\n",
    "optimizer = optim.Adam([W_lr1, b_lr1, W_lr2, b_lr2], lr=alpha)\n",
    "\n",
    "for k in range(K):\n",
    "    #loss = 0\n",
    "    batch_index = list(np.random.randint(0,len(test_set),32))\n",
    "    batch = [test_set[i] for i in batch_index]\n",
    "    \n",
    "    optimizer.zero_grad()\n",
    "    loss = Loss(softmax, batch, W_lr1, b_lr1, W_lr2, b_lr2)\n",
    "    score = accuracy(softmax, batch, W_lr1, b_lr1, W_lr2, b_lr2)\n",
    "    loss.backward()\n",
    "    optimizer.step()\n",
    "\n",
    "    list_L[k] = loss.item()\n",
    "\n",
    "    if k % 50 == 0:\n",
    "        print('{:s}'.format('\\u0332'.join('Iteration:')), k)\n",
    "        print(\"Loss:\", list_L[k])\n",
    "        print(\"Score: {} %\".format(np.round(score*100,2)))\n",
    "        print('---------------------')\n",
    "        \n",
    "\n",
    "plt.plot(list_L)\n",
    "plt.show()\n",
    "\n",
    "print('---------------------')\n",
    "print(\"Final score: {} %\".format(np.round(score*100,2)))\n",
    "print('---------------------')"
   ]
  },
  {
   "cell_type": "code",
   "execution_count": null,
   "id": "050cabc8-77fe-423f-af33-a8e6d1305b53",
   "metadata": {},
   "outputs": [],
   "source": []
  }
 ],
 "metadata": {
  "kernelspec": {
   "display_name": "Python 3",
   "language": "python",
   "name": "python3"
  },
  "language_info": {
   "codemirror_mode": {
    "name": "ipython",
    "version": 3
   },
   "file_extension": ".py",
   "mimetype": "text/x-python",
   "name": "python",
   "nbconvert_exporter": "python",
   "pygments_lexer": "ipython3",
   "version": "3.8.8"
  }
 },
 "nbformat": 4,
 "nbformat_minor": 5
}
