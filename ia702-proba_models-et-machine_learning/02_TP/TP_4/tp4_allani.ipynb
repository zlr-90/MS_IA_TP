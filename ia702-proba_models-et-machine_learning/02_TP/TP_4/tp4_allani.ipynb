{
 "cells": [
  {
   "cell_type": "code",
   "execution_count": 1,
   "id": "6dc84c58-93eb-4cfc-a51f-5d73b967a492",
   "metadata": {},
   "outputs": [],
   "source": [
    "from TP4_functions.load_conll2000 import load_conll2000_glove\n",
    "import matplotlib.pyplot as plt                              \n",
    "import torch                                                 \n",
    "from torch import optim                                      \n",
    "import torchvision                                           \n",
    "import numpy as np                                           \n",
    "import pickle                                                "
   ]
  },
  {
   "cell_type": "markdown",
   "id": "0c927b2b-1029-4bba-b91c-8a66987a4fac",
   "metadata": {},
   "source": [
    "### Exercice 1: softmax"
   ]
  },
  {
   "cell_type": "code",
   "execution_count": 2,
   "id": "55724997-9cc1-4048-8dc4-b0686dd8368a",
   "metadata": {},
   "outputs": [],
   "source": [
    "def softmax(x):                                                                                          \n",
    "    _x = np.exp(x - x.max())                                                                             \n",
    "    return _x  / _x.sum()            "
   ]
  },
  {
   "cell_type": "code",
   "execution_count": 3,
   "id": "910ba4d8-6c02-4d15-928f-56c4bc4b24b9",
   "metadata": {},
   "outputs": [
    {
     "data": {
      "text/plain": [
       "tensor([0.9341, 0.0171, 0.0465, 0.0023])"
      ]
     },
     "execution_count": 3,
     "metadata": {},
     "output_type": "execute_result"
    }
   ],
   "source": [
    "x_test_1 = torch.tensor([5., 1., 2., -1.])\n",
    "softmax(x_test_1)"
   ]
  },
  {
   "cell_type": "markdown",
   "id": "71463658-d8ef-45a1-835d-5cb47eb6dbc3",
   "metadata": {},
   "source": [
    "### Exercice 2: Classification de chiffre avec la régression logistique"
   ]
  },
  {
   "cell_type": "code",
   "execution_count": 4,
   "id": "a6c4b374-67db-4f7b-9346-4d968fc754a1",
   "metadata": {},
   "outputs": [],
   "source": [
    "def get_train_set_mnist():                                                                               \n",
    "    dataset = torchvision.datasets.MNIST(\"./\", download = True)                                          \n",
    "    train_set_y, train_set_x = dataset.data[:50000], dataset.targets[:50000]                             \n",
    "    test_set_y, test_set_x = dataset.data[50000:], dataset.targets[50000:]                               \n",
    "                                                                                                         \n",
    "    train_set_y = (train_set_y.view(50000, -1) + 0.0)                                                    \n",
    "    mean_train, std_train = torch.mean(train_set_y), torch.std(train_set_y)                              \n",
    "    train_set_y = (train_set_y - mean_train)/std_train                                                   \n",
    "                                                                                                         \n",
    "    train_set = []                                                                                       \n",
    "    for i in range(50000):                                                                               \n",
    "        train_set.append([train_set_x[i], train_set_y[i]])                                               \n",
    "                                                                                                         \n",
    "    test_set_y = (test_set_y.view(10000, -1) + 0.0)                                                      \n",
    "    mean_test, std_test = torch.mean(test_set_y), torch.std(test_set_y)                                  \n",
    "    test_set_y = (test_set_y - mean_test)/std_test                                                       \n",
    "                                                                                                         \n",
    "    test_set = []                                                                                        \n",
    "    for i in range(10000):                                                                               \n",
    "        test_set.append([test_set_x[i], test_set_y[i]])                                                  \n",
    "                                                                                                         \n",
    "    return train_set, test_set                                     "
   ]
  },
  {
   "cell_type": "code",
   "execution_count": 5,
   "id": "9b81da0d-497f-4aaf-a3d9-3a3b6987f142",
   "metadata": {},
   "outputs": [],
   "source": [
    "def logistic_reg(W, b, y):                                                                               \n",
    "    return torch.softmax(W @ y + b, dim=0)           "
   ]
  },
  {
   "cell_type": "code",
   "execution_count": 6,
   "id": "a85da846-88b0-4c0c-aeab-095dcb8f7d6a",
   "metadata": {},
   "outputs": [],
   "source": [
    "def LossLogistic(train_set, W, b):                                                                       \n",
    "    lce   = 0                                                                                            \n",
    "    score = 0                                                                                            \n",
    "    for x, y in train_set:                                                                               \n",
    "        x_pred = logistic_reg(W, b, y)                                                                   \n",
    "        lce += - torch.log(x_pred[x])                                                                    \n",
    "        if torch.argmax(x_pred) == x:                                                                    \n",
    "            score += 1                                                                                   \n",
    "                                                                                                         \n",
    "    lce   /= len(train_set)                                                                              \n",
    "    score /= len(train_set)                                                                              \n",
    "    return lce, score                                "
   ]
  },
  {
   "cell_type": "code",
   "execution_count": 7,
   "id": "6280f8e4-aa20-49c7-a6c9-2780cec4ba4e",
   "metadata": {},
   "outputs": [],
   "source": [
    "def gradient_descent_logistic(W_lr, b_lr, alpha, iter, loss_fct, train_set):                             \n",
    "    _L = torch.zeros(iter)                                                                               \n",
    "    optimizer = optim.Adam([W_lr, b_lr], lr=alpha)                                                       \n",
    "                                                                                                         \n",
    "    for k in range(iter):                                                                          \n",
    "                                                                                                         \n",
    "        batch = [train_set[i] for i in np.random.randint(0,len(train_set),256)]                          \n",
    "        optimizer.zero_grad()                                                                            \n",
    "                                                                                                         \n",
    "        loss, score = loss_fct(batch, W_lr, b_lr)                                                        \n",
    "        loss.backward()                                                                                  \n",
    "        optimizer.step()                                                                                 \n",
    "                                                                                                         \n",
    "        _L[k] = loss.item()                                                                              \n",
    "                                                                                                         \n",
    "        if (k+1) % 50 == 0:                                                                                  \n",
    "            print(\"iteration: %d\"%(k+1,))\n",
    "            print(\"Loss     : %f\"%_L[k])                                                                 \n",
    "            print(\"Score    : %f\"%score)                                                                 \n",
    "                                                                                                         \n",
    "    return W_lr, b_lr, _L                                                                "
   ]
  },
  {
   "cell_type": "code",
   "execution_count": 8,
   "id": "c0dc8dbf-afd8-4d7f-8e01-bea3975557d5",
   "metadata": {},
   "outputs": [],
   "source": [
    "def test_logistic(test_set, W_lr, b_lr, alpha, iter, loss_fct):                                          \n",
    "    score = 0                                                                                            \n",
    "    W, b, _L = gradient_descent_logistic(W_lr, b_lr, alpha, iter, loss_fct, test_set)                    \n",
    "                                                                                                         \n",
    "    for x, y in test_set :                                                                               \n",
    "        x_pred = logistic_reg(W, b, y)                                                                   \n",
    "        if torch.argmax(x_pred) == x:                                                                    \n",
    "            score += 1                                                                                   \n",
    "                                                                                                         \n",
    "    return score / len(test_set)                                             "
   ]
  },
  {
   "cell_type": "code",
   "execution_count": 9,
   "id": "e0f0f19a-dd97-4c2d-93c6-7508dd138d1d",
   "metadata": {},
   "outputs": [],
   "source": [
    "def main_logistic():    \n",
    "    train_set, test_set = get_train_set_mnist()                                                          \n",
    "    W_lr = torch.load(\"TP4_functions/W_lr.pt\").requires_grad_(True)                                      \n",
    "    b_lr = torch.load(\"TP4_functions/b_lr.pt\").requires_grad_(True)                         \n",
    "    W, b, _L = gradient_descent_logistic(W_lr, b_lr, 5E-5, 1000,LossLogistic,train_set)\n",
    "    plt.plot(_L)\n",
    "    "
   ]
  },
  {
   "cell_type": "code",
   "execution_count": 10,
   "id": "eb1db401-4b9d-44d2-afae-d5329ebe6ce2",
   "metadata": {},
   "outputs": [
    {
     "name": "stdout",
     "output_type": "stream",
     "text": [
      "iteration: 50\n",
      "Loss     : 2.082643\n",
      "Score    : 0.289062\n",
      "iteration: 100\n",
      "Loss     : 1.795379\n",
      "Score    : 0.468750\n",
      "iteration: 150\n",
      "Loss     : 1.583333\n",
      "Score    : 0.582031\n",
      "iteration: 200\n",
      "Loss     : 1.364498\n",
      "Score    : 0.667969\n",
      "iteration: 250\n",
      "Loss     : 1.313649\n",
      "Score    : 0.652344\n",
      "iteration: 300\n",
      "Loss     : 1.168977\n",
      "Score    : 0.714844\n",
      "iteration: 350\n",
      "Loss     : 1.070446\n",
      "Score    : 0.792969\n",
      "iteration: 400\n",
      "Loss     : 0.999731\n",
      "Score    : 0.792969\n",
      "iteration: 450\n",
      "Loss     : 0.909630\n",
      "Score    : 0.792969\n",
      "iteration: 500\n",
      "Loss     : 0.906358\n",
      "Score    : 0.816406\n",
      "iteration: 550\n",
      "Loss     : 0.794508\n",
      "Score    : 0.820312\n",
      "iteration: 600\n",
      "Loss     : 0.725309\n",
      "Score    : 0.847656\n",
      "iteration: 650\n",
      "Loss     : 0.770817\n",
      "Score    : 0.832031\n",
      "iteration: 700\n",
      "Loss     : 0.791719\n",
      "Score    : 0.773438\n",
      "iteration: 750\n",
      "Loss     : 0.694611\n",
      "Score    : 0.828125\n",
      "iteration: 800\n",
      "Loss     : 0.706561\n",
      "Score    : 0.820312\n",
      "iteration: 850\n",
      "Loss     : 0.704777\n",
      "Score    : 0.835938\n",
      "iteration: 900\n",
      "Loss     : 0.625926\n",
      "Score    : 0.875000\n",
      "iteration: 950\n",
      "Loss     : 0.590671\n",
      "Score    : 0.863281\n",
      "iteration: 1000\n",
      "Loss     : 0.611089\n",
      "Score    : 0.871094\n"
     ]
    },
    {
     "data": {
      "image/png": "[encoded data removed]",
      "text/plain": [
       "<Figure size 432x288 with 1 Axes>"
      ]
     },
     "metadata": {
      "needs_background": "light"
     },
     "output_type": "display_data"
    }
   ],
   "source": [
    "main_logistic()"
   ]
  },
  {
   "cell_type": "markdown",
   "id": "ce488a91-47da-4ba7-a8ec-16a533c107b8",
   "metadata": {},
   "source": [
    "### Les résultas finaux:\n",
    "    * Loss  = 0.550799\n",
    "    * Score = 0.878906"
   ]
  },
  {
   "cell_type": "markdown",
   "id": "69858439-ebd9-44fc-81c5-8cc989d72788",
   "metadata": {},
   "source": [
    "### Exercice 4: Maximum Entropy Markov Model pour le POS tagging"
   ]
  },
  {
   "cell_type": "code",
   "execution_count": 11,
   "id": "564e2fdb-1333-4e16-bdba-01e4709706cf",
   "metadata": {},
   "outputs": [],
   "source": [
    "#Global var\n",
    "Omega_X = 0"
   ]
  },
  {
   "cell_type": "code",
   "execution_count": 12,
   "id": "b34f9ec9-729f-4900-b2f5-f7212423bb94",
   "metadata": {},
   "outputs": [],
   "source": [
    "def label2vec(labels):                                                                                   \n",
    "    vect = [ Omega_X.index(l) for l in labels ]                                                          \n",
    "    return vect                   "
   ]
  },
  {
   "cell_type": "code",
   "execution_count": 13,
   "id": "2d5722d0-71bc-43e8-8c89-43ade1feae1a",
   "metadata": {},
   "outputs": [],
   "source": [
    "def pred_memm(alpha):                                                                                    \n",
    "        return [torch.argmax(alpha[i]).item() for i in range(len(alpha))]         "
   ]
  },
  {
   "cell_type": "code",
   "execution_count": 14,
   "id": "ef342b70-2bb3-4bd9-91c3-632ed0006461",
   "metadata": {},
   "outputs": [],
   "source": [
    "def forward_memm(y ,W1, b1, W2, b2):                                                                     \n",
    "                                                                                                         \n",
    "    nb_words   = y.shape[0]                                                                              \n",
    "    nb_labels = len(Omega_X)                                                                             \n",
    "                                                                                                         \n",
    "    alpha    = torch.zeros(nb_words, nb_labels)                                                          \n",
    "    alpha[0] = logistic_reg(W1, b1, y[0])                                                                \n",
    "                                                                                                         \n",
    "    for i in range(nb_words -1):                                                                         \n",
    "        alpha[i+1] = torch.zeros(nb_labels)                                                              \n",
    "        for j in range(nb_labels):                                                                       \n",
    "            label_encoded = torch.zeros(nb_labels)                                                       \n",
    "            label_encoded[j] = 1                                                                         \n",
    "            y_t_1_and_x_t = torch.cat((label_encoded, y[i+1]),0)                                         \n",
    "            alpha[i+1] = alpha[i+1].add( alpha[i,j].item() * logistic_reg(W2, b2, y_t_1_and_x_t))        \n",
    "                                                                                                         \n",
    "    return alpha                             "
   ]
  },
  {
   "cell_type": "code",
   "execution_count": 15,
   "id": "7fa3060b-f59b-4890-99ae-caf5e7c07d63",
   "metadata": {},
   "outputs": [],
   "source": [
    "def _LossMemm(x, alpha):                                                                                 \n",
    "    lce   = 0                                                                                            \n",
    "    score = 0                                                                                            \n",
    "    x_vect = label2vec(x)                                                                                \n",
    "    for i in range(len(x_vect)):                                                                         \n",
    "        lce   += - torch.log(alpha[i][x_vect[i]])                                                        \n",
    "        score += pred_memm(alpha)[i] == x_vect[i]                                                        \n",
    "                                                                                                         \n",
    "    return (lce / len(x_vect), score / len(x_vect) )                                                     \n",
    "                                                                                                         \n",
    "                                                                                                         \n",
    "def LossMemm(train_set, W1, b1, W2, b2):                                                                 \n",
    "    lce   = 0                                                                                            \n",
    "    score = 0                                                                                            \n",
    "    for x, y in train_set:                                                                               \n",
    "        alpha = forward_memm(y, W1, b1, W2, b2)                                                          \n",
    "        _lce, _score  = _LossMemm(x, alpha)                                                              \n",
    "        lce   += _lce                                                                                    \n",
    "        score += _score                                                                                  \n",
    "                                                                                                         \n",
    "    return (lce / len(train_set), score / len(train_set))                "
   ]
  },
  {
   "cell_type": "code",
   "execution_count": 16,
   "id": "4eb89d62-aac7-4490-8606-86ae9feb4895",
   "metadata": {},
   "outputs": [],
   "source": [
    "def gradient_descent_memm(W1, b1, W2, b2, alpha, iter, loss_fct, train_set):                             \n",
    "                                                                                                         \n",
    "    _L        = torch.zeros(iter)                                                                        \n",
    "    optimizer = optim.Adam([W1, b1, W2, b2], lr = alpha)                                                 \n",
    "                                                                                                         \n",
    "    for k in range(iter):                                                                          \n",
    "        batch = [train_set[i] for i in np.random.randint(0,len(train_set),32)]                           \n",
    "        optimizer.zero_grad()                                                                            \n",
    "                                                                                                         \n",
    "        loss, score = loss_fct(batch, W1, b1, W2, b2)                                                    \n",
    "        loss.backward()                                                                                  \n",
    "        optimizer.step()                                                                                 \n",
    "        _L[k] = loss.item()                                                                              \n",
    "                                                                                                         \n",
    "        if (k+1) % 50 == 0:                                                                                   \n",
    "            print(\"iteration: %d\"%(k+1,))                 \n",
    "            print(\"Loss     : %f\"%_L[k])            \n",
    "            print(\"Score    : %f\"%score)            \n",
    "                                                                                                         \n",
    "    return W1, b1, W2, b2, _L                                                 "
   ]
  },
  {
   "cell_type": "code",
   "execution_count": 17,
   "id": "aa5585a7-f0cc-4e5d-9b82-7131ff4710aa",
   "metadata": {},
   "outputs": [],
   "source": [
    "def main_memm():                                                                                \n",
    "    path = \"./TP4_functions/\"  \n",
    "    global Omega_X\n",
    "    Omega_X, train_set, test_set = load_conll2000_glove(path)    \n",
    "    \n",
    "    W_lr1 = torch.load(path+\"W_lr1.pt\").requires_grad_(True)                                             \n",
    "    b_lr1 = torch.load(path+\"b_lr1.pt\").requires_grad_(True)                                             \n",
    "    W_lr2 = torch.load(path+\"W_lr2.pt\").requires_grad_(True)                                             \n",
    "    b_lr2 = torch.load(path+\"b_lr2.pt\").requires_grad_(True)  \n",
    "    loss_10, _ = LossMemm(train_set[:10], W_lr1, b_lr1, W_lr2, b_lr2)\n",
    "    print(\"loss avec les paramètres initiaux pour les dix premiers éléments du train set: %f\"%loss_10)\n",
    "    W1, b1, W2, b2,  _L = \\\n",
    "           gradient_descent_memm(W_lr1, b_lr1, W_lr2, b_lr2,  5E-4, 1000, LossMemm, train_set)\n",
    "    plt.plot(_L)"
   ]
  },
  {
   "cell_type": "code",
   "execution_count": 18,
   "id": "ad32dcec-83cc-43aa-9d36-bc302ec1b8dc",
   "metadata": {},
   "outputs": [
    {
     "name": "stdout",
     "output_type": "stream",
     "text": [
      "loss avec les paramètres initiaux pour les dix premiers éléments du train set: 2.706440\n",
      "iteration: 50\n",
      "Loss     : 2.280005\n",
      "Score    : 0.322838\n",
      "iteration: 100\n",
      "Loss     : 2.031650\n",
      "Score    : 0.490901\n",
      "iteration: 150\n",
      "Loss     : 1.829864\n",
      "Score    : 0.572991\n",
      "iteration: 200\n",
      "Loss     : 1.687805\n",
      "Score    : 0.589730\n",
      "iteration: 250\n",
      "Loss     : 1.536192\n",
      "Score    : 0.601898\n",
      "iteration: 300\n",
      "Loss     : 1.427399\n",
      "Score    : 0.638113\n",
      "iteration: 350\n",
      "Loss     : 1.308021\n",
      "Score    : 0.659458\n",
      "iteration: 400\n",
      "Loss     : 1.271494\n",
      "Score    : 0.672308\n",
      "iteration: 450\n",
      "Loss     : 1.174602\n",
      "Score    : 0.701361\n",
      "iteration: 500\n",
      "Loss     : 1.131786\n",
      "Score    : 0.733517\n",
      "iteration: 550\n",
      "Loss     : 1.075234\n",
      "Score    : 0.748881\n",
      "iteration: 600\n",
      "Loss     : 1.040770\n",
      "Score    : 0.729006\n",
      "iteration: 650\n",
      "Loss     : 0.977332\n",
      "Score    : 0.760228\n",
      "iteration: 700\n",
      "Loss     : 1.071381\n",
      "Score    : 0.679010\n",
      "iteration: 750\n",
      "Loss     : 0.916107\n",
      "Score    : 0.770985\n",
      "iteration: 800\n",
      "Loss     : 0.928644\n",
      "Score    : 0.794493\n",
      "iteration: 850\n",
      "Loss     : 0.911138\n",
      "Score    : 0.761876\n",
      "iteration: 900\n",
      "Loss     : 0.863534\n",
      "Score    : 0.772701\n",
      "iteration: 950\n",
      "Loss     : 0.888440\n",
      "Score    : 0.776848\n",
      "iteration: 1000\n",
      "Loss     : 0.848603\n",
      "Score    : 0.782409\n"
     ]
    },
    {
     "data": {
      "image/png": "[encoded data removed]",
      "text/plain": [
       "<Figure size 432x288 with 1 Axes>"
      ]
     },
     "metadata": {
      "needs_background": "light"
     },
     "output_type": "display_data"
    }
   ],
   "source": [
    "main_memm()"
   ]
  },
  {
   "cell_type": "markdown",
   "id": "8f78d3a9-3065-49c2-a6d9-b696d6b7e2fb",
   "metadata": {},
   "source": [
    "### Les résultas finaux après 1000 itérations:\n",
    "    * Loss  = 0.848603\n",
    "    * Score = 0.782409\n",
    "    "
   ]
  },
  {
   "cell_type": "code",
   "execution_count": null,
   "id": "d4b7e1f2-e868-4da1-abbe-635c3aaf358d",
   "metadata": {},
   "outputs": [],
   "source": []
  }
 ],
 "metadata": {
  "kernelspec": {
   "display_name": "Python 3 (ipykernel)",
   "language": "python",
   "name": "python3"
  },
  "language_info": {
   "codemirror_mode": {
    "name": "ipython",
    "version": 3
   },
   "file_extension": ".py",
   "mimetype": "text/x-python",
   "name": "python",
   "nbconvert_exporter": "python",
   "pygments_lexer": "ipython3",
   "version": "3.8.10"
  }
 },
 "nbformat": 4,
 "nbformat_minor": 5
}
